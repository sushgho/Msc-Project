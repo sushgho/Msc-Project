{
  "nbformat": 4,
  "nbformat_minor": 0,
  "metadata": {
    "colab": {
      "name": "Barclay.ipynb",
      "provenance": [],
      "authorship_tag": "ABX9TyNgOx2xoYC9+Ncgt6XVz44S",
      "include_colab_link": true
    },
    "kernelspec": {
      "name": "python3",
      "display_name": "Python 3"
    }
  },
  "cells": [
    {
      "cell_type": "markdown",
      "metadata": {
        "id": "view-in-github",
        "colab_type": "text"
      },
      "source": [
        "<a href=\"https://colab.research.google.com/github/sushgho/Msc-Project/blob/master/Barclay%20Employee%20attrition%20Hr%20Data.ipynb\" target=\"_parent\"><img src=\"https://colab.research.google.com/assets/colab-badge.svg\" alt=\"Open In Colab\"/></a>"
      ]
    },
    {
      "cell_type": "markdown",
      "metadata": {
        "id": "oYthIkmH17gZ"
      },
      "source": [
        "#Prediction of Employee Attrition using Machine learning and Python\n",
        "\n",
        "\n"
      ]
    },
    {
      "cell_type": "markdown",
      "metadata": {
        "id": "LZZF_xG-5DPM"
      },
      "source": [
        "#Import Libraries"
      ]
    },
    {
      "cell_type": "code",
      "metadata": {
        "id": "D8x_O77mQU0B"
      },
      "source": [
        "import pandas as pd\n",
        "import numpy as np\n",
        "import matplotlib.pyplot as plt\n",
        "import seaborn as sns"
      ],
      "execution_count": 37,
      "outputs": []
    },
    {
      "cell_type": "markdown",
      "metadata": {
        "id": "dui1lf3n5AAT"
      },
      "source": [
        "#Store the data into the 'data' variable"
      ]
    },
    {
      "cell_type": "code",
      "metadata": {
        "id": "fRr8H7Sd-_PK",
        "colab": {
          "base_uri": "https://localhost:8080/",
          "height": 529
        },
        "outputId": "15920031-d5a7-4b60-8276-ec355a7d42fc"
      },
      "source": [
        "data = pd.read_csv('HR Data.csv') \n",
        "data.head(10) #Print the first 10 rows"
      ],
      "execution_count": 38,
      "outputs": [
        {
          "output_type": "execute_result",
          "data": {
            "text/html": [
              "<div>\n",
              "<style scoped>\n",
              "    .dataframe tbody tr th:only-of-type {\n",
              "        vertical-align: middle;\n",
              "    }\n",
              "\n",
              "    .dataframe tbody tr th {\n",
              "        vertical-align: top;\n",
              "    }\n",
              "\n",
              "    .dataframe thead th {\n",
              "        text-align: right;\n",
              "    }\n",
              "</style>\n",
              "<table border=\"1\" class=\"dataframe\">\n",
              "  <thead>\n",
              "    <tr style=\"text-align: right;\">\n",
              "      <th></th>\n",
              "      <th>EmployeeID</th>\n",
              "      <th>Age</th>\n",
              "      <th>Gender</th>\n",
              "      <th>MaritalStatus</th>\n",
              "      <th>Education_Level</th>\n",
              "      <th>EducationField</th>\n",
              "      <th>BusinessTravel</th>\n",
              "      <th>Department</th>\n",
              "      <th>Commute</th>\n",
              "      <th>MonthlyIncome</th>\n",
              "      <th>MonthlyRate</th>\n",
              "      <th>DailyRate</th>\n",
              "      <th>HourlyRate</th>\n",
              "      <th>Grade</th>\n",
              "      <th>Role</th>\n",
              "      <th>Satisfaction</th>\n",
              "      <th>NumCompaniesWorked</th>\n",
              "      <th>OverTime</th>\n",
              "      <th>TotalExperienceYears</th>\n",
              "      <th>YearsInCompany</th>\n",
              "      <th>YearsInCurrentRole</th>\n",
              "      <th>YearsSinceLastPromotion</th>\n",
              "      <th>YearsWithLineManager</th>\n",
              "      <th>Attrition</th>\n",
              "    </tr>\n",
              "  </thead>\n",
              "  <tbody>\n",
              "    <tr>\n",
              "      <th>0</th>\n",
              "      <td>1</td>\n",
              "      <td>41</td>\n",
              "      <td>Female</td>\n",
              "      <td>Single</td>\n",
              "      <td>2</td>\n",
              "      <td>Social Sciences</td>\n",
              "      <td>rarely</td>\n",
              "      <td>Sales</td>\n",
              "      <td>1</td>\n",
              "      <td>5993</td>\n",
              "      <td>19479</td>\n",
              "      <td>1102</td>\n",
              "      <td>94</td>\n",
              "      <td>2</td>\n",
              "      <td>Sales Executive</td>\n",
              "      <td>4</td>\n",
              "      <td>8</td>\n",
              "      <td>Yes</td>\n",
              "      <td>8</td>\n",
              "      <td>6</td>\n",
              "      <td>4</td>\n",
              "      <td>0</td>\n",
              "      <td>5</td>\n",
              "      <td>Yes</td>\n",
              "    </tr>\n",
              "    <tr>\n",
              "      <th>1</th>\n",
              "      <td>2</td>\n",
              "      <td>49</td>\n",
              "      <td>Male</td>\n",
              "      <td>Married</td>\n",
              "      <td>1</td>\n",
              "      <td>Social Sciences</td>\n",
              "      <td>frequently</td>\n",
              "      <td>Research &amp; Development</td>\n",
              "      <td>8</td>\n",
              "      <td>5130</td>\n",
              "      <td>24907</td>\n",
              "      <td>279</td>\n",
              "      <td>61</td>\n",
              "      <td>2</td>\n",
              "      <td>Research Scientist</td>\n",
              "      <td>2</td>\n",
              "      <td>1</td>\n",
              "      <td>No</td>\n",
              "      <td>10</td>\n",
              "      <td>10</td>\n",
              "      <td>7</td>\n",
              "      <td>1</td>\n",
              "      <td>7</td>\n",
              "      <td>No</td>\n",
              "    </tr>\n",
              "    <tr>\n",
              "      <th>2</th>\n",
              "      <td>4</td>\n",
              "      <td>37</td>\n",
              "      <td>Male</td>\n",
              "      <td>Single</td>\n",
              "      <td>2</td>\n",
              "      <td>Other</td>\n",
              "      <td>rarely</td>\n",
              "      <td>Research &amp; Development</td>\n",
              "      <td>2</td>\n",
              "      <td>2090</td>\n",
              "      <td>2396</td>\n",
              "      <td>1373</td>\n",
              "      <td>92</td>\n",
              "      <td>1</td>\n",
              "      <td>Laboratory Technician</td>\n",
              "      <td>3</td>\n",
              "      <td>6</td>\n",
              "      <td>Yes</td>\n",
              "      <td>7</td>\n",
              "      <td>0</td>\n",
              "      <td>0</td>\n",
              "      <td>0</td>\n",
              "      <td>0</td>\n",
              "      <td>Yes</td>\n",
              "    </tr>\n",
              "    <tr>\n",
              "      <th>3</th>\n",
              "      <td>5</td>\n",
              "      <td>33</td>\n",
              "      <td>Female</td>\n",
              "      <td>Married</td>\n",
              "      <td>4</td>\n",
              "      <td>Social Sciences</td>\n",
              "      <td>frequently</td>\n",
              "      <td>Research &amp; Development</td>\n",
              "      <td>3</td>\n",
              "      <td>2909</td>\n",
              "      <td>23159</td>\n",
              "      <td>1392</td>\n",
              "      <td>56</td>\n",
              "      <td>1</td>\n",
              "      <td>Research Scientist</td>\n",
              "      <td>3</td>\n",
              "      <td>1</td>\n",
              "      <td>Yes</td>\n",
              "      <td>8</td>\n",
              "      <td>8</td>\n",
              "      <td>7</td>\n",
              "      <td>3</td>\n",
              "      <td>0</td>\n",
              "      <td>No</td>\n",
              "    </tr>\n",
              "    <tr>\n",
              "      <th>4</th>\n",
              "      <td>7</td>\n",
              "      <td>27</td>\n",
              "      <td>Male</td>\n",
              "      <td>Married</td>\n",
              "      <td>1</td>\n",
              "      <td>Health Science</td>\n",
              "      <td>rarely</td>\n",
              "      <td>Research &amp; Development</td>\n",
              "      <td>2</td>\n",
              "      <td>3468</td>\n",
              "      <td>16632</td>\n",
              "      <td>591</td>\n",
              "      <td>40</td>\n",
              "      <td>1</td>\n",
              "      <td>Laboratory Technician</td>\n",
              "      <td>2</td>\n",
              "      <td>9</td>\n",
              "      <td>No</td>\n",
              "      <td>6</td>\n",
              "      <td>2</td>\n",
              "      <td>2</td>\n",
              "      <td>2</td>\n",
              "      <td>2</td>\n",
              "      <td>No</td>\n",
              "    </tr>\n",
              "    <tr>\n",
              "      <th>5</th>\n",
              "      <td>8</td>\n",
              "      <td>32</td>\n",
              "      <td>Male</td>\n",
              "      <td>Single</td>\n",
              "      <td>2</td>\n",
              "      <td>Social Sciences</td>\n",
              "      <td>frequently</td>\n",
              "      <td>Research &amp; Development</td>\n",
              "      <td>2</td>\n",
              "      <td>3068</td>\n",
              "      <td>11864</td>\n",
              "      <td>1005</td>\n",
              "      <td>79</td>\n",
              "      <td>1</td>\n",
              "      <td>Laboratory Technician</td>\n",
              "      <td>4</td>\n",
              "      <td>0</td>\n",
              "      <td>No</td>\n",
              "      <td>8</td>\n",
              "      <td>7</td>\n",
              "      <td>7</td>\n",
              "      <td>3</td>\n",
              "      <td>6</td>\n",
              "      <td>No</td>\n",
              "    </tr>\n",
              "    <tr>\n",
              "      <th>6</th>\n",
              "      <td>10</td>\n",
              "      <td>59</td>\n",
              "      <td>Female</td>\n",
              "      <td>Married</td>\n",
              "      <td>3</td>\n",
              "      <td>Health Science</td>\n",
              "      <td>rarely</td>\n",
              "      <td>Research &amp; Development</td>\n",
              "      <td>3</td>\n",
              "      <td>2670</td>\n",
              "      <td>9964</td>\n",
              "      <td>1324</td>\n",
              "      <td>81</td>\n",
              "      <td>1</td>\n",
              "      <td>Laboratory Technician</td>\n",
              "      <td>1</td>\n",
              "      <td>4</td>\n",
              "      <td>Yes</td>\n",
              "      <td>12</td>\n",
              "      <td>1</td>\n",
              "      <td>0</td>\n",
              "      <td>0</td>\n",
              "      <td>0</td>\n",
              "      <td>No</td>\n",
              "    </tr>\n",
              "    <tr>\n",
              "      <th>7</th>\n",
              "      <td>11</td>\n",
              "      <td>30</td>\n",
              "      <td>Male</td>\n",
              "      <td>Divorced</td>\n",
              "      <td>1</td>\n",
              "      <td>Social Sciences</td>\n",
              "      <td>rarely</td>\n",
              "      <td>Research &amp; Development</td>\n",
              "      <td>24</td>\n",
              "      <td>2693</td>\n",
              "      <td>13335</td>\n",
              "      <td>1358</td>\n",
              "      <td>67</td>\n",
              "      <td>1</td>\n",
              "      <td>Laboratory Technician</td>\n",
              "      <td>3</td>\n",
              "      <td>1</td>\n",
              "      <td>No</td>\n",
              "      <td>1</td>\n",
              "      <td>1</td>\n",
              "      <td>0</td>\n",
              "      <td>0</td>\n",
              "      <td>0</td>\n",
              "      <td>No</td>\n",
              "    </tr>\n",
              "    <tr>\n",
              "      <th>8</th>\n",
              "      <td>12</td>\n",
              "      <td>38</td>\n",
              "      <td>Male</td>\n",
              "      <td>Single</td>\n",
              "      <td>3</td>\n",
              "      <td>Social Sciences</td>\n",
              "      <td>frequently</td>\n",
              "      <td>Research &amp; Development</td>\n",
              "      <td>23</td>\n",
              "      <td>9526</td>\n",
              "      <td>8787</td>\n",
              "      <td>216</td>\n",
              "      <td>44</td>\n",
              "      <td>3</td>\n",
              "      <td>Manufacturing Director</td>\n",
              "      <td>3</td>\n",
              "      <td>0</td>\n",
              "      <td>No</td>\n",
              "      <td>10</td>\n",
              "      <td>9</td>\n",
              "      <td>7</td>\n",
              "      <td>1</td>\n",
              "      <td>8</td>\n",
              "      <td>No</td>\n",
              "    </tr>\n",
              "    <tr>\n",
              "      <th>9</th>\n",
              "      <td>13</td>\n",
              "      <td>36</td>\n",
              "      <td>Male</td>\n",
              "      <td>Married</td>\n",
              "      <td>3</td>\n",
              "      <td>Health Science</td>\n",
              "      <td>rarely</td>\n",
              "      <td>Research &amp; Development</td>\n",
              "      <td>27</td>\n",
              "      <td>5237</td>\n",
              "      <td>16577</td>\n",
              "      <td>1299</td>\n",
              "      <td>94</td>\n",
              "      <td>2</td>\n",
              "      <td>Healthcare Representative</td>\n",
              "      <td>3</td>\n",
              "      <td>6</td>\n",
              "      <td>No</td>\n",
              "      <td>17</td>\n",
              "      <td>7</td>\n",
              "      <td>7</td>\n",
              "      <td>7</td>\n",
              "      <td>7</td>\n",
              "      <td>No</td>\n",
              "    </tr>\n",
              "  </tbody>\n",
              "</table>\n",
              "</div>"
            ],
            "text/plain": [
              "   EmployeeID  Age  ... YearsWithLineManager Attrition\n",
              "0           1   41  ...                    5       Yes\n",
              "1           2   49  ...                    7        No\n",
              "2           4   37  ...                    0       Yes\n",
              "3           5   33  ...                    0        No\n",
              "4           7   27  ...                    2        No\n",
              "5           8   32  ...                    6        No\n",
              "6          10   59  ...                    0        No\n",
              "7          11   30  ...                    0        No\n",
              "8          12   38  ...                    8        No\n",
              "9          13   36  ...                    7        No\n",
              "\n",
              "[10 rows x 24 columns]"
            ]
          },
          "metadata": {
            "tags": []
          },
          "execution_count": 38
        }
      ]
    },
    {
      "cell_type": "markdown",
      "metadata": {
        "id": "aWvgmfWC45wQ"
      },
      "source": [
        "#Get the number of rows and number of columns in the data"
      ]
    },
    {
      "cell_type": "code",
      "metadata": {
        "colab": {
          "base_uri": "https://localhost:8080/"
        },
        "id": "luJi9KXlFrfG",
        "outputId": "0b29a7ee-6f01-4eb4-8a94-2c69cd67af1a"
      },
      "source": [
        "data.shape"
      ],
      "execution_count": 39,
      "outputs": [
        {
          "output_type": "execute_result",
          "data": {
            "text/plain": [
              "(1470, 24)"
            ]
          },
          "metadata": {
            "tags": []
          },
          "execution_count": 39
        }
      ]
    },
    {
      "cell_type": "markdown",
      "metadata": {
        "id": "ZfCVNwVV41zP"
      },
      "source": [
        "#Get the column data types"
      ]
    },
    {
      "cell_type": "code",
      "metadata": {
        "colab": {
          "base_uri": "https://localhost:8080/"
        },
        "id": "7OUlG4zRFxVf",
        "outputId": "1878d627-74fe-4b6d-bb60-2f2a465efc5d"
      },
      "source": [
        "data.dtypes"
      ],
      "execution_count": 40,
      "outputs": [
        {
          "output_type": "execute_result",
          "data": {
            "text/plain": [
              "EmployeeID                  int64\n",
              "Age                         int64\n",
              "Gender                     object\n",
              "MaritalStatus              object\n",
              "Education_Level             int64\n",
              "EducationField             object\n",
              "BusinessTravel             object\n",
              "Department                 object\n",
              "Commute                     int64\n",
              "MonthlyIncome               int64\n",
              "MonthlyRate                 int64\n",
              "DailyRate                   int64\n",
              "HourlyRate                  int64\n",
              "Grade                       int64\n",
              "Role                       object\n",
              "Satisfaction                int64\n",
              "NumCompaniesWorked          int64\n",
              "OverTime                   object\n",
              "TotalExperienceYears        int64\n",
              "YearsInCompany              int64\n",
              "YearsInCurrentRole          int64\n",
              "YearsSinceLastPromotion     int64\n",
              "YearsWithLineManager        int64\n",
              "Attrition                  object\n",
              "dtype: object"
            ]
          },
          "metadata": {
            "tags": []
          },
          "execution_count": 40
        }
      ]
    },
    {
      "cell_type": "markdown",
      "metadata": {
        "id": "ZgUo0ZYf5TXx"
      },
      "source": [
        "#Count the empty (NaN, NAN, na) values in each column"
      ]
    },
    {
      "cell_type": "code",
      "metadata": {
        "colab": {
          "base_uri": "https://localhost:8080/"
        },
        "id": "b9IikuTZGQhF",
        "outputId": "55f8375f-4181-40cd-b825-7eb4f5c59f0a"
      },
      "source": [
        "data.isna().sum()"
      ],
      "execution_count": 41,
      "outputs": [
        {
          "output_type": "execute_result",
          "data": {
            "text/plain": [
              "EmployeeID                 0\n",
              "Age                        0\n",
              "Gender                     0\n",
              "MaritalStatus              0\n",
              "Education_Level            0\n",
              "EducationField             0\n",
              "BusinessTravel             0\n",
              "Department                 0\n",
              "Commute                    0\n",
              "MonthlyIncome              0\n",
              "MonthlyRate                0\n",
              "DailyRate                  0\n",
              "HourlyRate                 0\n",
              "Grade                      0\n",
              "Role                       0\n",
              "Satisfaction               0\n",
              "NumCompaniesWorked         0\n",
              "OverTime                   0\n",
              "TotalExperienceYears       0\n",
              "YearsInCompany             0\n",
              "YearsInCurrentRole         0\n",
              "YearsSinceLastPromotion    0\n",
              "YearsWithLineManager       0\n",
              "Attrition                  0\n",
              "dtype: int64"
            ]
          },
          "metadata": {
            "tags": []
          },
          "execution_count": 41
        }
      ]
    },
    {
      "cell_type": "markdown",
      "metadata": {
        "id": "6dNI2hx94pMF"
      },
      "source": [
        "#Check for any null / missing values"
      ]
    },
    {
      "cell_type": "code",
      "metadata": {
        "colab": {
          "base_uri": "https://localhost:8080/"
        },
        "id": "WvcNxkeqGVzG",
        "outputId": "fac7e096-7ab7-4ae4-d0ef-0ad067b06859"
      },
      "source": [
        "data.isnull()#Another check for any null / missing values\n",
        "data.isnull().values.any()"
      ],
      "execution_count": 42,
      "outputs": [
        {
          "output_type": "execute_result",
          "data": {
            "text/plain": [
              "False"
            ]
          },
          "metadata": {
            "tags": []
          },
          "execution_count": 42
        }
      ]
    },
    {
      "cell_type": "markdown",
      "metadata": {
        "id": "71Ex9l_h4lRp"
      },
      "source": [
        "#View some basic statistical details like percentile, mean, standard deviation etc."
      ]
    },
    {
      "cell_type": "code",
      "metadata": {
        "colab": {
          "base_uri": "https://localhost:8080/",
          "height": 302
        },
        "id": "OtaO8Ej0GhIV",
        "outputId": "34e2cd48-624d-401f-95da-7c8a4fdc99d6"
      },
      "source": [
        "data.describe()"
      ],
      "execution_count": 43,
      "outputs": [
        {
          "output_type": "execute_result",
          "data": {
            "text/html": [
              "<div>\n",
              "<style scoped>\n",
              "    .dataframe tbody tr th:only-of-type {\n",
              "        vertical-align: middle;\n",
              "    }\n",
              "\n",
              "    .dataframe tbody tr th {\n",
              "        vertical-align: top;\n",
              "    }\n",
              "\n",
              "    .dataframe thead th {\n",
              "        text-align: right;\n",
              "    }\n",
              "</style>\n",
              "<table border=\"1\" class=\"dataframe\">\n",
              "  <thead>\n",
              "    <tr style=\"text-align: right;\">\n",
              "      <th></th>\n",
              "      <th>EmployeeID</th>\n",
              "      <th>Age</th>\n",
              "      <th>Education_Level</th>\n",
              "      <th>Commute</th>\n",
              "      <th>MonthlyIncome</th>\n",
              "      <th>MonthlyRate</th>\n",
              "      <th>DailyRate</th>\n",
              "      <th>HourlyRate</th>\n",
              "      <th>Grade</th>\n",
              "      <th>Satisfaction</th>\n",
              "      <th>NumCompaniesWorked</th>\n",
              "      <th>TotalExperienceYears</th>\n",
              "      <th>YearsInCompany</th>\n",
              "      <th>YearsInCurrentRole</th>\n",
              "      <th>YearsSinceLastPromotion</th>\n",
              "      <th>YearsWithLineManager</th>\n",
              "    </tr>\n",
              "  </thead>\n",
              "  <tbody>\n",
              "    <tr>\n",
              "      <th>count</th>\n",
              "      <td>1470.000000</td>\n",
              "      <td>1470.000000</td>\n",
              "      <td>1470.000000</td>\n",
              "      <td>1470.000000</td>\n",
              "      <td>1470.000000</td>\n",
              "      <td>1470.000000</td>\n",
              "      <td>1470.000000</td>\n",
              "      <td>1470.000000</td>\n",
              "      <td>1470.000000</td>\n",
              "      <td>1470.000000</td>\n",
              "      <td>1470.000000</td>\n",
              "      <td>1470.000000</td>\n",
              "      <td>1470.000000</td>\n",
              "      <td>1470.000000</td>\n",
              "      <td>1470.000000</td>\n",
              "      <td>1470.000000</td>\n",
              "    </tr>\n",
              "    <tr>\n",
              "      <th>mean</th>\n",
              "      <td>1024.865306</td>\n",
              "      <td>36.923810</td>\n",
              "      <td>2.912925</td>\n",
              "      <td>9.192517</td>\n",
              "      <td>6502.931293</td>\n",
              "      <td>14313.103401</td>\n",
              "      <td>802.485714</td>\n",
              "      <td>65.891156</td>\n",
              "      <td>2.063946</td>\n",
              "      <td>2.728571</td>\n",
              "      <td>2.693197</td>\n",
              "      <td>11.279592</td>\n",
              "      <td>7.008163</td>\n",
              "      <td>4.229252</td>\n",
              "      <td>2.187755</td>\n",
              "      <td>4.123129</td>\n",
              "    </tr>\n",
              "    <tr>\n",
              "      <th>std</th>\n",
              "      <td>602.024335</td>\n",
              "      <td>9.135373</td>\n",
              "      <td>1.024165</td>\n",
              "      <td>8.106864</td>\n",
              "      <td>4707.956783</td>\n",
              "      <td>7117.786044</td>\n",
              "      <td>403.509100</td>\n",
              "      <td>20.329428</td>\n",
              "      <td>1.106940</td>\n",
              "      <td>1.102846</td>\n",
              "      <td>2.498009</td>\n",
              "      <td>7.780782</td>\n",
              "      <td>6.126525</td>\n",
              "      <td>3.623137</td>\n",
              "      <td>3.222430</td>\n",
              "      <td>3.568136</td>\n",
              "    </tr>\n",
              "    <tr>\n",
              "      <th>min</th>\n",
              "      <td>1.000000</td>\n",
              "      <td>18.000000</td>\n",
              "      <td>1.000000</td>\n",
              "      <td>1.000000</td>\n",
              "      <td>1009.000000</td>\n",
              "      <td>2094.000000</td>\n",
              "      <td>102.000000</td>\n",
              "      <td>30.000000</td>\n",
              "      <td>1.000000</td>\n",
              "      <td>1.000000</td>\n",
              "      <td>0.000000</td>\n",
              "      <td>0.000000</td>\n",
              "      <td>0.000000</td>\n",
              "      <td>0.000000</td>\n",
              "      <td>0.000000</td>\n",
              "      <td>0.000000</td>\n",
              "    </tr>\n",
              "    <tr>\n",
              "      <th>25%</th>\n",
              "      <td>491.250000</td>\n",
              "      <td>30.000000</td>\n",
              "      <td>2.000000</td>\n",
              "      <td>2.000000</td>\n",
              "      <td>2911.000000</td>\n",
              "      <td>8047.000000</td>\n",
              "      <td>465.000000</td>\n",
              "      <td>48.000000</td>\n",
              "      <td>1.000000</td>\n",
              "      <td>2.000000</td>\n",
              "      <td>1.000000</td>\n",
              "      <td>6.000000</td>\n",
              "      <td>3.000000</td>\n",
              "      <td>2.000000</td>\n",
              "      <td>0.000000</td>\n",
              "      <td>2.000000</td>\n",
              "    </tr>\n",
              "    <tr>\n",
              "      <th>50%</th>\n",
              "      <td>1020.500000</td>\n",
              "      <td>36.000000</td>\n",
              "      <td>3.000000</td>\n",
              "      <td>7.000000</td>\n",
              "      <td>4919.000000</td>\n",
              "      <td>14235.500000</td>\n",
              "      <td>802.000000</td>\n",
              "      <td>66.000000</td>\n",
              "      <td>2.000000</td>\n",
              "      <td>3.000000</td>\n",
              "      <td>2.000000</td>\n",
              "      <td>10.000000</td>\n",
              "      <td>5.000000</td>\n",
              "      <td>3.000000</td>\n",
              "      <td>1.000000</td>\n",
              "      <td>3.000000</td>\n",
              "    </tr>\n",
              "    <tr>\n",
              "      <th>75%</th>\n",
              "      <td>1555.750000</td>\n",
              "      <td>43.000000</td>\n",
              "      <td>4.000000</td>\n",
              "      <td>14.000000</td>\n",
              "      <td>8379.000000</td>\n",
              "      <td>20461.500000</td>\n",
              "      <td>1157.000000</td>\n",
              "      <td>83.750000</td>\n",
              "      <td>3.000000</td>\n",
              "      <td>4.000000</td>\n",
              "      <td>4.000000</td>\n",
              "      <td>15.000000</td>\n",
              "      <td>9.000000</td>\n",
              "      <td>7.000000</td>\n",
              "      <td>3.000000</td>\n",
              "      <td>7.000000</td>\n",
              "    </tr>\n",
              "    <tr>\n",
              "      <th>max</th>\n",
              "      <td>2068.000000</td>\n",
              "      <td>60.000000</td>\n",
              "      <td>5.000000</td>\n",
              "      <td>29.000000</td>\n",
              "      <td>19999.000000</td>\n",
              "      <td>26999.000000</td>\n",
              "      <td>1499.000000</td>\n",
              "      <td>100.000000</td>\n",
              "      <td>5.000000</td>\n",
              "      <td>4.000000</td>\n",
              "      <td>9.000000</td>\n",
              "      <td>40.000000</td>\n",
              "      <td>40.000000</td>\n",
              "      <td>18.000000</td>\n",
              "      <td>15.000000</td>\n",
              "      <td>17.000000</td>\n",
              "    </tr>\n",
              "  </tbody>\n",
              "</table>\n",
              "</div>"
            ],
            "text/plain": [
              "        EmployeeID          Age  ...  YearsSinceLastPromotion  YearsWithLineManager\n",
              "count  1470.000000  1470.000000  ...              1470.000000           1470.000000\n",
              "mean   1024.865306    36.923810  ...                 2.187755              4.123129\n",
              "std     602.024335     9.135373  ...                 3.222430              3.568136\n",
              "min       1.000000    18.000000  ...                 0.000000              0.000000\n",
              "25%     491.250000    30.000000  ...                 0.000000              2.000000\n",
              "50%    1020.500000    36.000000  ...                 1.000000              3.000000\n",
              "75%    1555.750000    43.000000  ...                 3.000000              7.000000\n",
              "max    2068.000000    60.000000  ...                15.000000             17.000000\n",
              "\n",
              "[8 rows x 16 columns]"
            ]
          },
          "metadata": {
            "tags": []
          },
          "execution_count": 43
        }
      ]
    },
    {
      "cell_type": "markdown",
      "metadata": {
        "id": "wZ10Qmrm5dOV"
      },
      "source": [
        "#Get a count of the number of employee attrition, the number of employees that stayed (no) and the number that left (yes)"
      ]
    },
    {
      "cell_type": "code",
      "metadata": {
        "colab": {
          "base_uri": "https://localhost:8080/"
        },
        "id": "j8Yxr-7kG2Q8",
        "outputId": "bf68334a-91a8-4c24-8a7d-5d5cfca67c3d"
      },
      "source": [
        "data['Attrition'].value_counts()"
      ],
      "execution_count": 44,
      "outputs": [
        {
          "output_type": "execute_result",
          "data": {
            "text/plain": [
              "No     1233\n",
              "Yes     237\n",
              "Name: Attrition, dtype: int64"
            ]
          },
          "metadata": {
            "tags": []
          },
          "execution_count": 44
        }
      ]
    },
    {
      "cell_type": "markdown",
      "metadata": {
        "id": "VCq-i2EL5xjB"
      },
      "source": [
        "#Visualize the Attrition count "
      ]
    },
    {
      "cell_type": "code",
      "metadata": {
        "colab": {
          "base_uri": "https://localhost:8080/",
          "height": 352
        },
        "id": "2GIbbbmcHIGW",
        "outputId": "262f727c-272e-4c60-b957-7c9fd3ab5d40"
      },
      "source": [
        "sns.countplot(data['Attrition'])"
      ],
      "execution_count": 45,
      "outputs": [
        {
          "output_type": "stream",
          "text": [
            "/usr/local/lib/python3.7/dist-packages/seaborn/_decorators.py:43: FutureWarning: Pass the following variable as a keyword arg: x. From version 0.12, the only valid positional argument will be `data`, and passing other arguments without an explicit keyword will result in an error or misinterpretation.\n",
            "  FutureWarning\n"
          ],
          "name": "stderr"
        },
        {
          "output_type": "execute_result",
          "data": {
            "text/plain": [
              "<matplotlib.axes._subplots.AxesSubplot at 0x7f7e9f2df210>"
            ]
          },
          "metadata": {
            "tags": []
          },
          "execution_count": 45
        },
        {
          "output_type": "display_data",
          "data": {
            "image/png": "[encoded data removed]",
            "text/plain": [
              "<Figure size 432x288 with 1 Axes>"
            ]
          },
          "metadata": {
            "tags": [],
            "needs_background": "light"
          }
        }
      ]
    },
    {
      "cell_type": "code",
      "metadata": {
        "colab": {
          "base_uri": "https://localhost:8080/"
        },
        "id": "dSI3EQPDl_X-",
        "outputId": "b608233c-5de7-47fd-913a-78029479a50a"
      },
      "source": [
        "(1233-237)/1233"
      ],
      "execution_count": 46,
      "outputs": [
        {
          "output_type": "execute_result",
          "data": {
            "text/plain": [
              "0.8077858880778589"
            ]
          },
          "metadata": {
            "tags": []
          },
          "execution_count": 46
        }
      ]
    },
    {
      "cell_type": "markdown",
      "metadata": {
        "id": "KtkyLJAf570B"
      },
      "source": [
        "#Show the number of employees that left and stayed by age"
      ]
    },
    {
      "cell_type": "code",
      "metadata": {
        "colab": {
          "base_uri": "https://localhost:8080/",
          "height": 388
        },
        "id": "X5yqdvF7HYG-",
        "outputId": "1844fa09-6262-4500-b49d-067b7ea32e24"
      },
      "source": [
        "import matplotlib.pyplot as plt\n",
        "fig_dims = (20, 6)\n",
        "fig, ax = plt.subplots(figsize=fig_dims)\n",
        "\n",
        "#ax = axis\n",
        "sns.countplot(x='Age', hue='Attrition', data = data, palette=\"colorblind\", ax = ax,  edgecolor=sns.color_palette(\"dark\", n_colors = 2));"
      ],
      "execution_count": 47,
      "outputs": [
        {
          "output_type": "display_data",
          "data": {
            "image/png": "[encoded data removed]",
            "text/plain": [
              "<Figure size 1440x432 with 1 Axes>"
            ]
          },
          "metadata": {
            "tags": [],
            "needs_background": "light"
          }
        }
      ]
    },
    {
      "cell_type": "markdown",
      "metadata": {
        "id": "bcAPQYOQIiA8"
      },
      "source": [
        "The age with the highest count of employee attrition is age 29 & 31. The age with the highest retention is age 34 & 35."
      ]
    },
    {
      "cell_type": "code",
      "metadata": {
        "colab": {
          "base_uri": "https://localhost:8080/",
          "height": 155
        },
        "id": "MKUjd4JXpZdY",
        "outputId": "5e5b154c-36d7-4109-f38b-41db5773f319"
      },
      "source": [
        "data.groupby('Attrition').mean()"
      ],
      "execution_count": 48,
      "outputs": [
        {
          "output_type": "execute_result",
          "data": {
            "text/html": [
              "<div>\n",
              "<style scoped>\n",
              "    .dataframe tbody tr th:only-of-type {\n",
              "        vertical-align: middle;\n",
              "    }\n",
              "\n",
              "    .dataframe tbody tr th {\n",
              "        vertical-align: top;\n",
              "    }\n",
              "\n",
              "    .dataframe thead th {\n",
              "        text-align: right;\n",
              "    }\n",
              "</style>\n",
              "<table border=\"1\" class=\"dataframe\">\n",
              "  <thead>\n",
              "    <tr style=\"text-align: right;\">\n",
              "      <th></th>\n",
              "      <th>EmployeeID</th>\n",
              "      <th>Age</th>\n",
              "      <th>Education_Level</th>\n",
              "      <th>Commute</th>\n",
              "      <th>MonthlyIncome</th>\n",
              "      <th>MonthlyRate</th>\n",
              "      <th>DailyRate</th>\n",
              "      <th>HourlyRate</th>\n",
              "      <th>Grade</th>\n",
              "      <th>Satisfaction</th>\n",
              "      <th>NumCompaniesWorked</th>\n",
              "      <th>TotalExperienceYears</th>\n",
              "      <th>YearsInCompany</th>\n",
              "      <th>YearsInCurrentRole</th>\n",
              "      <th>YearsSinceLastPromotion</th>\n",
              "      <th>YearsWithLineManager</th>\n",
              "    </tr>\n",
              "    <tr>\n",
              "      <th>Attrition</th>\n",
              "      <th></th>\n",
              "      <th></th>\n",
              "      <th></th>\n",
              "      <th></th>\n",
              "      <th></th>\n",
              "      <th></th>\n",
              "      <th></th>\n",
              "      <th></th>\n",
              "      <th></th>\n",
              "      <th></th>\n",
              "      <th></th>\n",
              "      <th></th>\n",
              "      <th></th>\n",
              "      <th></th>\n",
              "      <th></th>\n",
              "      <th></th>\n",
              "    </tr>\n",
              "  </thead>\n",
              "  <tbody>\n",
              "    <tr>\n",
              "      <th>No</th>\n",
              "      <td>1027.656123</td>\n",
              "      <td>37.561233</td>\n",
              "      <td>2.927007</td>\n",
              "      <td>8.915653</td>\n",
              "      <td>6832.739659</td>\n",
              "      <td>14265.779400</td>\n",
              "      <td>812.504461</td>\n",
              "      <td>65.952149</td>\n",
              "      <td>2.145985</td>\n",
              "      <td>2.778589</td>\n",
              "      <td>2.645580</td>\n",
              "      <td>11.862936</td>\n",
              "      <td>7.369019</td>\n",
              "      <td>4.484185</td>\n",
              "      <td>2.234388</td>\n",
              "      <td>4.367397</td>\n",
              "    </tr>\n",
              "    <tr>\n",
              "      <th>Yes</th>\n",
              "      <td>1010.345992</td>\n",
              "      <td>33.607595</td>\n",
              "      <td>2.839662</td>\n",
              "      <td>10.632911</td>\n",
              "      <td>4787.092827</td>\n",
              "      <td>14559.308017</td>\n",
              "      <td>750.362869</td>\n",
              "      <td>65.573840</td>\n",
              "      <td>1.637131</td>\n",
              "      <td>2.468354</td>\n",
              "      <td>2.940928</td>\n",
              "      <td>8.244726</td>\n",
              "      <td>5.130802</td>\n",
              "      <td>2.902954</td>\n",
              "      <td>1.945148</td>\n",
              "      <td>2.852321</td>\n",
              "    </tr>\n",
              "  </tbody>\n",
              "</table>\n",
              "</div>"
            ],
            "text/plain": [
              "            EmployeeID  ...  YearsWithLineManager\n",
              "Attrition               ...                      \n",
              "No         1027.656123  ...              4.367397\n",
              "Yes        1010.345992  ...              2.852321\n",
              "\n",
              "[2 rows x 16 columns]"
            ]
          },
          "metadata": {
            "tags": []
          },
          "execution_count": 48
        }
      ]
    },
    {
      "cell_type": "code",
      "metadata": {
        "colab": {
          "base_uri": "https://localhost:8080/",
          "height": 218
        },
        "id": "v30hd3aapw_6",
        "outputId": "9f92d87e-6a06-4363-beb4-17fe9ef73918"
      },
      "source": [
        "data.groupby('Department').mean()"
      ],
      "execution_count": 49,
      "outputs": [
        {
          "output_type": "execute_result",
          "data": {
            "text/html": [
              "<div>\n",
              "<style scoped>\n",
              "    .dataframe tbody tr th:only-of-type {\n",
              "        vertical-align: middle;\n",
              "    }\n",
              "\n",
              "    .dataframe tbody tr th {\n",
              "        vertical-align: top;\n",
              "    }\n",
              "\n",
              "    .dataframe thead th {\n",
              "        text-align: right;\n",
              "    }\n",
              "</style>\n",
              "<table border=\"1\" class=\"dataframe\">\n",
              "  <thead>\n",
              "    <tr style=\"text-align: right;\">\n",
              "      <th></th>\n",
              "      <th>EmployeeID</th>\n",
              "      <th>Age</th>\n",
              "      <th>Education_Level</th>\n",
              "      <th>Commute</th>\n",
              "      <th>MonthlyIncome</th>\n",
              "      <th>MonthlyRate</th>\n",
              "      <th>DailyRate</th>\n",
              "      <th>HourlyRate</th>\n",
              "      <th>Grade</th>\n",
              "      <th>Satisfaction</th>\n",
              "      <th>NumCompaniesWorked</th>\n",
              "      <th>TotalExperienceYears</th>\n",
              "      <th>YearsInCompany</th>\n",
              "      <th>YearsInCurrentRole</th>\n",
              "      <th>YearsSinceLastPromotion</th>\n",
              "      <th>YearsWithLineManager</th>\n",
              "    </tr>\n",
              "    <tr>\n",
              "      <th>Department</th>\n",
              "      <th></th>\n",
              "      <th></th>\n",
              "      <th></th>\n",
              "      <th></th>\n",
              "      <th></th>\n",
              "      <th></th>\n",
              "      <th></th>\n",
              "      <th></th>\n",
              "      <th></th>\n",
              "      <th></th>\n",
              "      <th></th>\n",
              "      <th></th>\n",
              "      <th></th>\n",
              "      <th></th>\n",
              "      <th></th>\n",
              "      <th></th>\n",
              "    </tr>\n",
              "  </thead>\n",
              "  <tbody>\n",
              "    <tr>\n",
              "      <th>Human Resources</th>\n",
              "      <td>1205.269841</td>\n",
              "      <td>37.809524</td>\n",
              "      <td>2.968254</td>\n",
              "      <td>8.698413</td>\n",
              "      <td>6654.507937</td>\n",
              "      <td>13492.984127</td>\n",
              "      <td>751.539683</td>\n",
              "      <td>64.301587</td>\n",
              "      <td>2.031746</td>\n",
              "      <td>2.603175</td>\n",
              "      <td>2.936508</td>\n",
              "      <td>11.555556</td>\n",
              "      <td>7.238095</td>\n",
              "      <td>3.539683</td>\n",
              "      <td>1.777778</td>\n",
              "      <td>3.666667</td>\n",
              "    </tr>\n",
              "    <tr>\n",
              "      <th>Research &amp; Development</th>\n",
              "      <td>1006.503642</td>\n",
              "      <td>37.042664</td>\n",
              "      <td>2.899063</td>\n",
              "      <td>9.144641</td>\n",
              "      <td>6281.252862</td>\n",
              "      <td>14284.865765</td>\n",
              "      <td>806.851197</td>\n",
              "      <td>66.167534</td>\n",
              "      <td>1.977107</td>\n",
              "      <td>2.726327</td>\n",
              "      <td>2.733611</td>\n",
              "      <td>11.342352</td>\n",
              "      <td>6.864724</td>\n",
              "      <td>4.155047</td>\n",
              "      <td>2.137357</td>\n",
              "      <td>4.084287</td>\n",
              "    </tr>\n",
              "    <tr>\n",
              "      <th>Sales</th>\n",
              "      <td>1038.946188</td>\n",
              "      <td>36.542601</td>\n",
              "      <td>2.934978</td>\n",
              "      <td>9.365471</td>\n",
              "      <td>6959.172646</td>\n",
              "      <td>14489.793722</td>\n",
              "      <td>800.275785</td>\n",
              "      <td>65.520179</td>\n",
              "      <td>2.255605</td>\n",
              "      <td>2.751121</td>\n",
              "      <td>2.571749</td>\n",
              "      <td>11.105381</td>\n",
              "      <td>7.284753</td>\n",
              "      <td>4.486547</td>\n",
              "      <td>2.354260</td>\n",
              "      <td>4.271300</td>\n",
              "    </tr>\n",
              "  </tbody>\n",
              "</table>\n",
              "</div>"
            ],
            "text/plain": [
              "                         EmployeeID  ...  YearsWithLineManager\n",
              "Department                           ...                      \n",
              "Human Resources         1205.269841  ...              3.666667\n",
              "Research & Development  1006.503642  ...              4.084287\n",
              "Sales                   1038.946188  ...              4.271300\n",
              "\n",
              "[3 rows x 16 columns]"
            ]
          },
          "metadata": {
            "tags": []
          },
          "execution_count": 49
        }
      ]
    },
    {
      "cell_type": "code",
      "metadata": {
        "colab": {
          "base_uri": "https://localhost:8080/",
          "height": 354
        },
        "id": "Hamzk29R7I4R",
        "outputId": "6f7265ba-fe85-45ce-8fd0-2dc959d68755"
      },
      "source": [
        "sns.countplot(data['Department'])"
      ],
      "execution_count": 50,
      "outputs": [
        {
          "output_type": "stream",
          "text": [
            "/usr/local/lib/python3.7/dist-packages/seaborn/_decorators.py:43: FutureWarning: Pass the following variable as a keyword arg: x. From version 0.12, the only valid positional argument will be `data`, and passing other arguments without an explicit keyword will result in an error or misinterpretation.\n",
            "  FutureWarning\n"
          ],
          "name": "stderr"
        },
        {
          "output_type": "execute_result",
          "data": {
            "text/plain": [
              "<matplotlib.axes._subplots.AxesSubplot at 0x7f7e9f061e10>"
            ]
          },
          "metadata": {
            "tags": []
          },
          "execution_count": 50
        },
        {
          "output_type": "display_data",
          "data": {
            "image/png": "[encoded data removed]",
            "text/plain": [
              "<Figure size 432x288 with 1 Axes>"
            ]
          },
          "metadata": {
            "tags": [],
            "needs_background": "light"
          }
        }
      ]
    },
    {
      "cell_type": "code",
      "metadata": {
        "colab": {
          "base_uri": "https://localhost:8080/",
          "height": 155
        },
        "id": "Yj2IaqnF39dh",
        "outputId": "43b5c6a4-d2b3-4ea8-a901-65e5c26af9f8"
      },
      "source": [
        "data.groupby('OverTime').mean()"
      ],
      "execution_count": 51,
      "outputs": [
        {
          "output_type": "execute_result",
          "data": {
            "text/html": [
              "<div>\n",
              "<style scoped>\n",
              "    .dataframe tbody tr th:only-of-type {\n",
              "        vertical-align: middle;\n",
              "    }\n",
              "\n",
              "    .dataframe tbody tr th {\n",
              "        vertical-align: top;\n",
              "    }\n",
              "\n",
              "    .dataframe thead th {\n",
              "        text-align: right;\n",
              "    }\n",
              "</style>\n",
              "<table border=\"1\" class=\"dataframe\">\n",
              "  <thead>\n",
              "    <tr style=\"text-align: right;\">\n",
              "      <th></th>\n",
              "      <th>EmployeeID</th>\n",
              "      <th>Age</th>\n",
              "      <th>Education_Level</th>\n",
              "      <th>Commute</th>\n",
              "      <th>MonthlyIncome</th>\n",
              "      <th>MonthlyRate</th>\n",
              "      <th>DailyRate</th>\n",
              "      <th>HourlyRate</th>\n",
              "      <th>Grade</th>\n",
              "      <th>Satisfaction</th>\n",
              "      <th>NumCompaniesWorked</th>\n",
              "      <th>TotalExperienceYears</th>\n",
              "      <th>YearsInCompany</th>\n",
              "      <th>YearsInCurrentRole</th>\n",
              "      <th>YearsSinceLastPromotion</th>\n",
              "      <th>YearsWithLineManager</th>\n",
              "    </tr>\n",
              "    <tr>\n",
              "      <th>OverTime</th>\n",
              "      <th></th>\n",
              "      <th></th>\n",
              "      <th></th>\n",
              "      <th></th>\n",
              "      <th></th>\n",
              "      <th></th>\n",
              "      <th></th>\n",
              "      <th></th>\n",
              "      <th></th>\n",
              "      <th></th>\n",
              "      <th></th>\n",
              "      <th></th>\n",
              "      <th></th>\n",
              "      <th></th>\n",
              "      <th></th>\n",
              "      <th></th>\n",
              "    </tr>\n",
              "  </thead>\n",
              "  <tbody>\n",
              "    <tr>\n",
              "      <th>No</th>\n",
              "      <td>1033.953510</td>\n",
              "      <td>36.762808</td>\n",
              "      <td>2.925996</td>\n",
              "      <td>9.062619</td>\n",
              "      <td>6484.926945</td>\n",
              "      <td>14217.302657</td>\n",
              "      <td>800.170778</td>\n",
              "      <td>65.990512</td>\n",
              "      <td>2.063567</td>\n",
              "      <td>2.711575</td>\n",
              "      <td>2.725806</td>\n",
              "      <td>11.217268</td>\n",
              "      <td>7.053131</td>\n",
              "      <td>4.296964</td>\n",
              "      <td>2.212524</td>\n",
              "      <td>4.216319</td>\n",
              "    </tr>\n",
              "    <tr>\n",
              "      <th>Yes</th>\n",
              "      <td>1001.838942</td>\n",
              "      <td>37.331731</td>\n",
              "      <td>2.879808</td>\n",
              "      <td>9.521635</td>\n",
              "      <td>6548.548077</td>\n",
              "      <td>14555.829327</td>\n",
              "      <td>808.350962</td>\n",
              "      <td>65.639423</td>\n",
              "      <td>2.064904</td>\n",
              "      <td>2.771635</td>\n",
              "      <td>2.610577</td>\n",
              "      <td>11.437500</td>\n",
              "      <td>6.894231</td>\n",
              "      <td>4.057692</td>\n",
              "      <td>2.125000</td>\n",
              "      <td>3.887019</td>\n",
              "    </tr>\n",
              "  </tbody>\n",
              "</table>\n",
              "</div>"
            ],
            "text/plain": [
              "           EmployeeID        Age  ...  YearsSinceLastPromotion  YearsWithLineManager\n",
              "OverTime                          ...                                               \n",
              "No        1033.953510  36.762808  ...                 2.212524              4.216319\n",
              "Yes       1001.838942  37.331731  ...                 2.125000              3.887019\n",
              "\n",
              "[2 rows x 16 columns]"
            ]
          },
          "metadata": {
            "tags": []
          },
          "execution_count": 51
        }
      ]
    },
    {
      "cell_type": "code",
      "metadata": {
        "colab": {
          "base_uri": "https://localhost:8080/",
          "height": 352
        },
        "id": "rtRXS8df8eiE",
        "outputId": "98dd7483-0e76-4532-de45-d2274f0db39f"
      },
      "source": [
        "sns.countplot(data['OverTime'])"
      ],
      "execution_count": 52,
      "outputs": [
        {
          "output_type": "stream",
          "text": [
            "/usr/local/lib/python3.7/dist-packages/seaborn/_decorators.py:43: FutureWarning: Pass the following variable as a keyword arg: x. From version 0.12, the only valid positional argument will be `data`, and passing other arguments without an explicit keyword will result in an error or misinterpretation.\n",
            "  FutureWarning\n"
          ],
          "name": "stderr"
        },
        {
          "output_type": "execute_result",
          "data": {
            "text/plain": [
              "<matplotlib.axes._subplots.AxesSubplot at 0x7f7e9f00f790>"
            ]
          },
          "metadata": {
            "tags": []
          },
          "execution_count": 52
        },
        {
          "output_type": "display_data",
          "data": {
            "image/png": "[encoded data removed]",
            "text/plain": [
              "<Figure size 432x288 with 1 Axes>"
            ]
          },
          "metadata": {
            "tags": [],
            "needs_background": "light"
          }
        }
      ]
    },
    {
      "cell_type": "markdown",
      "metadata": {
        "id": "YxY2ANRCrF0z"
      },
      "source": [
        "#Print all of the object data types and their unique values"
      ]
    },
    {
      "cell_type": "code",
      "metadata": {
        "colab": {
          "base_uri": "https://localhost:8080/"
        },
        "id": "WutRTqJmIli9",
        "outputId": "25da460f-60d4-4da2-95de-29d472193e83"
      },
      "source": [
        "for column in data.columns:\n",
        "    if data[column].dtype == object:\n",
        "        print(str(column) + ' : ' + str(data[column].unique()))\n",
        "        print(data[column].value_counts())\n",
        "        print(\"_________________________________________________________________\")"
      ],
      "execution_count": 53,
      "outputs": [
        {
          "output_type": "stream",
          "text": [
            "Gender : ['Female' 'Male']\n",
            "Male      882\n",
            "Female    588\n",
            "Name: Gender, dtype: int64\n",
            "_________________________________________________________________\n",
            "MaritalStatus : ['Single' 'Married' 'Divorced']\n",
            "Married     673\n",
            "Single      470\n",
            "Divorced    327\n",
            "Name: MaritalStatus, dtype: int64\n",
            "_________________________________________________________________\n",
            "EducationField : ['Social Sciences' 'Other' 'Health Science' 'Business' 'Engineering'\n",
            " 'Human Resources']\n",
            "Social Sciences    606\n",
            "Health Science     464\n",
            "Business           159\n",
            "Engineering        132\n",
            "Other               82\n",
            "Human Resources     27\n",
            "Name: EducationField, dtype: int64\n",
            "_________________________________________________________________\n",
            "BusinessTravel : ['rarely' 'frequently' 'none']\n",
            "rarely        1043\n",
            "frequently     277\n",
            "none           150\n",
            "Name: BusinessTravel, dtype: int64\n",
            "_________________________________________________________________\n",
            "Department : ['Sales' 'Research & Development' 'Human Resources']\n",
            "Research & Development    961\n",
            "Sales                     446\n",
            "Human Resources            63\n",
            "Name: Department, dtype: int64\n",
            "_________________________________________________________________\n",
            "Role : ['Sales Executive' 'Research Scientist' 'Laboratory Technician'\n",
            " 'Manufacturing Director' 'Healthcare Representative' 'Manager'\n",
            " 'Sales Representative' 'Research Director' 'Human Resources']\n",
            "Sales Executive              326\n",
            "Research Scientist           292\n",
            "Laboratory Technician        259\n",
            "Manufacturing Director       145\n",
            "Healthcare Representative    131\n",
            "Manager                      102\n",
            "Sales Representative          83\n",
            "Research Director             80\n",
            "Human Resources               52\n",
            "Name: Role, dtype: int64\n",
            "_________________________________________________________________\n",
            "OverTime : ['Yes' 'No']\n",
            "No     1054\n",
            "Yes     416\n",
            "Name: OverTime, dtype: int64\n",
            "_________________________________________________________________\n",
            "Attrition : ['Yes' 'No']\n",
            "No     1233\n",
            "Yes     237\n",
            "Name: Attrition, dtype: int64\n",
            "_________________________________________________________________\n"
          ],
          "name": "stdout"
        }
      ]
    },
    {
      "cell_type": "markdown",
      "metadata": {
        "id": "EpPt3oIxEFes"
      },
      "source": [
        "#Get the correlation of the columns"
      ]
    },
    {
      "cell_type": "code",
      "metadata": {
        "colab": {
          "base_uri": "https://localhost:8080/",
          "height": 536
        },
        "id": "4Wlgd-kIJDZ3",
        "outputId": "ec3d80a5-8e68-4292-bb53-c7091a4c031f"
      },
      "source": [
        "data.corr()"
      ],
      "execution_count": 54,
      "outputs": [
        {
          "output_type": "execute_result",
          "data": {
            "text/html": [
              "<div>\n",
              "<style scoped>\n",
              "    .dataframe tbody tr th:only-of-type {\n",
              "        vertical-align: middle;\n",
              "    }\n",
              "\n",
              "    .dataframe tbody tr th {\n",
              "        vertical-align: top;\n",
              "    }\n",
              "\n",
              "    .dataframe thead th {\n",
              "        text-align: right;\n",
              "    }\n",
              "</style>\n",
              "<table border=\"1\" class=\"dataframe\">\n",
              "  <thead>\n",
              "    <tr style=\"text-align: right;\">\n",
              "      <th></th>\n",
              "      <th>EmployeeID</th>\n",
              "      <th>Age</th>\n",
              "      <th>Education_Level</th>\n",
              "      <th>Commute</th>\n",
              "      <th>MonthlyIncome</th>\n",
              "      <th>MonthlyRate</th>\n",
              "      <th>DailyRate</th>\n",
              "      <th>HourlyRate</th>\n",
              "      <th>Grade</th>\n",
              "      <th>Satisfaction</th>\n",
              "      <th>NumCompaniesWorked</th>\n",
              "      <th>TotalExperienceYears</th>\n",
              "      <th>YearsInCompany</th>\n",
              "      <th>YearsInCurrentRole</th>\n",
              "      <th>YearsSinceLastPromotion</th>\n",
              "      <th>YearsWithLineManager</th>\n",
              "    </tr>\n",
              "  </thead>\n",
              "  <tbody>\n",
              "    <tr>\n",
              "      <th>EmployeeID</th>\n",
              "      <td>1.000000</td>\n",
              "      <td>-0.010145</td>\n",
              "      <td>0.042070</td>\n",
              "      <td>0.032916</td>\n",
              "      <td>-0.014829</td>\n",
              "      <td>0.012648</td>\n",
              "      <td>-0.050990</td>\n",
              "      <td>0.035179</td>\n",
              "      <td>-0.018519</td>\n",
              "      <td>-0.046247</td>\n",
              "      <td>-0.001251</td>\n",
              "      <td>-0.014365</td>\n",
              "      <td>-0.011240</td>\n",
              "      <td>-0.008416</td>\n",
              "      <td>-0.009019</td>\n",
              "      <td>-0.009197</td>\n",
              "    </tr>\n",
              "    <tr>\n",
              "      <th>Age</th>\n",
              "      <td>-0.010145</td>\n",
              "      <td>1.000000</td>\n",
              "      <td>0.208034</td>\n",
              "      <td>-0.001686</td>\n",
              "      <td>0.497855</td>\n",
              "      <td>0.028051</td>\n",
              "      <td>0.010661</td>\n",
              "      <td>0.024287</td>\n",
              "      <td>0.509604</td>\n",
              "      <td>-0.004892</td>\n",
              "      <td>0.299635</td>\n",
              "      <td>0.680381</td>\n",
              "      <td>0.311309</td>\n",
              "      <td>0.212901</td>\n",
              "      <td>0.216513</td>\n",
              "      <td>0.202089</td>\n",
              "    </tr>\n",
              "    <tr>\n",
              "      <th>Education_Level</th>\n",
              "      <td>0.042070</td>\n",
              "      <td>0.208034</td>\n",
              "      <td>1.000000</td>\n",
              "      <td>0.021042</td>\n",
              "      <td>0.094961</td>\n",
              "      <td>-0.026084</td>\n",
              "      <td>-0.016806</td>\n",
              "      <td>0.016775</td>\n",
              "      <td>0.101589</td>\n",
              "      <td>-0.011296</td>\n",
              "      <td>0.126317</td>\n",
              "      <td>0.148280</td>\n",
              "      <td>0.069114</td>\n",
              "      <td>0.060236</td>\n",
              "      <td>0.054254</td>\n",
              "      <td>0.069065</td>\n",
              "    </tr>\n",
              "    <tr>\n",
              "      <th>Commute</th>\n",
              "      <td>0.032916</td>\n",
              "      <td>-0.001686</td>\n",
              "      <td>0.021042</td>\n",
              "      <td>1.000000</td>\n",
              "      <td>-0.017014</td>\n",
              "      <td>0.027473</td>\n",
              "      <td>-0.004985</td>\n",
              "      <td>0.031131</td>\n",
              "      <td>0.005303</td>\n",
              "      <td>-0.003669</td>\n",
              "      <td>-0.029251</td>\n",
              "      <td>0.004628</td>\n",
              "      <td>0.009508</td>\n",
              "      <td>0.018845</td>\n",
              "      <td>0.010029</td>\n",
              "      <td>0.014406</td>\n",
              "    </tr>\n",
              "    <tr>\n",
              "      <th>MonthlyIncome</th>\n",
              "      <td>-0.014829</td>\n",
              "      <td>0.497855</td>\n",
              "      <td>0.094961</td>\n",
              "      <td>-0.017014</td>\n",
              "      <td>1.000000</td>\n",
              "      <td>0.034814</td>\n",
              "      <td>0.007707</td>\n",
              "      <td>-0.015794</td>\n",
              "      <td>0.950300</td>\n",
              "      <td>-0.007157</td>\n",
              "      <td>0.149515</td>\n",
              "      <td>0.772893</td>\n",
              "      <td>0.514285</td>\n",
              "      <td>0.363818</td>\n",
              "      <td>0.344978</td>\n",
              "      <td>0.344079</td>\n",
              "    </tr>\n",
              "    <tr>\n",
              "      <th>MonthlyRate</th>\n",
              "      <td>0.012648</td>\n",
              "      <td>0.028051</td>\n",
              "      <td>-0.026084</td>\n",
              "      <td>0.027473</td>\n",
              "      <td>0.034814</td>\n",
              "      <td>1.000000</td>\n",
              "      <td>-0.032182</td>\n",
              "      <td>-0.015297</td>\n",
              "      <td>0.039563</td>\n",
              "      <td>0.000644</td>\n",
              "      <td>0.017521</td>\n",
              "      <td>0.026442</td>\n",
              "      <td>-0.023655</td>\n",
              "      <td>-0.012815</td>\n",
              "      <td>0.001567</td>\n",
              "      <td>-0.036746</td>\n",
              "    </tr>\n",
              "    <tr>\n",
              "      <th>DailyRate</th>\n",
              "      <td>-0.050990</td>\n",
              "      <td>0.010661</td>\n",
              "      <td>-0.016806</td>\n",
              "      <td>-0.004985</td>\n",
              "      <td>0.007707</td>\n",
              "      <td>-0.032182</td>\n",
              "      <td>1.000000</td>\n",
              "      <td>0.023381</td>\n",
              "      <td>0.002966</td>\n",
              "      <td>0.030571</td>\n",
              "      <td>0.038153</td>\n",
              "      <td>0.014515</td>\n",
              "      <td>-0.034055</td>\n",
              "      <td>0.009932</td>\n",
              "      <td>-0.033229</td>\n",
              "      <td>-0.026363</td>\n",
              "    </tr>\n",
              "    <tr>\n",
              "      <th>HourlyRate</th>\n",
              "      <td>0.035179</td>\n",
              "      <td>0.024287</td>\n",
              "      <td>0.016775</td>\n",
              "      <td>0.031131</td>\n",
              "      <td>-0.015794</td>\n",
              "      <td>-0.015297</td>\n",
              "      <td>0.023381</td>\n",
              "      <td>1.000000</td>\n",
              "      <td>-0.027853</td>\n",
              "      <td>-0.071335</td>\n",
              "      <td>0.022157</td>\n",
              "      <td>-0.002334</td>\n",
              "      <td>-0.019582</td>\n",
              "      <td>-0.024106</td>\n",
              "      <td>-0.026716</td>\n",
              "      <td>-0.020123</td>\n",
              "    </tr>\n",
              "    <tr>\n",
              "      <th>Grade</th>\n",
              "      <td>-0.018519</td>\n",
              "      <td>0.509604</td>\n",
              "      <td>0.101589</td>\n",
              "      <td>0.005303</td>\n",
              "      <td>0.950300</td>\n",
              "      <td>0.039563</td>\n",
              "      <td>0.002966</td>\n",
              "      <td>-0.027853</td>\n",
              "      <td>1.000000</td>\n",
              "      <td>-0.001944</td>\n",
              "      <td>0.142501</td>\n",
              "      <td>0.782208</td>\n",
              "      <td>0.534739</td>\n",
              "      <td>0.389447</td>\n",
              "      <td>0.353885</td>\n",
              "      <td>0.375281</td>\n",
              "    </tr>\n",
              "    <tr>\n",
              "      <th>Satisfaction</th>\n",
              "      <td>-0.046247</td>\n",
              "      <td>-0.004892</td>\n",
              "      <td>-0.011296</td>\n",
              "      <td>-0.003669</td>\n",
              "      <td>-0.007157</td>\n",
              "      <td>0.000644</td>\n",
              "      <td>0.030571</td>\n",
              "      <td>-0.071335</td>\n",
              "      <td>-0.001944</td>\n",
              "      <td>1.000000</td>\n",
              "      <td>-0.055699</td>\n",
              "      <td>-0.020185</td>\n",
              "      <td>-0.003803</td>\n",
              "      <td>-0.002305</td>\n",
              "      <td>-0.018214</td>\n",
              "      <td>-0.027656</td>\n",
              "    </tr>\n",
              "    <tr>\n",
              "      <th>NumCompaniesWorked</th>\n",
              "      <td>-0.001251</td>\n",
              "      <td>0.299635</td>\n",
              "      <td>0.126317</td>\n",
              "      <td>-0.029251</td>\n",
              "      <td>0.149515</td>\n",
              "      <td>0.017521</td>\n",
              "      <td>0.038153</td>\n",
              "      <td>0.022157</td>\n",
              "      <td>0.142501</td>\n",
              "      <td>-0.055699</td>\n",
              "      <td>1.000000</td>\n",
              "      <td>0.237639</td>\n",
              "      <td>-0.118421</td>\n",
              "      <td>-0.090754</td>\n",
              "      <td>-0.036814</td>\n",
              "      <td>-0.110319</td>\n",
              "    </tr>\n",
              "    <tr>\n",
              "      <th>TotalExperienceYears</th>\n",
              "      <td>-0.014365</td>\n",
              "      <td>0.680381</td>\n",
              "      <td>0.148280</td>\n",
              "      <td>0.004628</td>\n",
              "      <td>0.772893</td>\n",
              "      <td>0.026442</td>\n",
              "      <td>0.014515</td>\n",
              "      <td>-0.002334</td>\n",
              "      <td>0.782208</td>\n",
              "      <td>-0.020185</td>\n",
              "      <td>0.237639</td>\n",
              "      <td>1.000000</td>\n",
              "      <td>0.628133</td>\n",
              "      <td>0.460365</td>\n",
              "      <td>0.404858</td>\n",
              "      <td>0.459188</td>\n",
              "    </tr>\n",
              "    <tr>\n",
              "      <th>YearsInCompany</th>\n",
              "      <td>-0.011240</td>\n",
              "      <td>0.311309</td>\n",
              "      <td>0.069114</td>\n",
              "      <td>0.009508</td>\n",
              "      <td>0.514285</td>\n",
              "      <td>-0.023655</td>\n",
              "      <td>-0.034055</td>\n",
              "      <td>-0.019582</td>\n",
              "      <td>0.534739</td>\n",
              "      <td>-0.003803</td>\n",
              "      <td>-0.118421</td>\n",
              "      <td>0.628133</td>\n",
              "      <td>1.000000</td>\n",
              "      <td>0.758754</td>\n",
              "      <td>0.618409</td>\n",
              "      <td>0.769212</td>\n",
              "    </tr>\n",
              "    <tr>\n",
              "      <th>YearsInCurrentRole</th>\n",
              "      <td>-0.008416</td>\n",
              "      <td>0.212901</td>\n",
              "      <td>0.060236</td>\n",
              "      <td>0.018845</td>\n",
              "      <td>0.363818</td>\n",
              "      <td>-0.012815</td>\n",
              "      <td>0.009932</td>\n",
              "      <td>-0.024106</td>\n",
              "      <td>0.389447</td>\n",
              "      <td>-0.002305</td>\n",
              "      <td>-0.090754</td>\n",
              "      <td>0.460365</td>\n",
              "      <td>0.758754</td>\n",
              "      <td>1.000000</td>\n",
              "      <td>0.548056</td>\n",
              "      <td>0.714365</td>\n",
              "    </tr>\n",
              "    <tr>\n",
              "      <th>YearsSinceLastPromotion</th>\n",
              "      <td>-0.009019</td>\n",
              "      <td>0.216513</td>\n",
              "      <td>0.054254</td>\n",
              "      <td>0.010029</td>\n",
              "      <td>0.344978</td>\n",
              "      <td>0.001567</td>\n",
              "      <td>-0.033229</td>\n",
              "      <td>-0.026716</td>\n",
              "      <td>0.353885</td>\n",
              "      <td>-0.018214</td>\n",
              "      <td>-0.036814</td>\n",
              "      <td>0.404858</td>\n",
              "      <td>0.618409</td>\n",
              "      <td>0.548056</td>\n",
              "      <td>1.000000</td>\n",
              "      <td>0.510224</td>\n",
              "    </tr>\n",
              "    <tr>\n",
              "      <th>YearsWithLineManager</th>\n",
              "      <td>-0.009197</td>\n",
              "      <td>0.202089</td>\n",
              "      <td>0.069065</td>\n",
              "      <td>0.014406</td>\n",
              "      <td>0.344079</td>\n",
              "      <td>-0.036746</td>\n",
              "      <td>-0.026363</td>\n",
              "      <td>-0.020123</td>\n",
              "      <td>0.375281</td>\n",
              "      <td>-0.027656</td>\n",
              "      <td>-0.110319</td>\n",
              "      <td>0.459188</td>\n",
              "      <td>0.769212</td>\n",
              "      <td>0.714365</td>\n",
              "      <td>0.510224</td>\n",
              "      <td>1.000000</td>\n",
              "    </tr>\n",
              "  </tbody>\n",
              "</table>\n",
              "</div>"
            ],
            "text/plain": [
              "                         EmployeeID  ...  YearsWithLineManager\n",
              "EmployeeID                 1.000000  ...             -0.009197\n",
              "Age                       -0.010145  ...              0.202089\n",
              "Education_Level            0.042070  ...              0.069065\n",
              "Commute                    0.032916  ...              0.014406\n",
              "MonthlyIncome             -0.014829  ...              0.344079\n",
              "MonthlyRate                0.012648  ...             -0.036746\n",
              "DailyRate                 -0.050990  ...             -0.026363\n",
              "HourlyRate                 0.035179  ...             -0.020123\n",
              "Grade                     -0.018519  ...              0.375281\n",
              "Satisfaction              -0.046247  ...             -0.027656\n",
              "NumCompaniesWorked        -0.001251  ...             -0.110319\n",
              "TotalExperienceYears      -0.014365  ...              0.459188\n",
              "YearsInCompany            -0.011240  ...              0.769212\n",
              "YearsInCurrentRole        -0.008416  ...              0.714365\n",
              "YearsSinceLastPromotion   -0.009019  ...              0.510224\n",
              "YearsWithLineManager      -0.009197  ...              1.000000\n",
              "\n",
              "[16 rows x 16 columns]"
            ]
          },
          "metadata": {
            "tags": []
          },
          "execution_count": 54
        }
      ]
    },
    {
      "cell_type": "markdown",
      "metadata": {
        "id": "znWwHbLKELw2"
      },
      "source": [
        "#Visualize the correlation"
      ]
    },
    {
      "cell_type": "code",
      "metadata": {
        "colab": {
          "base_uri": "https://localhost:8080/",
          "height": 836
        },
        "id": "ZT7bf5moJ61H",
        "outputId": "bc749e7c-4e01-4638-c8c4-a03c74ef882c"
      },
      "source": [
        "plt.figure(figsize=(15,12))  #15in by 15in\n",
        "sns.heatmap(data.corr(), annot=True, fmt='.0%')"
      ],
      "execution_count": 55,
      "outputs": [
        {
          "output_type": "execute_result",
          "data": {
            "text/plain": [
              "<matplotlib.axes._subplots.AxesSubplot at 0x7f7e9ef8d710>"
            ]
          },
          "metadata": {
            "tags": []
          },
          "execution_count": 55
        },
        {
          "output_type": "display_data",
          "data": {
            "image/png": "[encoded data removed]",
            "text/plain": [
              "<Figure size 1080x864 with 2 Axes>"
            ]
          },
          "metadata": {
            "tags": [],
            "needs_background": "light"
          }
        }
      ]
    },
    {
      "cell_type": "code",
      "metadata": {
        "colab": {
          "base_uri": "https://localhost:8080/",
          "height": 588
        },
        "id": "YWwdk1WhbLM_",
        "outputId": "d62e0cf2-750b-4305-e7ae-94cae38275ad"
      },
      "source": [
        "hr_data = data[['Attrition','Age' ,'BusinessTravel','Department',\n",
        "                       'EducationField','Gender','Role',\n",
        "                       'MaritalStatus','Commute',\n",
        "                       'OverTime']].copy()\n",
        "hr_data"
      ],
      "execution_count": 56,
      "outputs": [
        {
          "output_type": "execute_result",
          "data": {
            "text/html": [
              "<div>\n",
              "<style scoped>\n",
              "    .dataframe tbody tr th:only-of-type {\n",
              "        vertical-align: middle;\n",
              "    }\n",
              "\n",
              "    .dataframe tbody tr th {\n",
              "        vertical-align: top;\n",
              "    }\n",
              "\n",
              "    .dataframe thead th {\n",
              "        text-align: right;\n",
              "    }\n",
              "</style>\n",
              "<table border=\"1\" class=\"dataframe\">\n",
              "  <thead>\n",
              "    <tr style=\"text-align: right;\">\n",
              "      <th></th>\n",
              "      <th>Attrition</th>\n",
              "      <th>Age</th>\n",
              "      <th>BusinessTravel</th>\n",
              "      <th>Department</th>\n",
              "      <th>EducationField</th>\n",
              "      <th>Gender</th>\n",
              "      <th>Role</th>\n",
              "      <th>MaritalStatus</th>\n",
              "      <th>Commute</th>\n",
              "      <th>OverTime</th>\n",
              "    </tr>\n",
              "  </thead>\n",
              "  <tbody>\n",
              "    <tr>\n",
              "      <th>0</th>\n",
              "      <td>Yes</td>\n",
              "      <td>41</td>\n",
              "      <td>rarely</td>\n",
              "      <td>Sales</td>\n",
              "      <td>Social Sciences</td>\n",
              "      <td>Female</td>\n",
              "      <td>Sales Executive</td>\n",
              "      <td>Single</td>\n",
              "      <td>1</td>\n",
              "      <td>Yes</td>\n",
              "    </tr>\n",
              "    <tr>\n",
              "      <th>1</th>\n",
              "      <td>No</td>\n",
              "      <td>49</td>\n",
              "      <td>frequently</td>\n",
              "      <td>Research &amp; Development</td>\n",
              "      <td>Social Sciences</td>\n",
              "      <td>Male</td>\n",
              "      <td>Research Scientist</td>\n",
              "      <td>Married</td>\n",
              "      <td>8</td>\n",
              "      <td>No</td>\n",
              "    </tr>\n",
              "    <tr>\n",
              "      <th>2</th>\n",
              "      <td>Yes</td>\n",
              "      <td>37</td>\n",
              "      <td>rarely</td>\n",
              "      <td>Research &amp; Development</td>\n",
              "      <td>Other</td>\n",
              "      <td>Male</td>\n",
              "      <td>Laboratory Technician</td>\n",
              "      <td>Single</td>\n",
              "      <td>2</td>\n",
              "      <td>Yes</td>\n",
              "    </tr>\n",
              "    <tr>\n",
              "      <th>3</th>\n",
              "      <td>No</td>\n",
              "      <td>33</td>\n",
              "      <td>frequently</td>\n",
              "      <td>Research &amp; Development</td>\n",
              "      <td>Social Sciences</td>\n",
              "      <td>Female</td>\n",
              "      <td>Research Scientist</td>\n",
              "      <td>Married</td>\n",
              "      <td>3</td>\n",
              "      <td>Yes</td>\n",
              "    </tr>\n",
              "    <tr>\n",
              "      <th>4</th>\n",
              "      <td>No</td>\n",
              "      <td>27</td>\n",
              "      <td>rarely</td>\n",
              "      <td>Research &amp; Development</td>\n",
              "      <td>Health Science</td>\n",
              "      <td>Male</td>\n",
              "      <td>Laboratory Technician</td>\n",
              "      <td>Married</td>\n",
              "      <td>2</td>\n",
              "      <td>No</td>\n",
              "    </tr>\n",
              "    <tr>\n",
              "      <th>...</th>\n",
              "      <td>...</td>\n",
              "      <td>...</td>\n",
              "      <td>...</td>\n",
              "      <td>...</td>\n",
              "      <td>...</td>\n",
              "      <td>...</td>\n",
              "      <td>...</td>\n",
              "      <td>...</td>\n",
              "      <td>...</td>\n",
              "      <td>...</td>\n",
              "    </tr>\n",
              "    <tr>\n",
              "      <th>1465</th>\n",
              "      <td>No</td>\n",
              "      <td>36</td>\n",
              "      <td>frequently</td>\n",
              "      <td>Research &amp; Development</td>\n",
              "      <td>Health Science</td>\n",
              "      <td>Male</td>\n",
              "      <td>Laboratory Technician</td>\n",
              "      <td>Married</td>\n",
              "      <td>23</td>\n",
              "      <td>No</td>\n",
              "    </tr>\n",
              "    <tr>\n",
              "      <th>1466</th>\n",
              "      <td>No</td>\n",
              "      <td>39</td>\n",
              "      <td>rarely</td>\n",
              "      <td>Research &amp; Development</td>\n",
              "      <td>Health Science</td>\n",
              "      <td>Male</td>\n",
              "      <td>Healthcare Representative</td>\n",
              "      <td>Married</td>\n",
              "      <td>6</td>\n",
              "      <td>No</td>\n",
              "    </tr>\n",
              "    <tr>\n",
              "      <th>1467</th>\n",
              "      <td>No</td>\n",
              "      <td>27</td>\n",
              "      <td>rarely</td>\n",
              "      <td>Research &amp; Development</td>\n",
              "      <td>Social Sciences</td>\n",
              "      <td>Male</td>\n",
              "      <td>Manufacturing Director</td>\n",
              "      <td>Married</td>\n",
              "      <td>4</td>\n",
              "      <td>Yes</td>\n",
              "    </tr>\n",
              "    <tr>\n",
              "      <th>1468</th>\n",
              "      <td>No</td>\n",
              "      <td>49</td>\n",
              "      <td>frequently</td>\n",
              "      <td>Sales</td>\n",
              "      <td>Health Science</td>\n",
              "      <td>Male</td>\n",
              "      <td>Sales Executive</td>\n",
              "      <td>Married</td>\n",
              "      <td>2</td>\n",
              "      <td>No</td>\n",
              "    </tr>\n",
              "    <tr>\n",
              "      <th>1469</th>\n",
              "      <td>No</td>\n",
              "      <td>34</td>\n",
              "      <td>rarely</td>\n",
              "      <td>Research &amp; Development</td>\n",
              "      <td>Health Science</td>\n",
              "      <td>Male</td>\n",
              "      <td>Laboratory Technician</td>\n",
              "      <td>Married</td>\n",
              "      <td>8</td>\n",
              "      <td>No</td>\n",
              "    </tr>\n",
              "  </tbody>\n",
              "</table>\n",
              "<p>1470 rows × 10 columns</p>\n",
              "</div>"
            ],
            "text/plain": [
              "     Attrition  Age BusinessTravel  ... MaritalStatus Commute OverTime\n",
              "0          Yes   41         rarely  ...        Single       1      Yes\n",
              "1           No   49     frequently  ...       Married       8       No\n",
              "2          Yes   37         rarely  ...        Single       2      Yes\n",
              "3           No   33     frequently  ...       Married       3      Yes\n",
              "4           No   27         rarely  ...       Married       2       No\n",
              "...        ...  ...            ...  ...           ...     ...      ...\n",
              "1465        No   36     frequently  ...       Married      23       No\n",
              "1466        No   39         rarely  ...       Married       6       No\n",
              "1467        No   27         rarely  ...       Married       4      Yes\n",
              "1468        No   49     frequently  ...       Married       2       No\n",
              "1469        No   34         rarely  ...       Married       8       No\n",
              "\n",
              "[1470 rows x 10 columns]"
            ]
          },
          "metadata": {
            "tags": []
          },
          "execution_count": 56
        }
      ]
    },
    {
      "cell_type": "markdown",
      "metadata": {
        "id": "Z5LyvLuLMrRb"
      },
      "source": [
        "#Transform non-numeric columns into numerical columns"
      ]
    },
    {
      "cell_type": "code",
      "metadata": {
        "colab": {
          "base_uri": "https://localhost:8080/"
        },
        "id": "UP1p31AGKPnH",
        "outputId": "0c40f850-7de4-4ebf-e7b1-347eeb639aa2"
      },
      "source": [
        "from sklearn.preprocessing import LabelEncoder\n",
        "\n",
        "for column in data.columns:\n",
        "        if data[column].dtype == np.number:\n",
        "            continue\n",
        "        data[column] = LabelEncoder().fit_transform(data[column])"
      ],
      "execution_count": 57,
      "outputs": [
        {
          "output_type": "stream",
          "text": [
            "/usr/local/lib/python3.7/dist-packages/ipykernel_launcher.py:4: DeprecationWarning: Converting `np.inexact` or `np.floating` to a dtype is deprecated. The current result is `float64` which is not strictly correct.\n",
            "  after removing the cwd from sys.path.\n"
          ],
          "name": "stderr"
        }
      ]
    },
    {
      "cell_type": "code",
      "metadata": {
        "colab": {
          "base_uri": "https://localhost:8080/",
          "height": 419
        },
        "id": "26BzRPO3QW3j",
        "outputId": "ad145cdb-cf29-44a5-cb7c-f3f4d2024546"
      },
      "source": [
        "data"
      ],
      "execution_count": 58,
      "outputs": [
        {
          "output_type": "execute_result",
          "data": {
            "text/html": [
              "<div>\n",
              "<style scoped>\n",
              "    .dataframe tbody tr th:only-of-type {\n",
              "        vertical-align: middle;\n",
              "    }\n",
              "\n",
              "    .dataframe tbody tr th {\n",
              "        vertical-align: top;\n",
              "    }\n",
              "\n",
              "    .dataframe thead th {\n",
              "        text-align: right;\n",
              "    }\n",
              "</style>\n",
              "<table border=\"1\" class=\"dataframe\">\n",
              "  <thead>\n",
              "    <tr style=\"text-align: right;\">\n",
              "      <th></th>\n",
              "      <th>EmployeeID</th>\n",
              "      <th>Age</th>\n",
              "      <th>Gender</th>\n",
              "      <th>MaritalStatus</th>\n",
              "      <th>Education_Level</th>\n",
              "      <th>EducationField</th>\n",
              "      <th>BusinessTravel</th>\n",
              "      <th>Department</th>\n",
              "      <th>Commute</th>\n",
              "      <th>MonthlyIncome</th>\n",
              "      <th>MonthlyRate</th>\n",
              "      <th>DailyRate</th>\n",
              "      <th>HourlyRate</th>\n",
              "      <th>Grade</th>\n",
              "      <th>Role</th>\n",
              "      <th>Satisfaction</th>\n",
              "      <th>NumCompaniesWorked</th>\n",
              "      <th>OverTime</th>\n",
              "      <th>TotalExperienceYears</th>\n",
              "      <th>YearsInCompany</th>\n",
              "      <th>YearsInCurrentRole</th>\n",
              "      <th>YearsSinceLastPromotion</th>\n",
              "      <th>YearsWithLineManager</th>\n",
              "      <th>Attrition</th>\n",
              "    </tr>\n",
              "  </thead>\n",
              "  <tbody>\n",
              "    <tr>\n",
              "      <th>0</th>\n",
              "      <td>0</td>\n",
              "      <td>23</td>\n",
              "      <td>0</td>\n",
              "      <td>2</td>\n",
              "      <td>1</td>\n",
              "      <td>5</td>\n",
              "      <td>2</td>\n",
              "      <td>2</td>\n",
              "      <td>0</td>\n",
              "      <td>809</td>\n",
              "      <td>999</td>\n",
              "      <td>624</td>\n",
              "      <td>64</td>\n",
              "      <td>1</td>\n",
              "      <td>7</td>\n",
              "      <td>3</td>\n",
              "      <td>8</td>\n",
              "      <td>1</td>\n",
              "      <td>8</td>\n",
              "      <td>6</td>\n",
              "      <td>4</td>\n",
              "      <td>0</td>\n",
              "      <td>5</td>\n",
              "      <td>1</td>\n",
              "    </tr>\n",
              "    <tr>\n",
              "      <th>1</th>\n",
              "      <td>1</td>\n",
              "      <td>31</td>\n",
              "      <td>1</td>\n",
              "      <td>1</td>\n",
              "      <td>0</td>\n",
              "      <td>5</td>\n",
              "      <td>0</td>\n",
              "      <td>1</td>\n",
              "      <td>7</td>\n",
              "      <td>682</td>\n",
              "      <td>1328</td>\n",
              "      <td>113</td>\n",
              "      <td>31</td>\n",
              "      <td>1</td>\n",
              "      <td>6</td>\n",
              "      <td>1</td>\n",
              "      <td>1</td>\n",
              "      <td>0</td>\n",
              "      <td>10</td>\n",
              "      <td>10</td>\n",
              "      <td>7</td>\n",
              "      <td>1</td>\n",
              "      <td>7</td>\n",
              "      <td>0</td>\n",
              "    </tr>\n",
              "    <tr>\n",
              "      <th>2</th>\n",
              "      <td>2</td>\n",
              "      <td>19</td>\n",
              "      <td>1</td>\n",
              "      <td>2</td>\n",
              "      <td>1</td>\n",
              "      <td>4</td>\n",
              "      <td>2</td>\n",
              "      <td>1</td>\n",
              "      <td>1</td>\n",
              "      <td>62</td>\n",
              "      <td>18</td>\n",
              "      <td>805</td>\n",
              "      <td>62</td>\n",
              "      <td>0</td>\n",
              "      <td>2</td>\n",
              "      <td>2</td>\n",
              "      <td>6</td>\n",
              "      <td>1</td>\n",
              "      <td>7</td>\n",
              "      <td>0</td>\n",
              "      <td>0</td>\n",
              "      <td>0</td>\n",
              "      <td>0</td>\n",
              "      <td>1</td>\n",
              "    </tr>\n",
              "    <tr>\n",
              "      <th>3</th>\n",
              "      <td>3</td>\n",
              "      <td>15</td>\n",
              "      <td>0</td>\n",
              "      <td>1</td>\n",
              "      <td>3</td>\n",
              "      <td>5</td>\n",
              "      <td>0</td>\n",
              "      <td>1</td>\n",
              "      <td>2</td>\n",
              "      <td>313</td>\n",
              "      <td>1228</td>\n",
              "      <td>820</td>\n",
              "      <td>26</td>\n",
              "      <td>0</td>\n",
              "      <td>6</td>\n",
              "      <td>2</td>\n",
              "      <td>1</td>\n",
              "      <td>1</td>\n",
              "      <td>8</td>\n",
              "      <td>8</td>\n",
              "      <td>7</td>\n",
              "      <td>3</td>\n",
              "      <td>0</td>\n",
              "      <td>0</td>\n",
              "    </tr>\n",
              "    <tr>\n",
              "      <th>4</th>\n",
              "      <td>4</td>\n",
              "      <td>9</td>\n",
              "      <td>1</td>\n",
              "      <td>1</td>\n",
              "      <td>0</td>\n",
              "      <td>2</td>\n",
              "      <td>2</td>\n",
              "      <td>1</td>\n",
              "      <td>1</td>\n",
              "      <td>399</td>\n",
              "      <td>846</td>\n",
              "      <td>312</td>\n",
              "      <td>10</td>\n",
              "      <td>0</td>\n",
              "      <td>2</td>\n",
              "      <td>1</td>\n",
              "      <td>9</td>\n",
              "      <td>0</td>\n",
              "      <td>6</td>\n",
              "      <td>2</td>\n",
              "      <td>2</td>\n",
              "      <td>2</td>\n",
              "      <td>2</td>\n",
              "      <td>0</td>\n",
              "    </tr>\n",
              "    <tr>\n",
              "      <th>...</th>\n",
              "      <td>...</td>\n",
              "      <td>...</td>\n",
              "      <td>...</td>\n",
              "      <td>...</td>\n",
              "      <td>...</td>\n",
              "      <td>...</td>\n",
              "      <td>...</td>\n",
              "      <td>...</td>\n",
              "      <td>...</td>\n",
              "      <td>...</td>\n",
              "      <td>...</td>\n",
              "      <td>...</td>\n",
              "      <td>...</td>\n",
              "      <td>...</td>\n",
              "      <td>...</td>\n",
              "      <td>...</td>\n",
              "      <td>...</td>\n",
              "      <td>...</td>\n",
              "      <td>...</td>\n",
              "      <td>...</td>\n",
              "      <td>...</td>\n",
              "      <td>...</td>\n",
              "      <td>...</td>\n",
              "      <td>...</td>\n",
              "    </tr>\n",
              "    <tr>\n",
              "      <th>1465</th>\n",
              "      <td>1465</td>\n",
              "      <td>18</td>\n",
              "      <td>1</td>\n",
              "      <td>1</td>\n",
              "      <td>1</td>\n",
              "      <td>2</td>\n",
              "      <td>0</td>\n",
              "      <td>1</td>\n",
              "      <td>22</td>\n",
              "      <td>210</td>\n",
              "      <td>599</td>\n",
              "      <td>494</td>\n",
              "      <td>11</td>\n",
              "      <td>1</td>\n",
              "      <td>2</td>\n",
              "      <td>3</td>\n",
              "      <td>4</td>\n",
              "      <td>0</td>\n",
              "      <td>17</td>\n",
              "      <td>5</td>\n",
              "      <td>2</td>\n",
              "      <td>0</td>\n",
              "      <td>3</td>\n",
              "      <td>0</td>\n",
              "    </tr>\n",
              "    <tr>\n",
              "      <th>1466</th>\n",
              "      <td>1466</td>\n",
              "      <td>21</td>\n",
              "      <td>1</td>\n",
              "      <td>1</td>\n",
              "      <td>0</td>\n",
              "      <td>2</td>\n",
              "      <td>2</td>\n",
              "      <td>1</td>\n",
              "      <td>5</td>\n",
              "      <td>1070</td>\n",
              "      <td>1123</td>\n",
              "      <td>327</td>\n",
              "      <td>12</td>\n",
              "      <td>2</td>\n",
              "      <td>0</td>\n",
              "      <td>0</td>\n",
              "      <td>4</td>\n",
              "      <td>0</td>\n",
              "      <td>9</td>\n",
              "      <td>7</td>\n",
              "      <td>7</td>\n",
              "      <td>1</td>\n",
              "      <td>7</td>\n",
              "      <td>0</td>\n",
              "    </tr>\n",
              "    <tr>\n",
              "      <th>1467</th>\n",
              "      <td>1467</td>\n",
              "      <td>9</td>\n",
              "      <td>1</td>\n",
              "      <td>1</td>\n",
              "      <td>2</td>\n",
              "      <td>5</td>\n",
              "      <td>2</td>\n",
              "      <td>1</td>\n",
              "      <td>3</td>\n",
              "      <td>821</td>\n",
              "      <td>175</td>\n",
              "      <td>39</td>\n",
              "      <td>57</td>\n",
              "      <td>1</td>\n",
              "      <td>4</td>\n",
              "      <td>1</td>\n",
              "      <td>1</td>\n",
              "      <td>1</td>\n",
              "      <td>6</td>\n",
              "      <td>6</td>\n",
              "      <td>2</td>\n",
              "      <td>0</td>\n",
              "      <td>3</td>\n",
              "      <td>0</td>\n",
              "    </tr>\n",
              "    <tr>\n",
              "      <th>1468</th>\n",
              "      <td>1468</td>\n",
              "      <td>31</td>\n",
              "      <td>1</td>\n",
              "      <td>1</td>\n",
              "      <td>2</td>\n",
              "      <td>2</td>\n",
              "      <td>0</td>\n",
              "      <td>2</td>\n",
              "      <td>1</td>\n",
              "      <td>730</td>\n",
              "      <td>641</td>\n",
              "      <td>579</td>\n",
              "      <td>33</td>\n",
              "      <td>1</td>\n",
              "      <td>7</td>\n",
              "      <td>1</td>\n",
              "      <td>2</td>\n",
              "      <td>0</td>\n",
              "      <td>17</td>\n",
              "      <td>9</td>\n",
              "      <td>6</td>\n",
              "      <td>0</td>\n",
              "      <td>8</td>\n",
              "      <td>0</td>\n",
              "    </tr>\n",
              "    <tr>\n",
              "      <th>1469</th>\n",
              "      <td>1469</td>\n",
              "      <td>16</td>\n",
              "      <td>1</td>\n",
              "      <td>1</td>\n",
              "      <td>2</td>\n",
              "      <td>2</td>\n",
              "      <td>2</td>\n",
              "      <td>1</td>\n",
              "      <td>7</td>\n",
              "      <td>554</td>\n",
              "      <td>483</td>\n",
              "      <td>336</td>\n",
              "      <td>52</td>\n",
              "      <td>1</td>\n",
              "      <td>2</td>\n",
              "      <td>2</td>\n",
              "      <td>2</td>\n",
              "      <td>0</td>\n",
              "      <td>6</td>\n",
              "      <td>4</td>\n",
              "      <td>3</td>\n",
              "      <td>1</td>\n",
              "      <td>2</td>\n",
              "      <td>0</td>\n",
              "    </tr>\n",
              "  </tbody>\n",
              "</table>\n",
              "<p>1470 rows × 24 columns</p>\n",
              "</div>"
            ],
            "text/plain": [
              "      EmployeeID  Age  ...  YearsWithLineManager  Attrition\n",
              "0              0   23  ...                     5          1\n",
              "1              1   31  ...                     7          0\n",
              "2              2   19  ...                     0          1\n",
              "3              3   15  ...                     0          0\n",
              "4              4    9  ...                     2          0\n",
              "...          ...  ...  ...                   ...        ...\n",
              "1465        1465   18  ...                     3          0\n",
              "1466        1466   21  ...                     7          0\n",
              "1467        1467    9  ...                     3          0\n",
              "1468        1468   31  ...                     8          0\n",
              "1469        1469   16  ...                     2          0\n",
              "\n",
              "[1470 rows x 24 columns]"
            ]
          },
          "metadata": {
            "tags": []
          },
          "execution_count": 58
        }
      ]
    },
    {
      "cell_type": "markdown",
      "metadata": {
        "id": "W9xbU3YSMxT0"
      },
      "source": [
        "#Create a new column at the end of the dataframe that contains the same value "
      ]
    },
    {
      "cell_type": "code",
      "metadata": {
        "colab": {
          "base_uri": "https://localhost:8080/",
          "height": 214
        },
        "id": "Py0eDxCZKZtV",
        "outputId": "bed4e950-6fc0-4d69-f2ba-3bdc9142a689"
      },
      "source": [
        "data['Age_Years'] = data['Age']\n",
        "#Remove the first column called age \n",
        "data = data.drop('Age', axis = 1)\n",
        "#Show the dataframe\n",
        "data.head()"
      ],
      "execution_count": 59,
      "outputs": [
        {
          "output_type": "execute_result",
          "data": {
            "text/html": [
              "<div>\n",
              "<style scoped>\n",
              "    .dataframe tbody tr th:only-of-type {\n",
              "        vertical-align: middle;\n",
              "    }\n",
              "\n",
              "    .dataframe tbody tr th {\n",
              "        vertical-align: top;\n",
              "    }\n",
              "\n",
              "    .dataframe thead th {\n",
              "        text-align: right;\n",
              "    }\n",
              "</style>\n",
              "<table border=\"1\" class=\"dataframe\">\n",
              "  <thead>\n",
              "    <tr style=\"text-align: right;\">\n",
              "      <th></th>\n",
              "      <th>EmployeeID</th>\n",
              "      <th>Gender</th>\n",
              "      <th>MaritalStatus</th>\n",
              "      <th>Education_Level</th>\n",
              "      <th>EducationField</th>\n",
              "      <th>BusinessTravel</th>\n",
              "      <th>Department</th>\n",
              "      <th>Commute</th>\n",
              "      <th>MonthlyIncome</th>\n",
              "      <th>MonthlyRate</th>\n",
              "      <th>DailyRate</th>\n",
              "      <th>HourlyRate</th>\n",
              "      <th>Grade</th>\n",
              "      <th>Role</th>\n",
              "      <th>Satisfaction</th>\n",
              "      <th>NumCompaniesWorked</th>\n",
              "      <th>OverTime</th>\n",
              "      <th>TotalExperienceYears</th>\n",
              "      <th>YearsInCompany</th>\n",
              "      <th>YearsInCurrentRole</th>\n",
              "      <th>YearsSinceLastPromotion</th>\n",
              "      <th>YearsWithLineManager</th>\n",
              "      <th>Attrition</th>\n",
              "      <th>Age_Years</th>\n",
              "    </tr>\n",
              "  </thead>\n",
              "  <tbody>\n",
              "    <tr>\n",
              "      <th>0</th>\n",
              "      <td>0</td>\n",
              "      <td>0</td>\n",
              "      <td>2</td>\n",
              "      <td>1</td>\n",
              "      <td>5</td>\n",
              "      <td>2</td>\n",
              "      <td>2</td>\n",
              "      <td>0</td>\n",
              "      <td>809</td>\n",
              "      <td>999</td>\n",
              "      <td>624</td>\n",
              "      <td>64</td>\n",
              "      <td>1</td>\n",
              "      <td>7</td>\n",
              "      <td>3</td>\n",
              "      <td>8</td>\n",
              "      <td>1</td>\n",
              "      <td>8</td>\n",
              "      <td>6</td>\n",
              "      <td>4</td>\n",
              "      <td>0</td>\n",
              "      <td>5</td>\n",
              "      <td>1</td>\n",
              "      <td>23</td>\n",
              "    </tr>\n",
              "    <tr>\n",
              "      <th>1</th>\n",
              "      <td>1</td>\n",
              "      <td>1</td>\n",
              "      <td>1</td>\n",
              "      <td>0</td>\n",
              "      <td>5</td>\n",
              "      <td>0</td>\n",
              "      <td>1</td>\n",
              "      <td>7</td>\n",
              "      <td>682</td>\n",
              "      <td>1328</td>\n",
              "      <td>113</td>\n",
              "      <td>31</td>\n",
              "      <td>1</td>\n",
              "      <td>6</td>\n",
              "      <td>1</td>\n",
              "      <td>1</td>\n",
              "      <td>0</td>\n",
              "      <td>10</td>\n",
              "      <td>10</td>\n",
              "      <td>7</td>\n",
              "      <td>1</td>\n",
              "      <td>7</td>\n",
              "      <td>0</td>\n",
              "      <td>31</td>\n",
              "    </tr>\n",
              "    <tr>\n",
              "      <th>2</th>\n",
              "      <td>2</td>\n",
              "      <td>1</td>\n",
              "      <td>2</td>\n",
              "      <td>1</td>\n",
              "      <td>4</td>\n",
              "      <td>2</td>\n",
              "      <td>1</td>\n",
              "      <td>1</td>\n",
              "      <td>62</td>\n",
              "      <td>18</td>\n",
              "      <td>805</td>\n",
              "      <td>62</td>\n",
              "      <td>0</td>\n",
              "      <td>2</td>\n",
              "      <td>2</td>\n",
              "      <td>6</td>\n",
              "      <td>1</td>\n",
              "      <td>7</td>\n",
              "      <td>0</td>\n",
              "      <td>0</td>\n",
              "      <td>0</td>\n",
              "      <td>0</td>\n",
              "      <td>1</td>\n",
              "      <td>19</td>\n",
              "    </tr>\n",
              "    <tr>\n",
              "      <th>3</th>\n",
              "      <td>3</td>\n",
              "      <td>0</td>\n",
              "      <td>1</td>\n",
              "      <td>3</td>\n",
              "      <td>5</td>\n",
              "      <td>0</td>\n",
              "      <td>1</td>\n",
              "      <td>2</td>\n",
              "      <td>313</td>\n",
              "      <td>1228</td>\n",
              "      <td>820</td>\n",
              "      <td>26</td>\n",
              "      <td>0</td>\n",
              "      <td>6</td>\n",
              "      <td>2</td>\n",
              "      <td>1</td>\n",
              "      <td>1</td>\n",
              "      <td>8</td>\n",
              "      <td>8</td>\n",
              "      <td>7</td>\n",
              "      <td>3</td>\n",
              "      <td>0</td>\n",
              "      <td>0</td>\n",
              "      <td>15</td>\n",
              "    </tr>\n",
              "    <tr>\n",
              "      <th>4</th>\n",
              "      <td>4</td>\n",
              "      <td>1</td>\n",
              "      <td>1</td>\n",
              "      <td>0</td>\n",
              "      <td>2</td>\n",
              "      <td>2</td>\n",
              "      <td>1</td>\n",
              "      <td>1</td>\n",
              "      <td>399</td>\n",
              "      <td>846</td>\n",
              "      <td>312</td>\n",
              "      <td>10</td>\n",
              "      <td>0</td>\n",
              "      <td>2</td>\n",
              "      <td>1</td>\n",
              "      <td>9</td>\n",
              "      <td>0</td>\n",
              "      <td>6</td>\n",
              "      <td>2</td>\n",
              "      <td>2</td>\n",
              "      <td>2</td>\n",
              "      <td>2</td>\n",
              "      <td>0</td>\n",
              "      <td>9</td>\n",
              "    </tr>\n",
              "  </tbody>\n",
              "</table>\n",
              "</div>"
            ],
            "text/plain": [
              "   EmployeeID  Gender  ...  Attrition  Age_Years\n",
              "0           0       0  ...          1         23\n",
              "1           1       1  ...          0         31\n",
              "2           2       1  ...          1         19\n",
              "3           3       0  ...          0         15\n",
              "4           4       1  ...          0          9\n",
              "\n",
              "[5 rows x 24 columns]"
            ]
          },
          "metadata": {
            "tags": []
          },
          "execution_count": 59
        }
      ]
    },
    {
      "cell_type": "markdown",
      "metadata": {
        "id": "bi5n62yYM2V_"
      },
      "source": [
        "#Create a new column at the end of the dataframe that contains the same value "
      ]
    },
    {
      "cell_type": "code",
      "metadata": {
        "colab": {
          "base_uri": "https://localhost:8080/",
          "height": 214
        },
        "id": "UrMYrcI_K8c1",
        "outputId": "a1f82204-be41-4876-a756-d0921370f205"
      },
      "source": [
        "data['EmployeeID_Years'] = data['EmployeeID']\n",
        "#Remove the first column called age \n",
        "data = data.drop('EmployeeID', axis = 1)\n",
        "#Show the dataframe\n",
        "data.head()"
      ],
      "execution_count": 60,
      "outputs": [
        {
          "output_type": "execute_result",
          "data": {
            "text/html": [
              "<div>\n",
              "<style scoped>\n",
              "    .dataframe tbody tr th:only-of-type {\n",
              "        vertical-align: middle;\n",
              "    }\n",
              "\n",
              "    .dataframe tbody tr th {\n",
              "        vertical-align: top;\n",
              "    }\n",
              "\n",
              "    .dataframe thead th {\n",
              "        text-align: right;\n",
              "    }\n",
              "</style>\n",
              "<table border=\"1\" class=\"dataframe\">\n",
              "  <thead>\n",
              "    <tr style=\"text-align: right;\">\n",
              "      <th></th>\n",
              "      <th>Gender</th>\n",
              "      <th>MaritalStatus</th>\n",
              "      <th>Education_Level</th>\n",
              "      <th>EducationField</th>\n",
              "      <th>BusinessTravel</th>\n",
              "      <th>Department</th>\n",
              "      <th>Commute</th>\n",
              "      <th>MonthlyIncome</th>\n",
              "      <th>MonthlyRate</th>\n",
              "      <th>DailyRate</th>\n",
              "      <th>HourlyRate</th>\n",
              "      <th>Grade</th>\n",
              "      <th>Role</th>\n",
              "      <th>Satisfaction</th>\n",
              "      <th>NumCompaniesWorked</th>\n",
              "      <th>OverTime</th>\n",
              "      <th>TotalExperienceYears</th>\n",
              "      <th>YearsInCompany</th>\n",
              "      <th>YearsInCurrentRole</th>\n",
              "      <th>YearsSinceLastPromotion</th>\n",
              "      <th>YearsWithLineManager</th>\n",
              "      <th>Attrition</th>\n",
              "      <th>Age_Years</th>\n",
              "      <th>EmployeeID_Years</th>\n",
              "    </tr>\n",
              "  </thead>\n",
              "  <tbody>\n",
              "    <tr>\n",
              "      <th>0</th>\n",
              "      <td>0</td>\n",
              "      <td>2</td>\n",
              "      <td>1</td>\n",
              "      <td>5</td>\n",
              "      <td>2</td>\n",
              "      <td>2</td>\n",
              "      <td>0</td>\n",
              "      <td>809</td>\n",
              "      <td>999</td>\n",
              "      <td>624</td>\n",
              "      <td>64</td>\n",
              "      <td>1</td>\n",
              "      <td>7</td>\n",
              "      <td>3</td>\n",
              "      <td>8</td>\n",
              "      <td>1</td>\n",
              "      <td>8</td>\n",
              "      <td>6</td>\n",
              "      <td>4</td>\n",
              "      <td>0</td>\n",
              "      <td>5</td>\n",
              "      <td>1</td>\n",
              "      <td>23</td>\n",
              "      <td>0</td>\n",
              "    </tr>\n",
              "    <tr>\n",
              "      <th>1</th>\n",
              "      <td>1</td>\n",
              "      <td>1</td>\n",
              "      <td>0</td>\n",
              "      <td>5</td>\n",
              "      <td>0</td>\n",
              "      <td>1</td>\n",
              "      <td>7</td>\n",
              "      <td>682</td>\n",
              "      <td>1328</td>\n",
              "      <td>113</td>\n",
              "      <td>31</td>\n",
              "      <td>1</td>\n",
              "      <td>6</td>\n",
              "      <td>1</td>\n",
              "      <td>1</td>\n",
              "      <td>0</td>\n",
              "      <td>10</td>\n",
              "      <td>10</td>\n",
              "      <td>7</td>\n",
              "      <td>1</td>\n",
              "      <td>7</td>\n",
              "      <td>0</td>\n",
              "      <td>31</td>\n",
              "      <td>1</td>\n",
              "    </tr>\n",
              "    <tr>\n",
              "      <th>2</th>\n",
              "      <td>1</td>\n",
              "      <td>2</td>\n",
              "      <td>1</td>\n",
              "      <td>4</td>\n",
              "      <td>2</td>\n",
              "      <td>1</td>\n",
              "      <td>1</td>\n",
              "      <td>62</td>\n",
              "      <td>18</td>\n",
              "      <td>805</td>\n",
              "      <td>62</td>\n",
              "      <td>0</td>\n",
              "      <td>2</td>\n",
              "      <td>2</td>\n",
              "      <td>6</td>\n",
              "      <td>1</td>\n",
              "      <td>7</td>\n",
              "      <td>0</td>\n",
              "      <td>0</td>\n",
              "      <td>0</td>\n",
              "      <td>0</td>\n",
              "      <td>1</td>\n",
              "      <td>19</td>\n",
              "      <td>2</td>\n",
              "    </tr>\n",
              "    <tr>\n",
              "      <th>3</th>\n",
              "      <td>0</td>\n",
              "      <td>1</td>\n",
              "      <td>3</td>\n",
              "      <td>5</td>\n",
              "      <td>0</td>\n",
              "      <td>1</td>\n",
              "      <td>2</td>\n",
              "      <td>313</td>\n",
              "      <td>1228</td>\n",
              "      <td>820</td>\n",
              "      <td>26</td>\n",
              "      <td>0</td>\n",
              "      <td>6</td>\n",
              "      <td>2</td>\n",
              "      <td>1</td>\n",
              "      <td>1</td>\n",
              "      <td>8</td>\n",
              "      <td>8</td>\n",
              "      <td>7</td>\n",
              "      <td>3</td>\n",
              "      <td>0</td>\n",
              "      <td>0</td>\n",
              "      <td>15</td>\n",
              "      <td>3</td>\n",
              "    </tr>\n",
              "    <tr>\n",
              "      <th>4</th>\n",
              "      <td>1</td>\n",
              "      <td>1</td>\n",
              "      <td>0</td>\n",
              "      <td>2</td>\n",
              "      <td>2</td>\n",
              "      <td>1</td>\n",
              "      <td>1</td>\n",
              "      <td>399</td>\n",
              "      <td>846</td>\n",
              "      <td>312</td>\n",
              "      <td>10</td>\n",
              "      <td>0</td>\n",
              "      <td>2</td>\n",
              "      <td>1</td>\n",
              "      <td>9</td>\n",
              "      <td>0</td>\n",
              "      <td>6</td>\n",
              "      <td>2</td>\n",
              "      <td>2</td>\n",
              "      <td>2</td>\n",
              "      <td>2</td>\n",
              "      <td>0</td>\n",
              "      <td>9</td>\n",
              "      <td>4</td>\n",
              "    </tr>\n",
              "  </tbody>\n",
              "</table>\n",
              "</div>"
            ],
            "text/plain": [
              "   Gender  MaritalStatus  ...  Age_Years  EmployeeID_Years\n",
              "0       0              2  ...         23                 0\n",
              "1       1              1  ...         31                 1\n",
              "2       1              2  ...         19                 2\n",
              "3       0              1  ...         15                 3\n",
              "4       1              1  ...          9                 4\n",
              "\n",
              "[5 rows x 24 columns]"
            ]
          },
          "metadata": {
            "tags": []
          },
          "execution_count": 60
        }
      ]
    },
    {
      "cell_type": "markdown",
      "metadata": {
        "id": "f96-gG5pM7b4"
      },
      "source": [
        "#Split the data into independent 'X' and dependent 'Y' variables"
      ]
    },
    {
      "cell_type": "code",
      "metadata": {
        "id": "-WnrCJ2sMbH3"
      },
      "source": [
        "X = data.iloc[:, 1:data.shape[1]].values \n",
        "Y = data.iloc[:, 0].values "
      ],
      "execution_count": 61,
      "outputs": []
    },
    {
      "cell_type": "markdown",
      "metadata": {
        "id": "ZUnDqNCdNAKt"
      },
      "source": [
        "# Split the dataset into 80% Training set and 20% Testing set\n"
      ]
    },
    {
      "cell_type": "code",
      "metadata": {
        "id": "F-7gPsozMfD6"
      },
      "source": [
        "from sklearn.model_selection import train_test_split\n",
        "X_train, X_test, Y_train, Y_test = train_test_split(X, Y, test_size = 0.20, random_state = 0)"
      ],
      "execution_count": 62,
      "outputs": []
    },
    {
      "cell_type": "markdown",
      "metadata": {
        "id": "En2dYHAt15PA"
      },
      "source": [
        "#Use Random Forest Classification algorithm"
      ]
    },
    {
      "cell_type": "code",
      "metadata": {
        "colab": {
          "base_uri": "https://localhost:8080/"
        },
        "id": "aEwFACizMo9U",
        "outputId": "725cfef2-f917-44de-afe9-8635dd48a271"
      },
      "source": [
        "from sklearn.ensemble import RandomForestClassifier\n",
        "forest = RandomForestClassifier(n_estimators = 10, criterion = 'entropy', random_state = 0)\n",
        "forest.fit(X_train, Y_train)"
      ],
      "execution_count": 63,
      "outputs": [
        {
          "output_type": "execute_result",
          "data": {
            "text/plain": [
              "RandomForestClassifier(bootstrap=True, ccp_alpha=0.0, class_weight=None,\n",
              "                       criterion='entropy', max_depth=None, max_features='auto',\n",
              "                       max_leaf_nodes=None, max_samples=None,\n",
              "                       min_impurity_decrease=0.0, min_impurity_split=None,\n",
              "                       min_samples_leaf=1, min_samples_split=2,\n",
              "                       min_weight_fraction_leaf=0.0, n_estimators=10,\n",
              "                       n_jobs=None, oob_score=False, random_state=0, verbose=0,\n",
              "                       warm_start=False)"
            ]
          },
          "metadata": {
            "tags": []
          },
          "execution_count": 63
        }
      ]
    },
    {
      "cell_type": "markdown",
      "metadata": {
        "id": "Gzqy7cEQNX85"
      },
      "source": [
        "#Get the accuracy on the training data"
      ]
    },
    {
      "cell_type": "code",
      "metadata": {
        "colab": {
          "base_uri": "https://localhost:8080/"
        },
        "id": "Rw2LmaGfMxmw",
        "outputId": "fe32450d-0cac-4a2e-e205-243081e92294"
      },
      "source": [
        "forest.score(X_train, Y_train)"
      ],
      "execution_count": 64,
      "outputs": [
        {
          "output_type": "execute_result",
          "data": {
            "text/plain": [
              "0.9863945578231292"
            ]
          },
          "metadata": {
            "tags": []
          },
          "execution_count": 64
        }
      ]
    },
    {
      "cell_type": "markdown",
      "metadata": {
        "id": "0fuP2a-DKTbt"
      },
      "source": [
        "**The model is about 98% accurate on the training data**"
      ]
    },
    {
      "cell_type": "code",
      "metadata": {
        "colab": {
          "base_uri": "https://localhost:8080/"
        },
        "id": "12PQOv7-r1p1",
        "outputId": "f2a478b6-18ac-42e8-b8d5-6e7e56415f84"
      },
      "source": [
        "from sklearn.metrics import classification_report\n",
        "print(classification_report(Y_test, forest.predict(X_test)))"
      ],
      "execution_count": 65,
      "outputs": [
        {
          "output_type": "stream",
          "text": [
            "              precision    recall  f1-score   support\n",
            "\n",
            "           0       0.45      0.38      0.42       125\n",
            "           1       0.59      0.66      0.62       169\n",
            "\n",
            "    accuracy                           0.54       294\n",
            "   macro avg       0.52      0.52      0.52       294\n",
            "weighted avg       0.53      0.54      0.53       294\n",
            "\n"
          ],
          "name": "stdout"
        }
      ]
    },
    {
      "cell_type": "code",
      "metadata": {
        "colab": {
          "base_uri": "https://localhost:8080/"
        },
        "id": "hxP4OVktM2oH",
        "outputId": "8d799a17-9df7-41b6-bdbe-b678145f3a4a"
      },
      "source": [
        "#Show the confusion matrix and accuracy for  the model on the test data\n",
        "#Classification accuracy is the ratio of correct predictions to total predictions made.\n",
        "from sklearn.metrics import confusion_matrix\n",
        "\n",
        "confusion_matrix = confusion_matrix(Y_test, forest.predict(X_test))\n",
        "  \n",
        "TN = confusion_matrix[0][0]\n",
        "TP = confusion_matrix[1][1]\n",
        "FN = confusion_matrix[1][0]\n",
        "FP = confusion_matrix[0][1]\n",
        "  \n",
        "print(confusion_matrix)\n",
        "print('Model Testing Accuracy = \"{}!\"'.format(  (TP + TN) / (TP + TN + FN + FP)))\n",
        "print()# Print a new line"
      ],
      "execution_count": 66,
      "outputs": [
        {
          "output_type": "stream",
          "text": [
            "[[ 48  77]\n",
            " [ 58 111]]\n",
            "Model Testing Accuracy = \"0.5408163265306123!\"\n",
            "\n"
          ],
          "name": "stdout"
        }
      ]
    },
    {
      "cell_type": "code",
      "metadata": {
        "colab": {
          "base_uri": "https://localhost:8080/"
        },
        "id": "eqhfC7vLTssi",
        "outputId": "529629c8-9870-4ede-b72f-133e9154d324"
      },
      "source": [
        "from sklearn import model_selection\n",
        "from sklearn.model_selection import cross_val_score\n",
        "kfold = model_selection.KFold(n_splits=10, random_state=7)\n",
        "modelCV = RandomForestClassifier()\n",
        "scoring = 'accuracy'\n",
        "results = model_selection.cross_val_score(modelCV, X_train, Y_train, cv=kfold, scoring=scoring)\n",
        "print(\"10-fold cross validation average accuracy: %.3f\" % (results.mean()))"
      ],
      "execution_count": 67,
      "outputs": [
        {
          "output_type": "stream",
          "text": [
            "/usr/local/lib/python3.7/dist-packages/sklearn/model_selection/_split.py:296: FutureWarning: Setting a random_state has no effect since shuffle is False. This will raise an error in 0.24. You should leave random_state to its default (None), or set shuffle=True.\n",
            "  FutureWarning\n"
          ],
          "name": "stderr"
        },
        {
          "output_type": "stream",
          "text": [
            "10-fold cross validation average accuracy: 0.569\n"
          ],
          "name": "stdout"
        }
      ]
    },
    {
      "cell_type": "code",
      "metadata": {
        "id": "kydHMiZqUW31"
      },
      "source": [
        "#from sklearn.metrics import classification_report\n",
        "#print(classification_report(Y_test, forest.predict(X_test)))"
      ],
      "execution_count": 68,
      "outputs": []
    },
    {
      "cell_type": "markdown",
      "metadata": {
        "id": "g3OEr8-BCkxG"
      },
      "source": [
        "![image.png](data:image/png;base64,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)"
      ]
    },
    {
      "cell_type": "code",
      "metadata": {
        "colab": {
          "base_uri": "https://localhost:8080/",
          "height": 295
        },
        "id": "VjIIXmwiVGCy",
        "outputId": "8f2e66d0-9160-4c97-bdf8-35a027807e02"
      },
      "source": [
        "y_pred = forest.predict(X_test)\n",
        "from sklearn.metrics import confusion_matrix\n",
        "from sklearn import metrics\n",
        "import seaborn as sns\n",
        "forest_cm = metrics.confusion_matrix(y_pred, Y_test, [1,0])\n",
        "sns.heatmap(forest_cm, annot=True, fmt='.2f',xticklabels = [\"Left\", \"Stayed\"] , yticklabels = [\"Left\", \"Stayed\"] )\n",
        "plt.ylabel('Predicted class')\n",
        "plt.xlabel('True class')\n",
        "plt.title('Random Forest')\n",
        "plt.savefig('random_forest')"
      ],
      "execution_count": 69,
      "outputs": [
        {
          "output_type": "display_data",
          "data": {
            "image/png": "[encoded data removed]",
            "text/plain": [
              "<Figure size 432x288 with 2 Axes>"
            ]
          },
          "metadata": {
            "tags": [],
            "needs_background": "light"
          }
        }
      ]
    },
    {
      "cell_type": "markdown",
      "metadata": {
        "id": "fsQA1mO-JtMv"
      },
      "source": [
        "**The model correctly identified 54% of the employees that left the company.**"
      ]
    },
    {
      "cell_type": "markdown",
      "metadata": {
        "id": "t5Y5Xi6LT-Wm"
      },
      "source": [
        "\n",
        "Finding the most Imported feature by ascending order"
      ]
    },
    {
      "cell_type": "code",
      "metadata": {
        "colab": {
          "base_uri": "https://localhost:8080/",
          "height": 751
        },
        "id": "GEMoDw0RNNO5",
        "outputId": "658727cf-df86-42f4-d060-145e4fa88625"
      },
      "source": [
        "# Return the feature importances (the higher, the more important the feature).\n",
        "importances = pd.DataFrame({'feature':data.iloc[:,1:data.shape[1]].columns,'importance':np.round(forest.feature_importances_,4)}) #Note: The target column is at position 0\n",
        "importances = importances.sort_values('importance',ascending=True).set_index('feature')\n",
        "importances"
      ],
      "execution_count": 70,
      "outputs": [
        {
          "output_type": "execute_result",
          "data": {
            "text/html": [
              "<div>\n",
              "<style scoped>\n",
              "    .dataframe tbody tr th:only-of-type {\n",
              "        vertical-align: middle;\n",
              "    }\n",
              "\n",
              "    .dataframe tbody tr th {\n",
              "        vertical-align: top;\n",
              "    }\n",
              "\n",
              "    .dataframe thead th {\n",
              "        text-align: right;\n",
              "    }\n",
              "</style>\n",
              "<table border=\"1\" class=\"dataframe\">\n",
              "  <thead>\n",
              "    <tr style=\"text-align: right;\">\n",
              "      <th></th>\n",
              "      <th>importance</th>\n",
              "    </tr>\n",
              "    <tr>\n",
              "      <th>feature</th>\n",
              "      <th></th>\n",
              "    </tr>\n",
              "  </thead>\n",
              "  <tbody>\n",
              "    <tr>\n",
              "      <th>Attrition</th>\n",
              "      <td>0.0078</td>\n",
              "    </tr>\n",
              "    <tr>\n",
              "      <th>OverTime</th>\n",
              "      <td>0.0120</td>\n",
              "    </tr>\n",
              "    <tr>\n",
              "      <th>Department</th>\n",
              "      <td>0.0131</td>\n",
              "    </tr>\n",
              "    <tr>\n",
              "      <th>MaritalStatus</th>\n",
              "      <td>0.0167</td>\n",
              "    </tr>\n",
              "    <tr>\n",
              "      <th>BusinessTravel</th>\n",
              "      <td>0.0186</td>\n",
              "    </tr>\n",
              "    <tr>\n",
              "      <th>Grade</th>\n",
              "      <td>0.0201</td>\n",
              "    </tr>\n",
              "    <tr>\n",
              "      <th>YearsSinceLastPromotion</th>\n",
              "      <td>0.0285</td>\n",
              "    </tr>\n",
              "    <tr>\n",
              "      <th>EducationField</th>\n",
              "      <td>0.0296</td>\n",
              "    </tr>\n",
              "    <tr>\n",
              "      <th>Satisfaction</th>\n",
              "      <td>0.0297</td>\n",
              "    </tr>\n",
              "    <tr>\n",
              "      <th>Education_Level</th>\n",
              "      <td>0.0329</td>\n",
              "    </tr>\n",
              "    <tr>\n",
              "      <th>YearsWithLineManager</th>\n",
              "      <td>0.0348</td>\n",
              "    </tr>\n",
              "    <tr>\n",
              "      <th>Role</th>\n",
              "      <td>0.0367</td>\n",
              "    </tr>\n",
              "    <tr>\n",
              "      <th>NumCompaniesWorked</th>\n",
              "      <td>0.0380</td>\n",
              "    </tr>\n",
              "    <tr>\n",
              "      <th>YearsInCompany</th>\n",
              "      <td>0.0399</td>\n",
              "    </tr>\n",
              "    <tr>\n",
              "      <th>YearsInCurrentRole</th>\n",
              "      <td>0.0491</td>\n",
              "    </tr>\n",
              "    <tr>\n",
              "      <th>TotalExperienceYears</th>\n",
              "      <td>0.0536</td>\n",
              "    </tr>\n",
              "    <tr>\n",
              "      <th>Commute</th>\n",
              "      <td>0.0581</td>\n",
              "    </tr>\n",
              "    <tr>\n",
              "      <th>Age_Years</th>\n",
              "      <td>0.0688</td>\n",
              "    </tr>\n",
              "    <tr>\n",
              "      <th>HourlyRate</th>\n",
              "      <td>0.0739</td>\n",
              "    </tr>\n",
              "    <tr>\n",
              "      <th>EmployeeID_Years</th>\n",
              "      <td>0.0739</td>\n",
              "    </tr>\n",
              "    <tr>\n",
              "      <th>MonthlyIncome</th>\n",
              "      <td>0.0878</td>\n",
              "    </tr>\n",
              "    <tr>\n",
              "      <th>DailyRate</th>\n",
              "      <td>0.0882</td>\n",
              "    </tr>\n",
              "    <tr>\n",
              "      <th>MonthlyRate</th>\n",
              "      <td>0.0884</td>\n",
              "    </tr>\n",
              "  </tbody>\n",
              "</table>\n",
              "</div>"
            ],
            "text/plain": [
              "                         importance\n",
              "feature                            \n",
              "Attrition                    0.0078\n",
              "OverTime                     0.0120\n",
              "Department                   0.0131\n",
              "MaritalStatus                0.0167\n",
              "BusinessTravel               0.0186\n",
              "Grade                        0.0201\n",
              "YearsSinceLastPromotion      0.0285\n",
              "EducationField               0.0296\n",
              "Satisfaction                 0.0297\n",
              "Education_Level              0.0329\n",
              "YearsWithLineManager         0.0348\n",
              "Role                         0.0367\n",
              "NumCompaniesWorked           0.0380\n",
              "YearsInCompany               0.0399\n",
              "YearsInCurrentRole           0.0491\n",
              "TotalExperienceYears         0.0536\n",
              "Commute                      0.0581\n",
              "Age_Years                    0.0688\n",
              "HourlyRate                   0.0739\n",
              "EmployeeID_Years             0.0739\n",
              "MonthlyIncome                0.0878\n",
              "DailyRate                    0.0882\n",
              "MonthlyRate                  0.0884"
            ]
          },
          "metadata": {
            "tags": []
          },
          "execution_count": 70
        }
      ]
    },
    {
      "cell_type": "code",
      "metadata": {
        "colab": {
          "base_uri": "https://localhost:8080/",
          "height": 412
        },
        "id": "LiF_vFpgNbH3",
        "outputId": "55a64e9c-14cd-4212-ad90-e139a423421f"
      },
      "source": [
        "#Visualize the importance\n",
        "importances.plot.bar()\n"
      ],
      "execution_count": 71,
      "outputs": [
        {
          "output_type": "execute_result",
          "data": {
            "text/plain": [
              "<matplotlib.axes._subplots.AxesSubplot at 0x7f7e9ec26c90>"
            ]
          },
          "metadata": {
            "tags": []
          },
          "execution_count": 71
        },
        {
          "output_type": "display_data",
          "data": {
            "image/png": "[encoded data removed]",
            "text/plain": [
              "<Figure size 432x288 with 1 Axes>"
            ]
          },
          "metadata": {
            "tags": [],
            "needs_background": "light"
          }
        }
      ]
    },
    {
      "cell_type": "markdown",
      "metadata": {
        "id": "DN5N-POeOsfj"
      },
      "source": [
        "**Monthly Rate appears to be the most important feature followed by the daily rate, and monthly income. Seeing this result makes me want to see if people with a higher income are less likely to leave than someone with a lower income.**"
      ]
    }
  ]
}