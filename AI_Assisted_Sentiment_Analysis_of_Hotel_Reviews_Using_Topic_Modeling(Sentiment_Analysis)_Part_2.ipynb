{
  "nbformat": 4,
  "nbformat_minor": 0,
  "metadata": {
    "colab": {
      "name": "AI Assisted Sentiment Analysis of Hotel Reviews Using Topic Modeling(Sentiment Analysis)-- Part 2.ipynb",
      "provenance": [],
      "collapsed_sections": [],
      "authorship_tag": "ABX9TyOjHzmbkKP6fOU680Cx7a0e",
      "include_colab_link": true
    },
    "kernelspec": {
      "name": "python3",
      "display_name": "Python 3"
    }
  },
  "cells": [
    {
      "cell_type": "markdown",
      "metadata": {
        "id": "view-in-github",
        "colab_type": "text"
      },
      "source": [
        "<a href=\"https://colab.research.google.com/github/sushgho/Msc-Project/blob/master/AI_Assisted_Sentiment_Analysis_of_Hotel_Reviews_Using_Topic_Modeling(Sentiment_Analysis)_Part_2.ipynb\" target=\"_parent\"><img src=\"https://colab.research.google.com/assets/colab-badge.svg\" alt=\"Open In Colab\"/></a>"
      ]
    },
    {
      "cell_type": "markdown",
      "metadata": {
        "id": "zrHUNjne_h0w",
        "colab_type": "text"
      },
      "source": [
        "# **AI Assisted Sentiment Analysis of Hotel Reviews Using Topic Modeling**-- Part 2 (Sentiment Analysis)\n",
        "\n",
        "**Classification and evaluation using Machine Learning **"
      ]
    },
    {
      "cell_type": "markdown",
      "metadata": {
        "id": "Q9SEuSuQ_Zyd",
        "colab_type": "text"
      },
      "source": [
        "**Libraries**"
      ]
    },
    {
      "cell_type": "code",
      "metadata": {
        "id": "Fx5HlHHaEHSN",
        "colab_type": "code",
        "colab": {
          "base_uri": "https://localhost:8080/",
          "height": 444
        },
        "outputId": "50501213-a457-45e7-fe3a-ccd71fb9e8a2"
      },
      "source": [
        "\n",
        "%matplotlib inline\n",
        "import numpy as np\n",
        "import pandas as pd\n",
        "import matplotlib.pyplot as plt\n",
        "\n",
        "import numpy as np\n",
        "import pandas as pd\n",
        "import re, nltk, spacy, gensim\n",
        "# Sklearn\n",
        "from sklearn.decomposition import LatentDirichletAllocation, TruncatedSVD\n",
        "from sklearn.feature_extraction.text import CountVectorizer, TfidfVectorizer\n",
        "from sklearn.model_selection import GridSearchCV\n",
        "from pprint import pprint\n",
        "\n",
        "import matplotlib.pyplot as plt\n",
        "%matplotlib inline\n",
        "import re                                       # regular expressions\n",
        "from sklearn.svm import LinearSVC\n",
        "from nltk.classify import SklearnClassifier\n",
        "from sklearn.svm import SVC\n",
        "from sklearn.naive_bayes import GaussianNB\n",
        "from sklearn.tree import DecisionTreeClassifier\n",
        "from sklearn.ensemble import RandomForestClassifier\n",
        "from sklearn.naive_bayes import MultinomialNB\n",
        "\n",
        "# To do preprocessing\n",
        "from nltk.stem import WordNetLemmatizer\n",
        "from nltk.tokenize import RegexpTokenizer\n",
        "from nltk.corpus import stopwords\n",
        "\n",
        "# To do preprocessing\n",
        "from nltk.stem import WordNetLemmatizer\n",
        "from nltk.tokenize import RegexpTokenizer\n",
        "from nltk.corpus import stopwords\n",
        "import nltk\n",
        "nltk.download('stopwords')\n",
        "nltk.download('wordnet')\n",
        "nltk.download('punkt')\n",
        "nltk.download('averaged_perceptron_tagger')\n",
        "nltk.download('words')\n",
        "\n",
        "# from sklearn.model_selection import cross_val_score\n",
        "from sklearn.metrics import precision_recall_fscore_support # to report on precision and recall\n",
        "import numpy as np # To compute the average results\n",
        "\n",
        "from random import shuffle # To shuffle the dataset\n",
        "\n",
        "\n",
        "# To use feature selection in the Pipeline\n",
        "from sklearn.feature_selection import SelectKBest, chi2\n",
        "from sklearn.pipeline import Pipeline\n",
        "from sklearn.feature_extraction.text import TfidfTransformer\n",
        "\n",
        "from collections import Counter\n",
        "import pandas as pd\n",
        "import gensim\n",
        "#packages for processing data\n",
        "from nltk.stem import WordNetLemmatizer\n",
        "from nltk import word_tokenize\n",
        "from nltk.tokenize import RegexpTokenizer\n",
        "from nltk.corpus import stopwords\n",
        "import re\n",
        "import numpy as np\n",
        "import nltk\n",
        "from nltk.corpus import wordnet\n",
        "nltk.download('stopwords')\n",
        "nltk.download('wordnet')\n",
        "nltk.download('punkt')\n",
        "nltk.download('averaged_perceptron_tagger')\n",
        "nltk.download('words')\n",
        "\n",
        "from collections import Counter\n",
        "#from sklearn.feature_extraction.text import CountVectorizer\n",
        "\n",
        "#packages to process data\n",
        "import pandas as pd\n",
        "import gensim\n",
        "from gensim.parsing.preprocessing import remove_stopwords\n",
        "from gensim import corpora\n",
        "\n",
        "#display results\n",
        "from IPython.display import display, HTML\n",
        "from pprint import pprint\n",
        "from sklearn.feature_extraction.text import TfidfVectorizer\n",
        "from sklearn.linear_model import LogisticRegression\n",
        "from sklearn.model_selection import train_test_split\n",
        "from sklearn.metrics import accuracy_score,precision_score,recall_score,f1_score\n",
        "\n",
        "from sklearn.metrics import classification_report, confusion_matrix"
      ],
      "execution_count": 1,
      "outputs": [
        {
          "output_type": "stream",
          "text": [
            "[nltk_data] Downloading package stopwords to /root/nltk_data...\n",
            "[nltk_data]   Package stopwords is already up-to-date!\n",
            "[nltk_data] Downloading package wordnet to /root/nltk_data...\n",
            "[nltk_data]   Package wordnet is already up-to-date!\n",
            "[nltk_data] Downloading package punkt to /root/nltk_data...\n",
            "[nltk_data]   Package punkt is already up-to-date!\n",
            "[nltk_data] Downloading package averaged_perceptron_tagger to\n",
            "[nltk_data]     /root/nltk_data...\n",
            "[nltk_data]   Package averaged_perceptron_tagger is already up-to-\n",
            "[nltk_data]       date!\n",
            "[nltk_data] Downloading package words to /root/nltk_data...\n",
            "[nltk_data]   Package words is already up-to-date!\n",
            "[nltk_data] Downloading package stopwords to /root/nltk_data...\n",
            "[nltk_data]   Package stopwords is already up-to-date!\n",
            "[nltk_data] Downloading package wordnet to /root/nltk_data...\n",
            "[nltk_data]   Package wordnet is already up-to-date!\n",
            "[nltk_data] Downloading package punkt to /root/nltk_data...\n",
            "[nltk_data]   Package punkt is already up-to-date!\n",
            "[nltk_data] Downloading package averaged_perceptron_tagger to\n",
            "[nltk_data]     /root/nltk_data...\n",
            "[nltk_data]   Package averaged_perceptron_tagger is already up-to-\n",
            "[nltk_data]       date!\n",
            "[nltk_data] Downloading package words to /root/nltk_data...\n",
            "[nltk_data]   Package words is already up-to-date!\n"
          ],
          "name": "stdout"
        }
      ]
    },
    {
      "cell_type": "markdown",
      "metadata": {
        "id": "A8qqIcTZANX4",
        "colab_type": "text"
      },
      "source": [
        "**Importing Data (Output generated from LDA)**"
      ]
    },
    {
      "cell_type": "code",
      "metadata": {
        "id": "w1AkDppZEh2W",
        "colab_type": "code",
        "colab": {
          "base_uri": "https://localhost:8080/",
          "height": 399
        },
        "outputId": "0a74d41e-b1f5-4d35-bf50-fa9a455c1d54"
      },
      "source": [
        "# Import Dataset\n",
        "reviews = pd.read_csv('dominent1 (1).txt', engine='python',error_bad_lines=False)\n",
        "#data = pd.read_csv('reviews_Hotel11.csv', engine='python',error_bad_lines=False)\n",
        "#print(df.Topic.unique())\n",
        "reviews\n"
      ],
      "execution_count": 2,
      "outputs": [
        {
          "output_type": "execute_result",
          "data": {
            "text/html": [
              "<div>\n",
              "<style scoped>\n",
              "    .dataframe tbody tr th:only-of-type {\n",
              "        vertical-align: middle;\n",
              "    }\n",
              "\n",
              "    .dataframe tbody tr th {\n",
              "        vertical-align: top;\n",
              "    }\n",
              "\n",
              "    .dataframe thead th {\n",
              "        text-align: right;\n",
              "    }\n",
              "</style>\n",
              "<table border=\"1\" class=\"dataframe\">\n",
              "  <thead>\n",
              "    <tr style=\"text-align: right;\">\n",
              "      <th></th>\n",
              "      <th>Unnamed: 0</th>\n",
              "      <th>Document_No</th>\n",
              "      <th>Dominant_Topic</th>\n",
              "      <th>Topic_Perc_Contrib</th>\n",
              "      <th>Keywords</th>\n",
              "      <th>Review_Title</th>\n",
              "      <th>Review Rating</th>\n",
              "      <th>dominant_topic_Label</th>\n",
              "    </tr>\n",
              "  </thead>\n",
              "  <tbody>\n",
              "    <tr>\n",
              "      <th>0</th>\n",
              "      <td>0</td>\n",
              "      <td>0</td>\n",
              "      <td>10.0</td>\n",
              "      <td>0.2093</td>\n",
              "      <td>walk, close, station, easy, minute, train, cit...</td>\n",
              "      <td>pleasure this nights recently. This perfect ev...</td>\n",
              "      <td>5.0</td>\n",
              "      <td>Facilities,Location</td>\n",
              "    </tr>\n",
              "    <tr>\n",
              "      <th>1</th>\n",
              "      <td>1</td>\n",
              "      <td>1</td>\n",
              "      <td>11.0</td>\n",
              "      <td>0.3978</td>\n",
              "      <td>amazing, definitely, would, recommend, wonderf...</td>\n",
              "      <td>very lovely first visit this iconic bar! Wonde...</td>\n",
              "      <td>5.0</td>\n",
              "      <td>Service</td>\n",
              "    </tr>\n",
              "    <tr>\n",
              "      <th>2</th>\n",
              "      <td>2</td>\n",
              "      <td>2</td>\n",
              "      <td>5.0</td>\n",
              "      <td>0.3910</td>\n",
              "      <td>staff, location, breakfast, friendly, helpful,...</td>\n",
              "      <td>Rhodes Hotel nights, location taking Paddingto...</td>\n",
              "      <td>4.0</td>\n",
              "      <td>Staff</td>\n",
              "    </tr>\n",
              "    <tr>\n",
              "      <th>3</th>\n",
              "      <td>3</td>\n",
              "      <td>3</td>\n",
              "      <td>6.0</td>\n",
              "      <td>0.1827</td>\n",
              "      <td>feel, make, always, special, smile, home, welc...</td>\n",
              "      <td>Form moment arrived until left experienced abs...</td>\n",
              "      <td>5.0</td>\n",
              "      <td>Food, Service</td>\n",
              "    </tr>\n",
              "    <tr>\n",
              "      <th>4</th>\n",
              "      <td>4</td>\n",
              "      <td>4</td>\n",
              "      <td>0.0</td>\n",
              "      <td>0.6617</td>\n",
              "      <td>check, book, give, reception, night, ask, take...</td>\n",
              "      <td>Well strange London's 5star when comes along e...</td>\n",
              "      <td>1.0</td>\n",
              "      <td>Facilities</td>\n",
              "    </tr>\n",
              "    <tr>\n",
              "      <th>...</th>\n",
              "      <td>...</td>\n",
              "      <td>...</td>\n",
              "      <td>...</td>\n",
              "      <td>...</td>\n",
              "      <td>...</td>\n",
              "      <td>...</td>\n",
              "      <td>...</td>\n",
              "      <td>...</td>\n",
              "    </tr>\n",
              "    <tr>\n",
              "      <th>299995</th>\n",
              "      <td>299995</td>\n",
              "      <td>299995</td>\n",
              "      <td>5.0</td>\n",
              "      <td>0.3264</td>\n",
              "      <td>staff, location, breakfast, friendly, helpful,...</td>\n",
              "      <td>sauna Jacuzzi Staff were very helpful with tou...</td>\n",
              "      <td>5.0</td>\n",
              "      <td>Staff</td>\n",
              "    </tr>\n",
              "    <tr>\n",
              "      <th>299996</th>\n",
              "      <td>299996</td>\n",
              "      <td>299996</td>\n",
              "      <td>5.0</td>\n",
              "      <td>0.2948</td>\n",
              "      <td>staff, location, breakfast, friendly, helpful,...</td>\n",
              "      <td>Poor wifi connection Staff cleanliness</td>\n",
              "      <td>4.1</td>\n",
              "      <td>Staff</td>\n",
              "    </tr>\n",
              "    <tr>\n",
              "      <th>299997</th>\n",
              "      <td>299997</td>\n",
              "      <td>299997</td>\n",
              "      <td>5.0</td>\n",
              "      <td>0.3911</td>\n",
              "      <td>staff, location, breakfast, friendly, helpful,...</td>\n",
              "      <td>minute walk closest metro Very Friendly staff ...</td>\n",
              "      <td>5.1</td>\n",
              "      <td>Staff</td>\n",
              "    </tr>\n",
              "    <tr>\n",
              "      <th>299998</th>\n",
              "      <td>299998</td>\n",
              "      <td>299998</td>\n",
              "      <td>5.0</td>\n",
              "      <td>0.2764</td>\n",
              "      <td>staff, location, breakfast, friendly, helpful,...</td>\n",
              "      <td>shower cold near beach metro station walking</td>\n",
              "      <td>3.5</td>\n",
              "      <td>Staff</td>\n",
              "    </tr>\n",
              "    <tr>\n",
              "      <th>299999</th>\n",
              "      <td>299999</td>\n",
              "      <td>299999</td>\n",
              "      <td>5.0</td>\n",
              "      <td>0.3890</td>\n",
              "      <td>staff, location, breakfast, friendly, helpful,...</td>\n",
              "      <td>minutes walk Subway Good breakfast wifi standard</td>\n",
              "      <td>4.3</td>\n",
              "      <td>Staff</td>\n",
              "    </tr>\n",
              "  </tbody>\n",
              "</table>\n",
              "<p>300000 rows × 8 columns</p>\n",
              "</div>"
            ],
            "text/plain": [
              "        Unnamed: 0  Document_No  ...  Review Rating  dominant_topic_Label\n",
              "0                0            0  ...            5.0   Facilities,Location\n",
              "1                1            1  ...            5.0               Service\n",
              "2                2            2  ...            4.0                 Staff\n",
              "3                3            3  ...            5.0         Food, Service\n",
              "4                4            4  ...            1.0            Facilities\n",
              "...            ...          ...  ...            ...                   ...\n",
              "299995      299995       299995  ...            5.0                 Staff\n",
              "299996      299996       299996  ...            4.1                 Staff\n",
              "299997      299997       299997  ...            5.1                 Staff\n",
              "299998      299998       299998  ...            3.5                 Staff\n",
              "299999      299999       299999  ...            4.3                 Staff\n",
              "\n",
              "[300000 rows x 8 columns]"
            ]
          },
          "metadata": {
            "tags": []
          },
          "execution_count": 2
        }
      ]
    },
    {
      "cell_type": "markdown",
      "metadata": {
        "id": "fGWfPNxhAnwS",
        "colab_type": "text"
      },
      "source": [
        "**Initialising Sentiments to Reiew**"
      ]
    },
    {
      "cell_type": "code",
      "metadata": {
        "id": "iHPX87ozjGnR",
        "colab_type": "code",
        "colab": {}
      },
      "source": [
        "reviews['Review_Rate'] = reviews['Review Rating'].apply(lambda c: 'pos' if c >=4.0 else ('neg' if c <=2.0 else 'neu'))"
      ],
      "execution_count": 3,
      "outputs": []
    },
    {
      "cell_type": "code",
      "metadata": {
        "id": "blz2DU1JG8IR",
        "colab_type": "code",
        "colab": {
          "base_uri": "https://localhost:8080/",
          "height": 399
        },
        "outputId": "c00a08ef-b6db-4d13-9184-8b7a7725e555"
      },
      "source": [
        "#r1=reviews[['Review_Title','Review Rating','dominant_topic_Label','Dominant_Topic',\t'Topic_Perc_Contrib']]\n",
        "\n",
        "r1=reviews[['Review_Title','Review Rating','Dominant_Topic',\t'Topic_Perc_Contrib','dominant_topic_Label']]\n",
        "r1"
      ],
      "execution_count": 4,
      "outputs": [
        {
          "output_type": "execute_result",
          "data": {
            "text/html": [
              "<div>\n",
              "<style scoped>\n",
              "    .dataframe tbody tr th:only-of-type {\n",
              "        vertical-align: middle;\n",
              "    }\n",
              "\n",
              "    .dataframe tbody tr th {\n",
              "        vertical-align: top;\n",
              "    }\n",
              "\n",
              "    .dataframe thead th {\n",
              "        text-align: right;\n",
              "    }\n",
              "</style>\n",
              "<table border=\"1\" class=\"dataframe\">\n",
              "  <thead>\n",
              "    <tr style=\"text-align: right;\">\n",
              "      <th></th>\n",
              "      <th>Review_Title</th>\n",
              "      <th>Review Rating</th>\n",
              "      <th>Dominant_Topic</th>\n",
              "      <th>Topic_Perc_Contrib</th>\n",
              "      <th>dominant_topic_Label</th>\n",
              "    </tr>\n",
              "  </thead>\n",
              "  <tbody>\n",
              "    <tr>\n",
              "      <th>0</th>\n",
              "      <td>pleasure this nights recently. This perfect ev...</td>\n",
              "      <td>5.0</td>\n",
              "      <td>10.0</td>\n",
              "      <td>0.2093</td>\n",
              "      <td>Facilities,Location</td>\n",
              "    </tr>\n",
              "    <tr>\n",
              "      <th>1</th>\n",
              "      <td>very lovely first visit this iconic bar! Wonde...</td>\n",
              "      <td>5.0</td>\n",
              "      <td>11.0</td>\n",
              "      <td>0.3978</td>\n",
              "      <td>Service</td>\n",
              "    </tr>\n",
              "    <tr>\n",
              "      <th>2</th>\n",
              "      <td>Rhodes Hotel nights, location taking Paddingto...</td>\n",
              "      <td>4.0</td>\n",
              "      <td>5.0</td>\n",
              "      <td>0.3910</td>\n",
              "      <td>Staff</td>\n",
              "    </tr>\n",
              "    <tr>\n",
              "      <th>3</th>\n",
              "      <td>Form moment arrived until left experienced abs...</td>\n",
              "      <td>5.0</td>\n",
              "      <td>6.0</td>\n",
              "      <td>0.1827</td>\n",
              "      <td>Food, Service</td>\n",
              "    </tr>\n",
              "    <tr>\n",
              "      <th>4</th>\n",
              "      <td>Well strange London's 5star when comes along e...</td>\n",
              "      <td>1.0</td>\n",
              "      <td>0.0</td>\n",
              "      <td>0.6617</td>\n",
              "      <td>Facilities</td>\n",
              "    </tr>\n",
              "    <tr>\n",
              "      <th>...</th>\n",
              "      <td>...</td>\n",
              "      <td>...</td>\n",
              "      <td>...</td>\n",
              "      <td>...</td>\n",
              "      <td>...</td>\n",
              "    </tr>\n",
              "    <tr>\n",
              "      <th>299995</th>\n",
              "      <td>sauna Jacuzzi Staff were very helpful with tou...</td>\n",
              "      <td>5.0</td>\n",
              "      <td>5.0</td>\n",
              "      <td>0.3264</td>\n",
              "      <td>Staff</td>\n",
              "    </tr>\n",
              "    <tr>\n",
              "      <th>299996</th>\n",
              "      <td>Poor wifi connection Staff cleanliness</td>\n",
              "      <td>4.1</td>\n",
              "      <td>5.0</td>\n",
              "      <td>0.2948</td>\n",
              "      <td>Staff</td>\n",
              "    </tr>\n",
              "    <tr>\n",
              "      <th>299997</th>\n",
              "      <td>minute walk closest metro Very Friendly staff ...</td>\n",
              "      <td>5.1</td>\n",
              "      <td>5.0</td>\n",
              "      <td>0.3911</td>\n",
              "      <td>Staff</td>\n",
              "    </tr>\n",
              "    <tr>\n",
              "      <th>299998</th>\n",
              "      <td>shower cold near beach metro station walking</td>\n",
              "      <td>3.5</td>\n",
              "      <td>5.0</td>\n",
              "      <td>0.2764</td>\n",
              "      <td>Staff</td>\n",
              "    </tr>\n",
              "    <tr>\n",
              "      <th>299999</th>\n",
              "      <td>minutes walk Subway Good breakfast wifi standard</td>\n",
              "      <td>4.3</td>\n",
              "      <td>5.0</td>\n",
              "      <td>0.3890</td>\n",
              "      <td>Staff</td>\n",
              "    </tr>\n",
              "  </tbody>\n",
              "</table>\n",
              "<p>300000 rows × 5 columns</p>\n",
              "</div>"
            ],
            "text/plain": [
              "                                             Review_Title  ...  dominant_topic_Label\n",
              "0       pleasure this nights recently. This perfect ev...  ...   Facilities,Location\n",
              "1       very lovely first visit this iconic bar! Wonde...  ...               Service\n",
              "2       Rhodes Hotel nights, location taking Paddingto...  ...                 Staff\n",
              "3       Form moment arrived until left experienced abs...  ...         Food, Service\n",
              "4       Well strange London's 5star when comes along e...  ...            Facilities\n",
              "...                                                   ...  ...                   ...\n",
              "299995  sauna Jacuzzi Staff were very helpful with tou...  ...                 Staff\n",
              "299996             Poor wifi connection Staff cleanliness  ...                 Staff\n",
              "299997  minute walk closest metro Very Friendly staff ...  ...                 Staff\n",
              "299998       shower cold near beach metro station walking  ...                 Staff\n",
              "299999   minutes walk Subway Good breakfast wifi standard  ...                 Staff\n",
              "\n",
              "[300000 rows x 5 columns]"
            ]
          },
          "metadata": {
            "tags": []
          },
          "execution_count": 4
        }
      ]
    },
    {
      "cell_type": "code",
      "metadata": {
        "id": "-W_4G20iqWQo",
        "colab_type": "code",
        "colab": {
          "base_uri": "https://localhost:8080/",
          "height": 124
        },
        "outputId": "e40b0213-a42c-4955-831d-ea29f78410c1"
      },
      "source": [
        "r1['Review_Rate'] = reviews['Review Rating'].apply(lambda c: 'pos' if c >=4 else ('neg' if c <=2 else 'neu'))"
      ],
      "execution_count": 5,
      "outputs": [
        {
          "output_type": "stream",
          "text": [
            "/usr/local/lib/python3.6/dist-packages/ipykernel_launcher.py:1: SettingWithCopyWarning: \n",
            "A value is trying to be set on a copy of a slice from a DataFrame.\n",
            "Try using .loc[row_indexer,col_indexer] = value instead\n",
            "\n",
            "See the caveats in the documentation: https://pandas.pydata.org/pandas-docs/stable/user_guide/indexing.html#returning-a-view-versus-a-copy\n",
            "  \"\"\"Entry point for launching an IPython kernel.\n"
          ],
          "name": "stderr"
        }
      ]
    },
    {
      "cell_type": "code",
      "metadata": {
        "id": "RJumfdnqqeIK",
        "colab_type": "code",
        "colab": {
          "base_uri": "https://localhost:8080/",
          "height": 399
        },
        "outputId": "55007710-15b0-4439-ce65-f3aae970111c"
      },
      "source": [
        "r1"
      ],
      "execution_count": 6,
      "outputs": [
        {
          "output_type": "execute_result",
          "data": {
            "text/html": [
              "<div>\n",
              "<style scoped>\n",
              "    .dataframe tbody tr th:only-of-type {\n",
              "        vertical-align: middle;\n",
              "    }\n",
              "\n",
              "    .dataframe tbody tr th {\n",
              "        vertical-align: top;\n",
              "    }\n",
              "\n",
              "    .dataframe thead th {\n",
              "        text-align: right;\n",
              "    }\n",
              "</style>\n",
              "<table border=\"1\" class=\"dataframe\">\n",
              "  <thead>\n",
              "    <tr style=\"text-align: right;\">\n",
              "      <th></th>\n",
              "      <th>Review_Title</th>\n",
              "      <th>Review Rating</th>\n",
              "      <th>Dominant_Topic</th>\n",
              "      <th>Topic_Perc_Contrib</th>\n",
              "      <th>dominant_topic_Label</th>\n",
              "      <th>Review_Rate</th>\n",
              "    </tr>\n",
              "  </thead>\n",
              "  <tbody>\n",
              "    <tr>\n",
              "      <th>0</th>\n",
              "      <td>pleasure this nights recently. This perfect ev...</td>\n",
              "      <td>5.0</td>\n",
              "      <td>10.0</td>\n",
              "      <td>0.2093</td>\n",
              "      <td>Facilities,Location</td>\n",
              "      <td>pos</td>\n",
              "    </tr>\n",
              "    <tr>\n",
              "      <th>1</th>\n",
              "      <td>very lovely first visit this iconic bar! Wonde...</td>\n",
              "      <td>5.0</td>\n",
              "      <td>11.0</td>\n",
              "      <td>0.3978</td>\n",
              "      <td>Service</td>\n",
              "      <td>pos</td>\n",
              "    </tr>\n",
              "    <tr>\n",
              "      <th>2</th>\n",
              "      <td>Rhodes Hotel nights, location taking Paddingto...</td>\n",
              "      <td>4.0</td>\n",
              "      <td>5.0</td>\n",
              "      <td>0.3910</td>\n",
              "      <td>Staff</td>\n",
              "      <td>pos</td>\n",
              "    </tr>\n",
              "    <tr>\n",
              "      <th>3</th>\n",
              "      <td>Form moment arrived until left experienced abs...</td>\n",
              "      <td>5.0</td>\n",
              "      <td>6.0</td>\n",
              "      <td>0.1827</td>\n",
              "      <td>Food, Service</td>\n",
              "      <td>pos</td>\n",
              "    </tr>\n",
              "    <tr>\n",
              "      <th>4</th>\n",
              "      <td>Well strange London's 5star when comes along e...</td>\n",
              "      <td>1.0</td>\n",
              "      <td>0.0</td>\n",
              "      <td>0.6617</td>\n",
              "      <td>Facilities</td>\n",
              "      <td>neg</td>\n",
              "    </tr>\n",
              "    <tr>\n",
              "      <th>...</th>\n",
              "      <td>...</td>\n",
              "      <td>...</td>\n",
              "      <td>...</td>\n",
              "      <td>...</td>\n",
              "      <td>...</td>\n",
              "      <td>...</td>\n",
              "    </tr>\n",
              "    <tr>\n",
              "      <th>299995</th>\n",
              "      <td>sauna Jacuzzi Staff were very helpful with tou...</td>\n",
              "      <td>5.0</td>\n",
              "      <td>5.0</td>\n",
              "      <td>0.3264</td>\n",
              "      <td>Staff</td>\n",
              "      <td>pos</td>\n",
              "    </tr>\n",
              "    <tr>\n",
              "      <th>299996</th>\n",
              "      <td>Poor wifi connection Staff cleanliness</td>\n",
              "      <td>4.1</td>\n",
              "      <td>5.0</td>\n",
              "      <td>0.2948</td>\n",
              "      <td>Staff</td>\n",
              "      <td>pos</td>\n",
              "    </tr>\n",
              "    <tr>\n",
              "      <th>299997</th>\n",
              "      <td>minute walk closest metro Very Friendly staff ...</td>\n",
              "      <td>5.1</td>\n",
              "      <td>5.0</td>\n",
              "      <td>0.3911</td>\n",
              "      <td>Staff</td>\n",
              "      <td>pos</td>\n",
              "    </tr>\n",
              "    <tr>\n",
              "      <th>299998</th>\n",
              "      <td>shower cold near beach metro station walking</td>\n",
              "      <td>3.5</td>\n",
              "      <td>5.0</td>\n",
              "      <td>0.2764</td>\n",
              "      <td>Staff</td>\n",
              "      <td>neu</td>\n",
              "    </tr>\n",
              "    <tr>\n",
              "      <th>299999</th>\n",
              "      <td>minutes walk Subway Good breakfast wifi standard</td>\n",
              "      <td>4.3</td>\n",
              "      <td>5.0</td>\n",
              "      <td>0.3890</td>\n",
              "      <td>Staff</td>\n",
              "      <td>pos</td>\n",
              "    </tr>\n",
              "  </tbody>\n",
              "</table>\n",
              "<p>300000 rows × 6 columns</p>\n",
              "</div>"
            ],
            "text/plain": [
              "                                             Review_Title  ...  Review_Rate\n",
              "0       pleasure this nights recently. This perfect ev...  ...          pos\n",
              "1       very lovely first visit this iconic bar! Wonde...  ...          pos\n",
              "2       Rhodes Hotel nights, location taking Paddingto...  ...          pos\n",
              "3       Form moment arrived until left experienced abs...  ...          pos\n",
              "4       Well strange London's 5star when comes along e...  ...          neg\n",
              "...                                                   ...  ...          ...\n",
              "299995  sauna Jacuzzi Staff were very helpful with tou...  ...          pos\n",
              "299996             Poor wifi connection Staff cleanliness  ...          pos\n",
              "299997  minute walk closest metro Very Friendly staff ...  ...          pos\n",
              "299998       shower cold near beach metro station walking  ...          neu\n",
              "299999   minutes walk Subway Good breakfast wifi standard  ...          pos\n",
              "\n",
              "[300000 rows x 6 columns]"
            ]
          },
          "metadata": {
            "tags": []
          },
          "execution_count": 6
        }
      ]
    },
    {
      "cell_type": "markdown",
      "metadata": {
        "id": "jGo-2qp5L-Vf",
        "colab_type": "text"
      },
      "source": [
        "Topic contribution of document"
      ]
    },
    {
      "cell_type": "code",
      "metadata": {
        "id": "XEynDvJrIcDX",
        "colab_type": "code",
        "colab": {
          "base_uri": "https://localhost:8080/",
          "height": 399
        },
        "outputId": "5441db5f-2fff-489b-925f-9ff2a7c761e7"
      },
      "source": [
        "r2=r1[['Review_Title','Review_Rate','dominant_topic_Label','Dominant_Topic','Topic_Perc_Contrib']]\n",
        "r2"
      ],
      "execution_count": 7,
      "outputs": [
        {
          "output_type": "execute_result",
          "data": {
            "text/html": [
              "<div>\n",
              "<style scoped>\n",
              "    .dataframe tbody tr th:only-of-type {\n",
              "        vertical-align: middle;\n",
              "    }\n",
              "\n",
              "    .dataframe tbody tr th {\n",
              "        vertical-align: top;\n",
              "    }\n",
              "\n",
              "    .dataframe thead th {\n",
              "        text-align: right;\n",
              "    }\n",
              "</style>\n",
              "<table border=\"1\" class=\"dataframe\">\n",
              "  <thead>\n",
              "    <tr style=\"text-align: right;\">\n",
              "      <th></th>\n",
              "      <th>Review_Title</th>\n",
              "      <th>Review_Rate</th>\n",
              "      <th>dominant_topic_Label</th>\n",
              "      <th>Dominant_Topic</th>\n",
              "      <th>Topic_Perc_Contrib</th>\n",
              "    </tr>\n",
              "  </thead>\n",
              "  <tbody>\n",
              "    <tr>\n",
              "      <th>0</th>\n",
              "      <td>pleasure this nights recently. This perfect ev...</td>\n",
              "      <td>pos</td>\n",
              "      <td>Facilities,Location</td>\n",
              "      <td>10.0</td>\n",
              "      <td>0.2093</td>\n",
              "    </tr>\n",
              "    <tr>\n",
              "      <th>1</th>\n",
              "      <td>very lovely first visit this iconic bar! Wonde...</td>\n",
              "      <td>pos</td>\n",
              "      <td>Service</td>\n",
              "      <td>11.0</td>\n",
              "      <td>0.3978</td>\n",
              "    </tr>\n",
              "    <tr>\n",
              "      <th>2</th>\n",
              "      <td>Rhodes Hotel nights, location taking Paddingto...</td>\n",
              "      <td>pos</td>\n",
              "      <td>Staff</td>\n",
              "      <td>5.0</td>\n",
              "      <td>0.3910</td>\n",
              "    </tr>\n",
              "    <tr>\n",
              "      <th>3</th>\n",
              "      <td>Form moment arrived until left experienced abs...</td>\n",
              "      <td>pos</td>\n",
              "      <td>Food, Service</td>\n",
              "      <td>6.0</td>\n",
              "      <td>0.1827</td>\n",
              "    </tr>\n",
              "    <tr>\n",
              "      <th>4</th>\n",
              "      <td>Well strange London's 5star when comes along e...</td>\n",
              "      <td>neg</td>\n",
              "      <td>Facilities</td>\n",
              "      <td>0.0</td>\n",
              "      <td>0.6617</td>\n",
              "    </tr>\n",
              "    <tr>\n",
              "      <th>...</th>\n",
              "      <td>...</td>\n",
              "      <td>...</td>\n",
              "      <td>...</td>\n",
              "      <td>...</td>\n",
              "      <td>...</td>\n",
              "    </tr>\n",
              "    <tr>\n",
              "      <th>299995</th>\n",
              "      <td>sauna Jacuzzi Staff were very helpful with tou...</td>\n",
              "      <td>pos</td>\n",
              "      <td>Staff</td>\n",
              "      <td>5.0</td>\n",
              "      <td>0.3264</td>\n",
              "    </tr>\n",
              "    <tr>\n",
              "      <th>299996</th>\n",
              "      <td>Poor wifi connection Staff cleanliness</td>\n",
              "      <td>pos</td>\n",
              "      <td>Staff</td>\n",
              "      <td>5.0</td>\n",
              "      <td>0.2948</td>\n",
              "    </tr>\n",
              "    <tr>\n",
              "      <th>299997</th>\n",
              "      <td>minute walk closest metro Very Friendly staff ...</td>\n",
              "      <td>pos</td>\n",
              "      <td>Staff</td>\n",
              "      <td>5.0</td>\n",
              "      <td>0.3911</td>\n",
              "    </tr>\n",
              "    <tr>\n",
              "      <th>299998</th>\n",
              "      <td>shower cold near beach metro station walking</td>\n",
              "      <td>neu</td>\n",
              "      <td>Staff</td>\n",
              "      <td>5.0</td>\n",
              "      <td>0.2764</td>\n",
              "    </tr>\n",
              "    <tr>\n",
              "      <th>299999</th>\n",
              "      <td>minutes walk Subway Good breakfast wifi standard</td>\n",
              "      <td>pos</td>\n",
              "      <td>Staff</td>\n",
              "      <td>5.0</td>\n",
              "      <td>0.3890</td>\n",
              "    </tr>\n",
              "  </tbody>\n",
              "</table>\n",
              "<p>300000 rows × 5 columns</p>\n",
              "</div>"
            ],
            "text/plain": [
              "                                             Review_Title  ... Topic_Perc_Contrib\n",
              "0       pleasure this nights recently. This perfect ev...  ...             0.2093\n",
              "1       very lovely first visit this iconic bar! Wonde...  ...             0.3978\n",
              "2       Rhodes Hotel nights, location taking Paddingto...  ...             0.3910\n",
              "3       Form moment arrived until left experienced abs...  ...             0.1827\n",
              "4       Well strange London's 5star when comes along e...  ...             0.6617\n",
              "...                                                   ...  ...                ...\n",
              "299995  sauna Jacuzzi Staff were very helpful with tou...  ...             0.3264\n",
              "299996             Poor wifi connection Staff cleanliness  ...             0.2948\n",
              "299997  minute walk closest metro Very Friendly staff ...  ...             0.3911\n",
              "299998       shower cold near beach metro station walking  ...             0.2764\n",
              "299999   minutes walk Subway Good breakfast wifi standard  ...             0.3890\n",
              "\n",
              "[300000 rows x 5 columns]"
            ]
          },
          "metadata": {
            "tags": []
          },
          "execution_count": 7
        }
      ]
    },
    {
      "cell_type": "code",
      "metadata": {
        "id": "X5RavdsrIcKc",
        "colab_type": "code",
        "colab": {
          "base_uri": "https://localhost:8080/",
          "height": 987
        },
        "outputId": "ac0e4a3b-2148-4d9b-b44a-bfa7fa46887c"
      },
      "source": [
        "r2.groupby('dominant_topic_Label').Review_Title.count().plot.bar(ylim=0)\n",
        "\n",
        "plt.show()\n",
        "r2.groupby('Review_Rate').Review_Title.count().plot.bar(ylim=0)\n",
        "plt.show()\n",
        "r2.groupby('Dominant_Topic').Review_Title.count().plot.bar(ylim=0)\n",
        "r2.groupby('dominant_topic_Label').Review_Title.count().plot.bar(xlim=0)\n",
        "plt.show()"
      ],
      "execution_count": 8,
      "outputs": [
        {
          "output_type": "display_data",
          "data": {
            "image/png": "[encoded data removed]",
            "text/plain": [
              "<Figure size 432x288 with 1 Axes>"
            ]
          },
          "metadata": {
            "tags": [],
            "needs_background": "light"
          }
        },
        {
          "output_type": "display_data",
          "data": {
            "image/png": "[encoded data removed]",
            "text/plain": [
              "<Figure size 432x288 with 1 Axes>"
            ]
          },
          "metadata": {
            "tags": [],
            "needs_background": "light"
          }
        },
        {
          "output_type": "display_data",
          "data": {
            "image/png": "[encoded data removed]",
            "text/plain": [
              "<Figure size 432x288 with 1 Axes>"
            ]
          },
          "metadata": {
            "tags": [],
            "needs_background": "light"
          }
        }
      ]
    },
    {
      "cell_type": "markdown",
      "metadata": {
        "id": "K7TvSEeEMJFT",
        "colab_type": "text"
      },
      "source": [
        "**Pre-processing**"
      ]
    },
    {
      "cell_type": "code",
      "metadata": {
        "id": "qrZE-YvFDbW-",
        "colab_type": "code",
        "colab": {}
      },
      "source": [
        "#pos tagging\n",
        "def get_wordnet_pos(word):\n",
        "    tag = nltk.pos_tag([word])[0][1][0].upper()\n",
        "    tag_dict = {\"J\": wordnet.ADJ,\n",
        "                \"N\": wordnet.NOUN,\n",
        "                \"V\": wordnet.VERB,\n",
        "                \"R\": wordnet.ADV}\n",
        "\n",
        "    return tag_dict.get(tag, wordnet.NOUN)"
      ],
      "execution_count": 9,
      "outputs": []
    },
    {
      "cell_type": "code",
      "metadata": {
        "id": "rIj-KbuQC8rv",
        "colab_type": "code",
        "colab": {}
      },
      "source": [
        "\n",
        "def preProcess(text):\n",
        "    # should return a list of tokens\n",
        "    \n",
        "    # word tokenisation, including punctuation removal\n",
        "    tokenizer = RegexpTokenizer(r'\\w+')\n",
        "    tokens = tokenizer.tokenize(text)\n",
        "    \n",
        "    # lowercasing\n",
        "    tokens = [t.lower() for t in tokens]\n",
        "\n",
        "    # stopword removal- benefits are it removes rare words, though bad for bigram relations\n",
        "    stop = set(stopwords.words('english'))\n",
        "    tokens = [t for t in tokens if t not in stop]\n",
        "\n",
        "    # remove numbers and empty space\n",
        "    digits = '0123456789'\n",
        "    text = [t for t in text if t not in digits]\n",
        "\n",
        "    \n",
        "    \n",
        "    # lemmatisation\n",
        "    lemmatiser = WordNetLemmatizer()\n",
        "    tokens = [lemmatiser.lemmatize(t, get_wordnet_pos(t)) for t in tokens]\n",
        "    tokens = [t for t in tokens if t] # ensure no empty space\n",
        "    \n",
        "    return tokens\n",
        "    "
      ],
      "execution_count": 10,
      "outputs": []
    },
    {
      "cell_type": "code",
      "metadata": {
        "id": "QnOnKXJzhnfZ",
        "colab_type": "code",
        "colab": {}
      },
      "source": [
        ""
      ],
      "execution_count": 10,
      "outputs": []
    },
    {
      "cell_type": "code",
      "metadata": {
        "id": "7Cfi5heaD6Ca",
        "colab_type": "code",
        "colab": {}
      },
      "source": [
        "\n",
        "def create_bigrams(word):\n",
        "    bigram = gensim.models.Phrases(word, min_count=2, threshold=30)\n",
        "    bigram_mod = gensim.models.phrases.Phraser(bigram)\n",
        "    return bigram_mod\n",
        "    "
      ],
      "execution_count": 11,
      "outputs": []
    },
    {
      "cell_type": "code",
      "metadata": {
        "id": "z5eKgmNOTSbA",
        "colab_type": "code",
        "colab": {}
      },
      "source": [
        "Processing=r2['Review_Title'].astype(str)"
      ],
      "execution_count": 12,
      "outputs": []
    },
    {
      "cell_type": "code",
      "metadata": {
        "id": "usV9GPR-D-Lj",
        "colab_type": "code",
        "colab": {}
      },
      "source": [
        "r2['processed'] = Processing.apply(preProcess)\n"
      ],
      "execution_count": 13,
      "outputs": []
    },
    {
      "cell_type": "code",
      "metadata": {
        "id": "UhTcTRGfSlP5",
        "colab_type": "code",
        "colab": {
          "base_uri": "https://localhost:8080/",
          "height": 168
        },
        "outputId": "5813bc77-8465-4d94-a696-cc74eb6f6818"
      },
      "source": [
        "r2.astype(str)"
      ],
      "execution_count": 2,
      "outputs": [
        {
          "output_type": "error",
          "ename": "NameError",
          "evalue": "ignored",
          "traceback": [
            "\u001b[0;31m---------------------------------------------------------------------------\u001b[0m",
            "\u001b[0;31mNameError\u001b[0m                                 Traceback (most recent call last)",
            "\u001b[0;32m<ipython-input-2-3e63079af1ea>\u001b[0m in \u001b[0;36m<module>\u001b[0;34m()\u001b[0m\n\u001b[0;32m----> 1\u001b[0;31m \u001b[0mr2\u001b[0m\u001b[0;34m.\u001b[0m\u001b[0mastype\u001b[0m\u001b[0;34m(\u001b[0m\u001b[0mstr\u001b[0m\u001b[0;34m)\u001b[0m\u001b[0;34m\u001b[0m\u001b[0;34m\u001b[0m\u001b[0m\n\u001b[0m",
            "\u001b[0;31mNameError\u001b[0m: name 'r2' is not defined"
          ]
        }
      ]
    },
    {
      "cell_type": "code",
      "metadata": {
        "id": "_Uiid3qy9Be7",
        "colab_type": "code",
        "colab": {}
      },
      "source": [
        "r3=r2['dominant_topic_Label'].astype(str)"
      ],
      "execution_count": 15,
      "outputs": []
    },
    {
      "cell_type": "code",
      "metadata": {
        "id": "wDbXt8aiNHis",
        "colab_type": "code",
        "colab": {}
      },
      "source": [
        "r4=r2['Dominant_Topic'].astype(str)"
      ],
      "execution_count": 16,
      "outputs": []
    },
    {
      "cell_type": "markdown",
      "metadata": {
        "id": "vVpfRMy2wDL0",
        "colab_type": "text"
      },
      "source": [
        ""
      ]
    },
    {
      "cell_type": "code",
      "metadata": {
        "id": "6qpT44pONMNn",
        "colab_type": "code",
        "colab": {
          "base_uri": "https://localhost:8080/",
          "height": 36
        },
        "outputId": "0c3d261f-df15-4163-e53a-95818ee2be1e"
      },
      "source": [
        "'''\n",
        "selection = ['5.0']\n",
        "\n",
        "mask = r4.apply(lambda x: any(item for item in selection if item in x))\n",
        "dfTopic_5= r2[mask]\n",
        "dfTopic_5\n",
        "'''"
      ],
      "execution_count": 17,
      "outputs": [
        {
          "output_type": "execute_result",
          "data": {
            "application/vnd.google.colaboratory.intrinsic+json": {
              "type": "string"
            },
            "text/plain": [
              "\"\\nselection = ['5.0']\\n\\nmask = r4.apply(lambda x: any(item for item in selection if item in x))\\ndfTopic_5= r2[mask]\\ndfTopic_5\\n\""
            ]
          },
          "metadata": {
            "tags": []
          },
          "execution_count": 17
        }
      ]
    },
    {
      "cell_type": "code",
      "metadata": {
        "id": "2jeaDPZlrGV5",
        "colab_type": "code",
        "colab": {
          "base_uri": "https://localhost:8080/",
          "height": 36
        },
        "outputId": "3935bfaf-75a9-4c40-8157-d0f6c6fd1fc3"
      },
      "source": [
        "'''\n",
        "dfTopic_5.groupby('Review_Rate').Review_Title.count().plot.bar(ylim=0)\n",
        "plt.show()\n",
        "'''"
      ],
      "execution_count": 18,
      "outputs": [
        {
          "output_type": "execute_result",
          "data": {
            "application/vnd.google.colaboratory.intrinsic+json": {
              "type": "string"
            },
            "text/plain": [
              "\"\\ndfTopic_5.groupby('Review_Rate').Review_Title.count().plot.bar(ylim=0)\\nplt.show()\\n\""
            ]
          },
          "metadata": {
            "tags": []
          },
          "execution_count": 18
        }
      ]
    },
    {
      "cell_type": "code",
      "metadata": {
        "id": "AYE0KV3oNreo",
        "colab_type": "code",
        "colab": {
          "base_uri": "https://localhost:8080/",
          "height": 142
        },
        "outputId": "9fbf5c6e-65e8-4916-caa5-7cf77a770961"
      },
      "source": [
        "'''\n",
        "from sklearn.model_selection import train_test_split\n",
        "from sklearn.metrics import classification_report, confusion_matrix\n",
        "\n",
        "In_var = r2.processed[:217470].astype(str)\n",
        "dep_var = dfTopic_5.Review_Rate.astype(str)\n",
        "\n",
        "X_train,X_test,y_train,y_test= train_test_split(In_var,dep_var,test_size=0.2,random_state=225)\n",
        "\n",
        "print('X_train :', len(X_train))\n",
        "print('X_test :', len(X_test))\n",
        "print('y_train :', len(y_train))\n",
        "print('y_test :', len(y_test))\n",
        "\n",
        "tvec = TfidfVectorizer()\n",
        "clf3 = LogisticRegression(solver ='lbfgs')\n",
        "model1 = Pipeline([('Vectorizer', tvec),('classifier',clf3)])\n",
        "\n",
        "model1.fit(X_train,y_train)\n",
        "\n",
        "from sklearn.metrics import confusion_matrix\n",
        "\n",
        "predictions_LR = model1.predict(X_test)\n",
        "confusion_matrix_LR = (predictions_LR,y_test)\n",
        "\n",
        "print('\\nAccuracy Staff LR:', accuracy_score(predictions_LR,y_test))\n",
        "print('Precission :', precision_score(predictions_LR,y_test,average ='weighted'))\n",
        "print('Recall :', recall_score(predictions_LR,y_test,average='weighted'))\n",
        "\n",
        "print(confusion_matrix(y_test, predictions_LR))\n",
        "print(classification_report(y_test,predictions_LR))\n",
        "#plt.scatter(X_test, y_test,  color='black')\n",
        "#plt.plot(X_test, predictions_LR, color='blue', linewidth=3)\n",
        "#plt.xticks(())\n",
        "#plt.yticks(())\n",
        "#plt.show()\n",
        "\n",
        "from sklearn.naive_bayes import MultinomialNB\n",
        "clf4 = MultinomialNB()\n",
        "model2 = Pipeline([('Vectorizer', tvec),('classifier',clf4)])\n",
        "\n",
        "model2.fit(X_train, y_train)\n",
        "from sklearn.metrics import confusion_matrix\n",
        "\n",
        "predictions_NB = model2.predict(X_test)\n",
        "confusion_matrix_NB = (predictions_NB,y_test)\n",
        "\n",
        "print('\\nAccuracy Staff NB :', accuracy_score(predictions_NB,y_test))\n",
        "print('Precission :', precision_score(predictions_NB,y_test,average ='weighted'))\n",
        "print('Recall :', recall_score(predictions_NB,y_test,average='weighted'))\n",
        "print('f1_score :',f1_score(y_test, predictions_NB, average=\"macro\"))\n",
        "\n",
        "from sklearn.metrics import classification_report, confusion_matrix\n",
        "print(confusion_matrix(y_test, predictions_NB))\n",
        "print(classification_report(y_test,predictions_NB))\n",
        "\n",
        "clf3=LinearSVC()\n",
        "model3 = Pipeline([('Vectorizer', tvec),('classifier',clf3)])\n",
        "model3.fit(X_train,y_train)\n",
        "predictions_SVC = model3.predict(X_test)\n",
        "confusion_matrix_SVC = (predictions_SVC,y_test)\n",
        "\n",
        "print('\\nAccuracy Staff SVC:', accuracy_score(predictions_SVC,y_test))\n",
        "print('Precission :', precision_score(predictions_SVC,y_test,average ='weighted'))\n",
        "print('Recall :', recall_score(predictions_SVC,y_test,average='weighted'))\n",
        "\n",
        "from sklearn.metrics import classification_report, confusion_matrix\n",
        "print(confusion_matrix( predictions_SVC,y_test))\n",
        "print(classification_report(predictions_SVC,y_test))\n",
        "\n",
        "clf5 = DecisionTreeClassifier()\n",
        "model4 = Pipeline([('Vectorizer', tvec),('classifier',clf5)])\n",
        "\n",
        "model4.fit(X_train, y_train)\n",
        "from sklearn.metrics import confusion_matrix\n",
        "\n",
        "predictions_DT = model4.predict(X_test)\n",
        "confusion_matrix_DT = (predictions_DT,y_test)\n",
        "\n",
        "print('\\nAccuracy Staff DT :', accuracy_score(predictions_DT,y_test))\n",
        "print('Precission :', precision_score(predictions_DT,y_test,average ='weighted'))\n",
        "print('Recall :', recall_score(predictions_DT,y_test,average='weighted'))\n",
        "'''"
      ],
      "execution_count": 19,
      "outputs": [
        {
          "output_type": "execute_result",
          "data": {
            "application/vnd.google.colaboratory.intrinsic+json": {
              "type": "string"
            },
            "text/plain": [
              "'\\nfrom sklearn.model_selection import train_test_split\\nfrom sklearn.metrics import classification_report, confusion_matrix\\n\\nIn_var = r2.processed[:217470].astype(str)\\ndep_var = dfTopic_5.Review_Rate.astype(str)\\n\\nX_train,X_test,y_train,y_test= train_test_split(In_var,dep_var,test_size=0.2,random_state=225)\\n\\nprint(\\'X_train :\\', len(X_train))\\nprint(\\'X_test :\\', len(X_test))\\nprint(\\'y_train :\\', len(y_train))\\nprint(\\'y_test :\\', len(y_test))\\n\\ntvec = TfidfVectorizer()\\nclf3 = LogisticRegression(solver =\\'lbfgs\\')\\nmodel1 = Pipeline([(\\'Vectorizer\\', tvec),(\\'classifier\\',clf3)])\\n\\nmodel1.fit(X_train,y_train)\\n\\nfrom sklearn.metrics import confusion_matrix\\n\\npredictions_LR = model1.predict(X_test)\\nconfusion_matrix_LR = (predictions_LR,y_test)\\n\\nprint(\\'\\nAccuracy Staff LR:\\', accuracy_score(predictions_LR,y_test))\\nprint(\\'Precission :\\', precision_score(predictions_LR,y_test,average =\\'weighted\\'))\\nprint(\\'Recall :\\', recall_score(predictions_LR,y_test,average=\\'weighted\\'))\\n\\nprint(confusion_matrix(y_test, predictions_LR))\\nprint(classification_report(y_test,predictions_LR))\\n#plt.scatter(X_test, y_test,  color=\\'black\\')\\n#plt.plot(X_test, predictions_LR, color=\\'blue\\', linewidth=3)\\n#plt.xticks(())\\n#plt.yticks(())\\n#plt.show()\\n\\nfrom sklearn.naive_bayes import MultinomialNB\\nclf4 = MultinomialNB()\\nmodel2 = Pipeline([(\\'Vectorizer\\', tvec),(\\'classifier\\',clf4)])\\n\\nmodel2.fit(X_train, y_train)\\nfrom sklearn.metrics import confusion_matrix\\n\\npredictions_NB = model2.predict(X_test)\\nconfusion_matrix_NB = (predictions_NB,y_test)\\n\\nprint(\\'\\nAccuracy Staff NB :\\', accuracy_score(predictions_NB,y_test))\\nprint(\\'Precission :\\', precision_score(predictions_NB,y_test,average =\\'weighted\\'))\\nprint(\\'Recall :\\', recall_score(predictions_NB,y_test,average=\\'weighted\\'))\\nprint(\\'f1_score :\\',f1_score(y_test, predictions_NB, average=\"macro\"))\\n\\nfrom sklearn.metrics import classification_report, confusion_matrix\\nprint(confusion_matrix(y_test, predictions_NB))\\nprint(classification_report(y_test,predictions_NB))\\n\\nclf3=LinearSVC()\\nmodel3 = Pipeline([(\\'Vectorizer\\', tvec),(\\'classifier\\',clf3)])\\nmodel3.fit(X_train,y_train)\\npredictions_SVC = model3.predict(X_test)\\nconfusion_matrix_SVC = (predictions_SVC,y_test)\\n\\nprint(\\'\\nAccuracy Staff SVC:\\', accuracy_score(predictions_SVC,y_test))\\nprint(\\'Precission :\\', precision_score(predictions_SVC,y_test,average =\\'weighted\\'))\\nprint(\\'Recall :\\', recall_score(predictions_SVC,y_test,average=\\'weighted\\'))\\n\\nfrom sklearn.metrics import classification_report, confusion_matrix\\nprint(confusion_matrix( predictions_SVC,y_test))\\nprint(classification_report(predictions_SVC,y_test))\\n\\nclf5 = DecisionTreeClassifier()\\nmodel4 = Pipeline([(\\'Vectorizer\\', tvec),(\\'classifier\\',clf5)])\\n\\nmodel4.fit(X_train, y_train)\\nfrom sklearn.metrics import confusion_matrix\\n\\npredictions_DT = model4.predict(X_test)\\nconfusion_matrix_DT = (predictions_DT,y_test)\\n\\nprint(\\'\\nAccuracy Staff DT :\\', accuracy_score(predictions_DT,y_test))\\nprint(\\'Precission :\\', precision_score(predictions_DT,y_test,average =\\'weighted\\'))\\nprint(\\'Recall :\\', recall_score(predictions_DT,y_test,average=\\'weighted\\'))\\n'"
            ]
          },
          "metadata": {
            "tags": []
          },
          "execution_count": 19
        }
      ]
    },
    {
      "cell_type": "markdown",
      "metadata": {
        "id": "4i9V5o91LXrb",
        "colab_type": "text"
      },
      "source": [
        "###*Calculate metrics for each label, and find their average weighted by support (the number of true instances for each label)*"
      ]
    },
    {
      "cell_type": "markdown",
      "metadata": {
        "id": "C4wZXJWHOK0V",
        "colab_type": "text"
      },
      "source": [
        "**Sentiment Analysis/Evaluation method**"
      ]
    },
    {
      "cell_type": "markdown",
      "metadata": {
        "id": "_DgA_DuMN0-q",
        "colab_type": "text"
      },
      "source": [
        "**Topic(Sub-group)--Faclilties**"
      ]
    },
    {
      "cell_type": "code",
      "metadata": {
        "id": "ZcK_o1dx9rn3",
        "colab_type": "code",
        "colab": {
          "base_uri": "https://localhost:8080/",
          "height": 399
        },
        "outputId": "b88664a8-91a0-47d4-841a-5f9638a3af6c"
      },
      "source": [
        "selection = ['Facilities']\n",
        "\n",
        "mask = r3.apply(lambda x: any(item for item in selection if item in x))\n",
        "dfFacilities = r2[mask]\n",
        "dfFacilities"
      ],
      "execution_count": 20,
      "outputs": [
        {
          "output_type": "execute_result",
          "data": {
            "text/html": [
              "<div>\n",
              "<style scoped>\n",
              "    .dataframe tbody tr th:only-of-type {\n",
              "        vertical-align: middle;\n",
              "    }\n",
              "\n",
              "    .dataframe tbody tr th {\n",
              "        vertical-align: top;\n",
              "    }\n",
              "\n",
              "    .dataframe thead th {\n",
              "        text-align: right;\n",
              "    }\n",
              "</style>\n",
              "<table border=\"1\" class=\"dataframe\">\n",
              "  <thead>\n",
              "    <tr style=\"text-align: right;\">\n",
              "      <th></th>\n",
              "      <th>Review_Title</th>\n",
              "      <th>Review_Rate</th>\n",
              "      <th>dominant_topic_Label</th>\n",
              "      <th>Dominant_Topic</th>\n",
              "      <th>Topic_Perc_Contrib</th>\n",
              "      <th>processed</th>\n",
              "    </tr>\n",
              "  </thead>\n",
              "  <tbody>\n",
              "    <tr>\n",
              "      <th>0</th>\n",
              "      <td>pleasure this nights recently. This perfect ev...</td>\n",
              "      <td>pos</td>\n",
              "      <td>Facilities,Location</td>\n",
              "      <td>10.0</td>\n",
              "      <td>0.2093</td>\n",
              "      <td>[pleasure, night, recently, perfect, every, wa...</td>\n",
              "    </tr>\n",
              "    <tr>\n",
              "      <th>4</th>\n",
              "      <td>Well strange London's 5star when comes along e...</td>\n",
              "      <td>neg</td>\n",
              "      <td>Facilities</td>\n",
              "      <td>0.0</td>\n",
              "      <td>0.6617</td>\n",
              "      <td>[well, strange, london, 5star, come, along, ea...</td>\n",
              "    </tr>\n",
              "    <tr>\n",
              "      <th>6</th>\n",
              "      <td>Already stepping taxi that very special feelin...</td>\n",
              "      <td>pos</td>\n",
              "      <td>Facilities</td>\n",
              "      <td>0.0</td>\n",
              "      <td>0.4727</td>\n",
              "      <td>[already, step, taxi, special, feel, welcome, ...</td>\n",
              "    </tr>\n",
              "    <tr>\n",
              "      <th>8</th>\n",
              "      <td>Savoy Savoy, every came back real surprise tha...</td>\n",
              "      <td>pos</td>\n",
              "      <td>Facilities</td>\n",
              "      <td>0.0</td>\n",
              "      <td>0.2475</td>\n",
              "      <td>[savoy, savoy, every, come, back, real, surpri...</td>\n",
              "    </tr>\n",
              "    <tr>\n",
              "      <th>9</th>\n",
              "      <td>location next park close Harvey Harrods means ...</td>\n",
              "      <td>pos</td>\n",
              "      <td>Facilities</td>\n",
              "      <td>0.0</td>\n",
              "      <td>0.2880</td>\n",
              "      <td>[location, next, park, close, harvey, harrod, ...</td>\n",
              "    </tr>\n",
              "    <tr>\n",
              "      <th>...</th>\n",
              "      <td>...</td>\n",
              "      <td>...</td>\n",
              "      <td>...</td>\n",
              "      <td>...</td>\n",
              "      <td>...</td>\n",
              "      <td>...</td>\n",
              "    </tr>\n",
              "    <tr>\n",
              "      <th>299941</th>\n",
              "      <td>Location beach easy around stop right outside</td>\n",
              "      <td>pos</td>\n",
              "      <td>Facilities,Location</td>\n",
              "      <td>10.0</td>\n",
              "      <td>0.5087</td>\n",
              "      <td>[location, beach, easy, around, stop, right, o...</td>\n",
              "    </tr>\n",
              "    <tr>\n",
              "      <th>299963</th>\n",
              "      <td>Parking easy this area only parking should use...</td>\n",
              "      <td>pos</td>\n",
              "      <td>Facilities,Location</td>\n",
              "      <td>10.0</td>\n",
              "      <td>0.3596</td>\n",
              "      <td>[parking, easy, area, parking, useful, expensi...</td>\n",
              "    </tr>\n",
              "    <tr>\n",
              "      <th>299967</th>\n",
              "      <td>couple problems with lighting thankfully these...</td>\n",
              "      <td>neu</td>\n",
              "      <td>Facilities</td>\n",
              "      <td>0.0</td>\n",
              "      <td>0.3603</td>\n",
              "      <td>[couple, problem, light, thankfully, quickly, ...</td>\n",
              "    </tr>\n",
              "    <tr>\n",
              "      <th>299989</th>\n",
              "      <td>when arrived reception change linens they said...</td>\n",
              "      <td>pos</td>\n",
              "      <td>Facilities</td>\n",
              "      <td>0.0</td>\n",
              "      <td>0.4154</td>\n",
              "      <td>[arrive, reception, change, linen, say, really...</td>\n",
              "    </tr>\n",
              "    <tr>\n",
              "      <th>299993</th>\n",
              "      <td>Buffet breakfast little ordinary Standard busi...</td>\n",
              "      <td>pos</td>\n",
              "      <td>Facilities,Location</td>\n",
              "      <td>10.0</td>\n",
              "      <td>0.2639</td>\n",
              "      <td>[buffet, breakfast, little, ordinary, standard...</td>\n",
              "    </tr>\n",
              "  </tbody>\n",
              "</table>\n",
              "<p>53678 rows × 6 columns</p>\n",
              "</div>"
            ],
            "text/plain": [
              "                                             Review_Title  ...                                          processed\n",
              "0       pleasure this nights recently. This perfect ev...  ...  [pleasure, night, recently, perfect, every, wa...\n",
              "4       Well strange London's 5star when comes along e...  ...  [well, strange, london, 5star, come, along, ea...\n",
              "6       Already stepping taxi that very special feelin...  ...  [already, step, taxi, special, feel, welcome, ...\n",
              "8       Savoy Savoy, every came back real surprise tha...  ...  [savoy, savoy, every, come, back, real, surpri...\n",
              "9       location next park close Harvey Harrods means ...  ...  [location, next, park, close, harvey, harrod, ...\n",
              "...                                                   ...  ...                                                ...\n",
              "299941      Location beach easy around stop right outside  ...  [location, beach, easy, around, stop, right, o...\n",
              "299963  Parking easy this area only parking should use...  ...  [parking, easy, area, parking, useful, expensi...\n",
              "299967  couple problems with lighting thankfully these...  ...  [couple, problem, light, thankfully, quickly, ...\n",
              "299989  when arrived reception change linens they said...  ...  [arrive, reception, change, linen, say, really...\n",
              "299993  Buffet breakfast little ordinary Standard busi...  ...  [buffet, breakfast, little, ordinary, standard...\n",
              "\n",
              "[53678 rows x 6 columns]"
            ]
          },
          "metadata": {
            "tags": []
          },
          "execution_count": 20
        }
      ]
    },
    {
      "cell_type": "code",
      "metadata": {
        "id": "-OR_tHooqhIZ",
        "colab_type": "code",
        "colab": {
          "base_uri": "https://localhost:8080/",
          "height": 289
        },
        "outputId": "c57efbaf-1b52-49bc-b834-fb7d9990af9f"
      },
      "source": [
        "dfFacilities.groupby('Review_Rate').Review_Title.count().plot.bar(ylim=0)\n",
        "plt.show()"
      ],
      "execution_count": 21,
      "outputs": [
        {
          "output_type": "display_data",
          "data": {
            "image/png": "[encoded data removed]",
            "text/plain": [
              "<Figure size 432x288 with 1 Axes>"
            ]
          },
          "metadata": {
            "tags": [],
            "needs_background": "light"
          }
        }
      ]
    },
    {
      "cell_type": "code",
      "metadata": {
        "id": "Xzvh9Sdy0rEC",
        "colab_type": "code",
        "colab": {
          "base_uri": "https://localhost:8080/",
          "height": 568
        },
        "outputId": "c150a066-ace5-4991-f229-f9e5aaddc932"
      },
      "source": [
        "from sklearn.model_selection import train_test_split\n",
        "from sklearn.metrics import accuracy_score,precision_score,recall_score,f1_score\n",
        "\n",
        "In_var = r2.processed[:53678].astype(str)\n",
        "dep_var = dfFacilities.Review_Rate.astype(str)\n",
        "\n",
        "X_train,X_test,y_train,y_test= train_test_split(In_var,dep_var,test_size=0.2,random_state=0)\n",
        "\n",
        "print('X_train :', len(X_train))\n",
        "print('X_test :', len(X_test))\n",
        "print('y_train :', len(y_train))\n",
        "print('y_test :', len(y_test))\n",
        "\n",
        "from sklearn.feature_extraction.text import TfidfVectorizer\n",
        "from sklearn.linear_model import LogisticRegression\n",
        "\n",
        "tvec = TfidfVectorizer()\n",
        "clf1 = LogisticRegression(solver ='lbfgs')\n",
        "model1 = Pipeline([('Vectorizer', tvec),('classifier',clf1)])\n",
        "\n",
        "model1.fit(X_train,y_train)\n",
        "\n",
        "from sklearn.metrics import confusion_matrix\n",
        "\n",
        "predictions = model1.predict(X_test)\n",
        "confusion_matrix = (predictions,y_test)\n",
        "\n",
        "print('Accuracy Facility LR:', accuracy_score(predictions,y_test))\n",
        "print('Precission :', precision_score(predictions,y_test,average ='weighted'))\n",
        "#Calculate metrics for each label, and find their average weighted by support (the number of true instances for each label)\n",
        "print('Recall :', recall_score(predictions,y_test,average='weighted'))\n",
        "print('f1_score :',f1_score(y_test, predictions, average=\"weighted\"))\n",
        "\n",
        "clf2 = MultinomialNB()\n",
        "model2 = Pipeline([('Vectorizer', tvec),('classifier',clf2)])\n",
        "model2.fit(X_train,y_train)\n",
        "predictions_NB = model2.predict(X_test)\n",
        "confusion_matrix_NB = (predictions_NB,y_test)\n",
        "\n",
        "from sklearn.pipeline import Pipeline\n",
        "\n",
        "from sklearn.metrics import accuracy_score,precision_score,recall_score\n",
        "\n",
        "print('\\nAccuracy Facility NB:', accuracy_score(predictions_NB,y_test))\n",
        "print('Precission :', precision_score(predictions_NB,y_test,average ='weighted'))\n",
        "print('Recall :', recall_score(predictions_NB,y_test,average='weighted'))\n",
        "print('f1_score :',f1_score(predictions_NB,y_test,  average=\"weighted\"))\n",
        "\n",
        "from sklearn.metrics import classification_report, confusion_matrix\n",
        "print(confusion_matrix(y_test, predictions_NB))\n",
        "print(classification_report(y_test,predictions_NB))\n",
        "\n",
        "\n",
        "from sklearn.svm import LinearSVC\n",
        "clf3=LinearSVC()\n",
        "model3 = Pipeline([('Vectorizer', tvec),('classifier',clf3)])\n",
        "model3.fit(X_train,y_train)\n",
        "predictions_SVC = model3.predict(X_test)\n",
        "confusion_matrix_SVC = (predictions_SVC,y_test)\n",
        "\n",
        "print('\\nAccuracy Facility SVC:', accuracy_score(predictions_SVC,y_test))\n",
        "print('Precission :', precision_score(predictions_SVC,y_test,average ='weighted'))\n",
        "print('Recall :', recall_score(predictions_SVC,y_test,average='weighted'))\n",
        "print('f1_score :',f1_score(predictions_SVC,y_test,  average=\"weighted\"))\n",
        "\n",
        "clf5 = DecisionTreeClassifier()\n",
        "model4 = Pipeline([('Vectorizer', tvec),('classifier',clf5)])\n",
        "\n",
        "model4.fit(X_train, y_train)\n",
        "from sklearn.metrics import confusion_matrix\n",
        "\n",
        "predictions_DT = model4.predict(X_test)\n",
        "confusion_matrix_DT = (predictions_DT,y_test)\n",
        "\n",
        "print('\\nAccuracy Facilities DT :', accuracy_score(predictions_DT,y_test))\n",
        "print('Precission :', precision_score(predictions_DT,y_test,average ='weighted'))\n",
        "print('Recall :', recall_score(predictions_DT,y_test,average='weighted'))\n",
        "print('f1_score :',f1_score(predictions_DT,y_test,  average=\"weighted\"))\n"
      ],
      "execution_count": 22,
      "outputs": [
        {
          "output_type": "stream",
          "text": [
            "X_train : 42942\n",
            "X_test : 10736\n",
            "y_train : 42942\n",
            "y_test : 10736\n"
          ],
          "name": "stdout"
        },
        {
          "output_type": "stream",
          "text": [
            "/usr/local/lib/python3.6/dist-packages/sklearn/linear_model/_logistic.py:940: ConvergenceWarning: lbfgs failed to converge (status=1):\n",
            "STOP: TOTAL NO. of ITERATIONS REACHED LIMIT.\n",
            "\n",
            "Increase the number of iterations (max_iter) or scale the data as shown in:\n",
            "    https://scikit-learn.org/stable/modules/preprocessing.html\n",
            "Please also refer to the documentation for alternative solver options:\n",
            "    https://scikit-learn.org/stable/modules/linear_model.html#logistic-regression\n",
            "  extra_warning_msg=_LOGISTIC_SOLVER_CONVERGENCE_MSG)\n"
          ],
          "name": "stderr"
        },
        {
          "output_type": "stream",
          "text": [
            "Accuracy Facility LR: 0.6313338301043219\n",
            "Precission : 0.964654150534769\n",
            "Recall : 0.6313338301043219\n",
            "f1_score : 0.5016275142234357\n",
            "\n",
            "Accuracy Facility NB: 0.6368293591654247\n",
            "Precission : 0.9910671394189277\n",
            "Recall : 0.6368293591654247\n",
            "f1_score : 0.7752042342057901\n",
            "\n",
            "Accuracy Facility SVC: 0.6081408345752608\n",
            "Precission : 0.8534874795193232\n",
            "Recall : 0.6081408345752608\n",
            "f1_score : 0.703521572897633\n",
            "\n",
            "Accuracy Facilities DT : 0.49543591654247393\n",
            "Precission : 0.5136746999231535\n",
            "Recall : 0.49543591654247393\n",
            "f1_score : 0.5040609134134556\n"
          ],
          "name": "stdout"
        }
      ]
    },
    {
      "cell_type": "markdown",
      "metadata": {
        "id": "gWNp5LvgOXBQ",
        "colab_type": "text"
      },
      "source": [
        "**Topic(Sub-group)--Price**"
      ]
    },
    {
      "cell_type": "code",
      "metadata": {
        "id": "JFaaShDr2ak6",
        "colab_type": "code",
        "colab": {
          "base_uri": "https://localhost:8080/",
          "height": 399
        },
        "outputId": "08adbaae-d436-4d52-ecdd-93557c85b510"
      },
      "source": [
        "selection = ['Price']\n",
        "\n",
        "mask = r3.apply(lambda x: any(item for item in selection if item in x))\n",
        "dfPrice = r2[mask]\n",
        "dfPrice"
      ],
      "execution_count": 23,
      "outputs": [
        {
          "output_type": "execute_result",
          "data": {
            "text/html": [
              "<div>\n",
              "<style scoped>\n",
              "    .dataframe tbody tr th:only-of-type {\n",
              "        vertical-align: middle;\n",
              "    }\n",
              "\n",
              "    .dataframe tbody tr th {\n",
              "        vertical-align: top;\n",
              "    }\n",
              "\n",
              "    .dataframe thead th {\n",
              "        text-align: right;\n",
              "    }\n",
              "</style>\n",
              "<table border=\"1\" class=\"dataframe\">\n",
              "  <thead>\n",
              "    <tr style=\"text-align: right;\">\n",
              "      <th></th>\n",
              "      <th>Review_Title</th>\n",
              "      <th>Review_Rate</th>\n",
              "      <th>dominant_topic_Label</th>\n",
              "      <th>Dominant_Topic</th>\n",
              "      <th>Topic_Perc_Contrib</th>\n",
              "      <th>processed</th>\n",
              "    </tr>\n",
              "  </thead>\n",
              "  <tbody>\n",
              "    <tr>\n",
              "      <th>440</th>\n",
              "      <td>Hotel Dorchester Park Lane Hyde Park eines ele...</td>\n",
              "      <td>pos</td>\n",
              "      <td>Price</td>\n",
              "      <td>12.0</td>\n",
              "      <td>0.1956</td>\n",
              "      <td>[hotel, dorchester, park, lane, hyde, park, ei...</td>\n",
              "    </tr>\n",
              "    <tr>\n",
              "      <th>478</th>\n",
              "      <td>After saving very hard; wanted treat \"once lif...</td>\n",
              "      <td>neu</td>\n",
              "      <td>Price</td>\n",
              "      <td>12.0</td>\n",
              "      <td>0.2506</td>\n",
              "      <td>[save, hard, want, treat, life, experience, sa...</td>\n",
              "    </tr>\n",
              "    <tr>\n",
              "      <th>552</th>\n",
              "      <td>pleasure Corinthia weeks brand trully luxury s...</td>\n",
              "      <td>pos</td>\n",
              "      <td>Price</td>\n",
              "      <td>12.0</td>\n",
              "      <td>0.1878</td>\n",
              "      <td>[pleasure, corinthia, week, brand, trully, lux...</td>\n",
              "    </tr>\n",
              "    <tr>\n",
              "      <th>651</th>\n",
              "      <td>I've this before knew exactly what expect. sta...</td>\n",
              "      <td>pos</td>\n",
              "      <td>Price</td>\n",
              "      <td>12.0</td>\n",
              "      <td>0.2427</td>\n",
              "      <td>[knew, exactly, expect, staff, wonderful, help...</td>\n",
              "    </tr>\n",
              "    <tr>\n",
              "      <th>695</th>\n",
              "      <td>Writing this last day. very impressive through...</td>\n",
              "      <td>pos</td>\n",
              "      <td>Price</td>\n",
              "      <td>12.0</td>\n",
              "      <td>0.3036</td>\n",
              "      <td>[write, last, day, impressive, drink, pricey, ...</td>\n",
              "    </tr>\n",
              "    <tr>\n",
              "      <th>...</th>\n",
              "      <td>...</td>\n",
              "      <td>...</td>\n",
              "      <td>...</td>\n",
              "      <td>...</td>\n",
              "      <td>...</td>\n",
              "      <td>...</td>\n",
              "    </tr>\n",
              "    <tr>\n",
              "      <th>299405</th>\n",
              "      <td>when booked cost know only still cost that was...</td>\n",
              "      <td>pos</td>\n",
              "      <td>Price</td>\n",
              "      <td>12.0</td>\n",
              "      <td>0.2753</td>\n",
              "      <td>[book, cost, know, still, cost, expect, mini, ...</td>\n",
              "    </tr>\n",
              "    <tr>\n",
              "      <th>299597</th>\n",
              "      <td>everything star quality duvet particularly poo...</td>\n",
              "      <td>neu</td>\n",
              "      <td>Price</td>\n",
              "      <td>12.0</td>\n",
              "      <td>0.2690</td>\n",
              "      <td>[everything, star, quality, duvet, particularl...</td>\n",
              "    </tr>\n",
              "    <tr>\n",
              "      <th>299634</th>\n",
              "      <td>soul less part city with nothing much around S...</td>\n",
              "      <td>neg</td>\n",
              "      <td>Price</td>\n",
              "      <td>12.0</td>\n",
              "      <td>0.2129</td>\n",
              "      <td>[soul, less, part, city, nothing, much, around...</td>\n",
              "    </tr>\n",
              "    <tr>\n",
              "      <th>299938</th>\n",
              "      <td>Expensive compared others better quality Showe...</td>\n",
              "      <td>pos</td>\n",
              "      <td>Price</td>\n",
              "      <td>12.0</td>\n",
              "      <td>0.3027</td>\n",
              "      <td>[expensive, compare, others, well, quality, sh...</td>\n",
              "    </tr>\n",
              "    <tr>\n",
              "      <th>299958</th>\n",
              "      <td>value money that paid Feel 4star missing Staff...</td>\n",
              "      <td>pos</td>\n",
              "      <td>Price</td>\n",
              "      <td>12.0</td>\n",
              "      <td>0.3101</td>\n",
              "      <td>[value, money, paid, feel, 4star, miss, staff,...</td>\n",
              "    </tr>\n",
              "  </tbody>\n",
              "</table>\n",
              "<p>1835 rows × 6 columns</p>\n",
              "</div>"
            ],
            "text/plain": [
              "                                             Review_Title  ...                                          processed\n",
              "440     Hotel Dorchester Park Lane Hyde Park eines ele...  ...  [hotel, dorchester, park, lane, hyde, park, ei...\n",
              "478     After saving very hard; wanted treat \"once lif...  ...  [save, hard, want, treat, life, experience, sa...\n",
              "552     pleasure Corinthia weeks brand trully luxury s...  ...  [pleasure, corinthia, week, brand, trully, lux...\n",
              "651     I've this before knew exactly what expect. sta...  ...  [knew, exactly, expect, staff, wonderful, help...\n",
              "695     Writing this last day. very impressive through...  ...  [write, last, day, impressive, drink, pricey, ...\n",
              "...                                                   ...  ...                                                ...\n",
              "299405  when booked cost know only still cost that was...  ...  [book, cost, know, still, cost, expect, mini, ...\n",
              "299597  everything star quality duvet particularly poo...  ...  [everything, star, quality, duvet, particularl...\n",
              "299634  soul less part city with nothing much around S...  ...  [soul, less, part, city, nothing, much, around...\n",
              "299938  Expensive compared others better quality Showe...  ...  [expensive, compare, others, well, quality, sh...\n",
              "299958  value money that paid Feel 4star missing Staff...  ...  [value, money, paid, feel, 4star, miss, staff,...\n",
              "\n",
              "[1835 rows x 6 columns]"
            ]
          },
          "metadata": {
            "tags": []
          },
          "execution_count": 23
        }
      ]
    },
    {
      "cell_type": "code",
      "metadata": {
        "id": "bVm9SNWpquho",
        "colab_type": "code",
        "colab": {
          "base_uri": "https://localhost:8080/",
          "height": 291
        },
        "outputId": "d8a82e42-91f2-477e-9aa7-4216b946d51e"
      },
      "source": [
        "dfPrice.groupby('Review_Rate').Review_Title.count().plot.bar(ylim=0)\n",
        "plt.show()"
      ],
      "execution_count": 24,
      "outputs": [
        {
          "output_type": "display_data",
          "data": {
            "image/png": "[encoded data removed]",
            "text/plain": [
              "<Figure size 432x288 with 1 Axes>"
            ]
          },
          "metadata": {
            "tags": [],
            "needs_background": "light"
          }
        }
      ]
    },
    {
      "cell_type": "code",
      "metadata": {
        "id": "Feu2Gk3n2aSu",
        "colab_type": "code",
        "colab": {
          "base_uri": "https://localhost:8080/",
          "height": 517
        },
        "outputId": "97def06b-12de-402e-bf2d-b3bb4cdef29d"
      },
      "source": [
        "from sklearn.model_selection import train_test_split\n",
        "\n",
        "In_var = r2.processed[:1835].astype(str)\n",
        "dep_var = dfPrice.Review_Rate.astype(str)\n",
        "\n",
        "X_train,X_test,y_train,y_test= train_test_split(In_var,dep_var,test_size=0.2,random_state=225)\n",
        "\n",
        "print('X_train :', len(X_train))\n",
        "print('X_test :', len(X_test))\n",
        "print('y_train :', len(y_train))\n",
        "print('y_test :', len(y_test))\n",
        "\n",
        "tvec = TfidfVectorizer()\n",
        "clf3 = LogisticRegression(solver ='lbfgs')\n",
        "model1 = Pipeline([('Vectorizer', tvec),('classifier',clf3)])\n",
        "\n",
        "model1.fit(X_train,y_train)\n",
        "\n",
        "from sklearn.metrics import confusion_matrix\n",
        "\n",
        "predictions = model1.predict(X_test)\n",
        "confusion_matrix = (predictions,y_test)\n",
        "\n",
        "print('Accuracy Price LR:', accuracy_score(predictions,y_test))\n",
        "print('Precission :', precision_score(predictions,y_test,average ='weighted'))\n",
        "print('Recall :', recall_score(predictions,y_test,average='weighted'))\n",
        "print('f1_score :',f1_score(predictions,y_test,  average=\"weighted\"))\n",
        "\n",
        "from sklearn.naive_bayes import MultinomialNB\n",
        "clf4 = MultinomialNB()\n",
        "model2 = Pipeline([('Vectorizer', tvec),('classifier',clf4)])\n",
        "\n",
        "model2.fit(X_train, y_train)\n",
        "from sklearn.metrics import confusion_matrix\n",
        "\n",
        "predictions_NB = model2.predict(X_test)\n",
        "confusion_matrix_NB = (predictions,y_test)\n",
        "\n",
        "print('\\nAccuracy Price NB :', accuracy_score(predictions_NB,y_test))\n",
        "print('Precission :', precision_score(predictions_NB,y_test,average ='weighted'))\n",
        "print('Recall :', recall_score(predictions_NB,y_test,average='weighted'))\n",
        "print('f1_score :',f1_score(predictions_NB,y_test,  average=\"weighted\"))\n",
        "\n",
        "from sklearn.metrics import classification_report, confusion_matrix\n",
        "print(confusion_matrix(y_test, predictions_NB))\n",
        "print(classification_report(y_test,predictions_NB))\n",
        "\n",
        "clf3=LinearSVC()\n",
        "model3 = Pipeline([('Vectorizer', tvec),('classifier',clf3)])\n",
        "model3.fit(X_train,y_train)\n",
        "predictions_SVC = model3.predict(X_test)\n",
        "confusion_matrix_SVC = (predictions_SVC,y_test)\n",
        "\n",
        "print('\\nAccuracy Price SVC:', accuracy_score(predictions_SVC,y_test))\n",
        "print('Precission :', precision_score(predictions_SVC,y_test,average ='weighted'))\n",
        "print('Recall :', recall_score(predictions_SVC,y_test,average='weighted'))\n",
        "print('f1_score :',f1_score(predictions_SVC,y_test,  average=\"weighted\"))\n",
        "\n",
        "clf5 = DecisionTreeClassifier()\n",
        "model4 = Pipeline([('Vectorizer', tvec),('classifier',clf5)])\n",
        "\n",
        "model4.fit(X_train, y_train)\n",
        "from sklearn.metrics import confusion_matrix\n",
        "\n",
        "predictions_DT = model4.predict(X_test)\n",
        "confusion_matrix_DT = (predictions_DT,y_test)\n",
        "\n",
        "print('\\nAccuracy Price DT :', accuracy_score(predictions_DT,y_test))\n",
        "print('Precission :', precision_score(predictions_DT,y_test,average ='weighted'))\n",
        "print('Recall :', recall_score(predictions_DT,y_test,average='weighted'))\n",
        "print('f1_score :',f1_score(predictions_DT,y_test,  average=\"weighted\"))"
      ],
      "execution_count": 25,
      "outputs": [
        {
          "output_type": "stream",
          "text": [
            "X_train : 1468\n",
            "X_test : 367\n",
            "y_train : 1468\n",
            "y_test : 367\n",
            "Accuracy Price LR: 0.6212534059945504\n",
            "Precission : 0.946571449280937\n",
            "Recall : 0.6212534059945504\n",
            "f1_score : 0.7485857514078612\n",
            "\n",
            "Accuracy Price NB : 0.6376021798365122\n",
            "Precission : 1.0\n",
            "Recall : 0.6376021798365122\n",
            "f1_score : 0.7787021630615641\n"
          ],
          "name": "stdout"
        },
        {
          "output_type": "stream",
          "text": [
            "/usr/local/lib/python3.6/dist-packages/sklearn/metrics/_classification.py:1272: UndefinedMetricWarning: Recall is ill-defined and being set to 0.0 in labels with no true samples. Use `zero_division` parameter to control this behavior.\n",
            "  _warn_prf(average, modifier, msg_start, len(result))\n",
            "/usr/local/lib/python3.6/dist-packages/sklearn/metrics/_classification.py:1272: UndefinedMetricWarning: Recall is ill-defined and being set to 0.0 in labels with no true samples. Use `zero_division` parameter to control this behavior.\n",
            "  _warn_prf(average, modifier, msg_start, len(result))\n"
          ],
          "name": "stderr"
        },
        {
          "output_type": "stream",
          "text": [
            "\n",
            "Accuracy Price SVC: 0.5504087193460491\n",
            "Precission : 0.6862655912498242\n",
            "Recall : 0.5504087193460491\n",
            "f1_score : 0.6058129407344698\n",
            "\n",
            "Accuracy Price DT : 0.5122615803814714\n",
            "Precission : 0.5309496111320806\n",
            "Recall : 0.5122615803814714\n",
            "f1_score : 0.5210275711035462\n"
          ],
          "name": "stdout"
        }
      ]
    },
    {
      "cell_type": "markdown",
      "metadata": {
        "id": "13S15kt3Oe_Q",
        "colab_type": "text"
      },
      "source": [
        "**Topic(Sub-group)--Staff**"
      ]
    },
    {
      "cell_type": "code",
      "metadata": {
        "id": "Dzx5cGPg8XZY",
        "colab_type": "code",
        "colab": {
          "base_uri": "https://localhost:8080/",
          "height": 399
        },
        "outputId": "71142e8f-67f1-43f1-abe2-0559d8fd9032"
      },
      "source": [
        "selection = ['Staff']\n",
        "\n",
        "mask = r3.apply(lambda x: any(item for item in selection if item in x))\n",
        "dfStaff = r2[mask]\n",
        "dfStaff"
      ],
      "execution_count": 26,
      "outputs": [
        {
          "output_type": "execute_result",
          "data": {
            "text/html": [
              "<div>\n",
              "<style scoped>\n",
              "    .dataframe tbody tr th:only-of-type {\n",
              "        vertical-align: middle;\n",
              "    }\n",
              "\n",
              "    .dataframe tbody tr th {\n",
              "        vertical-align: top;\n",
              "    }\n",
              "\n",
              "    .dataframe thead th {\n",
              "        text-align: right;\n",
              "    }\n",
              "</style>\n",
              "<table border=\"1\" class=\"dataframe\">\n",
              "  <thead>\n",
              "    <tr style=\"text-align: right;\">\n",
              "      <th></th>\n",
              "      <th>Review_Title</th>\n",
              "      <th>Review_Rate</th>\n",
              "      <th>dominant_topic_Label</th>\n",
              "      <th>Dominant_Topic</th>\n",
              "      <th>Topic_Perc_Contrib</th>\n",
              "      <th>processed</th>\n",
              "    </tr>\n",
              "  </thead>\n",
              "  <tbody>\n",
              "    <tr>\n",
              "      <th>2</th>\n",
              "      <td>Rhodes Hotel nights, location taking Paddingto...</td>\n",
              "      <td>pos</td>\n",
              "      <td>Staff</td>\n",
              "      <td>5.0</td>\n",
              "      <td>0.3910</td>\n",
              "      <td>[rhodes, hotel, night, location, take, padding...</td>\n",
              "    </tr>\n",
              "    <tr>\n",
              "      <th>5</th>\n",
              "      <td>staff were very helpful, booked wrong mistake ...</td>\n",
              "      <td>pos</td>\n",
              "      <td>Staff</td>\n",
              "      <td>5.0</td>\n",
              "      <td>0.3988</td>\n",
              "      <td>[staff, helpful, book, wrong, mistake, change,...</td>\n",
              "    </tr>\n",
              "    <tr>\n",
              "      <th>7</th>\n",
              "      <td>What incredibly cool place. most delicious int...</td>\n",
              "      <td>pos</td>\n",
              "      <td>Staff</td>\n",
              "      <td>5.0</td>\n",
              "      <td>0.3196</td>\n",
              "      <td>[incredibly, cool, place, delicious, interest,...</td>\n",
              "    </tr>\n",
              "    <tr>\n",
              "      <th>10</th>\n",
              "      <td>looking forward here high expections, what dow...</td>\n",
              "      <td>neg</td>\n",
              "      <td>Staff</td>\n",
              "      <td>5.0</td>\n",
              "      <td>0.2587</td>\n",
              "      <td>[look, forward, high, expections, connect, tak...</td>\n",
              "    </tr>\n",
              "    <tr>\n",
              "      <th>12</th>\n",
              "      <td>Corinthia that expect when read that five star...</td>\n",
              "      <td>pos</td>\n",
              "      <td>Staff</td>\n",
              "      <td>5.0</td>\n",
              "      <td>0.3822</td>\n",
              "      <td>[corinthia, expect, read, five, star, spacious...</td>\n",
              "    </tr>\n",
              "    <tr>\n",
              "      <th>...</th>\n",
              "      <td>...</td>\n",
              "      <td>...</td>\n",
              "      <td>...</td>\n",
              "      <td>...</td>\n",
              "      <td>...</td>\n",
              "      <td>...</td>\n",
              "    </tr>\n",
              "    <tr>\n",
              "      <th>299995</th>\n",
              "      <td>sauna Jacuzzi Staff were very helpful with tou...</td>\n",
              "      <td>pos</td>\n",
              "      <td>Staff</td>\n",
              "      <td>5.0</td>\n",
              "      <td>0.3264</td>\n",
              "      <td>[sauna, jacuzzi, staff, helpful, tourist, deta...</td>\n",
              "    </tr>\n",
              "    <tr>\n",
              "      <th>299996</th>\n",
              "      <td>Poor wifi connection Staff cleanliness</td>\n",
              "      <td>pos</td>\n",
              "      <td>Staff</td>\n",
              "      <td>5.0</td>\n",
              "      <td>0.2948</td>\n",
              "      <td>[poor, wifi, connection, staff, cleanliness]</td>\n",
              "    </tr>\n",
              "    <tr>\n",
              "      <th>299997</th>\n",
              "      <td>minute walk closest metro Very Friendly staff ...</td>\n",
              "      <td>pos</td>\n",
              "      <td>Staff</td>\n",
              "      <td>5.0</td>\n",
              "      <td>0.3911</td>\n",
              "      <td>[minute, walk, closest, metro, friendly, staff]</td>\n",
              "    </tr>\n",
              "    <tr>\n",
              "      <th>299998</th>\n",
              "      <td>shower cold near beach metro station walking</td>\n",
              "      <td>neu</td>\n",
              "      <td>Staff</td>\n",
              "      <td>5.0</td>\n",
              "      <td>0.2764</td>\n",
              "      <td>[shower, cold, near, beach, metro, station, walk]</td>\n",
              "    </tr>\n",
              "    <tr>\n",
              "      <th>299999</th>\n",
              "      <td>minutes walk Subway Good breakfast wifi standard</td>\n",
              "      <td>pos</td>\n",
              "      <td>Staff</td>\n",
              "      <td>5.0</td>\n",
              "      <td>0.3890</td>\n",
              "      <td>[minute, walk, subway, good, breakfast, wifi, ...</td>\n",
              "    </tr>\n",
              "  </tbody>\n",
              "</table>\n",
              "<p>218517 rows × 6 columns</p>\n",
              "</div>"
            ],
            "text/plain": [
              "                                             Review_Title  ...                                          processed\n",
              "2       Rhodes Hotel nights, location taking Paddingto...  ...  [rhodes, hotel, night, location, take, padding...\n",
              "5       staff were very helpful, booked wrong mistake ...  ...  [staff, helpful, book, wrong, mistake, change,...\n",
              "7       What incredibly cool place. most delicious int...  ...  [incredibly, cool, place, delicious, interest,...\n",
              "10      looking forward here high expections, what dow...  ...  [look, forward, high, expections, connect, tak...\n",
              "12      Corinthia that expect when read that five star...  ...  [corinthia, expect, read, five, star, spacious...\n",
              "...                                                   ...  ...                                                ...\n",
              "299995  sauna Jacuzzi Staff were very helpful with tou...  ...  [sauna, jacuzzi, staff, helpful, tourist, deta...\n",
              "299996             Poor wifi connection Staff cleanliness  ...       [poor, wifi, connection, staff, cleanliness]\n",
              "299997  minute walk closest metro Very Friendly staff ...  ...    [minute, walk, closest, metro, friendly, staff]\n",
              "299998       shower cold near beach metro station walking  ...  [shower, cold, near, beach, metro, station, walk]\n",
              "299999   minutes walk Subway Good breakfast wifi standard  ...  [minute, walk, subway, good, breakfast, wifi, ...\n",
              "\n",
              "[218517 rows x 6 columns]"
            ]
          },
          "metadata": {
            "tags": []
          },
          "execution_count": 26
        }
      ]
    },
    {
      "cell_type": "code",
      "metadata": {
        "id": "2zXG4WLH-daf",
        "colab_type": "code",
        "colab": {
          "base_uri": "https://localhost:8080/",
          "height": 289
        },
        "outputId": "a2410fec-475a-4cca-efc0-c734a53756ef"
      },
      "source": [
        "dfStaff.groupby('Review_Rate').Review_Title.count().plot.bar(ylim=0)\n",
        "plt.show()"
      ],
      "execution_count": 27,
      "outputs": [
        {
          "output_type": "display_data",
          "data": {
            "image/png": "[encoded data removed]",
            "text/plain": [
              "<Figure size 432x288 with 1 Axes>"
            ]
          },
          "metadata": {
            "tags": [],
            "needs_background": "light"
          }
        }
      ]
    },
    {
      "cell_type": "code",
      "metadata": {
        "id": "p6Amezucral7",
        "colab_type": "code",
        "colab": {
          "base_uri": "https://localhost:8080/",
          "height": 568
        },
        "outputId": "124ff775-a4ba-4923-f23f-602a3318d999"
      },
      "source": [
        "from sklearn.model_selection import train_test_split\n",
        "\n",
        "In_var = r2.processed[:218517].astype(str)\n",
        "dep_var = dfStaff.Review_Rate.astype(str)\n",
        "\n",
        "X_train,X_test,y_train,y_test= train_test_split(In_var,dep_var,test_size=0.2,random_state=225)\n",
        "\n",
        "print('X_train :', len(X_train))\n",
        "print('X_test :', len(X_test))\n",
        "print('y_train :', len(y_train))\n",
        "print('y_test :', len(y_test))\n",
        "\n",
        "tvec = TfidfVectorizer()\n",
        "clf3 = LogisticRegression(solver ='lbfgs')\n",
        "model1 = Pipeline([('Vectorizer', tvec),('classifier',clf3)])\n",
        "\n",
        "model1.fit(X_train,y_train)\n",
        "\n",
        "from sklearn.metrics import confusion_matrix\n",
        "\n",
        "predictions = model1.predict(X_test)\n",
        "confusion_matrix = (predictions,y_test)\n",
        "\n",
        "print('Accuracy Staff LR:', accuracy_score(predictions,y_test))\n",
        "print('Precission :', precision_score(predictions,y_test,average ='weighted'))\n",
        "print('Recall :', recall_score(predictions,y_test,average='weighted'))\n",
        "print('f1_score :',f1_score(predictions,y_test,  average=\"weighted\"))\n",
        "\n",
        "from sklearn.naive_bayes import MultinomialNB\n",
        "clf4 = MultinomialNB()\n",
        "model2 = Pipeline([('Vectorizer', tvec),('classifier',clf4)])\n",
        "\n",
        "model2.fit(X_train, y_train)\n",
        "from sklearn.metrics import confusion_matrix\n",
        "\n",
        "predictions_NB = model2.predict(X_test)\n",
        "confusion_matrix_NB = (predictions,y_test)\n",
        "\n",
        "print('\\nAccuracy Staff NB :', accuracy_score(predictions_NB,y_test))\n",
        "print('Precission :', precision_score(predictions_NB,y_test,average ='weighted'))\n",
        "print('Recall :', recall_score(predictions_NB,y_test,average='weighted'))\n",
        "print('f1_score :',f1_score(predictions_NB,y_test,  average=\"weighted\"))\n",
        "\n",
        "from sklearn.metrics import classification_report, confusion_matrix\n",
        "print(confusion_matrix(y_test, predictions_NB))\n",
        "print(classification_report(y_test,predictions_NB))\n",
        "\n",
        "clf3=LinearSVC()\n",
        "model3 = Pipeline([('Vectorizer', tvec),('classifier',clf3)])\n",
        "model3.fit(X_train,y_train)\n",
        "predictions_SVC = model3.predict(X_test)\n",
        "confusion_matrix_SVC = (predictions_SVC,y_test)\n",
        "\n",
        "print('\\nAccuracy Staff SVC:', accuracy_score(predictions_SVC,y_test))\n",
        "print('Precission :', precision_score(predictions_SVC,y_test,average ='weighted'))\n",
        "print('Recall :', recall_score(predictions_SVC,y_test,average='weighted'))\n",
        "print('f1_score :',f1_score(predictions_SVC,y_test,  average=\"weighted\"))\n",
        "\n",
        "clf5 = DecisionTreeClassifier()\n",
        "model4 = Pipeline([('Vectorizer', tvec),('classifier',clf5)])\n",
        "\n",
        "model4.fit(X_train, y_train)\n",
        "from sklearn.metrics import confusion_matrix\n",
        "\n",
        "predictions_DT = model4.predict(X_test)\n",
        "confusion_matrix_DT = (predictions_DT,y_test)\n",
        "\n",
        "print('\\nAccuracy Staff DT :', accuracy_score(predictions_DT,y_test))\n",
        "print('Precission :', precision_score(predictions_DT,y_test,average ='weighted'))\n",
        "print('Recall :', recall_score(predictions_DT,y_test,average='weighted'))\n",
        "print('f1_score :',f1_score(predictions_DT,y_test,  average=\"weighted\"))"
      ],
      "execution_count": 28,
      "outputs": [
        {
          "output_type": "stream",
          "text": [
            "X_train : 174813\n",
            "X_test : 43704\n",
            "y_train : 174813\n",
            "y_test : 43704\n"
          ],
          "name": "stdout"
        },
        {
          "output_type": "stream",
          "text": [
            "/usr/local/lib/python3.6/dist-packages/sklearn/linear_model/_logistic.py:940: ConvergenceWarning: lbfgs failed to converge (status=1):\n",
            "STOP: TOTAL NO. of ITERATIONS REACHED LIMIT.\n",
            "\n",
            "Increase the number of iterations (max_iter) or scale the data as shown in:\n",
            "    https://scikit-learn.org/stable/modules/preprocessing.html\n",
            "Please also refer to the documentation for alternative solver options:\n",
            "    https://scikit-learn.org/stable/modules/linear_model.html#logistic-regression\n",
            "  extra_warning_msg=_LOGISTIC_SOLVER_CONVERGENCE_MSG)\n"
          ],
          "name": "stderr"
        },
        {
          "output_type": "stream",
          "text": [
            "Accuracy Staff LR: 0.7624016108365367\n",
            "Precission : 0.9975906358965013\n",
            "Recall : 0.7624016108365367\n",
            "f1_score : 0.8641662076256424\n",
            "\n",
            "Accuracy Staff NB : 0.7620126304228446\n",
            "Precission : 0.9968507713435021\n",
            "Recall : 0.7620126304228446\n",
            "f1_score : 0.8636814418430524\n",
            "\n",
            "Accuracy Staff SVC: 0.757985539081091\n",
            "Precission : 0.982487786790182\n",
            "Recall : 0.757985539081091\n",
            "f1_score : 0.8548806670855972\n",
            "\n",
            "Accuracy Staff DT : 0.6449981695039355\n",
            "Precission : 0.6747144413629849\n",
            "Recall : 0.6449981695039355\n",
            "f1_score : 0.6591555026573359\n"
          ],
          "name": "stdout"
        }
      ]
    },
    {
      "cell_type": "markdown",
      "metadata": {
        "id": "-kPFOKrJOlSN",
        "colab_type": "text"
      },
      "source": [
        "**Topic(Sub-group)--Service**"
      ]
    },
    {
      "cell_type": "code",
      "metadata": {
        "id": "rAEXcUnrH6JA",
        "colab_type": "code",
        "colab": {
          "base_uri": "https://localhost:8080/",
          "height": 399
        },
        "outputId": "818ff4d7-5f9c-4762-cca4-b87db6816952"
      },
      "source": [
        "selection = ['Service']\n",
        "\n",
        "mask = r3.apply(lambda x: any(item for item in selection if item in x))\n",
        "dfService = r2[mask]\n",
        "dfService"
      ],
      "execution_count": 29,
      "outputs": [
        {
          "output_type": "execute_result",
          "data": {
            "text/html": [
              "<div>\n",
              "<style scoped>\n",
              "    .dataframe tbody tr th:only-of-type {\n",
              "        vertical-align: middle;\n",
              "    }\n",
              "\n",
              "    .dataframe tbody tr th {\n",
              "        vertical-align: top;\n",
              "    }\n",
              "\n",
              "    .dataframe thead th {\n",
              "        text-align: right;\n",
              "    }\n",
              "</style>\n",
              "<table border=\"1\" class=\"dataframe\">\n",
              "  <thead>\n",
              "    <tr style=\"text-align: right;\">\n",
              "      <th></th>\n",
              "      <th>Review_Title</th>\n",
              "      <th>Review_Rate</th>\n",
              "      <th>dominant_topic_Label</th>\n",
              "      <th>Dominant_Topic</th>\n",
              "      <th>Topic_Perc_Contrib</th>\n",
              "      <th>processed</th>\n",
              "    </tr>\n",
              "  </thead>\n",
              "  <tbody>\n",
              "    <tr>\n",
              "      <th>1</th>\n",
              "      <td>very lovely first visit this iconic bar! Wonde...</td>\n",
              "      <td>pos</td>\n",
              "      <td>Service</td>\n",
              "      <td>11.0</td>\n",
              "      <td>0.3978</td>\n",
              "      <td>[lovely, first, visit, iconic, bar, wonderful,...</td>\n",
              "    </tr>\n",
              "    <tr>\n",
              "      <th>3</th>\n",
              "      <td>Form moment arrived until left experienced abs...</td>\n",
              "      <td>pos</td>\n",
              "      <td>Food, Service</td>\n",
              "      <td>6.0</td>\n",
              "      <td>0.1827</td>\n",
              "      <td>[form, moment, arrive, left, experienced, abso...</td>\n",
              "    </tr>\n",
              "    <tr>\n",
              "      <th>16</th>\n",
              "      <td>amazing Mondrian wedding. total feedback from ...</td>\n",
              "      <td>pos</td>\n",
              "      <td>Service</td>\n",
              "      <td>11.0</td>\n",
              "      <td>0.2956</td>\n",
              "      <td>[amaze, mondrian, wedding, total, feedback, ev...</td>\n",
              "    </tr>\n",
              "    <tr>\n",
              "      <th>19</th>\n",
              "      <td>Nice visit didn't feel special. Upgraded super...</td>\n",
              "      <td>neu</td>\n",
              "      <td>Food, Service</td>\n",
              "      <td>6.0</td>\n",
              "      <td>0.2340</td>\n",
              "      <td>[nice, visit, feel, special, upgraded, superio...</td>\n",
              "    </tr>\n",
              "    <tr>\n",
              "      <th>25</th>\n",
              "      <td>This most wonderful Every little detail attend...</td>\n",
              "      <td>pos</td>\n",
              "      <td>Food, Service</td>\n",
              "      <td>6.0</td>\n",
              "      <td>0.2103</td>\n",
              "      <td>[wonderful, every, little, detail, attend, ala...</td>\n",
              "    </tr>\n",
              "    <tr>\n",
              "      <th>...</th>\n",
              "      <td>...</td>\n",
              "      <td>...</td>\n",
              "      <td>...</td>\n",
              "      <td>...</td>\n",
              "      <td>...</td>\n",
              "      <td>...</td>\n",
              "    </tr>\n",
              "    <tr>\n",
              "      <th>299459</th>\n",
              "      <td>complimentary soap bars blocks from beach dail...</td>\n",
              "      <td>pos</td>\n",
              "      <td>Service</td>\n",
              "      <td>3.0</td>\n",
              "      <td>0.2657</td>\n",
              "      <td>[complimentary, soap, bar, block, beach, daily...</td>\n",
              "    </tr>\n",
              "    <tr>\n",
              "      <th>299598</th>\n",
              "      <td>working getting very there were exausts wash r...</td>\n",
              "      <td>pos</td>\n",
              "      <td>Comfort, Service</td>\n",
              "      <td>1.0</td>\n",
              "      <td>0.3407</td>\n",
              "      <td>[work, get, exausts, wash, resturant, didnt, m...</td>\n",
              "    </tr>\n",
              "    <tr>\n",
              "      <th>299647</th>\n",
              "      <td>Everyday make decision between surfing interne...</td>\n",
              "      <td>pos</td>\n",
              "      <td>Service</td>\n",
              "      <td>3.0</td>\n",
              "      <td>0.1614</td>\n",
              "      <td>[everyday, make, decision, surf, internet, wif...</td>\n",
              "    </tr>\n",
              "    <tr>\n",
              "      <th>299747</th>\n",
              "      <td>Lunch food bland rich flavours menu basicNo Po...</td>\n",
              "      <td>pos</td>\n",
              "      <td>Comfort, Service</td>\n",
              "      <td>1.0</td>\n",
              "      <td>0.3547</td>\n",
              "      <td>[lunch, food, bland, rich, flavour, menu, basi...</td>\n",
              "    </tr>\n",
              "    <tr>\n",
              "      <th>299861</th>\n",
              "      <td>None Prepared cake daughter happy birthday sig...</td>\n",
              "      <td>pos</td>\n",
              "      <td>Service</td>\n",
              "      <td>11.0</td>\n",
              "      <td>0.3435</td>\n",
              "      <td>[none, prepared, cake, daughter, happy, birthd...</td>\n",
              "    </tr>\n",
              "  </tbody>\n",
              "</table>\n",
              "<p>11122 rows × 6 columns</p>\n",
              "</div>"
            ],
            "text/plain": [
              "                                             Review_Title  ...                                          processed\n",
              "1       very lovely first visit this iconic bar! Wonde...  ...  [lovely, first, visit, iconic, bar, wonderful,...\n",
              "3       Form moment arrived until left experienced abs...  ...  [form, moment, arrive, left, experienced, abso...\n",
              "16      amazing Mondrian wedding. total feedback from ...  ...  [amaze, mondrian, wedding, total, feedback, ev...\n",
              "19      Nice visit didn't feel special. Upgraded super...  ...  [nice, visit, feel, special, upgraded, superio...\n",
              "25      This most wonderful Every little detail attend...  ...  [wonderful, every, little, detail, attend, ala...\n",
              "...                                                   ...  ...                                                ...\n",
              "299459  complimentary soap bars blocks from beach dail...  ...  [complimentary, soap, bar, block, beach, daily...\n",
              "299598  working getting very there were exausts wash r...  ...  [work, get, exausts, wash, resturant, didnt, m...\n",
              "299647  Everyday make decision between surfing interne...  ...  [everyday, make, decision, surf, internet, wif...\n",
              "299747  Lunch food bland rich flavours menu basicNo Po...  ...  [lunch, food, bland, rich, flavour, menu, basi...\n",
              "299861  None Prepared cake daughter happy birthday sig...  ...  [none, prepared, cake, daughter, happy, birthd...\n",
              "\n",
              "[11122 rows x 6 columns]"
            ]
          },
          "metadata": {
            "tags": []
          },
          "execution_count": 29
        }
      ]
    },
    {
      "cell_type": "code",
      "metadata": {
        "id": "rfQQfBM2-w_b",
        "colab_type": "code",
        "colab": {
          "base_uri": "https://localhost:8080/",
          "height": 289
        },
        "outputId": "5732a399-18d8-44cb-ae3d-96ff232f0fee"
      },
      "source": [
        "dfService.groupby('Review_Rate').Review_Title.count().plot.bar(ylim=0)\n",
        "plt.show()"
      ],
      "execution_count": 30,
      "outputs": [
        {
          "output_type": "display_data",
          "data": {
            "image/png": "[encoded data removed]",
            "text/plain": [
              "<Figure size 432x288 with 1 Axes>"
            ]
          },
          "metadata": {
            "tags": [],
            "needs_background": "light"
          }
        }
      ]
    },
    {
      "cell_type": "code",
      "metadata": {
        "id": "nmTgfHEvHvpk",
        "colab_type": "code",
        "colab": {
          "base_uri": "https://localhost:8080/",
          "height": 784
        },
        "outputId": "fc951a6d-8c77-485c-a717-e9d3babba4cc"
      },
      "source": [
        "from sklearn.model_selection import train_test_split\n",
        "from sklearn.metrics import accuracy_score,precision_score,recall_score\n",
        "\n",
        "In_var = r2.processed[:11122].astype(str)\n",
        "dep_var = dfService.Review_Rate.astype(str)\n",
        "\n",
        "X_train,X_test,y_train,y_test= train_test_split(In_var,dep_var,test_size=0.2,random_state=0)\n",
        "\n",
        "print('X_train :', len(X_train))\n",
        "print('X_test :', len(X_test))\n",
        "print('y_train :', len(y_train))\n",
        "print('y_test :', len(y_test))\n",
        "\n",
        "from sklearn.feature_extraction.text import TfidfVectorizer\n",
        "from sklearn.linear_model import LogisticRegression\n",
        "\n",
        "tvec = TfidfVectorizer()\n",
        "clf1 = LogisticRegression(solver ='lbfgs')\n",
        "model1 = Pipeline([('Vectorizer', tvec),('classifier',clf1)])\n",
        "\n",
        "model1.fit(X_train,y_train)\n",
        "\n",
        "from sklearn.metrics import confusion_matrix\n",
        "\n",
        "predictions = model1.predict(X_test)\n",
        "confusion_matrix = (predictions,y_test)\n",
        "\n",
        "print('Accuracy Service LR:', accuracy_score(predictions,y_test))\n",
        "print('Precission :', precision_score(predictions,y_test,average ='weighted'))\n",
        "print('Recall :', recall_score(predictions,y_test,average='weighted'))\n",
        "print('f1_score :',f1_score(predictions,y_test,  average=\"weighted\"))\n",
        "\n",
        "clf2 = MultinomialNB()\n",
        "model2 = Pipeline([('Vectorizer', tvec),('classifier',clf2)])\n",
        "model2.fit(X_train,y_train)\n",
        "predictions_NB = model2.predict(X_test)\n",
        "confusion_matrix_NB = (predictions_NB,y_test)\n",
        "\n",
        "from sklearn.pipeline import Pipeline\n",
        "\n",
        "from sklearn.metrics import accuracy_score,precision_score,recall_score\n",
        "\n",
        "print('\\nAccuracy Service NB:', accuracy_score(predictions_NB,y_test))\n",
        "print('Precission :', precision_score(predictions_NB,y_test,average ='weighted'))\n",
        "print('Recall :', recall_score(predictions_NB,y_test,average='weighted'))\n",
        "print('f1_score :',f1_score(predictions_NB,y_test,  average=\"weighted\"))\n",
        "\n",
        "from sklearn.metrics import classification_report, confusion_matrix\n",
        "print(confusion_matrix(y_test, predictions_NB))\n",
        "print(classification_report(y_test,predictions_NB))\n",
        "\n",
        "from sklearn.svm import LinearSVC\n",
        "clf3=LinearSVC()\n",
        "model3 = Pipeline([('Vectorizer', tvec),('classifier',clf3)])\n",
        "model3.fit(X_train,y_train)\n",
        "predictions_SVC = model3.predict(X_test)\n",
        "confusion_matrix_SVC = (predictions_SVC,y_test)\n",
        "\n",
        "print('\\nAccuracy Service SVC:', accuracy_score(predictions_SVC,y_test))\n",
        "print('Precission :', precision_score(predictions_SVC,y_test,average ='weighted'))\n",
        "print('Recall :', recall_score(predictions_SVC,y_test,average='weighted'))\n",
        "print('f1_score :',f1_score(predictions_SVC,y_test,  average=\"weighted\"))\n",
        "\n",
        "clf5 = DecisionTreeClassifier()\n",
        "model4 = Pipeline([('Vectorizer', tvec),('classifier',clf5)])\n",
        "\n",
        "model4.fit(X_train, y_train)\n",
        "from sklearn.metrics import confusion_matrix\n",
        "\n",
        "predictions_DT = model4.predict(X_test)\n",
        "confusion_matrix_DT = (predictions_DT,y_test)\n",
        "\n",
        "print('\\nAccuracy Service DT :', accuracy_score(predictions_DT,y_test))\n",
        "print('Precission :', precision_score(predictions_DT,y_test,average ='weighted'))\n",
        "print('Recall :', recall_score(predictions_DT,y_test,average='weighted'))\n",
        "print('f1_score :',f1_score(predictions_DT,y_test,  average=\"weighted\"))"
      ],
      "execution_count": 31,
      "outputs": [
        {
          "output_type": "stream",
          "text": [
            "X_train : 8897\n",
            "X_test : 2225\n",
            "y_train : 8897\n",
            "y_test : 2225\n",
            "Accuracy Service LR: 0.844494382022472\n",
            "Precission : 1.0\n",
            "Recall : 0.844494382022472\n",
            "f1_score : 0.915692007797271\n"
          ],
          "name": "stdout"
        },
        {
          "output_type": "stream",
          "text": [
            "/usr/local/lib/python3.6/dist-packages/sklearn/metrics/_classification.py:1272: UndefinedMetricWarning: Recall is ill-defined and being set to 0.0 in labels with no true samples. Use `zero_division` parameter to control this behavior.\n",
            "  _warn_prf(average, modifier, msg_start, len(result))\n"
          ],
          "name": "stderr"
        },
        {
          "output_type": "stream",
          "text": [
            "\n",
            "Accuracy Service NB: 0.8440449438202248\n",
            "Precission : 0.9975942731983578\n",
            "Recall : 0.8440449438202248\n",
            "f1_score : 0.91416322403034\n",
            "[[   0    0  103]\n",
            " [   0    1  242]\n",
            " [   0    2 1877]]\n",
            "              precision    recall  f1-score   support\n",
            "\n",
            "         neg       0.00      0.00      0.00       103\n",
            "         neu       0.33      0.00      0.01       243\n",
            "         pos       0.84      1.00      0.92      1879\n",
            "\n",
            "    accuracy                           0.84      2225\n",
            "   macro avg       0.39      0.33      0.31      2225\n",
            "weighted avg       0.75      0.84      0.77      2225\n",
            "\n"
          ],
          "name": "stdout"
        },
        {
          "output_type": "stream",
          "text": [
            "/usr/local/lib/python3.6/dist-packages/sklearn/metrics/_classification.py:1272: UndefinedMetricWarning: Recall is ill-defined and being set to 0.0 in labels with no true samples. Use `zero_division` parameter to control this behavior.\n",
            "  _warn_prf(average, modifier, msg_start, len(result))\n",
            "/usr/local/lib/python3.6/dist-packages/sklearn/metrics/_classification.py:1272: UndefinedMetricWarning: Precision and F-score are ill-defined and being set to 0.0 in labels with no predicted samples. Use `zero_division` parameter to control this behavior.\n",
            "  _warn_prf(average, modifier, msg_start, len(result))\n"
          ],
          "name": "stderr"
        },
        {
          "output_type": "stream",
          "text": [
            "\n",
            "Accuracy Service SVC: 0.8337078651685393\n",
            "Precission : 0.9716217509734262\n",
            "Recall : 0.8337078651685393\n",
            "f1_score : 0.8968407800230497\n",
            "\n",
            "Accuracy Service DT : 0.7267415730337079\n",
            "Precission : 0.7313702652536838\n",
            "Recall : 0.7267415730337079\n",
            "f1_score : 0.7290247633640735\n"
          ],
          "name": "stdout"
        }
      ]
    },
    {
      "cell_type": "markdown",
      "metadata": {
        "id": "Ar3t2NGFOrPM",
        "colab_type": "text"
      },
      "source": [
        "**Topic(Sub-group)--Comfort**"
      ]
    },
    {
      "cell_type": "code",
      "metadata": {
        "id": "sHLJVj_WJnY6",
        "colab_type": "code",
        "colab": {
          "base_uri": "https://localhost:8080/",
          "height": 399
        },
        "outputId": "47120999-d973-4a9a-cf57-df05946a31bf"
      },
      "source": [
        "selection = ['Comfort']\n",
        "\n",
        "mask = r3.apply(lambda x: any(item for item in selection if item in x))\n",
        "dfComfort = r2[mask]\n",
        "dfComfort"
      ],
      "execution_count": 32,
      "outputs": [
        {
          "output_type": "execute_result",
          "data": {
            "text/html": [
              "<div>\n",
              "<style scoped>\n",
              "    .dataframe tbody tr th:only-of-type {\n",
              "        vertical-align: middle;\n",
              "    }\n",
              "\n",
              "    .dataframe tbody tr th {\n",
              "        vertical-align: top;\n",
              "    }\n",
              "\n",
              "    .dataframe thead th {\n",
              "        text-align: right;\n",
              "    }\n",
              "</style>\n",
              "<table border=\"1\" class=\"dataframe\">\n",
              "  <thead>\n",
              "    <tr style=\"text-align: right;\">\n",
              "      <th></th>\n",
              "      <th>Review_Title</th>\n",
              "      <th>Review_Rate</th>\n",
              "      <th>dominant_topic_Label</th>\n",
              "      <th>Dominant_Topic</th>\n",
              "      <th>Topic_Perc_Contrib</th>\n",
              "      <th>processed</th>\n",
              "    </tr>\n",
              "  </thead>\n",
              "  <tbody>\n",
              "    <tr>\n",
              "      <th>92</th>\n",
              "      <td>here nights celebrate Tina's birthday pretty d...</td>\n",
              "      <td>pos</td>\n",
              "      <td>Comfort</td>\n",
              "      <td>8.0</td>\n",
              "      <td>0.1955</td>\n",
              "      <td>[night, celebrate, tina, birthday, pretty, dam...</td>\n",
              "    </tr>\n",
              "    <tr>\n",
              "      <th>103</th>\n",
              "      <td>Ridgemount Hotel basic cheap. expect more than...</td>\n",
              "      <td>pos</td>\n",
              "      <td>Comfort</td>\n",
              "      <td>8.0</td>\n",
              "      <td>0.2794</td>\n",
              "      <td>[ridgemount, hotel, basic, cheap, expect, disa...</td>\n",
              "    </tr>\n",
              "    <tr>\n",
              "      <th>135</th>\n",
              "      <td>Enjoyed June Savoy much again September. Lovel...</td>\n",
              "      <td>pos</td>\n",
              "      <td>Comfort</td>\n",
              "      <td>8.0</td>\n",
              "      <td>0.2945</td>\n",
              "      <td>[enjoy, june, savoy, much, september, lovely, ...</td>\n",
              "    </tr>\n",
              "    <tr>\n",
              "      <th>219</th>\n",
              "      <td>booked this April visited late September. unde...</td>\n",
              "      <td>neu</td>\n",
              "      <td>Comfort</td>\n",
              "      <td>8.0</td>\n",
              "      <td>0.2996</td>\n",
              "      <td>[book, april, visit, late, september, remodel,...</td>\n",
              "    </tr>\n",
              "    <tr>\n",
              "      <th>244</th>\n",
              "      <td>much other positive reviews this This year som...</td>\n",
              "      <td>pos</td>\n",
              "      <td>Comfort</td>\n",
              "      <td>8.0</td>\n",
              "      <td>0.2330</td>\n",
              "      <td>[much, positive, review, year, building, do, n...</td>\n",
              "    </tr>\n",
              "    <tr>\n",
              "      <th>...</th>\n",
              "      <td>...</td>\n",
              "      <td>...</td>\n",
              "      <td>...</td>\n",
              "      <td>...</td>\n",
              "      <td>...</td>\n",
              "      <td>...</td>\n",
              "    </tr>\n",
              "    <tr>\n",
              "      <th>299747</th>\n",
              "      <td>Lunch food bland rich flavours menu basicNo Po...</td>\n",
              "      <td>pos</td>\n",
              "      <td>Comfort, Service</td>\n",
              "      <td>1.0</td>\n",
              "      <td>0.3547</td>\n",
              "      <td>[lunch, food, bland, rich, flavour, menu, basi...</td>\n",
              "    </tr>\n",
              "    <tr>\n",
              "      <th>299752</th>\n",
              "      <td>Reduced opening hours pool sauna hammam restau...</td>\n",
              "      <td>neu</td>\n",
              "      <td>Comfort</td>\n",
              "      <td>8.0</td>\n",
              "      <td>0.2113</td>\n",
              "      <td>[reduce, opening, hour, pool, sauna, hammam, r...</td>\n",
              "    </tr>\n",
              "    <tr>\n",
              "      <th>299779</th>\n",
              "      <td>Noise from next door when trying sleep Positive</td>\n",
              "      <td>neu</td>\n",
              "      <td>Comfort</td>\n",
              "      <td>8.0</td>\n",
              "      <td>0.4255</td>\n",
              "      <td>[noise, next, door, try, sleep, positive]</td>\n",
              "    </tr>\n",
              "    <tr>\n",
              "      <th>299897</th>\n",
              "      <td>Very tired dirty carpet very noisy Location</td>\n",
              "      <td>pos</td>\n",
              "      <td>Comfort</td>\n",
              "      <td>8.0</td>\n",
              "      <td>0.3741</td>\n",
              "      <td>[tire, dirty, carpet, noisy, location]</td>\n",
              "    </tr>\n",
              "    <tr>\n",
              "      <th>299977</th>\n",
              "      <td>noise level outside disrupted sleep breakfast ...</td>\n",
              "      <td>neu</td>\n",
              "      <td>Comfort</td>\n",
              "      <td>8.0</td>\n",
              "      <td>0.3110</td>\n",
              "      <td>[noise, level, outside, disrupt, sleep, breakf...</td>\n",
              "    </tr>\n",
              "  </tbody>\n",
              "</table>\n",
              "<p>15444 rows × 6 columns</p>\n",
              "</div>"
            ],
            "text/plain": [
              "                                             Review_Title  ...                                          processed\n",
              "92      here nights celebrate Tina's birthday pretty d...  ...  [night, celebrate, tina, birthday, pretty, dam...\n",
              "103     Ridgemount Hotel basic cheap. expect more than...  ...  [ridgemount, hotel, basic, cheap, expect, disa...\n",
              "135     Enjoyed June Savoy much again September. Lovel...  ...  [enjoy, june, savoy, much, september, lovely, ...\n",
              "219     booked this April visited late September. unde...  ...  [book, april, visit, late, september, remodel,...\n",
              "244     much other positive reviews this This year som...  ...  [much, positive, review, year, building, do, n...\n",
              "...                                                   ...  ...                                                ...\n",
              "299747  Lunch food bland rich flavours menu basicNo Po...  ...  [lunch, food, bland, rich, flavour, menu, basi...\n",
              "299752  Reduced opening hours pool sauna hammam restau...  ...  [reduce, opening, hour, pool, sauna, hammam, r...\n",
              "299779    Noise from next door when trying sleep Positive  ...          [noise, next, door, try, sleep, positive]\n",
              "299897        Very tired dirty carpet very noisy Location  ...             [tire, dirty, carpet, noisy, location]\n",
              "299977  noise level outside disrupted sleep breakfast ...  ...  [noise, level, outside, disrupt, sleep, breakf...\n",
              "\n",
              "[15444 rows x 6 columns]"
            ]
          },
          "metadata": {
            "tags": []
          },
          "execution_count": 32
        }
      ]
    },
    {
      "cell_type": "code",
      "metadata": {
        "id": "Y75Inj4rDFf1",
        "colab_type": "code",
        "colab": {
          "base_uri": "https://localhost:8080/",
          "height": 289
        },
        "outputId": "d732dc4f-f781-40d9-ce05-29196da49263"
      },
      "source": [
        "dfComfort.groupby('Review_Rate').Review_Title.count().plot.bar(ylim=0)\n",
        "plt.show()"
      ],
      "execution_count": 33,
      "outputs": [
        {
          "output_type": "display_data",
          "data": {
            "image/png": "[encoded data removed]",
            "text/plain": [
              "<Figure size 432x288 with 1 Axes>"
            ]
          },
          "metadata": {
            "tags": [],
            "needs_background": "light"
          }
        }
      ]
    },
    {
      "cell_type": "code",
      "metadata": {
        "id": "CVhsHOq3KAxR",
        "colab_type": "code",
        "colab": {
          "base_uri": "https://localhost:8080/",
          "height": 799
        },
        "outputId": "b30e047b-9b97-40aa-eab1-2ce2709c7e27"
      },
      "source": [
        "from sklearn.model_selection import train_test_split\n",
        "from sklearn.metrics import accuracy_score,precision_score,recall_score\n",
        "\n",
        "In_var = r2.processed[:15444].astype(str)\n",
        "dep_var = dfComfort.Review_Rate.astype(str)\n",
        "\n",
        "X_train,X_test,y_train,y_test= train_test_split(In_var,dep_var,test_size=0.2,random_state=0)\n",
        "\n",
        "print('X_train :', len(X_train))\n",
        "print('X_test :', len(X_test))\n",
        "print('y_train :', len(y_train))\n",
        "print('y_test :', len(y_test))\n",
        "\n",
        "from sklearn.feature_extraction.text import TfidfVectorizer\n",
        "from sklearn.linear_model import LogisticRegression\n",
        "\n",
        "tvec = TfidfVectorizer()\n",
        "clf1 = LogisticRegression(solver ='lbfgs')\n",
        "model1 = Pipeline([('Vectorizer', tvec),('classifier',clf1)])\n",
        "\n",
        "model1.fit(X_train,y_train)\n",
        "\n",
        "from sklearn.metrics import confusion_matrix\n",
        "\n",
        "predictions = model1.predict(X_test)\n",
        "confusion_matrix = (predictions,y_test)\n",
        "\n",
        "print('Accuracy Comfort LR:', accuracy_score(predictions,y_test))\n",
        "print('Precission :', precision_score(predictions,y_test,average ='weighted'))\n",
        "print('Recall :', recall_score(predictions,y_test,average='weighted'))\n",
        "print('f1_score :',f1_score(predictions,y_test,  average=\"weighted\"))\n",
        "\n",
        "clf2 = MultinomialNB()\n",
        "model2 = Pipeline([('Vectorizer', tvec),('classifier',clf2)])\n",
        "model2.fit(X_train,y_train)\n",
        "predictions_NB = model2.predict(X_test)\n",
        "confusion_matrix_NB = (predictions_NB,y_test)\n",
        "\n",
        "from sklearn.pipeline import Pipeline\n",
        "\n",
        "from sklearn.metrics import accuracy_score,precision_score,recall_score\n",
        "\n",
        "print('\\nAccuracy Comfort NB:', accuracy_score(predictions_NB,y_test))\n",
        "print('Precission :', precision_score(predictions_NB,y_test,average ='weighted'))\n",
        "print('Recall :', recall_score(predictions_NB,y_test,average='weighted'))\n",
        "print('f1_score :',f1_score(predictions_NB,y_test,  average=\"weighted\"))\n",
        "\n",
        "from sklearn.metrics import classification_report, confusion_matrix\n",
        "print(confusion_matrix(y_test, predictions_NB))\n",
        "print(classification_report(y_test,predictions_NB))\n",
        "\n",
        "from sklearn.svm import LinearSVC\n",
        "clf3=LinearSVC()\n",
        "model3 = Pipeline([('Vectorizer', tvec),('classifier',clf3)])\n",
        "model3.fit(X_train,y_train)\n",
        "predictions_SVC = model3.predict(X_test)\n",
        "confusion_matrix_SVC = (predictions_SVC,y_test)\n",
        "\n",
        "print('\\nAccuracy Comfort SVC:', accuracy_score(predictions_SVC,y_test))\n",
        "print('Precission :', precision_score(predictions_SVC,y_test,average ='weighted'))\n",
        "print('Recall :', recall_score(predictions_SVC,y_test,average='weighted'))\n",
        "print('f1_score :',f1_score(predictions_SVC,y_test,  average=\"weighted\"))\n",
        "\n",
        "clf5 = DecisionTreeClassifier()\n",
        "model4 = Pipeline([('Vectorizer', tvec),('classifier',clf5)])\n",
        "\n",
        "model4.fit(X_train, y_train)\n",
        "from sklearn.metrics import confusion_matrix\n",
        "\n",
        "predictions_DT = model4.predict(X_test)\n",
        "confusion_matrix_DT = (predictions_DT,y_test)\n",
        "\n",
        "print('\\nAccuracy Comfort DT :', accuracy_score(predictions_DT,y_test))\n",
        "print('Precission :', precision_score(predictions_DT,y_test,average ='weighted'))\n",
        "print('Recall :', recall_score(predictions_DT,y_test,average='weighted'))\n",
        "print('f1_score :',f1_score(predictions_DT,y_test,  average=\"weighted\"))"
      ],
      "execution_count": 34,
      "outputs": [
        {
          "output_type": "stream",
          "text": [
            "X_train : 12355\n",
            "X_test : 3089\n",
            "y_train : 12355\n",
            "y_test : 3089\n"
          ],
          "name": "stdout"
        },
        {
          "output_type": "stream",
          "text": [
            "/usr/local/lib/python3.6/dist-packages/sklearn/linear_model/_logistic.py:940: ConvergenceWarning: lbfgs failed to converge (status=1):\n",
            "STOP: TOTAL NO. of ITERATIONS REACHED LIMIT.\n",
            "\n",
            "Increase the number of iterations (max_iter) or scale the data as shown in:\n",
            "    https://scikit-learn.org/stable/modules/preprocessing.html\n",
            "Please also refer to the documentation for alternative solver options:\n",
            "    https://scikit-learn.org/stable/modules/linear_model.html#logistic-regression\n",
            "  extra_warning_msg=_LOGISTIC_SOLVER_CONVERGENCE_MSG)\n"
          ],
          "name": "stderr"
        },
        {
          "output_type": "stream",
          "text": [
            "Accuracy Comfort LR: 0.49368727743606344\n",
            "Precission : 0.7848622550117589\n",
            "Recall : 0.49368727743606344\n",
            "f1_score : 0.5959826351976351\n",
            "\n",
            "Accuracy Comfort NB: 0.5250890255746197\n",
            "Precission : 0.977945767286335\n",
            "Recall : 0.5250890255746197\n",
            "f1_score : 0.6825046835325431\n",
            "[[   1    2  555]\n",
            " [   3    2  886]\n",
            " [  13    8 1619]]\n",
            "              precision    recall  f1-score   support\n",
            "\n",
            "         neg       0.06      0.00      0.00       558\n",
            "         neu       0.17      0.00      0.00       891\n",
            "         pos       0.53      0.99      0.69      1640\n",
            "\n",
            "    accuracy                           0.53      3089\n",
            "   macro avg       0.25      0.33      0.23      3089\n",
            "weighted avg       0.34      0.53      0.37      3089\n",
            "\n",
            "\n",
            "Accuracy Comfort SVC: 0.4480414373583684\n",
            "Precission : 0.5481676977656149\n",
            "Recall : 0.4480414373583684\n",
            "f1_score : 0.4863074356401928\n",
            "\n",
            "Accuracy Comfort DT : 0.393331175137585\n",
            "Precission : 0.3993129676499394\n",
            "Recall : 0.393331175137585\n",
            "f1_score : 0.39616965640159896\n"
          ],
          "name": "stdout"
        }
      ]
    },
    {
      "cell_type": "markdown",
      "metadata": {
        "id": "GBVpDEpwPRqX",
        "colab_type": "text"
      },
      "source": [
        "**Topic(Sub-group)--Food**"
      ]
    },
    {
      "cell_type": "code",
      "metadata": {
        "id": "4M40i0sGLS30",
        "colab_type": "code",
        "colab": {
          "base_uri": "https://localhost:8080/",
          "height": 399
        },
        "outputId": "dffd79f2-32ed-4e5c-f878-07ee09364400"
      },
      "source": [
        "selection = ['Food']\n",
        "\n",
        "mask = r3.apply(lambda x: any(item for item in selection if item in x))\n",
        "dfFood = r2[mask]\n",
        "dfFood"
      ],
      "execution_count": 35,
      "outputs": [
        {
          "output_type": "execute_result",
          "data": {
            "text/html": [
              "<div>\n",
              "<style scoped>\n",
              "    .dataframe tbody tr th:only-of-type {\n",
              "        vertical-align: middle;\n",
              "    }\n",
              "\n",
              "    .dataframe tbody tr th {\n",
              "        vertical-align: top;\n",
              "    }\n",
              "\n",
              "    .dataframe thead th {\n",
              "        text-align: right;\n",
              "    }\n",
              "</style>\n",
              "<table border=\"1\" class=\"dataframe\">\n",
              "  <thead>\n",
              "    <tr style=\"text-align: right;\">\n",
              "      <th></th>\n",
              "      <th>Review_Title</th>\n",
              "      <th>Review_Rate</th>\n",
              "      <th>dominant_topic_Label</th>\n",
              "      <th>Dominant_Topic</th>\n",
              "      <th>Topic_Perc_Contrib</th>\n",
              "      <th>processed</th>\n",
              "    </tr>\n",
              "  </thead>\n",
              "  <tbody>\n",
              "    <tr>\n",
              "      <th>3</th>\n",
              "      <td>Form moment arrived until left experienced abs...</td>\n",
              "      <td>pos</td>\n",
              "      <td>Food, Service</td>\n",
              "      <td>6.0</td>\n",
              "      <td>0.1827</td>\n",
              "      <td>[form, moment, arrive, left, experienced, abso...</td>\n",
              "    </tr>\n",
              "    <tr>\n",
              "      <th>19</th>\n",
              "      <td>Nice visit didn't feel special. Upgraded super...</td>\n",
              "      <td>neu</td>\n",
              "      <td>Food, Service</td>\n",
              "      <td>6.0</td>\n",
              "      <td>0.2340</td>\n",
              "      <td>[nice, visit, feel, special, upgraded, superio...</td>\n",
              "    </tr>\n",
              "    <tr>\n",
              "      <th>25</th>\n",
              "      <td>This most wonderful Every little detail attend...</td>\n",
              "      <td>pos</td>\n",
              "      <td>Food, Service</td>\n",
              "      <td>6.0</td>\n",
              "      <td>0.2103</td>\n",
              "      <td>[wonderful, every, little, detail, attend, ala...</td>\n",
              "    </tr>\n",
              "    <tr>\n",
              "      <th>31</th>\n",
              "      <td>Took here treat weekend March what treat was. ...</td>\n",
              "      <td>pos</td>\n",
              "      <td>Food, Service</td>\n",
              "      <td>6.0</td>\n",
              "      <td>0.2667</td>\n",
              "      <td>[take, treat, weekend, march, treat, felt, lik...</td>\n",
              "    </tr>\n",
              "    <tr>\n",
              "      <th>40</th>\n",
              "      <td>There reason Savoy Hotel attracting reputation...</td>\n",
              "      <td>pos</td>\n",
              "      <td>Food, Service</td>\n",
              "      <td>6.0</td>\n",
              "      <td>0.2564</td>\n",
              "      <td>[reason, savoy, hotel, attract, reputation, su...</td>\n",
              "    </tr>\n",
              "    <tr>\n",
              "      <th>...</th>\n",
              "      <td>...</td>\n",
              "      <td>...</td>\n",
              "      <td>...</td>\n",
              "      <td>...</td>\n",
              "      <td>...</td>\n",
              "      <td>...</td>\n",
              "    </tr>\n",
              "    <tr>\n",
              "      <th>299151</th>\n",
              "      <td>Cathedral View obstructed trees Location</td>\n",
              "      <td>pos</td>\n",
              "      <td>Staff,Location,Food</td>\n",
              "      <td>9.0</td>\n",
              "      <td>0.3979</td>\n",
              "      <td>[cathedral, view, obstruct, tree, location]</td>\n",
              "    </tr>\n",
              "    <tr>\n",
              "      <th>299156</th>\n",
              "      <td>View church other view blocked tree</td>\n",
              "      <td>pos</td>\n",
              "      <td>Staff,Location,Food</td>\n",
              "      <td>9.0</td>\n",
              "      <td>0.2542</td>\n",
              "      <td>[view, church, view, block, tree]</td>\n",
              "    </tr>\n",
              "    <tr>\n",
              "      <th>299244</th>\n",
              "      <td>Breakfast buffet expensive Location beat Rooft...</td>\n",
              "      <td>pos</td>\n",
              "      <td>Staff,Location,Food</td>\n",
              "      <td>9.0</td>\n",
              "      <td>0.4139</td>\n",
              "      <td>[breakfast, buffet, expensive, location, beat,...</td>\n",
              "    </tr>\n",
              "    <tr>\n",
              "      <th>299250</th>\n",
              "      <td>Electronic keys were unrelable Wonderful views...</td>\n",
              "      <td>pos</td>\n",
              "      <td>Staff,Location,Food</td>\n",
              "      <td>9.0</td>\n",
              "      <td>0.2661</td>\n",
              "      <td>[electronic, key, unrelable, wonderful, view, ...</td>\n",
              "    </tr>\n",
              "    <tr>\n",
              "      <th>299262</th>\n",
              "      <td>bath poor comparison view terrace</td>\n",
              "      <td>pos</td>\n",
              "      <td>Staff,Location,Food</td>\n",
              "      <td>9.0</td>\n",
              "      <td>0.2271</td>\n",
              "      <td>[bath, poor, comparison, view, terrace]</td>\n",
              "    </tr>\n",
              "  </tbody>\n",
              "</table>\n",
              "<p>1818 rows × 6 columns</p>\n",
              "</div>"
            ],
            "text/plain": [
              "                                             Review_Title  ...                                          processed\n",
              "3       Form moment arrived until left experienced abs...  ...  [form, moment, arrive, left, experienced, abso...\n",
              "19      Nice visit didn't feel special. Upgraded super...  ...  [nice, visit, feel, special, upgraded, superio...\n",
              "25      This most wonderful Every little detail attend...  ...  [wonderful, every, little, detail, attend, ala...\n",
              "31      Took here treat weekend March what treat was. ...  ...  [take, treat, weekend, march, treat, felt, lik...\n",
              "40      There reason Savoy Hotel attracting reputation...  ...  [reason, savoy, hotel, attract, reputation, su...\n",
              "...                                                   ...  ...                                                ...\n",
              "299151           Cathedral View obstructed trees Location  ...        [cathedral, view, obstruct, tree, location]\n",
              "299156                View church other view blocked tree  ...                  [view, church, view, block, tree]\n",
              "299244  Breakfast buffet expensive Location beat Rooft...  ...  [breakfast, buffet, expensive, location, beat,...\n",
              "299250  Electronic keys were unrelable Wonderful views...  ...  [electronic, key, unrelable, wonderful, view, ...\n",
              "299262                  bath poor comparison view terrace  ...            [bath, poor, comparison, view, terrace]\n",
              "\n",
              "[1818 rows x 6 columns]"
            ]
          },
          "metadata": {
            "tags": []
          },
          "execution_count": 35
        }
      ]
    },
    {
      "cell_type": "code",
      "metadata": {
        "id": "oLnmnVu1DWnm",
        "colab_type": "code",
        "colab": {
          "base_uri": "https://localhost:8080/",
          "height": 289
        },
        "outputId": "237fc134-6ba5-4df5-ff33-43f644cbe851"
      },
      "source": [
        "dfFood.groupby('Review_Rate').Review_Title.count().plot.bar(ylim=0)\n",
        "plt.show()"
      ],
      "execution_count": 36,
      "outputs": [
        {
          "output_type": "display_data",
          "data": {
            "image/png": "[encoded data removed]",
            "text/plain": [
              "<Figure size 432x288 with 1 Axes>"
            ]
          },
          "metadata": {
            "tags": [],
            "needs_background": "light"
          }
        }
      ]
    },
    {
      "cell_type": "code",
      "metadata": {
        "id": "vxcjAT6vLqcW",
        "colab_type": "code",
        "colab": {
          "base_uri": "https://localhost:8080/",
          "height": 819
        },
        "outputId": "19dab361-40e0-4244-9af8-a8a8cc55e4c3"
      },
      "source": [
        "from sklearn.model_selection import train_test_split\n",
        "from sklearn.metrics import accuracy_score,precision_score,recall_score\n",
        "\n",
        "In_var = r2.processed[:1818].astype(str)\n",
        "dep_var = dfFood.Review_Rate.astype(str)\n",
        "\n",
        "X_train,X_test,y_train,y_test= train_test_split(In_var,dep_var,test_size=0.2,random_state=0)\n",
        "\n",
        "print('X_train :', len(X_train))\n",
        "print('X_test :', len(X_test))\n",
        "print('y_train :', len(y_train))\n",
        "print('y_test :', len(y_test))\n",
        "\n",
        "from sklearn.feature_extraction.text import TfidfVectorizer\n",
        "from sklearn.linear_model import LogisticRegression\n",
        "\n",
        "tvec = TfidfVectorizer()\n",
        "clf1 = LogisticRegression(solver ='lbfgs')\n",
        "model1 = Pipeline([('Vectorizer', tvec),('classifier',clf1)])\n",
        "\n",
        "model1.fit(X_train,y_train)\n",
        "\n",
        "from sklearn.metrics import confusion_matrix\n",
        "\n",
        "predictions = model1.predict(X_test)\n",
        "confusion_matrix = (predictions,y_test)\n",
        "\n",
        "print('Accuracy Food LR:', accuracy_score(predictions,y_test))\n",
        "print('Precission :', precision_score(predictions,y_test,average='weighted'))\n",
        "print('Recall :', recall_score(predictions,y_test,average='weighted'))\n",
        "print('f1_score :',f1_score(predictions,y_test,average='weighted'))\n",
        "\n",
        "clf2 = MultinomialNB()\n",
        "model2 = Pipeline([('Vectorizer', tvec),('classifier',clf2)])\n",
        "model2.fit(X_train,y_train)\n",
        "predictions_NB = model2.predict(X_test)\n",
        "confusion_matrix_NB = (predictions_NB,y_test)\n",
        "\n",
        "from sklearn.pipeline import Pipeline\n",
        "\n",
        "from sklearn.metrics import accuracy_score,precision_score,recall_score\n",
        "\n",
        "print('\\nAccuracy Food NB:', accuracy_score(predictions_NB,y_test))\n",
        "print('Precission :', precision_score(predictions_NB,y_test,average ='weighted'))\n",
        "print('Recall :', recall_score(predictions_NB,y_test,average='weighted'))\n",
        "print('f1_score :',f1_score(predictions_NB,y_test,  average=\"weighted\"))\n",
        "\n",
        "from sklearn.metrics import classification_report, confusion_matrix\n",
        "print(confusion_matrix(y_test, predictions_NB))\n",
        "print(classification_report(y_test,predictions_NB))\n",
        "\n",
        "from sklearn.svm import LinearSVC\n",
        "clf3=LinearSVC()\n",
        "model3 = Pipeline([('Vectorizer', tvec),('classifier',clf3)])\n",
        "model3.fit(X_train,y_train)\n",
        "predictions_SVC = model3.predict(X_test)\n",
        "confusion_matrix_SVC = (predictions_SVC,y_test)\n",
        "\n",
        "print('\\nAccuracy Food SVC:', accuracy_score(predictions_SVC,y_test))\n",
        "print('Precission :', precision_score(predictions_SVC,y_test,average ='weighted'))\n",
        "print('Recall :', recall_score(predictions_SVC,y_test,average='weighted'))\n",
        "print('f1_score :',f1_score(predictions_SVC,y_test,  average=\"weighted\"))\n",
        "\n",
        "clf5 = DecisionTreeClassifier()\n",
        "model4 = Pipeline([('Vectorizer', tvec),('classifier',clf5)])\n",
        "\n",
        "model4.fit(X_train, y_train)\n",
        "from sklearn.metrics import confusion_matrix\n",
        "\n",
        "predictions_DT = model4.predict(X_test)\n",
        "confusion_matrix_DT = (predictions_DT,y_test)\n",
        "\n",
        "print('\\nAccuracy Food DT :', accuracy_score(predictions_DT,y_test))\n",
        "print('Precission :', precision_score(predictions_DT,y_test,average ='weighted'))\n",
        "print('Recall :', recall_score(predictions_DT,y_test,average='weighted'))\n",
        "print('f1_score :',f1_score(predictions_DT,y_test,  average=\"weighted\"))"
      ],
      "execution_count": 37,
      "outputs": [
        {
          "output_type": "stream",
          "text": [
            "X_train : 1454\n",
            "X_test : 364\n",
            "y_train : 1454\n",
            "y_test : 364\n",
            "Accuracy Food LR: 0.9065934065934066\n",
            "Precission : 1.0\n",
            "Recall : 0.9065934065934066\n",
            "f1_score : 0.9510086455331412\n",
            "\n",
            "Accuracy Food NB: 0.9065934065934066\n",
            "Precission : 1.0\n",
            "Recall : 0.9065934065934066\n",
            "f1_score : 0.9510086455331412\n",
            "[[  0   0   8]\n",
            " [  0   0  26]\n",
            " [  0   0 330]]\n",
            "              precision    recall  f1-score   support\n",
            "\n",
            "         neg       0.00      0.00      0.00         8\n",
            "         neu       0.00      0.00      0.00        26\n",
            "         pos       0.91      1.00      0.95       330\n",
            "\n",
            "    accuracy                           0.91       364\n",
            "   macro avg       0.30      0.33      0.32       364\n",
            "weighted avg       0.82      0.91      0.86       364\n",
            "\n"
          ],
          "name": "stdout"
        },
        {
          "output_type": "stream",
          "text": [
            "/usr/local/lib/python3.6/dist-packages/sklearn/metrics/_classification.py:1272: UndefinedMetricWarning: Recall is ill-defined and being set to 0.0 in labels with no true samples. Use `zero_division` parameter to control this behavior.\n",
            "  _warn_prf(average, modifier, msg_start, len(result))\n",
            "/usr/local/lib/python3.6/dist-packages/sklearn/metrics/_classification.py:1272: UndefinedMetricWarning: Recall is ill-defined and being set to 0.0 in labels with no true samples. Use `zero_division` parameter to control this behavior.\n",
            "  _warn_prf(average, modifier, msg_start, len(result))\n",
            "/usr/local/lib/python3.6/dist-packages/sklearn/metrics/_classification.py:1272: UndefinedMetricWarning: Precision and F-score are ill-defined and being set to 0.0 in labels with no predicted samples. Use `zero_division` parameter to control this behavior.\n",
            "  _warn_prf(average, modifier, msg_start, len(result))\n"
          ],
          "name": "stderr"
        },
        {
          "output_type": "stream",
          "text": [
            "\n",
            "Accuracy Food SVC: 0.9065934065934066\n",
            "Precission : 1.0\n",
            "Recall : 0.9065934065934066\n",
            "f1_score : 0.9510086455331412\n"
          ],
          "name": "stdout"
        },
        {
          "output_type": "stream",
          "text": [
            "/usr/local/lib/python3.6/dist-packages/sklearn/metrics/_classification.py:1272: UndefinedMetricWarning: Recall is ill-defined and being set to 0.0 in labels with no true samples. Use `zero_division` parameter to control this behavior.\n",
            "  _warn_prf(average, modifier, msg_start, len(result))\n"
          ],
          "name": "stderr"
        },
        {
          "output_type": "stream",
          "text": [
            "\n",
            "Accuracy Food DT : 0.8434065934065934\n",
            "Precission : 0.865594021363252\n",
            "Recall : 0.8434065934065934\n",
            "f1_score : 0.8542885614634493\n"
          ],
          "name": "stdout"
        }
      ]
    },
    {
      "cell_type": "code",
      "metadata": {
        "id": "_vf6BQu4VCsE",
        "colab_type": "code",
        "colab": {}
      },
      "source": [
        ""
      ],
      "execution_count": null,
      "outputs": []
    },
    {
      "cell_type": "markdown",
      "metadata": {
        "id": "t2aoHoXXPWDe",
        "colab_type": "text"
      },
      "source": [
        "**Topic(Sub-group)--Location**"
      ]
    },
    {
      "cell_type": "code",
      "metadata": {
        "id": "q8F4vuQILZDQ",
        "colab_type": "code",
        "colab": {
          "base_uri": "https://localhost:8080/",
          "height": 399
        },
        "outputId": "0ea08f8a-5391-417b-9e77-9df22959c51b"
      },
      "source": [
        "selection = ['Location']\n",
        "\n",
        "mask = r3.apply(lambda x: any(item for item in selection if item in x))\n",
        "dfLocation = r2[mask]\n",
        "dfLocation"
      ],
      "execution_count": 38,
      "outputs": [
        {
          "output_type": "execute_result",
          "data": {
            "text/html": [
              "<div>\n",
              "<style scoped>\n",
              "    .dataframe tbody tr th:only-of-type {\n",
              "        vertical-align: middle;\n",
              "    }\n",
              "\n",
              "    .dataframe tbody tr th {\n",
              "        vertical-align: top;\n",
              "    }\n",
              "\n",
              "    .dataframe thead th {\n",
              "        text-align: right;\n",
              "    }\n",
              "</style>\n",
              "<table border=\"1\" class=\"dataframe\">\n",
              "  <thead>\n",
              "    <tr style=\"text-align: right;\">\n",
              "      <th></th>\n",
              "      <th>Review_Title</th>\n",
              "      <th>Review_Rate</th>\n",
              "      <th>dominant_topic_Label</th>\n",
              "      <th>Dominant_Topic</th>\n",
              "      <th>Topic_Perc_Contrib</th>\n",
              "      <th>processed</th>\n",
              "    </tr>\n",
              "  </thead>\n",
              "  <tbody>\n",
              "    <tr>\n",
              "      <th>0</th>\n",
              "      <td>pleasure this nights recently. This perfect ev...</td>\n",
              "      <td>pos</td>\n",
              "      <td>Facilities,Location</td>\n",
              "      <td>10.0</td>\n",
              "      <td>0.2093</td>\n",
              "      <td>[pleasure, night, recently, perfect, every, wa...</td>\n",
              "    </tr>\n",
              "    <tr>\n",
              "      <th>11</th>\n",
              "      <td>Just short mainly focussed around Alain Ducass...</td>\n",
              "      <td>pos</td>\n",
              "      <td>Location</td>\n",
              "      <td>7.0</td>\n",
              "      <td>0.1673</td>\n",
              "      <td>[short, mainly, focus, around, alain, ducasse,...</td>\n",
              "    </tr>\n",
              "    <tr>\n",
              "      <th>64</th>\n",
              "      <td>Beautiful heart London facing Sloane Street wh...</td>\n",
              "      <td>pos</td>\n",
              "      <td>Location</td>\n",
              "      <td>7.0</td>\n",
              "      <td>0.2235</td>\n",
              "      <td>[beautiful, heart, london, face, sloane, stree...</td>\n",
              "    </tr>\n",
              "    <tr>\n",
              "      <th>75</th>\n",
              "      <td>here august 2010 would definitely recommend fo...</td>\n",
              "      <td>pos</td>\n",
              "      <td>Facilities,Location</td>\n",
              "      <td>10.0</td>\n",
              "      <td>0.2663</td>\n",
              "      <td>[august, 2010, would, definitely, recommend, f...</td>\n",
              "    </tr>\n",
              "    <tr>\n",
              "      <th>82</th>\n",
              "      <td>Easy find, Lancaster Gate tube short walk away...</td>\n",
              "      <td>pos</td>\n",
              "      <td>Facilities,Location</td>\n",
              "      <td>10.0</td>\n",
              "      <td>0.3768</td>\n",
              "      <td>[easy, find, lancaster, gate, tube, short, wal...</td>\n",
              "    </tr>\n",
              "    <tr>\n",
              "      <th>...</th>\n",
              "      <td>...</td>\n",
              "      <td>...</td>\n",
              "      <td>...</td>\n",
              "      <td>...</td>\n",
              "      <td>...</td>\n",
              "      <td>...</td>\n",
              "    </tr>\n",
              "    <tr>\n",
              "      <th>299903</th>\n",
              "      <td>lovely clean location taxi ride away from main...</td>\n",
              "      <td>neu</td>\n",
              "      <td>Facilities,Location</td>\n",
              "      <td>10.0</td>\n",
              "      <td>0.4876</td>\n",
              "      <td>[lovely, clean, location, taxi, ride, away, ma...</td>\n",
              "    </tr>\n",
              "    <tr>\n",
              "      <th>299941</th>\n",
              "      <td>Location beach easy around stop right outside</td>\n",
              "      <td>pos</td>\n",
              "      <td>Facilities,Location</td>\n",
              "      <td>10.0</td>\n",
              "      <td>0.5087</td>\n",
              "      <td>[location, beach, easy, around, stop, right, o...</td>\n",
              "    </tr>\n",
              "    <tr>\n",
              "      <th>299963</th>\n",
              "      <td>Parking easy this area only parking should use...</td>\n",
              "      <td>pos</td>\n",
              "      <td>Facilities,Location</td>\n",
              "      <td>10.0</td>\n",
              "      <td>0.3596</td>\n",
              "      <td>[parking, easy, area, parking, useful, expensi...</td>\n",
              "    </tr>\n",
              "    <tr>\n",
              "      <th>299984</th>\n",
              "      <td>Location mins from beach stroll beach front cl...</td>\n",
              "      <td>pos</td>\n",
              "      <td>Location</td>\n",
              "      <td>7.0</td>\n",
              "      <td>0.2516</td>\n",
              "      <td>[location, min, beach, stroll, beach, front, c...</td>\n",
              "    </tr>\n",
              "    <tr>\n",
              "      <th>299993</th>\n",
              "      <td>Buffet breakfast little ordinary Standard busi...</td>\n",
              "      <td>pos</td>\n",
              "      <td>Facilities,Location</td>\n",
              "      <td>10.0</td>\n",
              "      <td>0.2639</td>\n",
              "      <td>[buffet, breakfast, little, ordinary, standard...</td>\n",
              "    </tr>\n",
              "  </tbody>\n",
              "</table>\n",
              "<p>13046 rows × 6 columns</p>\n",
              "</div>"
            ],
            "text/plain": [
              "                                             Review_Title  ...                                          processed\n",
              "0       pleasure this nights recently. This perfect ev...  ...  [pleasure, night, recently, perfect, every, wa...\n",
              "11      Just short mainly focussed around Alain Ducass...  ...  [short, mainly, focus, around, alain, ducasse,...\n",
              "64      Beautiful heart London facing Sloane Street wh...  ...  [beautiful, heart, london, face, sloane, stree...\n",
              "75      here august 2010 would definitely recommend fo...  ...  [august, 2010, would, definitely, recommend, f...\n",
              "82      Easy find, Lancaster Gate tube short walk away...  ...  [easy, find, lancaster, gate, tube, short, wal...\n",
              "...                                                   ...  ...                                                ...\n",
              "299903  lovely clean location taxi ride away from main...  ...  [lovely, clean, location, taxi, ride, away, ma...\n",
              "299941      Location beach easy around stop right outside  ...  [location, beach, easy, around, stop, right, o...\n",
              "299963  Parking easy this area only parking should use...  ...  [parking, easy, area, parking, useful, expensi...\n",
              "299984  Location mins from beach stroll beach front cl...  ...  [location, min, beach, stroll, beach, front, c...\n",
              "299993  Buffet breakfast little ordinary Standard busi...  ...  [buffet, breakfast, little, ordinary, standard...\n",
              "\n",
              "[13046 rows x 6 columns]"
            ]
          },
          "metadata": {
            "tags": []
          },
          "execution_count": 38
        }
      ]
    },
    {
      "cell_type": "code",
      "metadata": {
        "id": "baJ78zjcD7Fn",
        "colab_type": "code",
        "colab": {
          "base_uri": "https://localhost:8080/",
          "height": 289
        },
        "outputId": "570f39cf-e2c4-44b8-ee7c-bd621e5bd954"
      },
      "source": [
        "dfLocation.groupby('Review_Rate').Review_Title.count().plot.bar(ylim=0)\n",
        "plt.show()"
      ],
      "execution_count": 39,
      "outputs": [
        {
          "output_type": "display_data",
          "data": {
            "image/png": "[encoded data removed]",
            "text/plain": [
              "<Figure size 432x288 with 1 Axes>"
            ]
          },
          "metadata": {
            "tags": [],
            "needs_background": "light"
          }
        }
      ]
    },
    {
      "cell_type": "code",
      "metadata": {
        "id": "b6kXVGVDMCWu",
        "colab_type": "code",
        "colab": {
          "base_uri": "https://localhost:8080/",
          "height": 784
        },
        "outputId": "2d303978-a44d-41a7-ad12-593bcb5d6c46"
      },
      "source": [
        "from sklearn.model_selection import train_test_split\n",
        "from sklearn.metrics import accuracy_score,precision_score,recall_score\n",
        "\n",
        "In_var = r2.processed[:13046].astype(str)\n",
        "dep_var = dfLocation.Review_Rate.astype(str)\n",
        "\n",
        "X_train,X_test,y_train,y_test= train_test_split(In_var,dep_var,test_size=0.2,random_state=0)\n",
        "\n",
        "print('X_train :', len(X_train))\n",
        "print('X_test :', len(X_test))\n",
        "print('y_train :', len(y_train))\n",
        "print('y_test :', len(y_test))\n",
        "\n",
        "from sklearn.feature_extraction.text import TfidfVectorizer\n",
        "from sklearn.linear_model import LogisticRegression\n",
        "\n",
        "tvec = TfidfVectorizer()\n",
        "clf1 = LogisticRegression(solver ='lbfgs')\n",
        "model1 = Pipeline([('Vectorizer', tvec),('classifier',clf1)])\n",
        "\n",
        "model1.fit(X_train,y_train)\n",
        "\n",
        "from sklearn.metrics import confusion_matrix\n",
        "\n",
        "predictions = model1.predict(X_test)\n",
        "confusion_matrix = (predictions,y_test)\n",
        "\n",
        "print('Accuracy Location LR:', accuracy_score(predictions,y_test))\n",
        "print('Precission :', precision_score(predictions,y_test,average ='weighted'))\n",
        "print('Recall :', recall_score(predictions,y_test,average='weighted'))\n",
        "print('f1_score :',f1_score(predictions,y_test,  average=\"weighted\"))\n",
        "\n",
        "clf2 = MultinomialNB()\n",
        "model2 = Pipeline([('Vectorizer', tvec),('classifier',clf2)])\n",
        "model2.fit(X_train,y_train)\n",
        "predictions_NB = model2.predict(X_test)\n",
        "confusion_matrix_NB = (predictions_NB,y_test)\n",
        "\n",
        "from sklearn.pipeline import Pipeline\n",
        "\n",
        "from sklearn.metrics import accuracy_score,precision_score,recall_score\n",
        "\n",
        "print('\\nAccuracy Location NB:', accuracy_score(predictions_NB,y_test))\n",
        "print('Precission :', precision_score(predictions_NB,y_test,average ='weighted'))\n",
        "print('Recall :', recall_score(predictions_NB,y_test,average='weighted'))\n",
        "print('f1_score :',f1_score(predictions_NB,y_test,  average=\"weighted\"))\n",
        "\n",
        "from sklearn.metrics import classification_report, confusion_matrix\n",
        "print(confusion_matrix(y_test, predictions_NB))\n",
        "print(classification_report(y_test,predictions_NB))\n",
        "\n",
        "from sklearn.svm import LinearSVC\n",
        "clf3=LinearSVC()\n",
        "model3 = Pipeline([('Vectorizer', tvec),('classifier',clf3)])\n",
        "model3.fit(X_train,y_train)\n",
        "predictions_SVC = model3.predict(X_test)\n",
        "confusion_matrix_SVC = (predictions_SVC,y_test)\n",
        "\n",
        "print('\\nAccuracy Location SVC:', accuracy_score(predictions_SVC,y_test))\n",
        "print('Precission :', precision_score(predictions_SVC,y_test,average ='weighted'))\n",
        "print('Recall :', recall_score(predictions_SVC,y_test,average='weighted'))\n",
        "print('f1_score :',f1_score(predictions_SVC,y_test,  average=\"weighted\"))\n",
        "\n",
        "\n",
        "clf5 = DecisionTreeClassifier()\n",
        "model4 = Pipeline([('Vectorizer', tvec),('classifier',clf5)])\n",
        "\n",
        "model4.fit(X_train, y_train)\n",
        "from sklearn.metrics import confusion_matrix\n",
        "\n",
        "predictions_DT = model4.predict(X_test)\n",
        "confusion_matrix_DT = (predictions_DT,y_test)\n",
        "\n",
        "print('\\nAccuracy Location DT :', accuracy_score(predictions_DT,y_test))\n",
        "print('Precission :', precision_score(predictions_DT,y_test,average ='weighted'))\n",
        "print('Recall :', recall_score(predictions_DT,y_test,average='weighted'))\n",
        "print('f1_score :',f1_score(predictions_DT,y_test,  average=\"weighted\"))"
      ],
      "execution_count": 40,
      "outputs": [
        {
          "output_type": "stream",
          "text": [
            "X_train : 10436\n",
            "X_test : 2610\n",
            "y_train : 10436\n",
            "y_test : 2610\n",
            "Accuracy Location LR: 0.7448275862068966\n",
            "Precission : 0.9909718251000664\n",
            "Recall : 0.7448275862068966\n",
            "f1_score : 0.8495093392232382\n"
          ],
          "name": "stdout"
        },
        {
          "output_type": "stream",
          "text": [
            "/usr/local/lib/python3.6/dist-packages/sklearn/metrics/_classification.py:1272: UndefinedMetricWarning: Recall is ill-defined and being set to 0.0 in labels with no true samples. Use `zero_division` parameter to control this behavior.\n",
            "  _warn_prf(average, modifier, msg_start, len(result))\n"
          ],
          "name": "stderr"
        },
        {
          "output_type": "stream",
          "text": [
            "\n",
            "Accuracy Location NB: 0.742911877394636\n",
            "Precission : 0.9890404815875655\n",
            "Recall : 0.742911877394636\n",
            "f1_score : 0.8480206051121543\n",
            "[[   0    1  150]\n",
            " [   0    2  509]\n",
            " [   0   11 1937]]\n",
            "              precision    recall  f1-score   support\n",
            "\n",
            "         neg       0.00      0.00      0.00       151\n",
            "         neu       0.14      0.00      0.01       511\n",
            "         pos       0.75      0.99      0.85      1948\n",
            "\n",
            "    accuracy                           0.74      2610\n",
            "   macro avg       0.30      0.33      0.29      2610\n",
            "weighted avg       0.58      0.74      0.64      2610\n",
            "\n"
          ],
          "name": "stdout"
        },
        {
          "output_type": "stream",
          "text": [
            "/usr/local/lib/python3.6/dist-packages/sklearn/metrics/_classification.py:1272: UndefinedMetricWarning: Recall is ill-defined and being set to 0.0 in labels with no true samples. Use `zero_division` parameter to control this behavior.\n",
            "  _warn_prf(average, modifier, msg_start, len(result))\n",
            "/usr/local/lib/python3.6/dist-packages/sklearn/metrics/_classification.py:1272: UndefinedMetricWarning: Precision and F-score are ill-defined and being set to 0.0 in labels with no predicted samples. Use `zero_division` parameter to control this behavior.\n",
            "  _warn_prf(average, modifier, msg_start, len(result))\n"
          ],
          "name": "stderr"
        },
        {
          "output_type": "stream",
          "text": [
            "\n",
            "Accuracy Location SVC: 0.7137931034482758\n",
            "Precission : 0.8947869302127488\n",
            "Recall : 0.7137931034482758\n",
            "f1_score : 0.791314013448933\n",
            "\n",
            "Accuracy Location DT : 0.6268199233716475\n",
            "Precission : 0.6461129448870303\n",
            "Recall : 0.6268199233716475\n",
            "f1_score : 0.6361382381964724\n"
          ],
          "name": "stdout"
        }
      ]
    },
    {
      "cell_type": "markdown",
      "metadata": {
        "id": "sj2kt-LBUdgz",
        "colab_type": "text"
      },
      "source": [
        "# **Sentiment analysis classification on whole dataset**"
      ]
    },
    {
      "cell_type": "code",
      "metadata": {
        "id": "o6I239emUlI9",
        "colab_type": "code",
        "colab": {
          "base_uri": "https://localhost:8080/",
          "height": 799
        },
        "outputId": "e3acfb3f-897d-4f6a-cf17-1e06fad7e653"
      },
      "source": [
        "from sklearn.model_selection import train_test_split\n",
        "from sklearn.metrics import accuracy_score,precision_score,recall_score\n",
        "\n",
        "In_var = r2.processed[:300000].astype(str)\n",
        "dep_var = r2.Review_Rate.astype(str)\n",
        "\n",
        "X_train,X_test,y_train,y_test= train_test_split(In_var,dep_var,test_size=0.2,random_state=0)\n",
        "\n",
        "print('X_train :', len(X_train))\n",
        "print('X_test :', len(X_test))\n",
        "print('y_train :', len(y_train))\n",
        "print('y_test :', len(y_test))\n",
        "\n",
        "from sklearn.feature_extraction.text import TfidfVectorizer\n",
        "from sklearn.linear_model import LogisticRegression\n",
        "\n",
        "tvec = TfidfVectorizer()\n",
        "clf1 = LogisticRegression(solver ='lbfgs')\n",
        "model1 = Pipeline([('Vectorizer', tvec),('classifier',clf1)])\n",
        "\n",
        "model1.fit(X_train,y_train)\n",
        "\n",
        "from sklearn.metrics import confusion_matrix\n",
        "\n",
        "predictions = model1.predict(X_test)\n",
        "confusion_matrix = (predictions,y_test)\n",
        "\n",
        "print('Accuracy Location LR:', accuracy_score(predictions,y_test))\n",
        "print('Precission :', precision_score(predictions,y_test,average ='weighted'))\n",
        "print('Recall :', recall_score(predictions,y_test,average='weighted'))\n",
        "print('f1_score :',f1_score(predictions,y_test,  average=\"weighted\"))\n",
        "\n",
        "clf2 = MultinomialNB()\n",
        "model2 = Pipeline([('Vectorizer', tvec),('classifier',clf2)])\n",
        "model2.fit(X_train,y_train)\n",
        "predictions_NB = model2.predict(X_test)\n",
        "confusion_matrix_NB = (predictions_NB,y_test)\n",
        "\n",
        "\n",
        "from sklearn.pipeline import Pipeline\n",
        "\n",
        "from sklearn.metrics import accuracy_score,precision_score,recall_score\n",
        "\n",
        "print('\\nAccuracy Location NB:', accuracy_score(predictions_NB,y_test))\n",
        "print('Precission :', precision_score(predictions_NB,y_test,average ='weighted'))\n",
        "print('Recall :', recall_score(predictions_NB,y_test,average='weighted'))\n",
        "print('f1_score :',f1_score(predictions_NB,y_test,  average=\"weighted\"))\n",
        "\n",
        "\n",
        "from sklearn.metrics import classification_report, confusion_matrix\n",
        "print(confusion_matrix(y_test, predictions_NB))\n",
        "print(classification_report(y_test,predictions_NB))\n",
        "\n",
        "from sklearn.svm import LinearSVC\n",
        "clf3=LinearSVC()\n",
        "model3 = Pipeline([('Vectorizer', tvec),('classifier',clf3)])\n",
        "model3.fit(X_train,y_train)\n",
        "predictions_SVC = model3.predict(X_test)\n",
        "confusion_matrix_SVC = (predictions_SVC,y_test)\n",
        "\n",
        "print('\\nAccuracy Location SVC:', accuracy_score(predictions_SVC,y_test))\n",
        "print('Precission :', precision_score(predictions_SVC,y_test,average ='weighted'))\n",
        "print('Recall :', recall_score(predictions_SVC,y_test,average='weighted'))\n",
        "print('f1_score :',f1_score(predictions_SVC,y_test,  average=\"weighted\"))\n",
        "\n",
        "\n",
        "clf5 = DecisionTreeClassifier()\n",
        "model4 = Pipeline([('Vectorizer', tvec),('classifier',clf5)])\n",
        "\n",
        "model4.fit(X_train, y_train)\n",
        "from sklearn.metrics import confusion_matrix\n",
        "\n",
        "predictions_DT = model4.predict(X_test)\n",
        "confusion_matrix_DT = (predictions_DT,y_test)\n",
        "\n",
        "print('\\nAccuracy Location DT :', accuracy_score(predictions_DT,y_test))\n",
        "print('Precission :', precision_score(predictions_DT,y_test,average ='weighted'))\n",
        "print('Recall :', recall_score(predictions_DT,y_test,average='weighted'))\n",
        "print('f1_score :',f1_score(predictions_DT,y_test,  average=\"weighted\"))"
      ],
      "execution_count": 43,
      "outputs": [
        {
          "output_type": "stream",
          "text": [
            "X_train : 240000\n",
            "X_test : 60000\n",
            "y_train : 240000\n",
            "y_test : 60000\n"
          ],
          "name": "stdout"
        },
        {
          "output_type": "stream",
          "text": [
            "/usr/local/lib/python3.6/dist-packages/sklearn/linear_model/_logistic.py:940: ConvergenceWarning: lbfgs failed to converge (status=1):\n",
            "STOP: TOTAL NO. of ITERATIONS REACHED LIMIT.\n",
            "\n",
            "Increase the number of iterations (max_iter) or scale the data as shown in:\n",
            "    https://scikit-learn.org/stable/modules/preprocessing.html\n",
            "Please also refer to the documentation for alternative solver options:\n",
            "    https://scikit-learn.org/stable/modules/linear_model.html#logistic-regression\n",
            "  extra_warning_msg=_LOGISTIC_SOLVER_CONVERGENCE_MSG)\n"
          ],
          "name": "stderr"
        },
        {
          "output_type": "stream",
          "text": [
            "Accuracy Location LR: 0.7221166666666666\n",
            "Precission : 0.8911927437474031\n",
            "Recall : 0.7221166666666666\n",
            "f1_score : 0.7908907842466021\n",
            "\n",
            "Accuracy Location NB: 0.73005\n",
            "Precission : 0.9887330795032107\n",
            "Recall : 0.73005\n",
            "f1_score : 0.8388936366295267\n",
            "[[   10    74  4690]\n",
            " [    5    90 11216]\n",
            " [   47   165 43703]]\n",
            "              precision    recall  f1-score   support\n",
            "\n",
            "         neg       0.16      0.00      0.00      4774\n",
            "         neu       0.27      0.01      0.02     11311\n",
            "         pos       0.73      1.00      0.84     43915\n",
            "\n",
            "    accuracy                           0.73     60000\n",
            "   macro avg       0.39      0.34      0.29     60000\n",
            "weighted avg       0.60      0.73      0.62     60000\n",
            "\n",
            "\n",
            "Accuracy Location SVC: 0.72135\n",
            "Precission : 0.8936894745124359\n",
            "Recall : 0.72135\n",
            "f1_score : 0.7916250900724888\n",
            "\n",
            "Accuracy Location DT : 0.65235\n",
            "Precission : 0.6789107994604467\n",
            "Recall : 0.65235\n",
            "f1_score : 0.6647880004335245\n"
          ],
          "name": "stdout"
        }
      ]
    },
    {
      "cell_type": "markdown",
      "metadata": {
        "id": "R06M4unpWRYD",
        "colab_type": "text"
      },
      "source": [
        "Result : Naive Bayes classifiers produced high accuracy compared with SVM,LR and DT"
      ]
    }
  ]
}