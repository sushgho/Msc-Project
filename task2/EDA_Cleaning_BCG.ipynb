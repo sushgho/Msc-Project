{
  "nbformat": 4,
  "nbformat_minor": 0,
  "metadata": {
    "colab": {
      "name": "EDA_Cleaning_BCG.ipynb",
      "provenance": [],
      "collapsed_sections": [
        "dv8p0_kw_qT9",
        "breBIS1DB2yl",
        "5RBczv7eDFFL",
        "jOgN20xWFKdj",
        "ssUbIgUTMv2p",
        "7JLa-5DVK-G3",
        "iTKbeA9VWyYM",
        "U_pBMyJbuxFu",
        "7s_gRqFhEiAt"
      ],
      "toc_visible": true,
      "include_colab_link": true
    },
    "kernelspec": {
      "name": "python3",
      "display_name": "Python 3"
    }
  },
  "cells": [
    {
      "cell_type": "markdown",
      "metadata": {
        "id": "view-in-github",
        "colab_type": "text"
      },
      "source": [
        "<a href=\"https://colab.research.google.com/github/sushgho/Msc-Project/blob/master/task2/EDA_Cleaning_BCG.ipynb\" target=\"_parent\"><img src=\"https://colab.research.google.com/assets/colab-badge.svg\" alt=\"Open In Colab\"/></a>"
      ]
    },
    {
      "cell_type": "markdown",
      "metadata": {
        "id": "UnvAhtPJWKii"
      },
      "source": [
        "<p align=\"center\">\n",
        "<img src=\"https://raw.githubusercontent.com/srgarcess/BCG/main/assets/BCG_MONOGRAM.png\" alt = \"BCG  icon\" width=\"50%\" height=\"80%\">\n",
        "</p>\n",
        "<br><br>\n",
        "\n",
        "# **Exploratory Data Analysis and Cleaning**\n",
        "By [Lucas Garcés](https://github.com/srgarcess)\n",
        "\n",
        "\n",
        "\n",
        "\n",
        "\n",
        "\n",
        "\n"
      ]
    },
    {
      "cell_type": "markdown",
      "metadata": {
        "id": "jBleU0BS_ib9"
      },
      "source": [
        "## **The Datasets**\n",
        "\n",
        "The dataset `ml_case_training_output.csv` named as `pco_output` contains:\n",
        "> * `id`: contact id\n",
        "*`churn`: has the client churned over the next 3 months\n",
        "\n",
        "\n",
        "The dataset `ml_case_training_hist_data.csv` named as `pco_hist` contains the history of energy and power consumption per client:\n",
        ">* `id`: contact id\n",
        "*`price_date`: reference date\n",
        "*`price_p1_var`: price of energy for the 1st period\n",
        "*`price_p2_var`: price of energy for the 2nd period\n",
        "*`price_p3_var`: price of energy for the 3rd period\n",
        "*`price_p1_fix`: price of power for the 1st period\n",
        "*`price_p2_fix`: price of power for the 2nd period\n",
        "*`price_p3_fix`: price of power for the 3rd period\n",
        "\n",
        "\n",
        "The dataset `ml_case_training_data.csv` contains:\n",
        ">* `id`: contact id\n",
        "* `activity_new`: category of the company's activity. 419 unique values, remove `NaN`\n",
        "* `campaign_disc_elec`: code of the electricity campaign the customer last subscribed to. 0 non-null\n",
        "* `channel_sales`: code of the sales channel\n",
        "* `cons_12m`: electricity consumption of the past 12 months\n",
        "* `cons_gas_12m`: gas consumption of the past 12 months\n",
        "* `cons_last_month`: electricity consupmtion of the last month\n",
        "* `date_activ`: date of activation of the contract\n",
        "* `date_end`: registered date of the end of the contract\n",
        "* `date_first_activ`: date of first contract of the client\n",
        "* `date_modif_prod`: date of last modification of the product\n",
        "*  `date_renewal`: date of the next contract renewal\n",
        "* `forecast_base_bill_ele`: forecasted electricity bill baseline for next month\n",
        "* `forecast_base_bill_year`: forecasted electricity bill baseline for calendar year\n",
        "* `forecast_bill_12m`: forecasted electricity bill baseline for 12 months\n",
        "* `forecast_cons`: forecasted electricity consumption for next month\n",
        "* `forecast_cons_12m`: forecasted electricity consumption for next 12 months\n",
        "* `forecast_cons_year`: forecasted electricity consumption for next calendar year\n",
        "* `forecast_discount_energy`: forecasted value of current discount\n",
        "* `forecast_meter_rent_12m`: forecasted bill of meter rental for the next 12 months\n",
        "* `forecast_price_energy_p1`: forecasted energy price for 1st period\n",
        "* `forecast_price_energy_p2`: forecasted energy price for 2nd period\n",
        "* `forecast_price_pow_p1`: forecasted power price for 1st period\n",
        "* `has_gas`: indicated if client is also a gas client\n",
        "* `imp_cons`: current paid consumption\n",
        "* `margin_gross_pow_ele`: gross margin on power subscription\n",
        "* `margin_net_pow_ele`: net margin on power subscription\n",
        "* `nb_prod_act`: number of active products and services\n",
        "* `net_margin`: total net margin\n",
        "* `num_years_antig`: antiquity of the client (in number of years)\n",
        "* `origin_up`: code of the electricity campaign the customer first subscribed to\n",
        "* `pow_max`: subscribed power"
      ]
    },
    {
      "cell_type": "markdown",
      "metadata": {
        "id": "dv8p0_kw_qT9"
      },
      "source": [
        "## **Importing Libraries and Datasets**\n",
        "\n",
        "In this section we import the libraries of interest as well as the datasets."
      ]
    },
    {
      "cell_type": "code",
      "metadata": {
        "id": "taBNAOwoLJCf"
      },
      "source": [
        "# Import libraries\n",
        "import pandas as pd\n",
        "import matplotlib.pyplot as plt\n",
        "import seaborn as sns\n",
        "import numpy as np\n",
        "import missingno as msno\n",
        "from scipy.stats import zscore as zscore"
      ],
      "execution_count": null,
      "outputs": []
    },
    {
      "cell_type": "code",
      "metadata": {
        "id": "ssgfuoefZR_u"
      },
      "source": [
        "# Read in dataset\n",
        "url = 'https://raw.githubusercontent.com/srgarcess/BCG/main/task2/ml_case_training_data.csv'\n",
        "url2 = 'https://raw.githubusercontent.com/srgarcess/BCG/main/task2/ml_case_training_hist_data.csv'\n",
        "url3 = 'https://raw.githubusercontent.com/srgarcess/BCG/main/task2/ml_case_training_output.csv'\n",
        "\n",
        "# list of dates\n",
        "dt_lst = ['date_activ','date_end','date_first_activ','date_modif_prod','date_renewal']\n",
        "\n",
        "# data importing          \n",
        "pco_main = pd.read_csv(url, parse_dates=dt_lst)#, index_col= 'date_activ')\n",
        "pco_hist = pd.read_csv(url2, parse_dates=['price_date']) # Yearly history of consumption per user\n",
        "pco_output = pd.read_csv(url3)\n",
        "pd.set_option('display.max_columns',None)"
      ],
      "execution_count": null,
      "outputs": []
    },
    {
      "cell_type": "markdown",
      "metadata": {
        "id": "Isa4BQRnZPPb"
      },
      "source": [
        "#**Data Exploration**"
      ]
    },
    {
      "cell_type": "markdown",
      "metadata": {
        "id": "breBIS1DB2yl"
      },
      "source": [
        "## **The Output Dataset**\n",
        "\n",
        "From the output dataset we can derive a quick insight on customer retention. "
      ]
    },
    {
      "cell_type": "code",
      "metadata": {
        "colab": {
          "base_uri": "https://localhost:8080/"
        },
        "id": "fFUJFEZ5COiZ",
        "outputId": "2b548683-8285-45cd-d3a2-461271dbd47e"
      },
      "source": [
        "# Replace the churn column with appropiate labels\n",
        "pco_output['churn'] = pco_output['churn'].replace({0:'Stayed',1:'Churned'})\n",
        "\n",
        "# Glimpse\n",
        "pco_output.head()"
      ],
      "execution_count": null,
      "outputs": [
        {
          "output_type": "execute_result",
          "data": {
            "text/html": [
              "<div>\n",
              "<style scoped>\n",
              "    .dataframe tbody tr th:only-of-type {\n",
              "        vertical-align: middle;\n",
              "    }\n",
              "\n",
              "    .dataframe tbody tr th {\n",
              "        vertical-align: top;\n",
              "    }\n",
              "\n",
              "    .dataframe thead th {\n",
              "        text-align: right;\n",
              "    }\n",
              "</style>\n",
              "<table border=\"1\" class=\"dataframe\">\n",
              "  <thead>\n",
              "    <tr style=\"text-align: right;\">\n",
              "      <th></th>\n",
              "      <th>id</th>\n",
              "      <th>churn</th>\n",
              "    </tr>\n",
              "  </thead>\n",
              "  <tbody>\n",
              "    <tr>\n",
              "      <th>0</th>\n",
              "      <td>48ada52261e7cf58715202705a0451c9</td>\n",
              "      <td>Stayed</td>\n",
              "    </tr>\n",
              "    <tr>\n",
              "      <th>1</th>\n",
              "      <td>24011ae4ebbe3035111d65fa7c15bc57</td>\n",
              "      <td>Churned</td>\n",
              "    </tr>\n",
              "    <tr>\n",
              "      <th>2</th>\n",
              "      <td>d29c2c54acc38ff3c0614d0a653813dd</td>\n",
              "      <td>Stayed</td>\n",
              "    </tr>\n",
              "    <tr>\n",
              "      <th>3</th>\n",
              "      <td>764c75f661154dac3a6c254cd082ea7d</td>\n",
              "      <td>Stayed</td>\n",
              "    </tr>\n",
              "    <tr>\n",
              "      <th>4</th>\n",
              "      <td>bba03439a292a1e166f80264c16191cb</td>\n",
              "      <td>Stayed</td>\n",
              "    </tr>\n",
              "  </tbody>\n",
              "</table>\n",
              "</div>"
            ],
            "text/plain": [
              "                                 id    churn\n",
              "0  48ada52261e7cf58715202705a0451c9   Stayed\n",
              "1  24011ae4ebbe3035111d65fa7c15bc57  Churned\n",
              "2  d29c2c54acc38ff3c0614d0a653813dd   Stayed\n",
              "3  764c75f661154dac3a6c254cd082ea7d   Stayed\n",
              "4  bba03439a292a1e166f80264c16191cb   Stayed"
            ]
          },
          "metadata": {
            "tags": []
          },
          "execution_count": 245
        }
      ]
    },
    {
      "cell_type": "code",
      "metadata": {
        "colab": {
          "base_uri": "https://localhost:8080/"
        },
        "id": "zM4TS-mCH3HR",
        "outputId": "33d3e0c9-951f-4695-ce4f-65920ed29c25"
      },
      "source": [
        "# What number of customers have churned in the last 3 months?\n",
        "attrition_count = pco_output['churn'].value_counts()\n",
        "print('Total Number of Churned Customers:\\n', attrition_count)"
      ],
      "execution_count": null,
      "outputs": [
        {
          "output_type": "stream",
          "text": [
            "Total Number of Churned Customers:\n",
            " Stayed     14501\n",
            "Churned     1595\n",
            "Name: churn, dtype: int64\n"
          ],
          "name": "stdout"
        }
      ]
    },
    {
      "cell_type": "code",
      "metadata": {
        "colab": {
          "base_uri": "https://localhost:8080/"
        },
        "id": "_Jhul2emn_fI",
        "outputId": "76b1f13c-e0fe-42b3-8015-be982c54c1eb"
      },
      "source": [
        "# What is the proportion of customer attrition in the last 3 months?\n",
        "attrition_rate = pco_output['churn'].value_counts() / pco_output.shape[0] * 100\n",
        "print('Attrition rate: \\n', attrition_rate)"
      ],
      "execution_count": null,
      "outputs": [
        {
          "output_type": "stream",
          "text": [
            "Attrition rate: \n",
            " Stayed     90.090706\n",
            "Churned     9.909294\n",
            "Name: churn, dtype: float64\n"
          ],
          "name": "stdout"
        }
      ]
    },
    {
      "cell_type": "markdown",
      "metadata": {
        "id": "t43NSxmPnXd3"
      },
      "source": [
        "---\n",
        "###**Facts**\n",
        "> * In the last 3 months 1,595 customers have churned\n",
        "* There are currently 14,501 active clients\n",
        "* Customer retention is 90% in the last 3 months \n",
        "* Customer attrition is 10% in the last 3 months"
      ]
    },
    {
      "cell_type": "markdown",
      "metadata": {
        "id": "07AbdCXFFnjx"
      },
      "source": [
        "---\n",
        "###**Observations**\n",
        "* Dataset has complete cases\n"
      ]
    },
    {
      "cell_type": "markdown",
      "metadata": {
        "id": "5RBczv7eDFFL"
      },
      "source": [
        "## **The History Dataset**\n",
        "\n",
        "This dataset contains 1-year historical data for each client. It provides insights of the yearly activity of each client. "
      ]
    },
    {
      "cell_type": "code",
      "metadata": {
        "colab": {
          "base_uri": "https://localhost:8080/"
        },
        "id": "JT34m7-uK1vY",
        "outputId": "a6fedef6-a1e9-4d60-c6ed-ff7cc554f315"
      },
      "source": [
        "# Display the yearly consumption of energy and power of customers\n",
        "pco_hist.head()"
      ],
      "execution_count": null,
      "outputs": [
        {
          "output_type": "execute_result",
          "data": {
            "text/html": [
              "<div>\n",
              "<style scoped>\n",
              "    .dataframe tbody tr th:only-of-type {\n",
              "        vertical-align: middle;\n",
              "    }\n",
              "\n",
              "    .dataframe tbody tr th {\n",
              "        vertical-align: top;\n",
              "    }\n",
              "\n",
              "    .dataframe thead th {\n",
              "        text-align: right;\n",
              "    }\n",
              "</style>\n",
              "<table border=\"1\" class=\"dataframe\">\n",
              "  <thead>\n",
              "    <tr style=\"text-align: right;\">\n",
              "      <th></th>\n",
              "      <th>id</th>\n",
              "      <th>price_date</th>\n",
              "      <th>price_p1_var</th>\n",
              "      <th>price_p2_var</th>\n",
              "      <th>price_p3_var</th>\n",
              "      <th>price_p1_fix</th>\n",
              "      <th>price_p2_fix</th>\n",
              "      <th>price_p3_fix</th>\n",
              "    </tr>\n",
              "  </thead>\n",
              "  <tbody>\n",
              "    <tr>\n",
              "      <th>0</th>\n",
              "      <td>038af19179925da21a25619c5a24b745</td>\n",
              "      <td>2015-01-01</td>\n",
              "      <td>0.151367</td>\n",
              "      <td>0.0</td>\n",
              "      <td>0.0</td>\n",
              "      <td>44.266931</td>\n",
              "      <td>0.0</td>\n",
              "      <td>0.0</td>\n",
              "    </tr>\n",
              "    <tr>\n",
              "      <th>1</th>\n",
              "      <td>038af19179925da21a25619c5a24b745</td>\n",
              "      <td>2015-02-01</td>\n",
              "      <td>0.151367</td>\n",
              "      <td>0.0</td>\n",
              "      <td>0.0</td>\n",
              "      <td>44.266931</td>\n",
              "      <td>0.0</td>\n",
              "      <td>0.0</td>\n",
              "    </tr>\n",
              "    <tr>\n",
              "      <th>2</th>\n",
              "      <td>038af19179925da21a25619c5a24b745</td>\n",
              "      <td>2015-03-01</td>\n",
              "      <td>0.151367</td>\n",
              "      <td>0.0</td>\n",
              "      <td>0.0</td>\n",
              "      <td>44.266931</td>\n",
              "      <td>0.0</td>\n",
              "      <td>0.0</td>\n",
              "    </tr>\n",
              "    <tr>\n",
              "      <th>3</th>\n",
              "      <td>038af19179925da21a25619c5a24b745</td>\n",
              "      <td>2015-04-01</td>\n",
              "      <td>0.149626</td>\n",
              "      <td>0.0</td>\n",
              "      <td>0.0</td>\n",
              "      <td>44.266931</td>\n",
              "      <td>0.0</td>\n",
              "      <td>0.0</td>\n",
              "    </tr>\n",
              "    <tr>\n",
              "      <th>4</th>\n",
              "      <td>038af19179925da21a25619c5a24b745</td>\n",
              "      <td>2015-05-01</td>\n",
              "      <td>0.149626</td>\n",
              "      <td>0.0</td>\n",
              "      <td>0.0</td>\n",
              "      <td>44.266931</td>\n",
              "      <td>0.0</td>\n",
              "      <td>0.0</td>\n",
              "    </tr>\n",
              "  </tbody>\n",
              "</table>\n",
              "</div>"
            ],
            "text/plain": [
              "                                 id price_date  price_p1_var  price_p2_var  \\\n",
              "0  038af19179925da21a25619c5a24b745 2015-01-01      0.151367           0.0   \n",
              "1  038af19179925da21a25619c5a24b745 2015-02-01      0.151367           0.0   \n",
              "2  038af19179925da21a25619c5a24b745 2015-03-01      0.151367           0.0   \n",
              "3  038af19179925da21a25619c5a24b745 2015-04-01      0.149626           0.0   \n",
              "4  038af19179925da21a25619c5a24b745 2015-05-01      0.149626           0.0   \n",
              "\n",
              "   price_p3_var  price_p1_fix  price_p2_fix  price_p3_fix  \n",
              "0           0.0     44.266931           0.0           0.0  \n",
              "1           0.0     44.266931           0.0           0.0  \n",
              "2           0.0     44.266931           0.0           0.0  \n",
              "3           0.0     44.266931           0.0           0.0  \n",
              "4           0.0     44.266931           0.0           0.0  "
            ]
          },
          "metadata": {
            "tags": []
          },
          "execution_count": 248
        }
      ]
    },
    {
      "cell_type": "code",
      "metadata": {
        "colab": {
          "base_uri": "https://localhost:8080/"
        },
        "id": "GOlyrtDyPfPp",
        "outputId": "618826f8-1f8a-4196-a404-f6adb40c1593"
      },
      "source": [
        "# Examing the structure of the dataframe\n",
        "pco_hist.info()"
      ],
      "execution_count": null,
      "outputs": [
        {
          "output_type": "stream",
          "text": [
            "<class 'pandas.core.frame.DataFrame'>\n",
            "RangeIndex: 193002 entries, 0 to 193001\n",
            "Data columns (total 8 columns):\n",
            " #   Column        Non-Null Count   Dtype         \n",
            "---  ------        --------------   -----         \n",
            " 0   id            193002 non-null  object        \n",
            " 1   price_date    193002 non-null  datetime64[ns]\n",
            " 2   price_p1_var  191643 non-null  float64       \n",
            " 3   price_p2_var  191643 non-null  float64       \n",
            " 4   price_p3_var  191643 non-null  float64       \n",
            " 5   price_p1_fix  191643 non-null  float64       \n",
            " 6   price_p2_fix  191643 non-null  float64       \n",
            " 7   price_p3_fix  191643 non-null  float64       \n",
            "dtypes: datetime64[ns](1), float64(6), object(1)\n",
            "memory usage: 11.8+ MB\n"
          ],
          "name": "stdout"
        }
      ]
    },
    {
      "cell_type": "code",
      "metadata": {
        "colab": {
          "base_uri": "https://localhost:8080/"
        },
        "id": "J6yAm-cNQnnN",
        "outputId": "5ff20c85-d4e1-4eda-81d3-c7cd9cc78e33"
      },
      "source": [
        "# Examine the descriptive statistics of the dataframe\n",
        "pco_hist.describe()"
      ],
      "execution_count": null,
      "outputs": [
        {
          "output_type": "execute_result",
          "data": {
            "text/html": [
              "<div>\n",
              "<style scoped>\n",
              "    .dataframe tbody tr th:only-of-type {\n",
              "        vertical-align: middle;\n",
              "    }\n",
              "\n",
              "    .dataframe tbody tr th {\n",
              "        vertical-align: top;\n",
              "    }\n",
              "\n",
              "    .dataframe thead th {\n",
              "        text-align: right;\n",
              "    }\n",
              "</style>\n",
              "<table border=\"1\" class=\"dataframe\">\n",
              "  <thead>\n",
              "    <tr style=\"text-align: right;\">\n",
              "      <th></th>\n",
              "      <th>price_p1_var</th>\n",
              "      <th>price_p2_var</th>\n",
              "      <th>price_p3_var</th>\n",
              "      <th>price_p1_fix</th>\n",
              "      <th>price_p2_fix</th>\n",
              "      <th>price_p3_fix</th>\n",
              "    </tr>\n",
              "  </thead>\n",
              "  <tbody>\n",
              "    <tr>\n",
              "      <th>count</th>\n",
              "      <td>191643.000000</td>\n",
              "      <td>191643.000000</td>\n",
              "      <td>191643.000000</td>\n",
              "      <td>191643.000000</td>\n",
              "      <td>191643.000000</td>\n",
              "      <td>191643.000000</td>\n",
              "    </tr>\n",
              "    <tr>\n",
              "      <th>mean</th>\n",
              "      <td>0.140991</td>\n",
              "      <td>0.054412</td>\n",
              "      <td>0.030712</td>\n",
              "      <td>43.325546</td>\n",
              "      <td>10.698201</td>\n",
              "      <td>6.455436</td>\n",
              "    </tr>\n",
              "    <tr>\n",
              "      <th>std</th>\n",
              "      <td>0.025117</td>\n",
              "      <td>0.050033</td>\n",
              "      <td>0.036335</td>\n",
              "      <td>5.437952</td>\n",
              "      <td>12.856046</td>\n",
              "      <td>7.782279</td>\n",
              "    </tr>\n",
              "    <tr>\n",
              "      <th>min</th>\n",
              "      <td>0.000000</td>\n",
              "      <td>0.000000</td>\n",
              "      <td>0.000000</td>\n",
              "      <td>-0.177779</td>\n",
              "      <td>-0.097752</td>\n",
              "      <td>-0.065172</td>\n",
              "    </tr>\n",
              "    <tr>\n",
              "      <th>25%</th>\n",
              "      <td>0.125976</td>\n",
              "      <td>0.000000</td>\n",
              "      <td>0.000000</td>\n",
              "      <td>40.728885</td>\n",
              "      <td>0.000000</td>\n",
              "      <td>0.000000</td>\n",
              "    </tr>\n",
              "    <tr>\n",
              "      <th>50%</th>\n",
              "      <td>0.146033</td>\n",
              "      <td>0.085483</td>\n",
              "      <td>0.000000</td>\n",
              "      <td>44.266930</td>\n",
              "      <td>0.000000</td>\n",
              "      <td>0.000000</td>\n",
              "    </tr>\n",
              "    <tr>\n",
              "      <th>75%</th>\n",
              "      <td>0.151635</td>\n",
              "      <td>0.101780</td>\n",
              "      <td>0.072558</td>\n",
              "      <td>44.444710</td>\n",
              "      <td>24.339581</td>\n",
              "      <td>16.226389</td>\n",
              "    </tr>\n",
              "    <tr>\n",
              "      <th>max</th>\n",
              "      <td>0.280700</td>\n",
              "      <td>0.229788</td>\n",
              "      <td>0.114102</td>\n",
              "      <td>59.444710</td>\n",
              "      <td>36.490692</td>\n",
              "      <td>17.458221</td>\n",
              "    </tr>\n",
              "  </tbody>\n",
              "</table>\n",
              "</div>"
            ],
            "text/plain": [
              "        price_p1_var   price_p2_var   price_p3_var   price_p1_fix  \\\n",
              "count  191643.000000  191643.000000  191643.000000  191643.000000   \n",
              "mean        0.140991       0.054412       0.030712      43.325546   \n",
              "std         0.025117       0.050033       0.036335       5.437952   \n",
              "min         0.000000       0.000000       0.000000      -0.177779   \n",
              "25%         0.125976       0.000000       0.000000      40.728885   \n",
              "50%         0.146033       0.085483       0.000000      44.266930   \n",
              "75%         0.151635       0.101780       0.072558      44.444710   \n",
              "max         0.280700       0.229788       0.114102      59.444710   \n",
              "\n",
              "        price_p2_fix   price_p3_fix  \n",
              "count  191643.000000  191643.000000  \n",
              "mean       10.698201       6.455436  \n",
              "std        12.856046       7.782279  \n",
              "min        -0.097752      -0.065172  \n",
              "25%         0.000000       0.000000  \n",
              "50%         0.000000       0.000000  \n",
              "75%        24.339581      16.226389  \n",
              "max        36.490692      17.458221  "
            ]
          },
          "metadata": {
            "tags": []
          },
          "execution_count": 250
        }
      ]
    },
    {
      "cell_type": "code",
      "metadata": {
        "colab": {
          "base_uri": "https://localhost:8080/"
        },
        "id": "hiTFUKQsQtVC",
        "outputId": "260889e5-d8a3-4d43-9325-bfa513cd0b6c"
      },
      "source": [
        "# Identify the nullity of the dataframe\n",
        "missing_values_hist = pco_hist.isna().sum()\n",
        "print('Total Missing Values:\\n', missing_values_hist)"
      ],
      "execution_count": null,
      "outputs": [
        {
          "output_type": "stream",
          "text": [
            "Total Missing Values:\n",
            " id                 0\n",
            "price_date         0\n",
            "price_p1_var    1359\n",
            "price_p2_var    1359\n",
            "price_p3_var    1359\n",
            "price_p1_fix    1359\n",
            "price_p2_fix    1359\n",
            "price_p3_fix    1359\n",
            "dtype: int64\n"
          ],
          "name": "stdout"
        }
      ]
    },
    {
      "cell_type": "code",
      "metadata": {
        "id": "GIlVs6FF61Io",
        "colab": {
          "base_uri": "https://localhost:8080/"
        },
        "outputId": "080d9e3a-edea-4b68-f223-baf314d6c3d6"
      },
      "source": [
        "# Identify the percentage of nullity in the dataframe for each collumn\n",
        "missing_values_hist_perc = pco_hist.isnull().mean() * 100\n",
        "print('Percentage of Missing Values:\\n', missing_values_hist_perc)"
      ],
      "execution_count": null,
      "outputs": [
        {
          "output_type": "stream",
          "text": [
            "Percentage of Missing Values:\n",
            " id              0.000000\n",
            "price_date      0.000000\n",
            "price_p1_var    0.704138\n",
            "price_p2_var    0.704138\n",
            "price_p3_var    0.704138\n",
            "price_p1_fix    0.704138\n",
            "price_p2_fix    0.704138\n",
            "price_p3_fix    0.704138\n",
            "dtype: float64\n"
          ],
          "name": "stdout"
        }
      ]
    },
    {
      "cell_type": "markdown",
      "metadata": {
        "id": "aX8UhqV3uOWY"
      },
      "source": [
        "---\n",
        "###**Facts**\n",
        "\n",
        "* The average price of energy for the 1st period was: $0.14\n",
        "* The average price of energy for the 2nd period was: \\$0.05\n",
        "* The average price of energy for the 3rd period was: \\$0.03\n",
        "\n",
        "*The average price of energy was declining in the last year*.\n",
        "\n",
        "* The average power of power for the 1st period was: \\$43.32\n",
        "* The average power of power for the 2nd period was: \\$10.69\n",
        "* The average power of power for the 3rd period was: \\$6.45\n",
        "\n",
        "*The average price of power was declining in the last year*.\n",
        "\n",
        "\n",
        "\n",
        "\n",
        "\n",
        "\n",
        "\n",
        "\n",
        "\n"
      ]
    },
    {
      "cell_type": "markdown",
      "metadata": {
        "id": "rH1xJar6GAw9"
      },
      "source": [
        "---\n",
        "###**Observations**\n",
        "* The columns `price_p1_fix`, `price_p2_fix`, and `price_p3_fix` contain negative values. *These negative prices of power do not make sense.* \n",
        "\n",
        "* The dataset `pco_hist` contains 1359 rows displaying `NaN` values on 6 variables except for `id` and `price_date`.\n",
        "\n",
        "* The `price_..._var` and `price_..._fix` columns are missing **0.704%** of the data in each of them.\n",
        "\n",
        "Note: `Pandas` *recognizes these* `NaN` *values and removes them when displaying descriptives statistics*.\n",
        "\n",
        "*Notice how the price of energy has a minimum value of zero. Perhaps some customers churned thereby making the consumption of energy zero.*\n",
        "\n",
        "---"
      ]
    },
    {
      "cell_type": "markdown",
      "metadata": {
        "id": "jOgN20xWFKdj"
      },
      "source": [
        "##**The Main Dataset**\n",
        "\n",
        "This dataset contain more characteristics about each client's account and activity."
      ]
    },
    {
      "cell_type": "code",
      "metadata": {
        "colab": {
          "base_uri": "https://localhost:8080/",
          "height": 309
        },
        "id": "3w9awwz_aQnW",
        "outputId": "6b183aa5-8a46-4c8f-94f5-c1f90f05c0ae"
      },
      "source": [
        "# Print header\n",
        "pco_main.head()"
      ],
      "execution_count": null,
      "outputs": [
        {
          "output_type": "execute_result",
          "data": {
            "text/html": [
              "<div>\n",
              "<style scoped>\n",
              "    .dataframe tbody tr th:only-of-type {\n",
              "        vertical-align: middle;\n",
              "    }\n",
              "\n",
              "    .dataframe tbody tr th {\n",
              "        vertical-align: top;\n",
              "    }\n",
              "\n",
              "    .dataframe thead th {\n",
              "        text-align: right;\n",
              "    }\n",
              "</style>\n",
              "<table border=\"1\" class=\"dataframe\">\n",
              "  <thead>\n",
              "    <tr style=\"text-align: right;\">\n",
              "      <th></th>\n",
              "      <th>id</th>\n",
              "      <th>activity_new</th>\n",
              "      <th>campaign_disc_ele</th>\n",
              "      <th>channel_sales</th>\n",
              "      <th>cons_12m</th>\n",
              "      <th>cons_gas_12m</th>\n",
              "      <th>cons_last_month</th>\n",
              "      <th>date_activ</th>\n",
              "      <th>date_end</th>\n",
              "      <th>date_first_activ</th>\n",
              "      <th>date_modif_prod</th>\n",
              "      <th>date_renewal</th>\n",
              "      <th>forecast_base_bill_ele</th>\n",
              "      <th>forecast_base_bill_year</th>\n",
              "      <th>forecast_bill_12m</th>\n",
              "      <th>forecast_cons</th>\n",
              "      <th>forecast_cons_12m</th>\n",
              "      <th>forecast_cons_year</th>\n",
              "      <th>forecast_discount_energy</th>\n",
              "      <th>forecast_meter_rent_12m</th>\n",
              "      <th>forecast_price_energy_p1</th>\n",
              "      <th>forecast_price_energy_p2</th>\n",
              "      <th>forecast_price_pow_p1</th>\n",
              "      <th>has_gas</th>\n",
              "      <th>imp_cons</th>\n",
              "      <th>margin_gross_pow_ele</th>\n",
              "      <th>margin_net_pow_ele</th>\n",
              "      <th>nb_prod_act</th>\n",
              "      <th>net_margin</th>\n",
              "      <th>num_years_antig</th>\n",
              "      <th>origin_up</th>\n",
              "      <th>pow_max</th>\n",
              "    </tr>\n",
              "  </thead>\n",
              "  <tbody>\n",
              "    <tr>\n",
              "      <th>0</th>\n",
              "      <td>48ada52261e7cf58715202705a0451c9</td>\n",
              "      <td>esoiiifxdlbkcsluxmfuacbdckommixw</td>\n",
              "      <td>NaN</td>\n",
              "      <td>lmkebamcaaclubfxadlmueccxoimlema</td>\n",
              "      <td>309275</td>\n",
              "      <td>0</td>\n",
              "      <td>10025</td>\n",
              "      <td>2012-11-07</td>\n",
              "      <td>2016-11-06</td>\n",
              "      <td>NaT</td>\n",
              "      <td>2012-11-07</td>\n",
              "      <td>2015-11-09</td>\n",
              "      <td>NaN</td>\n",
              "      <td>NaN</td>\n",
              "      <td>NaN</td>\n",
              "      <td>NaN</td>\n",
              "      <td>26520.30</td>\n",
              "      <td>10025</td>\n",
              "      <td>0.0</td>\n",
              "      <td>359.29</td>\n",
              "      <td>0.095919</td>\n",
              "      <td>0.088347</td>\n",
              "      <td>58.995952</td>\n",
              "      <td>f</td>\n",
              "      <td>831.8</td>\n",
              "      <td>-41.76</td>\n",
              "      <td>-41.76</td>\n",
              "      <td>1</td>\n",
              "      <td>1732.36</td>\n",
              "      <td>3</td>\n",
              "      <td>ldkssxwpmemidmecebumciepifcamkci</td>\n",
              "      <td>180.000</td>\n",
              "    </tr>\n",
              "    <tr>\n",
              "      <th>1</th>\n",
              "      <td>24011ae4ebbe3035111d65fa7c15bc57</td>\n",
              "      <td>NaN</td>\n",
              "      <td>NaN</td>\n",
              "      <td>foosdfpfkusacimwkcsosbicdxkicaua</td>\n",
              "      <td>0</td>\n",
              "      <td>54946</td>\n",
              "      <td>0</td>\n",
              "      <td>2013-06-15</td>\n",
              "      <td>2016-06-15</td>\n",
              "      <td>NaT</td>\n",
              "      <td>NaT</td>\n",
              "      <td>2015-06-23</td>\n",
              "      <td>NaN</td>\n",
              "      <td>NaN</td>\n",
              "      <td>NaN</td>\n",
              "      <td>NaN</td>\n",
              "      <td>0.00</td>\n",
              "      <td>0</td>\n",
              "      <td>0.0</td>\n",
              "      <td>1.78</td>\n",
              "      <td>0.114481</td>\n",
              "      <td>0.098142</td>\n",
              "      <td>40.606701</td>\n",
              "      <td>t</td>\n",
              "      <td>0.0</td>\n",
              "      <td>25.44</td>\n",
              "      <td>25.44</td>\n",
              "      <td>2</td>\n",
              "      <td>678.99</td>\n",
              "      <td>3</td>\n",
              "      <td>lxidpiddsbxsbosboudacockeimpuepw</td>\n",
              "      <td>43.648</td>\n",
              "    </tr>\n",
              "    <tr>\n",
              "      <th>2</th>\n",
              "      <td>d29c2c54acc38ff3c0614d0a653813dd</td>\n",
              "      <td>NaN</td>\n",
              "      <td>NaN</td>\n",
              "      <td>NaN</td>\n",
              "      <td>4660</td>\n",
              "      <td>0</td>\n",
              "      <td>0</td>\n",
              "      <td>2009-08-21</td>\n",
              "      <td>2016-08-30</td>\n",
              "      <td>NaT</td>\n",
              "      <td>2009-08-21</td>\n",
              "      <td>2015-08-31</td>\n",
              "      <td>NaN</td>\n",
              "      <td>NaN</td>\n",
              "      <td>NaN</td>\n",
              "      <td>NaN</td>\n",
              "      <td>189.95</td>\n",
              "      <td>0</td>\n",
              "      <td>0.0</td>\n",
              "      <td>16.27</td>\n",
              "      <td>0.145711</td>\n",
              "      <td>0.000000</td>\n",
              "      <td>44.311378</td>\n",
              "      <td>f</td>\n",
              "      <td>0.0</td>\n",
              "      <td>16.38</td>\n",
              "      <td>16.38</td>\n",
              "      <td>1</td>\n",
              "      <td>18.89</td>\n",
              "      <td>6</td>\n",
              "      <td>kamkkxfxxuwbdslkwifmmcsiusiuosws</td>\n",
              "      <td>13.800</td>\n",
              "    </tr>\n",
              "    <tr>\n",
              "      <th>3</th>\n",
              "      <td>764c75f661154dac3a6c254cd082ea7d</td>\n",
              "      <td>NaN</td>\n",
              "      <td>NaN</td>\n",
              "      <td>foosdfpfkusacimwkcsosbicdxkicaua</td>\n",
              "      <td>544</td>\n",
              "      <td>0</td>\n",
              "      <td>0</td>\n",
              "      <td>2010-04-16</td>\n",
              "      <td>2016-04-16</td>\n",
              "      <td>NaT</td>\n",
              "      <td>2010-04-16</td>\n",
              "      <td>2015-04-17</td>\n",
              "      <td>NaN</td>\n",
              "      <td>NaN</td>\n",
              "      <td>NaN</td>\n",
              "      <td>NaN</td>\n",
              "      <td>47.96</td>\n",
              "      <td>0</td>\n",
              "      <td>0.0</td>\n",
              "      <td>38.72</td>\n",
              "      <td>0.165794</td>\n",
              "      <td>0.087899</td>\n",
              "      <td>44.311378</td>\n",
              "      <td>f</td>\n",
              "      <td>0.0</td>\n",
              "      <td>28.60</td>\n",
              "      <td>28.60</td>\n",
              "      <td>1</td>\n",
              "      <td>6.60</td>\n",
              "      <td>6</td>\n",
              "      <td>kamkkxfxxuwbdslkwifmmcsiusiuosws</td>\n",
              "      <td>13.856</td>\n",
              "    </tr>\n",
              "    <tr>\n",
              "      <th>4</th>\n",
              "      <td>bba03439a292a1e166f80264c16191cb</td>\n",
              "      <td>NaN</td>\n",
              "      <td>NaN</td>\n",
              "      <td>lmkebamcaaclubfxadlmueccxoimlema</td>\n",
              "      <td>1584</td>\n",
              "      <td>0</td>\n",
              "      <td>0</td>\n",
              "      <td>2010-03-30</td>\n",
              "      <td>2016-03-30</td>\n",
              "      <td>NaT</td>\n",
              "      <td>2010-03-30</td>\n",
              "      <td>2015-03-31</td>\n",
              "      <td>NaN</td>\n",
              "      <td>NaN</td>\n",
              "      <td>NaN</td>\n",
              "      <td>NaN</td>\n",
              "      <td>240.04</td>\n",
              "      <td>0</td>\n",
              "      <td>0.0</td>\n",
              "      <td>19.83</td>\n",
              "      <td>0.146694</td>\n",
              "      <td>0.000000</td>\n",
              "      <td>44.311378</td>\n",
              "      <td>f</td>\n",
              "      <td>0.0</td>\n",
              "      <td>30.22</td>\n",
              "      <td>30.22</td>\n",
              "      <td>1</td>\n",
              "      <td>25.46</td>\n",
              "      <td>6</td>\n",
              "      <td>kamkkxfxxuwbdslkwifmmcsiusiuosws</td>\n",
              "      <td>13.200</td>\n",
              "    </tr>\n",
              "  </tbody>\n",
              "</table>\n",
              "</div>"
            ],
            "text/plain": [
              "                                 id                      activity_new  \\\n",
              "0  48ada52261e7cf58715202705a0451c9  esoiiifxdlbkcsluxmfuacbdckommixw   \n",
              "1  24011ae4ebbe3035111d65fa7c15bc57                               NaN   \n",
              "2  d29c2c54acc38ff3c0614d0a653813dd                               NaN   \n",
              "3  764c75f661154dac3a6c254cd082ea7d                               NaN   \n",
              "4  bba03439a292a1e166f80264c16191cb                               NaN   \n",
              "\n",
              "   campaign_disc_ele                     channel_sales  cons_12m  \\\n",
              "0                NaN  lmkebamcaaclubfxadlmueccxoimlema    309275   \n",
              "1                NaN  foosdfpfkusacimwkcsosbicdxkicaua         0   \n",
              "2                NaN                               NaN      4660   \n",
              "3                NaN  foosdfpfkusacimwkcsosbicdxkicaua       544   \n",
              "4                NaN  lmkebamcaaclubfxadlmueccxoimlema      1584   \n",
              "\n",
              "   cons_gas_12m  cons_last_month date_activ   date_end date_first_activ  \\\n",
              "0             0            10025 2012-11-07 2016-11-06              NaT   \n",
              "1         54946                0 2013-06-15 2016-06-15              NaT   \n",
              "2             0                0 2009-08-21 2016-08-30              NaT   \n",
              "3             0                0 2010-04-16 2016-04-16              NaT   \n",
              "4             0                0 2010-03-30 2016-03-30              NaT   \n",
              "\n",
              "  date_modif_prod date_renewal  forecast_base_bill_ele  \\\n",
              "0      2012-11-07   2015-11-09                     NaN   \n",
              "1             NaT   2015-06-23                     NaN   \n",
              "2      2009-08-21   2015-08-31                     NaN   \n",
              "3      2010-04-16   2015-04-17                     NaN   \n",
              "4      2010-03-30   2015-03-31                     NaN   \n",
              "\n",
              "   forecast_base_bill_year  forecast_bill_12m  forecast_cons  \\\n",
              "0                      NaN                NaN            NaN   \n",
              "1                      NaN                NaN            NaN   \n",
              "2                      NaN                NaN            NaN   \n",
              "3                      NaN                NaN            NaN   \n",
              "4                      NaN                NaN            NaN   \n",
              "\n",
              "   forecast_cons_12m  forecast_cons_year  forecast_discount_energy  \\\n",
              "0           26520.30               10025                       0.0   \n",
              "1               0.00                   0                       0.0   \n",
              "2             189.95                   0                       0.0   \n",
              "3              47.96                   0                       0.0   \n",
              "4             240.04                   0                       0.0   \n",
              "\n",
              "   forecast_meter_rent_12m  forecast_price_energy_p1  \\\n",
              "0                   359.29                  0.095919   \n",
              "1                     1.78                  0.114481   \n",
              "2                    16.27                  0.145711   \n",
              "3                    38.72                  0.165794   \n",
              "4                    19.83                  0.146694   \n",
              "\n",
              "   forecast_price_energy_p2  forecast_price_pow_p1 has_gas  imp_cons  \\\n",
              "0                  0.088347              58.995952       f     831.8   \n",
              "1                  0.098142              40.606701       t       0.0   \n",
              "2                  0.000000              44.311378       f       0.0   \n",
              "3                  0.087899              44.311378       f       0.0   \n",
              "4                  0.000000              44.311378       f       0.0   \n",
              "\n",
              "   margin_gross_pow_ele  margin_net_pow_ele  nb_prod_act  net_margin  \\\n",
              "0                -41.76              -41.76            1     1732.36   \n",
              "1                 25.44               25.44            2      678.99   \n",
              "2                 16.38               16.38            1       18.89   \n",
              "3                 28.60               28.60            1        6.60   \n",
              "4                 30.22               30.22            1       25.46   \n",
              "\n",
              "   num_years_antig                         origin_up  pow_max  \n",
              "0                3  ldkssxwpmemidmecebumciepifcamkci  180.000  \n",
              "1                3  lxidpiddsbxsbosboudacockeimpuepw   43.648  \n",
              "2                6  kamkkxfxxuwbdslkwifmmcsiusiuosws   13.800  \n",
              "3                6  kamkkxfxxuwbdslkwifmmcsiusiuosws   13.856  \n",
              "4                6  kamkkxfxxuwbdslkwifmmcsiusiuosws   13.200  "
            ]
          },
          "metadata": {
            "tags": []
          },
          "execution_count": 253
        }
      ]
    },
    {
      "cell_type": "code",
      "metadata": {
        "colab": {
          "base_uri": "https://localhost:8080/"
        },
        "id": "-OuZ-3n1dqLH",
        "outputId": "2cbfdab2-8afb-4f3e-8304-d75ec4cfbf9a"
      },
      "source": [
        "# printo info\n",
        "pco_main.info()"
      ],
      "execution_count": null,
      "outputs": [
        {
          "output_type": "stream",
          "text": [
            "<class 'pandas.core.frame.DataFrame'>\n",
            "RangeIndex: 16096 entries, 0 to 16095\n",
            "Data columns (total 32 columns):\n",
            " #   Column                    Non-Null Count  Dtype         \n",
            "---  ------                    --------------  -----         \n",
            " 0   id                        16096 non-null  object        \n",
            " 1   activity_new              6551 non-null   object        \n",
            " 2   campaign_disc_ele         0 non-null      float64       \n",
            " 3   channel_sales             11878 non-null  object        \n",
            " 4   cons_12m                  16096 non-null  int64         \n",
            " 5   cons_gas_12m              16096 non-null  int64         \n",
            " 6   cons_last_month           16096 non-null  int64         \n",
            " 7   date_activ                16096 non-null  datetime64[ns]\n",
            " 8   date_end                  16094 non-null  datetime64[ns]\n",
            " 9   date_first_activ          3508 non-null   datetime64[ns]\n",
            " 10  date_modif_prod           15939 non-null  datetime64[ns]\n",
            " 11  date_renewal              16056 non-null  datetime64[ns]\n",
            " 12  forecast_base_bill_ele    3508 non-null   float64       \n",
            " 13  forecast_base_bill_year   3508 non-null   float64       \n",
            " 14  forecast_bill_12m         3508 non-null   float64       \n",
            " 15  forecast_cons             3508 non-null   float64       \n",
            " 16  forecast_cons_12m         16096 non-null  float64       \n",
            " 17  forecast_cons_year        16096 non-null  int64         \n",
            " 18  forecast_discount_energy  15970 non-null  float64       \n",
            " 19  forecast_meter_rent_12m   16096 non-null  float64       \n",
            " 20  forecast_price_energy_p1  15970 non-null  float64       \n",
            " 21  forecast_price_energy_p2  15970 non-null  float64       \n",
            " 22  forecast_price_pow_p1     15970 non-null  float64       \n",
            " 23  has_gas                   16096 non-null  object        \n",
            " 24  imp_cons                  16096 non-null  float64       \n",
            " 25  margin_gross_pow_ele      16083 non-null  float64       \n",
            " 26  margin_net_pow_ele        16083 non-null  float64       \n",
            " 27  nb_prod_act               16096 non-null  int64         \n",
            " 28  net_margin                16081 non-null  float64       \n",
            " 29  num_years_antig           16096 non-null  int64         \n",
            " 30  origin_up                 16009 non-null  object        \n",
            " 31  pow_max                   16093 non-null  float64       \n",
            "dtypes: datetime64[ns](5), float64(16), int64(6), object(5)\n",
            "memory usage: 3.9+ MB\n"
          ],
          "name": "stdout"
        }
      ]
    },
    {
      "cell_type": "code",
      "metadata": {
        "colab": {
          "base_uri": "https://localhost:8080/"
        },
        "id": "tScZikuWyK-s",
        "outputId": "d68e8c44-d5a0-464e-b0ee-c363c106bcc5"
      },
      "source": [
        "# Identify the percentage of nullity in the dataframe for each collumn\n",
        "missing_values_main_perc = pco_main.isnull().mean() * 100\n",
        "print('Percentage of Missing Values:\\n', missing_values_main_perc)"
      ],
      "execution_count": null,
      "outputs": [
        {
          "output_type": "stream",
          "text": [
            "Percentage of Missing Values:\n",
            " id                            0.000000\n",
            "activity_new                 59.300447\n",
            "campaign_disc_ele           100.000000\n",
            "channel_sales                26.205268\n",
            "cons_12m                      0.000000\n",
            "cons_gas_12m                  0.000000\n",
            "cons_last_month               0.000000\n",
            "date_activ                    0.000000\n",
            "date_end                      0.012425\n",
            "date_first_activ             78.205765\n",
            "date_modif_prod               0.975398\n",
            "date_renewal                  0.248509\n",
            "forecast_base_bill_ele       78.205765\n",
            "forecast_base_bill_year      78.205765\n",
            "forecast_bill_12m            78.205765\n",
            "forecast_cons                78.205765\n",
            "forecast_cons_12m             0.000000\n",
            "forecast_cons_year            0.000000\n",
            "forecast_discount_energy      0.782803\n",
            "forecast_meter_rent_12m       0.000000\n",
            "forecast_price_energy_p1      0.782803\n",
            "forecast_price_energy_p2      0.782803\n",
            "forecast_price_pow_p1         0.782803\n",
            "has_gas                       0.000000\n",
            "imp_cons                      0.000000\n",
            "margin_gross_pow_ele          0.080765\n",
            "margin_net_pow_ele            0.080765\n",
            "nb_prod_act                   0.000000\n",
            "net_margin                    0.093191\n",
            "num_years_antig               0.000000\n",
            "origin_up                     0.540507\n",
            "pow_max                       0.018638\n",
            "dtype: float64\n"
          ],
          "name": "stdout"
        }
      ]
    },
    {
      "cell_type": "code",
      "metadata": {
        "colab": {
          "base_uri": "https://localhost:8080/",
          "height": 317
        },
        "id": "Plbxth-QHYf8",
        "outputId": "94ccfcbf-4fd4-4a99-aedf-4dd6a300f01f"
      },
      "source": [
        "# Examine the descriptive statistics of the main dataset\n",
        "pco_main.describe()"
      ],
      "execution_count": null,
      "outputs": [
        {
          "output_type": "execute_result",
          "data": {
            "text/html": [
              "<div>\n",
              "<style scoped>\n",
              "    .dataframe tbody tr th:only-of-type {\n",
              "        vertical-align: middle;\n",
              "    }\n",
              "\n",
              "    .dataframe tbody tr th {\n",
              "        vertical-align: top;\n",
              "    }\n",
              "\n",
              "    .dataframe thead th {\n",
              "        text-align: right;\n",
              "    }\n",
              "</style>\n",
              "<table border=\"1\" class=\"dataframe\">\n",
              "  <thead>\n",
              "    <tr style=\"text-align: right;\">\n",
              "      <th></th>\n",
              "      <th>campaign_disc_ele</th>\n",
              "      <th>cons_12m</th>\n",
              "      <th>cons_gas_12m</th>\n",
              "      <th>cons_last_month</th>\n",
              "      <th>forecast_base_bill_ele</th>\n",
              "      <th>forecast_base_bill_year</th>\n",
              "      <th>forecast_bill_12m</th>\n",
              "      <th>forecast_cons</th>\n",
              "      <th>forecast_cons_12m</th>\n",
              "      <th>forecast_cons_year</th>\n",
              "      <th>forecast_discount_energy</th>\n",
              "      <th>forecast_meter_rent_12m</th>\n",
              "      <th>forecast_price_energy_p1</th>\n",
              "      <th>forecast_price_energy_p2</th>\n",
              "      <th>forecast_price_pow_p1</th>\n",
              "      <th>imp_cons</th>\n",
              "      <th>margin_gross_pow_ele</th>\n",
              "      <th>margin_net_pow_ele</th>\n",
              "      <th>nb_prod_act</th>\n",
              "      <th>net_margin</th>\n",
              "      <th>num_years_antig</th>\n",
              "      <th>pow_max</th>\n",
              "    </tr>\n",
              "  </thead>\n",
              "  <tbody>\n",
              "    <tr>\n",
              "      <th>count</th>\n",
              "      <td>0.0</td>\n",
              "      <td>1.609600e+04</td>\n",
              "      <td>1.609600e+04</td>\n",
              "      <td>1.609600e+04</td>\n",
              "      <td>3508.000000</td>\n",
              "      <td>3508.000000</td>\n",
              "      <td>3508.000000</td>\n",
              "      <td>3508.000000</td>\n",
              "      <td>16096.000000</td>\n",
              "      <td>16096.000000</td>\n",
              "      <td>15970.000000</td>\n",
              "      <td>16096.000000</td>\n",
              "      <td>15970.000000</td>\n",
              "      <td>15970.000000</td>\n",
              "      <td>15970.000000</td>\n",
              "      <td>16096.000000</td>\n",
              "      <td>16083.000000</td>\n",
              "      <td>16083.000000</td>\n",
              "      <td>16096.000000</td>\n",
              "      <td>16081.000000</td>\n",
              "      <td>16096.000000</td>\n",
              "      <td>16093.000000</td>\n",
              "    </tr>\n",
              "    <tr>\n",
              "      <th>mean</th>\n",
              "      <td>NaN</td>\n",
              "      <td>1.948044e+05</td>\n",
              "      <td>3.191164e+04</td>\n",
              "      <td>1.946154e+04</td>\n",
              "      <td>335.843857</td>\n",
              "      <td>335.843857</td>\n",
              "      <td>3837.441866</td>\n",
              "      <td>206.845165</td>\n",
              "      <td>2370.555949</td>\n",
              "      <td>1907.347229</td>\n",
              "      <td>0.991547</td>\n",
              "      <td>70.309945</td>\n",
              "      <td>0.135901</td>\n",
              "      <td>0.052951</td>\n",
              "      <td>43.533496</td>\n",
              "      <td>196.123447</td>\n",
              "      <td>22.462276</td>\n",
              "      <td>21.460318</td>\n",
              "      <td>1.347788</td>\n",
              "      <td>217.987028</td>\n",
              "      <td>5.030629</td>\n",
              "      <td>20.604131</td>\n",
              "    </tr>\n",
              "    <tr>\n",
              "      <th>std</th>\n",
              "      <td>NaN</td>\n",
              "      <td>6.795151e+05</td>\n",
              "      <td>1.775885e+05</td>\n",
              "      <td>8.235676e+04</td>\n",
              "      <td>649.406000</td>\n",
              "      <td>649.406000</td>\n",
              "      <td>5425.744327</td>\n",
              "      <td>455.634288</td>\n",
              "      <td>4035.085664</td>\n",
              "      <td>5257.364759</td>\n",
              "      <td>5.160969</td>\n",
              "      <td>79.023251</td>\n",
              "      <td>0.026252</td>\n",
              "      <td>0.048617</td>\n",
              "      <td>5.212252</td>\n",
              "      <td>494.366979</td>\n",
              "      <td>23.700883</td>\n",
              "      <td>27.917349</td>\n",
              "      <td>1.459808</td>\n",
              "      <td>366.742030</td>\n",
              "      <td>1.676101</td>\n",
              "      <td>21.772421</td>\n",
              "    </tr>\n",
              "    <tr>\n",
              "      <th>min</th>\n",
              "      <td>NaN</td>\n",
              "      <td>-1.252760e+05</td>\n",
              "      <td>-3.037000e+03</td>\n",
              "      <td>-9.138600e+04</td>\n",
              "      <td>-364.940000</td>\n",
              "      <td>-364.940000</td>\n",
              "      <td>-2503.480000</td>\n",
              "      <td>0.000000</td>\n",
              "      <td>-16689.260000</td>\n",
              "      <td>-85627.000000</td>\n",
              "      <td>0.000000</td>\n",
              "      <td>-242.960000</td>\n",
              "      <td>0.000000</td>\n",
              "      <td>0.000000</td>\n",
              "      <td>-0.122184</td>\n",
              "      <td>-9038.210000</td>\n",
              "      <td>-525.540000</td>\n",
              "      <td>-615.660000</td>\n",
              "      <td>1.000000</td>\n",
              "      <td>-4148.990000</td>\n",
              "      <td>1.000000</td>\n",
              "      <td>1.000000</td>\n",
              "    </tr>\n",
              "    <tr>\n",
              "      <th>25%</th>\n",
              "      <td>NaN</td>\n",
              "      <td>5.906250e+03</td>\n",
              "      <td>0.000000e+00</td>\n",
              "      <td>0.000000e+00</td>\n",
              "      <td>0.000000</td>\n",
              "      <td>0.000000</td>\n",
              "      <td>1158.175000</td>\n",
              "      <td>0.000000</td>\n",
              "      <td>513.230000</td>\n",
              "      <td>0.000000</td>\n",
              "      <td>0.000000</td>\n",
              "      <td>16.230000</td>\n",
              "      <td>0.115237</td>\n",
              "      <td>0.000000</td>\n",
              "      <td>40.606701</td>\n",
              "      <td>0.000000</td>\n",
              "      <td>11.960000</td>\n",
              "      <td>11.950000</td>\n",
              "      <td>1.000000</td>\n",
              "      <td>51.970000</td>\n",
              "      <td>4.000000</td>\n",
              "      <td>12.500000</td>\n",
              "    </tr>\n",
              "    <tr>\n",
              "      <th>50%</th>\n",
              "      <td>NaN</td>\n",
              "      <td>1.533250e+04</td>\n",
              "      <td>0.000000e+00</td>\n",
              "      <td>9.010000e+02</td>\n",
              "      <td>162.955000</td>\n",
              "      <td>162.955000</td>\n",
              "      <td>2187.230000</td>\n",
              "      <td>42.215000</td>\n",
              "      <td>1179.160000</td>\n",
              "      <td>378.000000</td>\n",
              "      <td>0.000000</td>\n",
              "      <td>19.440000</td>\n",
              "      <td>0.142881</td>\n",
              "      <td>0.086163</td>\n",
              "      <td>44.311378</td>\n",
              "      <td>44.465000</td>\n",
              "      <td>21.090000</td>\n",
              "      <td>20.970000</td>\n",
              "      <td>1.000000</td>\n",
              "      <td>119.680000</td>\n",
              "      <td>5.000000</td>\n",
              "      <td>13.856000</td>\n",
              "    </tr>\n",
              "    <tr>\n",
              "      <th>75%</th>\n",
              "      <td>NaN</td>\n",
              "      <td>5.022150e+04</td>\n",
              "      <td>0.000000e+00</td>\n",
              "      <td>4.127000e+03</td>\n",
              "      <td>396.185000</td>\n",
              "      <td>396.185000</td>\n",
              "      <td>4246.555000</td>\n",
              "      <td>228.117500</td>\n",
              "      <td>2692.077500</td>\n",
              "      <td>1994.250000</td>\n",
              "      <td>0.000000</td>\n",
              "      <td>131.470000</td>\n",
              "      <td>0.146348</td>\n",
              "      <td>0.098837</td>\n",
              "      <td>44.311378</td>\n",
              "      <td>218.090000</td>\n",
              "      <td>29.640000</td>\n",
              "      <td>29.640000</td>\n",
              "      <td>1.000000</td>\n",
              "      <td>275.810000</td>\n",
              "      <td>6.000000</td>\n",
              "      <td>19.800000</td>\n",
              "    </tr>\n",
              "    <tr>\n",
              "      <th>max</th>\n",
              "      <td>NaN</td>\n",
              "      <td>1.609711e+07</td>\n",
              "      <td>4.188440e+06</td>\n",
              "      <td>4.538720e+06</td>\n",
              "      <td>12566.080000</td>\n",
              "      <td>12566.080000</td>\n",
              "      <td>81122.630000</td>\n",
              "      <td>9682.890000</td>\n",
              "      <td>103801.930000</td>\n",
              "      <td>175375.000000</td>\n",
              "      <td>50.000000</td>\n",
              "      <td>2411.690000</td>\n",
              "      <td>0.273963</td>\n",
              "      <td>0.195975</td>\n",
              "      <td>59.444710</td>\n",
              "      <td>15042.790000</td>\n",
              "      <td>374.640000</td>\n",
              "      <td>374.640000</td>\n",
              "      <td>32.000000</td>\n",
              "      <td>24570.650000</td>\n",
              "      <td>16.000000</td>\n",
              "      <td>500.000000</td>\n",
              "    </tr>\n",
              "  </tbody>\n",
              "</table>\n",
              "</div>"
            ],
            "text/plain": [
              "       campaign_disc_ele      cons_12m  cons_gas_12m  cons_last_month  \\\n",
              "count                0.0  1.609600e+04  1.609600e+04     1.609600e+04   \n",
              "mean                 NaN  1.948044e+05  3.191164e+04     1.946154e+04   \n",
              "std                  NaN  6.795151e+05  1.775885e+05     8.235676e+04   \n",
              "min                  NaN -1.252760e+05 -3.037000e+03    -9.138600e+04   \n",
              "25%                  NaN  5.906250e+03  0.000000e+00     0.000000e+00   \n",
              "50%                  NaN  1.533250e+04  0.000000e+00     9.010000e+02   \n",
              "75%                  NaN  5.022150e+04  0.000000e+00     4.127000e+03   \n",
              "max                  NaN  1.609711e+07  4.188440e+06     4.538720e+06   \n",
              "\n",
              "       forecast_base_bill_ele  forecast_base_bill_year  forecast_bill_12m  \\\n",
              "count             3508.000000              3508.000000        3508.000000   \n",
              "mean               335.843857               335.843857        3837.441866   \n",
              "std                649.406000               649.406000        5425.744327   \n",
              "min               -364.940000              -364.940000       -2503.480000   \n",
              "25%                  0.000000                 0.000000        1158.175000   \n",
              "50%                162.955000               162.955000        2187.230000   \n",
              "75%                396.185000               396.185000        4246.555000   \n",
              "max              12566.080000             12566.080000       81122.630000   \n",
              "\n",
              "       forecast_cons  forecast_cons_12m  forecast_cons_year  \\\n",
              "count    3508.000000       16096.000000        16096.000000   \n",
              "mean      206.845165        2370.555949         1907.347229   \n",
              "std       455.634288        4035.085664         5257.364759   \n",
              "min         0.000000      -16689.260000       -85627.000000   \n",
              "25%         0.000000         513.230000            0.000000   \n",
              "50%        42.215000        1179.160000          378.000000   \n",
              "75%       228.117500        2692.077500         1994.250000   \n",
              "max      9682.890000      103801.930000       175375.000000   \n",
              "\n",
              "       forecast_discount_energy  forecast_meter_rent_12m  \\\n",
              "count              15970.000000             16096.000000   \n",
              "mean                   0.991547                70.309945   \n",
              "std                    5.160969                79.023251   \n",
              "min                    0.000000              -242.960000   \n",
              "25%                    0.000000                16.230000   \n",
              "50%                    0.000000                19.440000   \n",
              "75%                    0.000000               131.470000   \n",
              "max                   50.000000              2411.690000   \n",
              "\n",
              "       forecast_price_energy_p1  forecast_price_energy_p2  \\\n",
              "count              15970.000000              15970.000000   \n",
              "mean                   0.135901                  0.052951   \n",
              "std                    0.026252                  0.048617   \n",
              "min                    0.000000                  0.000000   \n",
              "25%                    0.115237                  0.000000   \n",
              "50%                    0.142881                  0.086163   \n",
              "75%                    0.146348                  0.098837   \n",
              "max                    0.273963                  0.195975   \n",
              "\n",
              "       forecast_price_pow_p1      imp_cons  margin_gross_pow_ele  \\\n",
              "count           15970.000000  16096.000000          16083.000000   \n",
              "mean               43.533496    196.123447             22.462276   \n",
              "std                 5.212252    494.366979             23.700883   \n",
              "min                -0.122184  -9038.210000           -525.540000   \n",
              "25%                40.606701      0.000000             11.960000   \n",
              "50%                44.311378     44.465000             21.090000   \n",
              "75%                44.311378    218.090000             29.640000   \n",
              "max                59.444710  15042.790000            374.640000   \n",
              "\n",
              "       margin_net_pow_ele   nb_prod_act    net_margin  num_years_antig  \\\n",
              "count        16083.000000  16096.000000  16081.000000     16096.000000   \n",
              "mean            21.460318      1.347788    217.987028         5.030629   \n",
              "std             27.917349      1.459808    366.742030         1.676101   \n",
              "min           -615.660000      1.000000  -4148.990000         1.000000   \n",
              "25%             11.950000      1.000000     51.970000         4.000000   \n",
              "50%             20.970000      1.000000    119.680000         5.000000   \n",
              "75%             29.640000      1.000000    275.810000         6.000000   \n",
              "max            374.640000     32.000000  24570.650000        16.000000   \n",
              "\n",
              "            pow_max  \n",
              "count  16093.000000  \n",
              "mean      20.604131  \n",
              "std       21.772421  \n",
              "min        1.000000  \n",
              "25%       12.500000  \n",
              "50%       13.856000  \n",
              "75%       19.800000  \n",
              "max      500.000000  "
            ]
          },
          "metadata": {
            "tags": []
          },
          "execution_count": 256
        }
      ]
    },
    {
      "cell_type": "markdown",
      "metadata": {
        "id": "Lap-odSTOQe8"
      },
      "source": [
        "---\n",
        "### **Facts**\n",
        "* The average tenure of a client is 5 years\n",
        "* The average net marging is $217"
      ]
    },
    {
      "cell_type": "markdown",
      "metadata": {
        "id": "T1K3i9oFOoGc"
      },
      "source": [
        "---\n",
        "### **Observations**\n",
        "* The 14 columns contain negative minimum values\n",
        "\n",
        "* The `activity_new` column is missing 59.3% of its data\n",
        "* The `campaign_disc_ele` column is missing completely\n",
        "* The `channel_sales` column is missing 26.2% of its data\n",
        "* The `date_end` column is missing 0.01% of its data\n",
        "* The `date_first_activ_` column is missing 78.2% of its data\n",
        "* The `date_modif_prod` column is missing 0.9% of its data\n",
        "* The `date_renewal` column is missing 0.24% of it data\n",
        "* The `marging_gross_pow_ele` and `margin_net_pow_ele` columns are both missing 0.08% of its data\n",
        "* The `net_margin` column is missing 0.09% of its data\n",
        "* The `origin_up` column is missing 0.54% of its data\n",
        "* The `pow_max` column is missing 0.018% of its data\n",
        "* The `forecast_base_bill_ele`, `forecast_base_bill_year`, `forecast_bill_12m`, and `forecast_cons` columns are each missing 78.2% of its data"
      ]
    },
    {
      "cell_type": "markdown",
      "metadata": {
        "id": "ssUbIgUTMv2p"
      },
      "source": [
        "# **Data Cleaning and Imputation**"
      ]
    },
    {
      "cell_type": "markdown",
      "metadata": {
        "id": "7JLa-5DVK-G3"
      },
      "source": [
        "## **Dealing with missing data**\n",
        "\n",
        "**Workflow for treating missing values**\n",
        "\n",
        "1. Convert all missing values to null values\n",
        "2. Analyze the amount and type of missingness in the data\n",
        "3. Appropriately delete or impute missing values\n",
        "4. Evaluate & compare the performance of the treated/imputed dataset"
      ]
    },
    {
      "cell_type": "markdown",
      "metadata": {
        "id": "VCRRWlaQwPhV"
      },
      "source": [
        "The `missingno` (imported as `msno`) package is great for visualizing missing data - we will be using:\n",
        "\n",
        "- `msno.matrix()` visualizes a missingness matrix\n",
        "- `msno.bar()` visualizes a missngness barplot\n",
        "- `plt.show()` to show the plot"
      ]
    },
    {
      "cell_type": "markdown",
      "metadata": {
        "id": "bS4QH_SOWS1K"
      },
      "source": [
        "###**Is the data missing at random?**\n",
        "\n",
        "**Types of missingness**\n",
        "\n",
        "1. Missing Completely at Random (MCAR)\n",
        "> *Missingness has no relationship between any values, observed or missing*\n",
        "2. Missing at Random (MAR)\n",
        "> *There is a systematic relationship between missingness and other observed data, but not the missing data*\n",
        "3. Missing Not at Random (MNAR)\n",
        "> *There is a relationship between missingness and its values, missing or non-missing*"
      ]
    },
    {
      "cell_type": "markdown",
      "metadata": {
        "id": "pl9JsY7HonyS"
      },
      "source": [
        "###**When and how to delete missing data?**\n",
        "\n",
        "**Types of deletions**\n",
        "1. Pairwise deletion\n",
        ">Pandas skips `NaN` whic is equivalent to pairwise deletion. Pairwise deletions minimize the amount of data loss and are hence preferred. However, it is also true that at several instances they might negatively affect our analysis. \n",
        "2. Listwise deletion\n",
        "> In listwise deletion the incomplete row is deleted, also called complete case analysis. The major disadvantage of listwise deletions is amount of data lost. \n",
        ">Example: `df.dropna(subset=['column'], how='any',inplace=True)`\n",
        "\n",
        "\n",
        "Note: *Both of these deletions are used only when the values are missing completely at random that is MCAR*"
      ]
    },
    {
      "cell_type": "markdown",
      "metadata": {
        "id": "6tfpVcW8YGsM"
      },
      "source": [
        "##**The History Dataset**"
      ]
    },
    {
      "cell_type": "code",
      "metadata": {
        "colab": {
          "base_uri": "https://localhost:8080/",
          "height": 297
        },
        "id": "be6ApYoiv6q9",
        "outputId": "c42628a8-e91f-4e2e-d0e9-99ccfc37447d"
      },
      "source": [
        "# Identify negative columns\n",
        "negative_cols = ['price_p1_fix','price_p2_fix','price_p3_fix']\n",
        "\n",
        "# Convert to positive the negative columns in pco_hist\n",
        "pco_hist[negative_cols] = pco_hist[negative_cols].apply(abs)\n",
        "\n",
        "pco_hist.describe()"
      ],
      "execution_count": null,
      "outputs": [
        {
          "output_type": "execute_result",
          "data": {
            "text/html": [
              "<div>\n",
              "<style scoped>\n",
              "    .dataframe tbody tr th:only-of-type {\n",
              "        vertical-align: middle;\n",
              "    }\n",
              "\n",
              "    .dataframe tbody tr th {\n",
              "        vertical-align: top;\n",
              "    }\n",
              "\n",
              "    .dataframe thead th {\n",
              "        text-align: right;\n",
              "    }\n",
              "</style>\n",
              "<table border=\"1\" class=\"dataframe\">\n",
              "  <thead>\n",
              "    <tr style=\"text-align: right;\">\n",
              "      <th></th>\n",
              "      <th>price_p1_var</th>\n",
              "      <th>price_p2_var</th>\n",
              "      <th>price_p3_var</th>\n",
              "      <th>price_p1_fix</th>\n",
              "      <th>price_p2_fix</th>\n",
              "      <th>price_p3_fix</th>\n",
              "    </tr>\n",
              "  </thead>\n",
              "  <tbody>\n",
              "    <tr>\n",
              "      <th>count</th>\n",
              "      <td>191643.000000</td>\n",
              "      <td>191643.000000</td>\n",
              "      <td>191643.000000</td>\n",
              "      <td>191643.000000</td>\n",
              "      <td>191643.000000</td>\n",
              "      <td>191643.000000</td>\n",
              "    </tr>\n",
              "    <tr>\n",
              "      <th>mean</th>\n",
              "      <td>0.140991</td>\n",
              "      <td>0.054412</td>\n",
              "      <td>0.030712</td>\n",
              "      <td>43.325563</td>\n",
              "      <td>10.698210</td>\n",
              "      <td>6.455443</td>\n",
              "    </tr>\n",
              "    <tr>\n",
              "      <th>std</th>\n",
              "      <td>0.025117</td>\n",
              "      <td>0.050033</td>\n",
              "      <td>0.036335</td>\n",
              "      <td>5.437816</td>\n",
              "      <td>12.856039</td>\n",
              "      <td>7.782273</td>\n",
              "    </tr>\n",
              "    <tr>\n",
              "      <th>min</th>\n",
              "      <td>0.000000</td>\n",
              "      <td>0.000000</td>\n",
              "      <td>0.000000</td>\n",
              "      <td>0.000000</td>\n",
              "      <td>0.000000</td>\n",
              "      <td>0.000000</td>\n",
              "    </tr>\n",
              "    <tr>\n",
              "      <th>25%</th>\n",
              "      <td>0.125976</td>\n",
              "      <td>0.000000</td>\n",
              "      <td>0.000000</td>\n",
              "      <td>40.728885</td>\n",
              "      <td>0.000000</td>\n",
              "      <td>0.000000</td>\n",
              "    </tr>\n",
              "    <tr>\n",
              "      <th>50%</th>\n",
              "      <td>0.146033</td>\n",
              "      <td>0.085483</td>\n",
              "      <td>0.000000</td>\n",
              "      <td>44.266930</td>\n",
              "      <td>0.000000</td>\n",
              "      <td>0.000000</td>\n",
              "    </tr>\n",
              "    <tr>\n",
              "      <th>75%</th>\n",
              "      <td>0.151635</td>\n",
              "      <td>0.101780</td>\n",
              "      <td>0.072558</td>\n",
              "      <td>44.444710</td>\n",
              "      <td>24.339581</td>\n",
              "      <td>16.226389</td>\n",
              "    </tr>\n",
              "    <tr>\n",
              "      <th>max</th>\n",
              "      <td>0.280700</td>\n",
              "      <td>0.229788</td>\n",
              "      <td>0.114102</td>\n",
              "      <td>59.444710</td>\n",
              "      <td>36.490692</td>\n",
              "      <td>17.458221</td>\n",
              "    </tr>\n",
              "  </tbody>\n",
              "</table>\n",
              "</div>"
            ],
            "text/plain": [
              "        price_p1_var   price_p2_var   price_p3_var   price_p1_fix  \\\n",
              "count  191643.000000  191643.000000  191643.000000  191643.000000   \n",
              "mean        0.140991       0.054412       0.030712      43.325563   \n",
              "std         0.025117       0.050033       0.036335       5.437816   \n",
              "min         0.000000       0.000000       0.000000       0.000000   \n",
              "25%         0.125976       0.000000       0.000000      40.728885   \n",
              "50%         0.146033       0.085483       0.000000      44.266930   \n",
              "75%         0.151635       0.101780       0.072558      44.444710   \n",
              "max         0.280700       0.229788       0.114102      59.444710   \n",
              "\n",
              "        price_p2_fix   price_p3_fix  \n",
              "count  191643.000000  191643.000000  \n",
              "mean       10.698210       6.455443  \n",
              "std        12.856039       7.782273  \n",
              "min         0.000000       0.000000  \n",
              "25%         0.000000       0.000000  \n",
              "50%         0.000000       0.000000  \n",
              "75%        24.339581      16.226389  \n",
              "max        36.490692      17.458221  "
            ]
          },
          "metadata": {
            "tags": []
          },
          "execution_count": 257
        }
      ]
    },
    {
      "cell_type": "markdown",
      "metadata": {
        "id": "MmIPwN_vWYHn"
      },
      "source": [
        "### **Visualizing the amount of missingness**\n",
        "\n",
        "\n",
        "\n",
        "\n",
        "\n"
      ]
    },
    {
      "cell_type": "code",
      "metadata": {
        "colab": {
          "base_uri": "https://localhost:8080/",
          "height": 743
        },
        "id": "hHCcBwu1WQmf",
        "outputId": "b49a7280-63a3-4949-fab2-e9d7182e7c3a"
      },
      "source": [
        "# Visualize the completeness of the dataframe\n",
        "msno.bar(pco_hist)"
      ],
      "execution_count": null,
      "outputs": [
        {
          "output_type": "execute_result",
          "data": {
            "text/plain": [
              "<matplotlib.axes._subplots.AxesSubplot at 0x7f8ee181ac88>"
            ]
          },
          "metadata": {
            "tags": []
          },
          "execution_count": 258
        },
        {
          "output_type": "display_data",
          "data": {
            "image/png": "[encoded data removed]",
            "text/plain": [
              "<Figure size 1728x720 with 3 Axes>"
            ]
          },
          "metadata": {
            "tags": [],
            "needs_background": "light"
          }
        }
      ]
    },
    {
      "cell_type": "markdown",
      "metadata": {
        "id": "x379AS419XQr"
      },
      "source": [
        "To the untrained eye, it might seem that there's no data missing. However, we estimated that 0.7% of the data in the price columns are missing. We can notice that the value counts at the top of each columns display a different amount."
      ]
    },
    {
      "cell_type": "code",
      "metadata": {
        "colab": {
          "base_uri": "https://localhost:8080/",
          "height": 692
        },
        "id": "yj7MjdvRXDaf",
        "outputId": "9e7ef9fb-58e6-4442-e26a-819e66abce50"
      },
      "source": [
        "# Visualize the locations of the missing values of the dataset\n",
        "sorted = pco_hist.sort_values(by = ['id','price_date'])\n",
        "msno.matrix(sorted)\n"
      ],
      "execution_count": null,
      "outputs": [
        {
          "output_type": "execute_result",
          "data": {
            "text/plain": [
              "<matplotlib.axes._subplots.AxesSubplot at 0x7f8ee11e4b00>"
            ]
          },
          "metadata": {
            "tags": []
          },
          "execution_count": 259
        },
        {
          "output_type": "display_data",
          "data": {
            "image/png": "[encoded data removed]",
            "text/plain": [
              "<Figure size 1800x720 with 2 Axes>"
            ]
          },
          "metadata": {
            "tags": [],
            "needs_background": "light"
          }
        }
      ]
    },
    {
      "cell_type": "markdown",
      "metadata": {
        "id": "mjzLUvww-ayD"
      },
      "source": [
        "The nullity matrix describes the nullity of the dataset and appears blank wherever there are missing values. \n",
        "\n",
        "The column on the very right summarizes the general shape of the data completeness and points out the row. Total count of columns at the bottom right."
      ]
    },
    {
      "cell_type": "code",
      "metadata": {
        "colab": {
          "base_uri": "https://localhost:8080/",
          "height": 796
        },
        "id": "IHaWQ2Yvfk2H",
        "outputId": "fcffd5ff-b43a-4844-acbd-bfb8e278820d"
      },
      "source": [
        "# Visualize the correlation between the numeric variables of the dataframe\n",
        "msno.heatmap(pco_hist)"
      ],
      "execution_count": null,
      "outputs": [
        {
          "output_type": "execute_result",
          "data": {
            "text/plain": [
              "<matplotlib.axes._subplots.AxesSubplot at 0x7f8ee0733438>"
            ]
          },
          "metadata": {
            "tags": []
          },
          "execution_count": 260
        },
        {
          "output_type": "display_data",
          "data": {
            "image/png": "[encoded data removed]",
            "text/plain": [
              "<Figure size 1440x864 with 2 Axes>"
            ]
          },
          "metadata": {
            "tags": [],
            "needs_background": "light"
          }
        }
      ]
    },
    {
      "cell_type": "code",
      "metadata": {
        "id": "U1iQBcZiezC6",
        "colab": {
          "base_uri": "https://localhost:8080/",
          "height": 359
        },
        "outputId": "64b3d96f-782b-43b7-d02e-f93a5387b9a5"
      },
      "source": [
        "# Identify the index of the IDs containing missing values.\n",
        "hist_NAN_index = pco_hist[pco_hist.isnull().any(axis=1)].index.values.tolist()\n",
        "\n",
        "# Obtain a dataframe with the missing values\n",
        "pco_hist_missing = pco_hist.iloc[hist_NAN_index,:]\n",
        "\n",
        "# Glimpse at the NaN cases of the pco_hist dataset\n",
        "pco_hist_missing.head(10)"
      ],
      "execution_count": null,
      "outputs": [
        {
          "output_type": "execute_result",
          "data": {
            "text/html": [
              "<div>\n",
              "<style scoped>\n",
              "    .dataframe tbody tr th:only-of-type {\n",
              "        vertical-align: middle;\n",
              "    }\n",
              "\n",
              "    .dataframe tbody tr th {\n",
              "        vertical-align: top;\n",
              "    }\n",
              "\n",
              "    .dataframe thead th {\n",
              "        text-align: right;\n",
              "    }\n",
              "</style>\n",
              "<table border=\"1\" class=\"dataframe\">\n",
              "  <thead>\n",
              "    <tr style=\"text-align: right;\">\n",
              "      <th></th>\n",
              "      <th>id</th>\n",
              "      <th>price_date</th>\n",
              "      <th>price_p1_var</th>\n",
              "      <th>price_p2_var</th>\n",
              "      <th>price_p3_var</th>\n",
              "      <th>price_p1_fix</th>\n",
              "      <th>price_p2_fix</th>\n",
              "      <th>price_p3_fix</th>\n",
              "    </tr>\n",
              "  </thead>\n",
              "  <tbody>\n",
              "    <tr>\n",
              "      <th>75</th>\n",
              "      <td>ef716222bbd97a8bdfcbb831e3575560</td>\n",
              "      <td>2015-04-01</td>\n",
              "      <td>NaN</td>\n",
              "      <td>NaN</td>\n",
              "      <td>NaN</td>\n",
              "      <td>NaN</td>\n",
              "      <td>NaN</td>\n",
              "      <td>NaN</td>\n",
              "    </tr>\n",
              "    <tr>\n",
              "      <th>221</th>\n",
              "      <td>0f5231100b2febab862f8dd8eaab3f43</td>\n",
              "      <td>2015-06-01</td>\n",
              "      <td>NaN</td>\n",
              "      <td>NaN</td>\n",
              "      <td>NaN</td>\n",
              "      <td>NaN</td>\n",
              "      <td>NaN</td>\n",
              "      <td>NaN</td>\n",
              "    </tr>\n",
              "    <tr>\n",
              "      <th>377</th>\n",
              "      <td>2f93639de582fadfbe3e86ce1c8d8f35</td>\n",
              "      <td>2015-06-01</td>\n",
              "      <td>NaN</td>\n",
              "      <td>NaN</td>\n",
              "      <td>NaN</td>\n",
              "      <td>NaN</td>\n",
              "      <td>NaN</td>\n",
              "      <td>NaN</td>\n",
              "    </tr>\n",
              "    <tr>\n",
              "      <th>413</th>\n",
              "      <td>f83c1ab1ca1d1802bb1df4d72820243c</td>\n",
              "      <td>2015-06-01</td>\n",
              "      <td>NaN</td>\n",
              "      <td>NaN</td>\n",
              "      <td>NaN</td>\n",
              "      <td>NaN</td>\n",
              "      <td>NaN</td>\n",
              "      <td>NaN</td>\n",
              "    </tr>\n",
              "    <tr>\n",
              "      <th>461</th>\n",
              "      <td>3076c6d4a060e12a049d1700d9b09cf3</td>\n",
              "      <td>2015-06-01</td>\n",
              "      <td>NaN</td>\n",
              "      <td>NaN</td>\n",
              "      <td>NaN</td>\n",
              "      <td>NaN</td>\n",
              "      <td>NaN</td>\n",
              "      <td>NaN</td>\n",
              "    </tr>\n",
              "    <tr>\n",
              "      <th>471</th>\n",
              "      <td>33bb3af90650ac2e9ecac6ff2c975a6b</td>\n",
              "      <td>2015-04-01</td>\n",
              "      <td>NaN</td>\n",
              "      <td>NaN</td>\n",
              "      <td>NaN</td>\n",
              "      <td>NaN</td>\n",
              "      <td>NaN</td>\n",
              "      <td>NaN</td>\n",
              "    </tr>\n",
              "    <tr>\n",
              "      <th>472</th>\n",
              "      <td>33bb3af90650ac2e9ecac6ff2c975a6b</td>\n",
              "      <td>2015-05-01</td>\n",
              "      <td>NaN</td>\n",
              "      <td>NaN</td>\n",
              "      <td>NaN</td>\n",
              "      <td>NaN</td>\n",
              "      <td>NaN</td>\n",
              "      <td>NaN</td>\n",
              "    </tr>\n",
              "    <tr>\n",
              "      <th>475</th>\n",
              "      <td>33bb3af90650ac2e9ecac6ff2c975a6b</td>\n",
              "      <td>2015-08-01</td>\n",
              "      <td>NaN</td>\n",
              "      <td>NaN</td>\n",
              "      <td>NaN</td>\n",
              "      <td>NaN</td>\n",
              "      <td>NaN</td>\n",
              "      <td>NaN</td>\n",
              "    </tr>\n",
              "    <tr>\n",
              "      <th>476</th>\n",
              "      <td>33bb3af90650ac2e9ecac6ff2c975a6b</td>\n",
              "      <td>2015-09-01</td>\n",
              "      <td>NaN</td>\n",
              "      <td>NaN</td>\n",
              "      <td>NaN</td>\n",
              "      <td>NaN</td>\n",
              "      <td>NaN</td>\n",
              "      <td>NaN</td>\n",
              "    </tr>\n",
              "    <tr>\n",
              "      <th>874</th>\n",
              "      <td>0e90101b08183cc9548e827e4b256f47</td>\n",
              "      <td>2015-12-01</td>\n",
              "      <td>NaN</td>\n",
              "      <td>NaN</td>\n",
              "      <td>NaN</td>\n",
              "      <td>NaN</td>\n",
              "      <td>NaN</td>\n",
              "      <td>NaN</td>\n",
              "    </tr>\n",
              "  </tbody>\n",
              "</table>\n",
              "</div>"
            ],
            "text/plain": [
              "                                   id price_date  price_p1_var  price_p2_var  \\\n",
              "75   ef716222bbd97a8bdfcbb831e3575560 2015-04-01           NaN           NaN   \n",
              "221  0f5231100b2febab862f8dd8eaab3f43 2015-06-01           NaN           NaN   \n",
              "377  2f93639de582fadfbe3e86ce1c8d8f35 2015-06-01           NaN           NaN   \n",
              "413  f83c1ab1ca1d1802bb1df4d72820243c 2015-06-01           NaN           NaN   \n",
              "461  3076c6d4a060e12a049d1700d9b09cf3 2015-06-01           NaN           NaN   \n",
              "471  33bb3af90650ac2e9ecac6ff2c975a6b 2015-04-01           NaN           NaN   \n",
              "472  33bb3af90650ac2e9ecac6ff2c975a6b 2015-05-01           NaN           NaN   \n",
              "475  33bb3af90650ac2e9ecac6ff2c975a6b 2015-08-01           NaN           NaN   \n",
              "476  33bb3af90650ac2e9ecac6ff2c975a6b 2015-09-01           NaN           NaN   \n",
              "874  0e90101b08183cc9548e827e4b256f47 2015-12-01           NaN           NaN   \n",
              "\n",
              "     price_p3_var  price_p1_fix  price_p2_fix  price_p3_fix  \n",
              "75            NaN           NaN           NaN           NaN  \n",
              "221           NaN           NaN           NaN           NaN  \n",
              "377           NaN           NaN           NaN           NaN  \n",
              "413           NaN           NaN           NaN           NaN  \n",
              "461           NaN           NaN           NaN           NaN  \n",
              "471           NaN           NaN           NaN           NaN  \n",
              "472           NaN           NaN           NaN           NaN  \n",
              "475           NaN           NaN           NaN           NaN  \n",
              "476           NaN           NaN           NaN           NaN  \n",
              "874           NaN           NaN           NaN           NaN  "
            ]
          },
          "metadata": {
            "tags": []
          },
          "execution_count": 261
        }
      ]
    },
    {
      "cell_type": "code",
      "metadata": {
        "id": "d1HmwfIKpR4V",
        "colab": {
          "base_uri": "https://localhost:8080/",
          "height": 421
        },
        "outputId": "e81ba79a-293b-458d-a1cc-2a9cc58db6d5"
      },
      "source": [
        "# extract the unique dates of missing data\n",
        "date_lst = pco_hist_missing['price_date'].unique()\n",
        "id_lst = pco_hist_missing['id'].unique()\n",
        "\n",
        "# Create a time dataframe with the unique dates\n",
        "time_df = pd.DataFrame(data=date_lst, columns=['price_date'] )\n",
        "\n",
        "# Glimpse the time dataframe\n",
        "time_df.sort_values(by=['price_date'])"
      ],
      "execution_count": null,
      "outputs": [
        {
          "output_type": "execute_result",
          "data": {
            "text/html": [
              "<div>\n",
              "<style scoped>\n",
              "    .dataframe tbody tr th:only-of-type {\n",
              "        vertical-align: middle;\n",
              "    }\n",
              "\n",
              "    .dataframe tbody tr th {\n",
              "        vertical-align: top;\n",
              "    }\n",
              "\n",
              "    .dataframe thead th {\n",
              "        text-align: right;\n",
              "    }\n",
              "</style>\n",
              "<table border=\"1\" class=\"dataframe\">\n",
              "  <thead>\n",
              "    <tr style=\"text-align: right;\">\n",
              "      <th></th>\n",
              "      <th>price_date</th>\n",
              "    </tr>\n",
              "  </thead>\n",
              "  <tbody>\n",
              "    <tr>\n",
              "      <th>9</th>\n",
              "      <td>2015-01-01</td>\n",
              "    </tr>\n",
              "    <tr>\n",
              "      <th>11</th>\n",
              "      <td>2015-02-01</td>\n",
              "    </tr>\n",
              "    <tr>\n",
              "      <th>8</th>\n",
              "      <td>2015-03-01</td>\n",
              "    </tr>\n",
              "    <tr>\n",
              "      <th>0</th>\n",
              "      <td>2015-04-01</td>\n",
              "    </tr>\n",
              "    <tr>\n",
              "      <th>2</th>\n",
              "      <td>2015-05-01</td>\n",
              "    </tr>\n",
              "    <tr>\n",
              "      <th>1</th>\n",
              "      <td>2015-06-01</td>\n",
              "    </tr>\n",
              "    <tr>\n",
              "      <th>10</th>\n",
              "      <td>2015-07-01</td>\n",
              "    </tr>\n",
              "    <tr>\n",
              "      <th>3</th>\n",
              "      <td>2015-08-01</td>\n",
              "    </tr>\n",
              "    <tr>\n",
              "      <th>4</th>\n",
              "      <td>2015-09-01</td>\n",
              "    </tr>\n",
              "    <tr>\n",
              "      <th>7</th>\n",
              "      <td>2015-10-01</td>\n",
              "    </tr>\n",
              "    <tr>\n",
              "      <th>6</th>\n",
              "      <td>2015-11-01</td>\n",
              "    </tr>\n",
              "    <tr>\n",
              "      <th>5</th>\n",
              "      <td>2015-12-01</td>\n",
              "    </tr>\n",
              "  </tbody>\n",
              "</table>\n",
              "</div>"
            ],
            "text/plain": [
              "   price_date\n",
              "9  2015-01-01\n",
              "11 2015-02-01\n",
              "8  2015-03-01\n",
              "0  2015-04-01\n",
              "2  2015-05-01\n",
              "1  2015-06-01\n",
              "10 2015-07-01\n",
              "3  2015-08-01\n",
              "4  2015-09-01\n",
              "7  2015-10-01\n",
              "6  2015-11-01\n",
              "5  2015-12-01"
            ]
          },
          "metadata": {
            "tags": []
          },
          "execution_count": 262
        }
      ]
    },
    {
      "cell_type": "markdown",
      "metadata": {
        "id": "Cc2qpxlsbNCE"
      },
      "source": [
        "---\n",
        "###**Facts**\n",
        "\n",
        "* There is high correlation between the missingness in the numeric columns and is values, missing or non-missing\n",
        "* There are 1359 clients who are missing price data at least in 1 month"
      ]
    },
    {
      "cell_type": "markdown",
      "metadata": {
        "id": "IVikPIvgaCaK"
      },
      "source": [
        "---\n",
        "###**Observations** \n",
        "\n",
        "* After sorting the `pco_hist` dataset by `id` and `price_date`, we found that some columns are likely to be **MNAR**.\n",
        "* The columns containing prices display strong positive correlation  in the missingness suggests a case of **MNAR**. \n",
        "* This event suggest that multicolinearity might be present in the dataset. "
      ]
    },
    {
      "cell_type": "markdown",
      "metadata": {
        "id": "mv_M5bZv_sRU"
      },
      "source": [
        "### **Imputations**\n",
        "\n",
        "Imputing time-series data requires a specialized treatment. Time-series data usually comes with special characteristics such trend, seasonality and cyclicality of which we can exploit when imputing missing values in the data.\n",
        "\n",
        "In this particular dataset, there's not such thing as seasonality because it only has monthly data for one year."
      ]
    },
    {
      "cell_type": "markdown",
      "metadata": {
        "id": "PzP2alQ6IjWK"
      },
      "source": [
        "#### **Filling Time Series Data**"
      ]
    },
    {
      "cell_type": "code",
      "metadata": {
        "colab": {
          "base_uri": "https://localhost:8080/"
        },
        "id": "u6zDdlmaOWQ1",
        "outputId": "5a709f90-c571-4027-fe8b-fa67b37e4e23"
      },
      "source": [
        "# Make a copy of pco_hist dataset\n",
        "pco_hist_ff = pco_hist.copy(deep=True)\n",
        "\n",
        "# Print prior to imputing missing values\n",
        "print(pco_hist_ff.iloc[hist_NAN_index,3:9].head())\n",
        "\n",
        "# Fill NaNs using forward fill\n",
        "pco_hist_ff.fillna(method = 'ffill', inplace=True)\n",
        "\n",
        "print(pco_hist_ff.iloc[hist_NAN_index,3:9].head())\n"
      ],
      "execution_count": null,
      "outputs": [
        {
          "output_type": "stream",
          "text": [
            "     price_p2_var  price_p3_var  price_p1_fix  price_p2_fix  price_p3_fix\n",
            "75            NaN           NaN           NaN           NaN           NaN\n",
            "221           NaN           NaN           NaN           NaN           NaN\n",
            "377           NaN           NaN           NaN           NaN           NaN\n",
            "413           NaN           NaN           NaN           NaN           NaN\n",
            "461           NaN           NaN           NaN           NaN           NaN\n",
            "     price_p2_var  price_p3_var  price_p1_fix  price_p2_fix  price_p3_fix\n",
            "75       0.000000      0.000000     44.266931      0.000000      0.000000\n",
            "221      0.000000      0.000000     44.266931      0.000000      0.000000\n",
            "377      0.087970      0.000000     44.266931      0.000000      0.000000\n",
            "413      0.102239      0.070381     40.565969     24.339581     16.226389\n",
            "461      0.000000      0.000000     44.266931      0.000000      0.000000\n"
          ],
          "name": "stdout"
        }
      ]
    },
    {
      "cell_type": "code",
      "metadata": {
        "colab": {
          "base_uri": "https://localhost:8080/",
          "height": 297
        },
        "id": "mNlY4DFElf2Z",
        "outputId": "a86e824a-6f6a-4663-e896-94afa788a671"
      },
      "source": [
        "pco_hist_ff.describe()"
      ],
      "execution_count": null,
      "outputs": [
        {
          "output_type": "execute_result",
          "data": {
            "text/html": [
              "<div>\n",
              "<style scoped>\n",
              "    .dataframe tbody tr th:only-of-type {\n",
              "        vertical-align: middle;\n",
              "    }\n",
              "\n",
              "    .dataframe tbody tr th {\n",
              "        vertical-align: top;\n",
              "    }\n",
              "\n",
              "    .dataframe thead th {\n",
              "        text-align: right;\n",
              "    }\n",
              "</style>\n",
              "<table border=\"1\" class=\"dataframe\">\n",
              "  <thead>\n",
              "    <tr style=\"text-align: right;\">\n",
              "      <th></th>\n",
              "      <th>price_p1_var</th>\n",
              "      <th>price_p2_var</th>\n",
              "      <th>price_p3_var</th>\n",
              "      <th>price_p1_fix</th>\n",
              "      <th>price_p2_fix</th>\n",
              "      <th>price_p3_fix</th>\n",
              "    </tr>\n",
              "  </thead>\n",
              "  <tbody>\n",
              "    <tr>\n",
              "      <th>count</th>\n",
              "      <td>193002.000000</td>\n",
              "      <td>193002.000000</td>\n",
              "      <td>193002.000000</td>\n",
              "      <td>193002.000000</td>\n",
              "      <td>193002.000000</td>\n",
              "      <td>193002.000000</td>\n",
              "    </tr>\n",
              "    <tr>\n",
              "      <th>mean</th>\n",
              "      <td>0.141006</td>\n",
              "      <td>0.054376</td>\n",
              "      <td>0.030689</td>\n",
              "      <td>43.326213</td>\n",
              "      <td>10.689406</td>\n",
              "      <td>6.450494</td>\n",
              "    </tr>\n",
              "    <tr>\n",
              "      <th>std</th>\n",
              "      <td>0.025091</td>\n",
              "      <td>0.050040</td>\n",
              "      <td>0.036333</td>\n",
              "      <td>5.431161</td>\n",
              "      <td>12.853850</td>\n",
              "      <td>7.781323</td>\n",
              "    </tr>\n",
              "    <tr>\n",
              "      <th>min</th>\n",
              "      <td>0.000000</td>\n",
              "      <td>0.000000</td>\n",
              "      <td>0.000000</td>\n",
              "      <td>0.000000</td>\n",
              "      <td>0.000000</td>\n",
              "      <td>0.000000</td>\n",
              "    </tr>\n",
              "    <tr>\n",
              "      <th>25%</th>\n",
              "      <td>0.125976</td>\n",
              "      <td>0.000000</td>\n",
              "      <td>0.000000</td>\n",
              "      <td>40.728885</td>\n",
              "      <td>0.000000</td>\n",
              "      <td>0.000000</td>\n",
              "    </tr>\n",
              "    <tr>\n",
              "      <th>50%</th>\n",
              "      <td>0.146033</td>\n",
              "      <td>0.085450</td>\n",
              "      <td>0.000000</td>\n",
              "      <td>44.266930</td>\n",
              "      <td>0.000000</td>\n",
              "      <td>0.000000</td>\n",
              "    </tr>\n",
              "    <tr>\n",
              "      <th>75%</th>\n",
              "      <td>0.151635</td>\n",
              "      <td>0.101780</td>\n",
              "      <td>0.072558</td>\n",
              "      <td>44.444710</td>\n",
              "      <td>24.339581</td>\n",
              "      <td>16.226389</td>\n",
              "    </tr>\n",
              "    <tr>\n",
              "      <th>max</th>\n",
              "      <td>0.280700</td>\n",
              "      <td>0.229788</td>\n",
              "      <td>0.114102</td>\n",
              "      <td>59.444710</td>\n",
              "      <td>36.490692</td>\n",
              "      <td>17.458221</td>\n",
              "    </tr>\n",
              "  </tbody>\n",
              "</table>\n",
              "</div>"
            ],
            "text/plain": [
              "        price_p1_var   price_p2_var   price_p3_var   price_p1_fix  \\\n",
              "count  193002.000000  193002.000000  193002.000000  193002.000000   \n",
              "mean        0.141006       0.054376       0.030689      43.326213   \n",
              "std         0.025091       0.050040       0.036333       5.431161   \n",
              "min         0.000000       0.000000       0.000000       0.000000   \n",
              "25%         0.125976       0.000000       0.000000      40.728885   \n",
              "50%         0.146033       0.085450       0.000000      44.266930   \n",
              "75%         0.151635       0.101780       0.072558      44.444710   \n",
              "max         0.280700       0.229788       0.114102      59.444710   \n",
              "\n",
              "        price_p2_fix   price_p3_fix  \n",
              "count  193002.000000  193002.000000  \n",
              "mean       10.689406       6.450494  \n",
              "std        12.853850       7.781323  \n",
              "min         0.000000       0.000000  \n",
              "25%         0.000000       0.000000  \n",
              "50%         0.000000       0.000000  \n",
              "75%        24.339581      16.226389  \n",
              "max        36.490692      17.458221  "
            ]
          },
          "metadata": {
            "tags": []
          },
          "execution_count": 264
        }
      ]
    },
    {
      "cell_type": "code",
      "metadata": {
        "colab": {
          "base_uri": "https://localhost:8080/",
          "height": 204
        },
        "id": "d0JIHT6CbdQp",
        "outputId": "0e9edf42-fe1f-4492-d61e-3821f73315bc"
      },
      "source": [
        "# Merge output dataset with historical forward fill dataset\n",
        "pco_hist_ff_merged = pco_hist_ff.merge(right=pco_output,on=['id'])\n",
        "pco_hist_ff_merged.head()"
      ],
      "execution_count": null,
      "outputs": [
        {
          "output_type": "execute_result",
          "data": {
            "text/html": [
              "<div>\n",
              "<style scoped>\n",
              "    .dataframe tbody tr th:only-of-type {\n",
              "        vertical-align: middle;\n",
              "    }\n",
              "\n",
              "    .dataframe tbody tr th {\n",
              "        vertical-align: top;\n",
              "    }\n",
              "\n",
              "    .dataframe thead th {\n",
              "        text-align: right;\n",
              "    }\n",
              "</style>\n",
              "<table border=\"1\" class=\"dataframe\">\n",
              "  <thead>\n",
              "    <tr style=\"text-align: right;\">\n",
              "      <th></th>\n",
              "      <th>id</th>\n",
              "      <th>price_date</th>\n",
              "      <th>price_p1_var</th>\n",
              "      <th>price_p2_var</th>\n",
              "      <th>price_p3_var</th>\n",
              "      <th>price_p1_fix</th>\n",
              "      <th>price_p2_fix</th>\n",
              "      <th>price_p3_fix</th>\n",
              "      <th>churn</th>\n",
              "    </tr>\n",
              "  </thead>\n",
              "  <tbody>\n",
              "    <tr>\n",
              "      <th>0</th>\n",
              "      <td>038af19179925da21a25619c5a24b745</td>\n",
              "      <td>2015-01-01</td>\n",
              "      <td>0.151367</td>\n",
              "      <td>0.0</td>\n",
              "      <td>0.0</td>\n",
              "      <td>44.266931</td>\n",
              "      <td>0.0</td>\n",
              "      <td>0.0</td>\n",
              "      <td>Stayed</td>\n",
              "    </tr>\n",
              "    <tr>\n",
              "      <th>1</th>\n",
              "      <td>038af19179925da21a25619c5a24b745</td>\n",
              "      <td>2015-02-01</td>\n",
              "      <td>0.151367</td>\n",
              "      <td>0.0</td>\n",
              "      <td>0.0</td>\n",
              "      <td>44.266931</td>\n",
              "      <td>0.0</td>\n",
              "      <td>0.0</td>\n",
              "      <td>Stayed</td>\n",
              "    </tr>\n",
              "    <tr>\n",
              "      <th>2</th>\n",
              "      <td>038af19179925da21a25619c5a24b745</td>\n",
              "      <td>2015-03-01</td>\n",
              "      <td>0.151367</td>\n",
              "      <td>0.0</td>\n",
              "      <td>0.0</td>\n",
              "      <td>44.266931</td>\n",
              "      <td>0.0</td>\n",
              "      <td>0.0</td>\n",
              "      <td>Stayed</td>\n",
              "    </tr>\n",
              "    <tr>\n",
              "      <th>3</th>\n",
              "      <td>038af19179925da21a25619c5a24b745</td>\n",
              "      <td>2015-04-01</td>\n",
              "      <td>0.149626</td>\n",
              "      <td>0.0</td>\n",
              "      <td>0.0</td>\n",
              "      <td>44.266931</td>\n",
              "      <td>0.0</td>\n",
              "      <td>0.0</td>\n",
              "      <td>Stayed</td>\n",
              "    </tr>\n",
              "    <tr>\n",
              "      <th>4</th>\n",
              "      <td>038af19179925da21a25619c5a24b745</td>\n",
              "      <td>2015-05-01</td>\n",
              "      <td>0.149626</td>\n",
              "      <td>0.0</td>\n",
              "      <td>0.0</td>\n",
              "      <td>44.266931</td>\n",
              "      <td>0.0</td>\n",
              "      <td>0.0</td>\n",
              "      <td>Stayed</td>\n",
              "    </tr>\n",
              "  </tbody>\n",
              "</table>\n",
              "</div>"
            ],
            "text/plain": [
              "                                 id price_date  price_p1_var  price_p2_var  \\\n",
              "0  038af19179925da21a25619c5a24b745 2015-01-01      0.151367           0.0   \n",
              "1  038af19179925da21a25619c5a24b745 2015-02-01      0.151367           0.0   \n",
              "2  038af19179925da21a25619c5a24b745 2015-03-01      0.151367           0.0   \n",
              "3  038af19179925da21a25619c5a24b745 2015-04-01      0.149626           0.0   \n",
              "4  038af19179925da21a25619c5a24b745 2015-05-01      0.149626           0.0   \n",
              "\n",
              "   price_p3_var  price_p1_fix  price_p2_fix  price_p3_fix   churn  \n",
              "0           0.0     44.266931           0.0           0.0  Stayed  \n",
              "1           0.0     44.266931           0.0           0.0  Stayed  \n",
              "2           0.0     44.266931           0.0           0.0  Stayed  \n",
              "3           0.0     44.266931           0.0           0.0  Stayed  \n",
              "4           0.0     44.266931           0.0           0.0  Stayed  "
            ]
          },
          "metadata": {
            "tags": []
          },
          "execution_count": 265
        }
      ]
    },
    {
      "cell_type": "markdown",
      "metadata": {
        "id": "T0WehwG4o78N"
      },
      "source": [
        "## **The Main Dataset**"
      ]
    },
    {
      "cell_type": "markdown",
      "metadata": {
        "id": "HszQu4DqpokO"
      },
      "source": [
        "### **Visualizing the amount of missingness**"
      ]
    },
    {
      "cell_type": "code",
      "metadata": {
        "colab": {
          "base_uri": "https://localhost:8080/",
          "height": 810
        },
        "id": "isnmlVaKUoRd",
        "outputId": "0ee9cb49-e407-433f-876c-83cd37afc880"
      },
      "source": [
        "# Visualize the completeness of the dataframe\n",
        "msno.bar(pco_main)"
      ],
      "execution_count": null,
      "outputs": [
        {
          "output_type": "execute_result",
          "data": {
            "text/plain": [
              "<matplotlib.axes._subplots.AxesSubplot at 0x7f8ee0ba6b38>"
            ]
          },
          "metadata": {
            "tags": []
          },
          "execution_count": 266
        },
        {
          "output_type": "display_data",
          "data": {
            "image/png": "[encoded data removed]",
            "text/plain": [
              "<Figure size 1728x720 with 3 Axes>"
            ]
          },
          "metadata": {
            "tags": [],
            "needs_background": "light"
          }
        }
      ]
    },
    {
      "cell_type": "code",
      "metadata": {
        "colab": {
          "base_uri": "https://localhost:8080/",
          "height": 767
        },
        "id": "DUHoU5-aWOK8",
        "outputId": "9fff8886-38ce-438c-c5ea-850a9919cb1c"
      },
      "source": [
        "# Visualize the locations of the missing values of the dataset\n",
        "msno.matrix(pco_main)"
      ],
      "execution_count": null,
      "outputs": [
        {
          "output_type": "execute_result",
          "data": {
            "text/plain": [
              "<matplotlib.axes._subplots.AxesSubplot at 0x7f8ee0f20f98>"
            ]
          },
          "metadata": {
            "tags": []
          },
          "execution_count": 267
        },
        {
          "output_type": "display_data",
          "data": {
            "image/png": "[encoded data removed]",
            "text/plain": [
              "<Figure size 1800x720 with 2 Axes>"
            ]
          },
          "metadata": {
            "tags": [],
            "needs_background": "light"
          }
        }
      ]
    },
    {
      "cell_type": "code",
      "metadata": {
        "colab": {
          "base_uri": "https://localhost:8080/",
          "height": 767
        },
        "id": "9E1FjWq7dyLk",
        "outputId": "e3446ab1-b530-4d6b-e468-bf95d445e76b"
      },
      "source": [
        "sorted_main = pco_main.sort_values('date_first_activ')\n",
        "msno.matrix(sorted_main)"
      ],
      "execution_count": null,
      "outputs": [
        {
          "output_type": "execute_result",
          "data": {
            "text/plain": [
              "<matplotlib.axes._subplots.AxesSubplot at 0x7f8ee0d7acf8>"
            ]
          },
          "metadata": {
            "tags": []
          },
          "execution_count": 268
        },
        {
          "output_type": "display_data",
          "data": {
            "image/png": "[encoded data removed]",
            "text/plain": [
              "<Figure size 1800x720 with 2 Axes>"
            ]
          },
          "metadata": {
            "tags": [],
            "needs_background": "light"
          }
        }
      ]
    },
    {
      "cell_type": "code",
      "metadata": {
        "colab": {
          "base_uri": "https://localhost:8080/",
          "height": 868
        },
        "id": "SxkghOctizk5",
        "outputId": "a7f043ad-f5b5-4471-9505-ffff749f06d9"
      },
      "source": [
        "msno.heatmap(pco_main)"
      ],
      "execution_count": null,
      "outputs": [
        {
          "output_type": "execute_result",
          "data": {
            "text/plain": [
              "<matplotlib.axes._subplots.AxesSubplot at 0x7f8ee0c781d0>"
            ]
          },
          "metadata": {
            "tags": []
          },
          "execution_count": 269
        },
        {
          "output_type": "display_data",
          "data": {
            "image/png": "[encoded data removed]",
            "text/plain": [
              "<Figure size 1440x864 with 2 Axes>"
            ]
          },
          "metadata": {
            "tags": [],
            "needs_background": "light"
          }
        }
      ]
    },
    {
      "cell_type": "code",
      "metadata": {
        "colab": {
          "base_uri": "https://localhost:8080/",
          "height": 266
        },
        "id": "nNF6cqCFxLZH",
        "outputId": "85215613-7692-4cb1-e3d1-f2e1256c3150"
      },
      "source": [
        "# Demonstrate why the date_activ column cannot replace completely date_first_activ\n",
        "activity = ['date_activ','date_first_activ']\n",
        "\n",
        "# Filter the columns of interest\n",
        "pco_activity = pco_main[activity]\n",
        "\n",
        "# Obtain only the complete cases\n",
        "pco_activity_cc = pco_activity.dropna(subset=['date_first_activ'],how='any',inplace=False)\n",
        "\n",
        "# Test whether two objects contain the same elements.\n",
        "pco_activity_cc.date_activ.equals(pco_activity_cc.date_first_activ)\n",
        "\n",
        "# Describe it\n",
        "pco_activity_cc.describe(datetime_is_numeric=True) # Comparing dates in .describe() is depricated, might crash in the future"
      ],
      "execution_count": null,
      "outputs": [
        {
          "output_type": "execute_result",
          "data": {
            "text/html": [
              "<div>\n",
              "<style scoped>\n",
              "    .dataframe tbody tr th:only-of-type {\n",
              "        vertical-align: middle;\n",
              "    }\n",
              "\n",
              "    .dataframe tbody tr th {\n",
              "        vertical-align: top;\n",
              "    }\n",
              "\n",
              "    .dataframe thead th {\n",
              "        text-align: right;\n",
              "    }\n",
              "</style>\n",
              "<table border=\"1\" class=\"dataframe\">\n",
              "  <thead>\n",
              "    <tr style=\"text-align: right;\">\n",
              "      <th></th>\n",
              "      <th>date_activ</th>\n",
              "      <th>date_first_activ</th>\n",
              "    </tr>\n",
              "  </thead>\n",
              "  <tbody>\n",
              "    <tr>\n",
              "      <th>count</th>\n",
              "      <td>3508</td>\n",
              "      <td>3508</td>\n",
              "    </tr>\n",
              "    <tr>\n",
              "      <th>mean</th>\n",
              "      <td>2011-09-03 07:45:05.131127552</td>\n",
              "      <td>2011-06-19 20:20:23.261114880</td>\n",
              "    </tr>\n",
              "    <tr>\n",
              "      <th>min</th>\n",
              "      <td>2003-09-23 00:00:00</td>\n",
              "      <td>2001-01-10 00:00:00</td>\n",
              "    </tr>\n",
              "    <tr>\n",
              "      <th>25%</th>\n",
              "      <td>2010-10-26 00:00:00</td>\n",
              "      <td>2010-08-04 18:00:00</td>\n",
              "    </tr>\n",
              "    <tr>\n",
              "      <th>50%</th>\n",
              "      <td>2012-01-03 00:00:00</td>\n",
              "      <td>2011-10-28 00:00:00</td>\n",
              "    </tr>\n",
              "    <tr>\n",
              "      <th>75%</th>\n",
              "      <td>2012-08-08 00:00:00</td>\n",
              "      <td>2012-06-22 06:00:00</td>\n",
              "    </tr>\n",
              "    <tr>\n",
              "      <th>max</th>\n",
              "      <td>2014-09-01 00:00:00</td>\n",
              "      <td>2014-09-01 00:00:00</td>\n",
              "    </tr>\n",
              "  </tbody>\n",
              "</table>\n",
              "</div>"
            ],
            "text/plain": [
              "                          date_activ               date_first_activ\n",
              "count                           3508                           3508\n",
              "mean   2011-09-03 07:45:05.131127552  2011-06-19 20:20:23.261114880\n",
              "min              2003-09-23 00:00:00            2001-01-10 00:00:00\n",
              "25%              2010-10-26 00:00:00            2010-08-04 18:00:00\n",
              "50%              2012-01-03 00:00:00            2011-10-28 00:00:00\n",
              "75%              2012-08-08 00:00:00            2012-06-22 06:00:00\n",
              "max              2014-09-01 00:00:00            2014-09-01 00:00:00"
            ]
          },
          "metadata": {
            "tags": []
          },
          "execution_count": 270
        }
      ]
    },
    {
      "cell_type": "code",
      "metadata": {
        "colab": {
          "base_uri": "https://localhost:8080/",
          "height": 767
        },
        "id": "Hy6Z8wAqwJRC",
        "outputId": "c72f7f49-ec5a-4a84-970a-7986bdfcf092"
      },
      "source": [
        "# Drop the column activity_new and campaign_disc_elec\n",
        "pco_main_drop = pco_main.drop(labels= ['activity_new','campaign_disc_ele'] , axis=1)\n",
        "\n",
        "# Remove date_end date_modif_prod date_renewal origin_up pow_max margin_gross_pow_ele margin_net_pow_ele net_margin\n",
        "brush = ['date_end','date_modif_prod','date_renewal','origin_up','pow_max','margin_gross_pow_ele',\n",
        "         'margin_net_pow_ele', 'net_margin','forecast_discount_energy','forecast_price_energy_p1',\n",
        "         'forecast_price_energy_p2','forecast_price_pow_p1']\n",
        "pco_main_drop.dropna(subset=brush, how='any',inplace=True)\n",
        "\n",
        "msno.matrix(pco_main_drop)\n",
        "\n"
      ],
      "execution_count": null,
      "outputs": [
        {
          "output_type": "execute_result",
          "data": {
            "text/plain": [
              "<matplotlib.axes._subplots.AxesSubplot at 0x7f8ee0ab4438>"
            ]
          },
          "metadata": {
            "tags": []
          },
          "execution_count": 271
        },
        {
          "output_type": "display_data",
          "data": {
            "image/png": "[encoded data removed]",
            "text/plain": [
              "<Figure size 1800x720 with 2 Axes>"
            ]
          },
          "metadata": {
            "tags": [],
            "needs_background": "light"
          }
        }
      ]
    },
    {
      "cell_type": "markdown",
      "metadata": {
        "id": "c90SPYGV2Fuu"
      },
      "source": [
        "###**Observations**\n",
        "* The variable `activity_new` is **MCAR** and has very low correlation with any of the variables. We can safely *drop* this column. \n",
        "* The variable `campaign_disc_elec` is completely missing at random on all rows. We can get rid of this column. This suggests that subscribers are not subscribing through campaings offers. \n",
        "* The variable `date_first_activ` cannot be replace by the values of the `date_activ` variable. **MAR**\n",
        "* `net_margin` is showing strong correlation between `margin_gross_pow_elec` and `margin_net_pow_ele`. Multicolinearity is likely here. \n",
        "* The variables `origin_up` and `pow_max` display no correlation with any variable and contain 0.54% and 0.01% of missingness respectively. These are **MCAR** and can be dropped listwise.\n",
        "* `Forecast_base_bill_ele`, `forecast_base_bill_year`, `forecast_bill_12m` and `forecast_cons` variables are highly correlated with the `date_first_activ` variable's missingness. Accouting for 78% of missing values in the formerly mention columns and therfore are **MNAR**.\n",
        "*Cannot replace the `date_first_activ` column with the `date_activ` column since in some of the cases the dates are not identical. "
      ]
    },
    {
      "cell_type": "code",
      "metadata": {
        "colab": {
          "base_uri": "https://localhost:8080/",
          "height": 419
        },
        "id": "OAHygiviD-DL",
        "outputId": "07bb1b67-45dd-469e-ad1d-a68f7c7e2a27"
      },
      "source": [
        "# Choose the columns without missing values\n",
        "incomplete_cols = ['channel_sales','date_first_activ','forecast_base_bill_ele','forecast_base_bill_year','forecast_bill_12m','forecast_cons']\n",
        "\n",
        "complete_cols = [column_name for column_name in pco_main_drop.columns if column_name not in incomplete_cols]\n",
        "\n",
        "pco_main_cc = pco_main_drop[complete_cols]\n",
        "\n",
        "# Fix negative numeric variables\n",
        "numeric = [column_name for column_name in pco_main_cc.columns\n",
        "           if pco_main_cc[column_name].dtype == 'float64' \n",
        "           or pco_main_cc[column_name].dtype == 'int64']\n",
        "\n",
        "# Overwrite positive values on negative values\n",
        "pco_main_cc[numeric] = pco_main_cc[numeric].apply(abs)\n",
        "\n",
        "# Describe\n",
        "pco_main_cc.describe()\n"
      ],
      "execution_count": null,
      "outputs": [
        {
          "output_type": "stream",
          "text": [
            "/usr/local/lib/python3.6/dist-packages/pandas/core/frame.py:3069: SettingWithCopyWarning: \n",
            "A value is trying to be set on a copy of a slice from a DataFrame.\n",
            "Try using .loc[row_indexer,col_indexer] = value instead\n",
            "\n",
            "See the caveats in the documentation: https://pandas.pydata.org/pandas-docs/stable/user_guide/indexing.html#returning-a-view-versus-a-copy\n",
            "  self[k1] = value[k2]\n"
          ],
          "name": "stderr"
        },
        {
          "output_type": "execute_result",
          "data": {
            "text/html": [
              "<div>\n",
              "<style scoped>\n",
              "    .dataframe tbody tr th:only-of-type {\n",
              "        vertical-align: middle;\n",
              "    }\n",
              "\n",
              "    .dataframe tbody tr th {\n",
              "        vertical-align: top;\n",
              "    }\n",
              "\n",
              "    .dataframe thead th {\n",
              "        text-align: right;\n",
              "    }\n",
              "</style>\n",
              "<table border=\"1\" class=\"dataframe\">\n",
              "  <thead>\n",
              "    <tr style=\"text-align: right;\">\n",
              "      <th></th>\n",
              "      <th>cons_12m</th>\n",
              "      <th>cons_gas_12m</th>\n",
              "      <th>cons_last_month</th>\n",
              "      <th>forecast_cons_12m</th>\n",
              "      <th>forecast_cons_year</th>\n",
              "      <th>forecast_discount_energy</th>\n",
              "      <th>forecast_meter_rent_12m</th>\n",
              "      <th>forecast_price_energy_p1</th>\n",
              "      <th>forecast_price_energy_p2</th>\n",
              "      <th>forecast_price_pow_p1</th>\n",
              "      <th>imp_cons</th>\n",
              "      <th>margin_gross_pow_ele</th>\n",
              "      <th>margin_net_pow_ele</th>\n",
              "      <th>nb_prod_act</th>\n",
              "      <th>net_margin</th>\n",
              "      <th>num_years_antig</th>\n",
              "      <th>pow_max</th>\n",
              "    </tr>\n",
              "  </thead>\n",
              "  <tbody>\n",
              "    <tr>\n",
              "      <th>count</th>\n",
              "      <td>1.567400e+04</td>\n",
              "      <td>1.567400e+04</td>\n",
              "      <td>1.567400e+04</td>\n",
              "      <td>15674.000000</td>\n",
              "      <td>15674.000000</td>\n",
              "      <td>15674.000000</td>\n",
              "      <td>15674.000000</td>\n",
              "      <td>15674.000000</td>\n",
              "      <td>15674.000000</td>\n",
              "      <td>15674.000000</td>\n",
              "      <td>15674.000000</td>\n",
              "      <td>15674.000000</td>\n",
              "      <td>15674.000000</td>\n",
              "      <td>15674.000000</td>\n",
              "      <td>15674.000000</td>\n",
              "      <td>15674.000000</td>\n",
              "      <td>15674.000000</td>\n",
              "    </tr>\n",
              "    <tr>\n",
              "      <th>mean</th>\n",
              "      <td>1.916143e+05</td>\n",
              "      <td>3.132400e+04</td>\n",
              "      <td>1.941588e+04</td>\n",
              "      <td>2359.676441</td>\n",
              "      <td>1911.698354</td>\n",
              "      <td>0.976139</td>\n",
              "      <td>70.210965</td>\n",
              "      <td>0.135925</td>\n",
              "      <td>0.052858</td>\n",
              "      <td>43.522191</td>\n",
              "      <td>196.641669</td>\n",
              "      <td>23.556272</td>\n",
              "      <td>24.125235</td>\n",
              "      <td>1.348092</td>\n",
              "      <td>221.259158</td>\n",
              "      <td>5.052188</td>\n",
              "      <td>20.438270</td>\n",
              "    </tr>\n",
              "    <tr>\n",
              "      <th>std</th>\n",
              "      <td>6.724688e+05</td>\n",
              "      <td>1.716291e+05</td>\n",
              "      <td>8.226881e+04</td>\n",
              "      <td>3979.605687</td>\n",
              "      <td>5224.813531</td>\n",
              "      <td>5.124103</td>\n",
              "      <td>78.560454</td>\n",
              "      <td>0.026282</td>\n",
              "      <td>0.048638</td>\n",
              "      <td>5.221651</td>\n",
              "      <td>490.956048</td>\n",
              "      <td>22.456277</td>\n",
              "      <td>25.599218</td>\n",
              "      <td>1.475092</td>\n",
              "      <td>362.053657</td>\n",
              "      <td>1.670284</td>\n",
              "      <td>21.164053</td>\n",
              "    </tr>\n",
              "    <tr>\n",
              "      <th>min</th>\n",
              "      <td>0.000000e+00</td>\n",
              "      <td>0.000000e+00</td>\n",
              "      <td>0.000000e+00</td>\n",
              "      <td>0.000000</td>\n",
              "      <td>0.000000</td>\n",
              "      <td>0.000000</td>\n",
              "      <td>0.000000</td>\n",
              "      <td>0.000000</td>\n",
              "      <td>0.000000</td>\n",
              "      <td>0.000000</td>\n",
              "      <td>0.000000</td>\n",
              "      <td>0.000000</td>\n",
              "      <td>0.000000</td>\n",
              "      <td>1.000000</td>\n",
              "      <td>0.000000</td>\n",
              "      <td>1.000000</td>\n",
              "      <td>1.000000</td>\n",
              "    </tr>\n",
              "    <tr>\n",
              "      <th>25%</th>\n",
              "      <td>5.893250e+03</td>\n",
              "      <td>0.000000e+00</td>\n",
              "      <td>0.000000e+00</td>\n",
              "      <td>514.045000</td>\n",
              "      <td>0.000000</td>\n",
              "      <td>0.000000</td>\n",
              "      <td>16.230000</td>\n",
              "      <td>0.115237</td>\n",
              "      <td>0.000000</td>\n",
              "      <td>40.606701</td>\n",
              "      <td>0.000000</td>\n",
              "      <td>12.360000</td>\n",
              "      <td>12.360000</td>\n",
              "      <td>1.000000</td>\n",
              "      <td>52.802500</td>\n",
              "      <td>4.000000</td>\n",
              "      <td>12.500000</td>\n",
              "    </tr>\n",
              "    <tr>\n",
              "      <th>50%</th>\n",
              "      <td>1.522000e+04</td>\n",
              "      <td>0.000000e+00</td>\n",
              "      <td>9.090000e+02</td>\n",
              "      <td>1178.970000</td>\n",
              "      <td>382.000000</td>\n",
              "      <td>0.000000</td>\n",
              "      <td>19.430000</td>\n",
              "      <td>0.142881</td>\n",
              "      <td>0.086163</td>\n",
              "      <td>44.311378</td>\n",
              "      <td>44.870000</td>\n",
              "      <td>21.090000</td>\n",
              "      <td>21.090000</td>\n",
              "      <td>1.000000</td>\n",
              "      <td>120.545000</td>\n",
              "      <td>5.000000</td>\n",
              "      <td>13.856000</td>\n",
              "    </tr>\n",
              "    <tr>\n",
              "      <th>75%</th>\n",
              "      <td>4.953825e+04</td>\n",
              "      <td>0.000000e+00</td>\n",
              "      <td>4.131500e+03</td>\n",
              "      <td>2677.220000</td>\n",
              "      <td>1994.750000</td>\n",
              "      <td>0.000000</td>\n",
              "      <td>131.500000</td>\n",
              "      <td>0.146348</td>\n",
              "      <td>0.098837</td>\n",
              "      <td>44.311378</td>\n",
              "      <td>217.962500</td>\n",
              "      <td>29.640000</td>\n",
              "      <td>29.760000</td>\n",
              "      <td>1.000000</td>\n",
              "      <td>275.797500</td>\n",
              "      <td>6.000000</td>\n",
              "      <td>19.800000</td>\n",
              "    </tr>\n",
              "    <tr>\n",
              "      <th>max</th>\n",
              "      <td>1.609711e+07</td>\n",
              "      <td>4.154590e+06</td>\n",
              "      <td>4.538720e+06</td>\n",
              "      <td>103801.930000</td>\n",
              "      <td>175375.000000</td>\n",
              "      <td>50.000000</td>\n",
              "      <td>2411.690000</td>\n",
              "      <td>0.273963</td>\n",
              "      <td>0.195975</td>\n",
              "      <td>59.444710</td>\n",
              "      <td>15042.790000</td>\n",
              "      <td>525.540000</td>\n",
              "      <td>615.660000</td>\n",
              "      <td>32.000000</td>\n",
              "      <td>24570.650000</td>\n",
              "      <td>16.000000</td>\n",
              "      <td>500.000000</td>\n",
              "    </tr>\n",
              "  </tbody>\n",
              "</table>\n",
              "</div>"
            ],
            "text/plain": [
              "           cons_12m  cons_gas_12m  cons_last_month  forecast_cons_12m  \\\n",
              "count  1.567400e+04  1.567400e+04     1.567400e+04       15674.000000   \n",
              "mean   1.916143e+05  3.132400e+04     1.941588e+04        2359.676441   \n",
              "std    6.724688e+05  1.716291e+05     8.226881e+04        3979.605687   \n",
              "min    0.000000e+00  0.000000e+00     0.000000e+00           0.000000   \n",
              "25%    5.893250e+03  0.000000e+00     0.000000e+00         514.045000   \n",
              "50%    1.522000e+04  0.000000e+00     9.090000e+02        1178.970000   \n",
              "75%    4.953825e+04  0.000000e+00     4.131500e+03        2677.220000   \n",
              "max    1.609711e+07  4.154590e+06     4.538720e+06      103801.930000   \n",
              "\n",
              "       forecast_cons_year  forecast_discount_energy  forecast_meter_rent_12m  \\\n",
              "count        15674.000000              15674.000000             15674.000000   \n",
              "mean          1911.698354                  0.976139                70.210965   \n",
              "std           5224.813531                  5.124103                78.560454   \n",
              "min              0.000000                  0.000000                 0.000000   \n",
              "25%              0.000000                  0.000000                16.230000   \n",
              "50%            382.000000                  0.000000                19.430000   \n",
              "75%           1994.750000                  0.000000               131.500000   \n",
              "max         175375.000000                 50.000000              2411.690000   \n",
              "\n",
              "       forecast_price_energy_p1  forecast_price_energy_p2  \\\n",
              "count              15674.000000              15674.000000   \n",
              "mean                   0.135925                  0.052858   \n",
              "std                    0.026282                  0.048638   \n",
              "min                    0.000000                  0.000000   \n",
              "25%                    0.115237                  0.000000   \n",
              "50%                    0.142881                  0.086163   \n",
              "75%                    0.146348                  0.098837   \n",
              "max                    0.273963                  0.195975   \n",
              "\n",
              "       forecast_price_pow_p1      imp_cons  margin_gross_pow_ele  \\\n",
              "count           15674.000000  15674.000000          15674.000000   \n",
              "mean               43.522191    196.641669             23.556272   \n",
              "std                 5.221651    490.956048             22.456277   \n",
              "min                 0.000000      0.000000              0.000000   \n",
              "25%                40.606701      0.000000             12.360000   \n",
              "50%                44.311378     44.870000             21.090000   \n",
              "75%                44.311378    217.962500             29.640000   \n",
              "max                59.444710  15042.790000            525.540000   \n",
              "\n",
              "       margin_net_pow_ele   nb_prod_act    net_margin  num_years_antig  \\\n",
              "count        15674.000000  15674.000000  15674.000000     15674.000000   \n",
              "mean            24.125235      1.348092    221.259158         5.052188   \n",
              "std             25.599218      1.475092    362.053657         1.670284   \n",
              "min              0.000000      1.000000      0.000000         1.000000   \n",
              "25%             12.360000      1.000000     52.802500         4.000000   \n",
              "50%             21.090000      1.000000    120.545000         5.000000   \n",
              "75%             29.760000      1.000000    275.797500         6.000000   \n",
              "max            615.660000     32.000000  24570.650000        16.000000   \n",
              "\n",
              "            pow_max  \n",
              "count  15674.000000  \n",
              "mean      20.438270  \n",
              "std       21.164053  \n",
              "min        1.000000  \n",
              "25%       12.500000  \n",
              "50%       13.856000  \n",
              "75%       19.800000  \n",
              "max      500.000000  "
            ]
          },
          "metadata": {
            "tags": []
          },
          "execution_count": 272
        }
      ]
    },
    {
      "cell_type": "code",
      "metadata": {
        "colab": {
          "base_uri": "https://localhost:8080/"
        },
        "id": "ielYRtw-LW9F",
        "outputId": "142053ba-f5f1-4249-ce12-5a3f6c98bb95"
      },
      "source": [
        "# Convert the has_gas column to  Yes/No\n",
        "pco_main_cc['has_gas'] = pco_main_cc['has_gas'].replace({'t':'Yes','f':'No'})\n",
        "\n",
        "# Merge the main dataset with the output dataset\n",
        "pco_main_cc_merged = pco_main_cc.merge(right=pco_output,on=['id'])\n",
        "\n",
        "# Convert the churn column to Churned/Stayed\n",
        "pco_main_cc_merged['churn'] = pco_main_cc_merged['churn'].replace({1:'Churned',0:'Stayed'})"
      ],
      "execution_count": null,
      "outputs": [
        {
          "output_type": "stream",
          "text": [
            "/usr/local/lib/python3.6/dist-packages/ipykernel_launcher.py:2: SettingWithCopyWarning: \n",
            "A value is trying to be set on a copy of a slice from a DataFrame.\n",
            "Try using .loc[row_indexer,col_indexer] = value instead\n",
            "\n",
            "See the caveats in the documentation: https://pandas.pydata.org/pandas-docs/stable/user_guide/indexing.html#returning-a-view-versus-a-copy\n",
            "  \n"
          ],
          "name": "stderr"
        }
      ]
    },
    {
      "cell_type": "code",
      "metadata": {
        "id": "S9QxuOjXFDmY",
        "colab": {
          "base_uri": "https://localhost:8080/",
          "height": 309
        },
        "outputId": "aed03d29-f58b-43a5-8869-be407f31dadb"
      },
      "source": [
        "pco_main_cc_merged.head()"
      ],
      "execution_count": null,
      "outputs": [
        {
          "output_type": "execute_result",
          "data": {
            "text/html": [
              "<div>\n",
              "<style scoped>\n",
              "    .dataframe tbody tr th:only-of-type {\n",
              "        vertical-align: middle;\n",
              "    }\n",
              "\n",
              "    .dataframe tbody tr th {\n",
              "        vertical-align: top;\n",
              "    }\n",
              "\n",
              "    .dataframe thead th {\n",
              "        text-align: right;\n",
              "    }\n",
              "</style>\n",
              "<table border=\"1\" class=\"dataframe\">\n",
              "  <thead>\n",
              "    <tr style=\"text-align: right;\">\n",
              "      <th></th>\n",
              "      <th>id</th>\n",
              "      <th>cons_12m</th>\n",
              "      <th>cons_gas_12m</th>\n",
              "      <th>cons_last_month</th>\n",
              "      <th>date_activ</th>\n",
              "      <th>date_end</th>\n",
              "      <th>date_modif_prod</th>\n",
              "      <th>date_renewal</th>\n",
              "      <th>forecast_cons_12m</th>\n",
              "      <th>forecast_cons_year</th>\n",
              "      <th>forecast_discount_energy</th>\n",
              "      <th>forecast_meter_rent_12m</th>\n",
              "      <th>forecast_price_energy_p1</th>\n",
              "      <th>forecast_price_energy_p2</th>\n",
              "      <th>forecast_price_pow_p1</th>\n",
              "      <th>has_gas</th>\n",
              "      <th>imp_cons</th>\n",
              "      <th>margin_gross_pow_ele</th>\n",
              "      <th>margin_net_pow_ele</th>\n",
              "      <th>nb_prod_act</th>\n",
              "      <th>net_margin</th>\n",
              "      <th>num_years_antig</th>\n",
              "      <th>origin_up</th>\n",
              "      <th>pow_max</th>\n",
              "      <th>churn</th>\n",
              "    </tr>\n",
              "  </thead>\n",
              "  <tbody>\n",
              "    <tr>\n",
              "      <th>0</th>\n",
              "      <td>48ada52261e7cf58715202705a0451c9</td>\n",
              "      <td>309275</td>\n",
              "      <td>0</td>\n",
              "      <td>10025</td>\n",
              "      <td>2012-11-07</td>\n",
              "      <td>2016-11-06</td>\n",
              "      <td>2012-11-07</td>\n",
              "      <td>2015-11-09</td>\n",
              "      <td>26520.30</td>\n",
              "      <td>10025</td>\n",
              "      <td>0.0</td>\n",
              "      <td>359.29</td>\n",
              "      <td>0.095919</td>\n",
              "      <td>0.088347</td>\n",
              "      <td>58.995952</td>\n",
              "      <td>No</td>\n",
              "      <td>831.80</td>\n",
              "      <td>41.76</td>\n",
              "      <td>41.76</td>\n",
              "      <td>1</td>\n",
              "      <td>1732.36</td>\n",
              "      <td>3</td>\n",
              "      <td>ldkssxwpmemidmecebumciepifcamkci</td>\n",
              "      <td>180.000</td>\n",
              "      <td>Stayed</td>\n",
              "    </tr>\n",
              "    <tr>\n",
              "      <th>1</th>\n",
              "      <td>d29c2c54acc38ff3c0614d0a653813dd</td>\n",
              "      <td>4660</td>\n",
              "      <td>0</td>\n",
              "      <td>0</td>\n",
              "      <td>2009-08-21</td>\n",
              "      <td>2016-08-30</td>\n",
              "      <td>2009-08-21</td>\n",
              "      <td>2015-08-31</td>\n",
              "      <td>189.95</td>\n",
              "      <td>0</td>\n",
              "      <td>0.0</td>\n",
              "      <td>16.27</td>\n",
              "      <td>0.145711</td>\n",
              "      <td>0.000000</td>\n",
              "      <td>44.311378</td>\n",
              "      <td>No</td>\n",
              "      <td>0.00</td>\n",
              "      <td>16.38</td>\n",
              "      <td>16.38</td>\n",
              "      <td>1</td>\n",
              "      <td>18.89</td>\n",
              "      <td>6</td>\n",
              "      <td>kamkkxfxxuwbdslkwifmmcsiusiuosws</td>\n",
              "      <td>13.800</td>\n",
              "      <td>Stayed</td>\n",
              "    </tr>\n",
              "    <tr>\n",
              "      <th>2</th>\n",
              "      <td>764c75f661154dac3a6c254cd082ea7d</td>\n",
              "      <td>544</td>\n",
              "      <td>0</td>\n",
              "      <td>0</td>\n",
              "      <td>2010-04-16</td>\n",
              "      <td>2016-04-16</td>\n",
              "      <td>2010-04-16</td>\n",
              "      <td>2015-04-17</td>\n",
              "      <td>47.96</td>\n",
              "      <td>0</td>\n",
              "      <td>0.0</td>\n",
              "      <td>38.72</td>\n",
              "      <td>0.165794</td>\n",
              "      <td>0.087899</td>\n",
              "      <td>44.311378</td>\n",
              "      <td>No</td>\n",
              "      <td>0.00</td>\n",
              "      <td>28.60</td>\n",
              "      <td>28.60</td>\n",
              "      <td>1</td>\n",
              "      <td>6.60</td>\n",
              "      <td>6</td>\n",
              "      <td>kamkkxfxxuwbdslkwifmmcsiusiuosws</td>\n",
              "      <td>13.856</td>\n",
              "      <td>Stayed</td>\n",
              "    </tr>\n",
              "    <tr>\n",
              "      <th>3</th>\n",
              "      <td>bba03439a292a1e166f80264c16191cb</td>\n",
              "      <td>1584</td>\n",
              "      <td>0</td>\n",
              "      <td>0</td>\n",
              "      <td>2010-03-30</td>\n",
              "      <td>2016-03-30</td>\n",
              "      <td>2010-03-30</td>\n",
              "      <td>2015-03-31</td>\n",
              "      <td>240.04</td>\n",
              "      <td>0</td>\n",
              "      <td>0.0</td>\n",
              "      <td>19.83</td>\n",
              "      <td>0.146694</td>\n",
              "      <td>0.000000</td>\n",
              "      <td>44.311378</td>\n",
              "      <td>No</td>\n",
              "      <td>0.00</td>\n",
              "      <td>30.22</td>\n",
              "      <td>30.22</td>\n",
              "      <td>1</td>\n",
              "      <td>25.46</td>\n",
              "      <td>6</td>\n",
              "      <td>kamkkxfxxuwbdslkwifmmcsiusiuosws</td>\n",
              "      <td>13.200</td>\n",
              "      <td>Stayed</td>\n",
              "    </tr>\n",
              "    <tr>\n",
              "      <th>4</th>\n",
              "      <td>568bb38a1afd7c0fc49c77b3789b59a3</td>\n",
              "      <td>121335</td>\n",
              "      <td>0</td>\n",
              "      <td>12400</td>\n",
              "      <td>2010-04-08</td>\n",
              "      <td>2016-04-08</td>\n",
              "      <td>2010-04-08</td>\n",
              "      <td>2015-04-12</td>\n",
              "      <td>10865.02</td>\n",
              "      <td>12400</td>\n",
              "      <td>0.0</td>\n",
              "      <td>170.74</td>\n",
              "      <td>0.110083</td>\n",
              "      <td>0.093746</td>\n",
              "      <td>40.606701</td>\n",
              "      <td>No</td>\n",
              "      <td>1052.37</td>\n",
              "      <td>3.18</td>\n",
              "      <td>3.18</td>\n",
              "      <td>1</td>\n",
              "      <td>823.18</td>\n",
              "      <td>6</td>\n",
              "      <td>lxidpiddsbxsbosboudacockeimpuepw</td>\n",
              "      <td>75.000</td>\n",
              "      <td>Stayed</td>\n",
              "    </tr>\n",
              "  </tbody>\n",
              "</table>\n",
              "</div>"
            ],
            "text/plain": [
              "                                 id  cons_12m  cons_gas_12m  cons_last_month  \\\n",
              "0  48ada52261e7cf58715202705a0451c9    309275             0            10025   \n",
              "1  d29c2c54acc38ff3c0614d0a653813dd      4660             0                0   \n",
              "2  764c75f661154dac3a6c254cd082ea7d       544             0                0   \n",
              "3  bba03439a292a1e166f80264c16191cb      1584             0                0   \n",
              "4  568bb38a1afd7c0fc49c77b3789b59a3    121335             0            12400   \n",
              "\n",
              "  date_activ   date_end date_modif_prod date_renewal  forecast_cons_12m  \\\n",
              "0 2012-11-07 2016-11-06      2012-11-07   2015-11-09           26520.30   \n",
              "1 2009-08-21 2016-08-30      2009-08-21   2015-08-31             189.95   \n",
              "2 2010-04-16 2016-04-16      2010-04-16   2015-04-17              47.96   \n",
              "3 2010-03-30 2016-03-30      2010-03-30   2015-03-31             240.04   \n",
              "4 2010-04-08 2016-04-08      2010-04-08   2015-04-12           10865.02   \n",
              "\n",
              "   forecast_cons_year  forecast_discount_energy  forecast_meter_rent_12m  \\\n",
              "0               10025                       0.0                   359.29   \n",
              "1                   0                       0.0                    16.27   \n",
              "2                   0                       0.0                    38.72   \n",
              "3                   0                       0.0                    19.83   \n",
              "4               12400                       0.0                   170.74   \n",
              "\n",
              "   forecast_price_energy_p1  forecast_price_energy_p2  forecast_price_pow_p1  \\\n",
              "0                  0.095919                  0.088347              58.995952   \n",
              "1                  0.145711                  0.000000              44.311378   \n",
              "2                  0.165794                  0.087899              44.311378   \n",
              "3                  0.146694                  0.000000              44.311378   \n",
              "4                  0.110083                  0.093746              40.606701   \n",
              "\n",
              "  has_gas  imp_cons  margin_gross_pow_ele  margin_net_pow_ele  nb_prod_act  \\\n",
              "0      No    831.80                 41.76               41.76            1   \n",
              "1      No      0.00                 16.38               16.38            1   \n",
              "2      No      0.00                 28.60               28.60            1   \n",
              "3      No      0.00                 30.22               30.22            1   \n",
              "4      No   1052.37                  3.18                3.18            1   \n",
              "\n",
              "   net_margin  num_years_antig                         origin_up  pow_max  \\\n",
              "0     1732.36                3  ldkssxwpmemidmecebumciepifcamkci  180.000   \n",
              "1       18.89                6  kamkkxfxxuwbdslkwifmmcsiusiuosws   13.800   \n",
              "2        6.60                6  kamkkxfxxuwbdslkwifmmcsiusiuosws   13.856   \n",
              "3       25.46                6  kamkkxfxxuwbdslkwifmmcsiusiuosws   13.200   \n",
              "4      823.18                6  lxidpiddsbxsbosboudacockeimpuepw   75.000   \n",
              "\n",
              "    churn  \n",
              "0  Stayed  \n",
              "1  Stayed  \n",
              "2  Stayed  \n",
              "3  Stayed  \n",
              "4  Stayed  "
            ]
          },
          "metadata": {
            "tags": []
          },
          "execution_count": 274
        }
      ]
    },
    {
      "cell_type": "code",
      "metadata": {
        "id": "sicQ5zpzmp7R"
      },
      "source": [
        "# Obtain all the variables except for id\n",
        "variables = [column_name for column_name in pco_main_cc_merged.columns if column_name != 'id']\n",
        "\n",
        "# Obtain all the categorical variables except for id\n",
        "categorical = [column_name for column_name in variables if pco_main_cc_merged[column_name].dtype == 'object']\n",
        "\n",
        "# Obtain all the Date Variables\n",
        "dates = [column_name for column_name in variables if pco_main_cc_merged[column_name].dtype == 'datetime64[ns]']\n",
        "\n",
        "# Obtain all the numeric columns\n",
        "numeric = [column_name for column_name in variables\n",
        "           if column_name not in categorical \n",
        "           and column_name != 'id'\n",
        "           and column_name != 'churn'\n",
        "           and column_name not in dates]\n"
      ],
      "execution_count": null,
      "outputs": []
    },
    {
      "cell_type": "markdown",
      "metadata": {
        "id": "wnlR2YW0L40J"
      },
      "source": [
        "# **Data Visualization**\n",
        "\n",
        "Let's visualize what we've found."
      ]
    },
    {
      "cell_type": "markdown",
      "metadata": {
        "id": "iTKbeA9VWyYM"
      },
      "source": [
        "## **The Output Dataset**"
      ]
    },
    {
      "cell_type": "code",
      "metadata": {
        "colab": {
          "base_uri": "https://localhost:8080/",
          "height": 397
        },
        "id": "wsCFQpIXqpA_",
        "outputId": "699e640e-22ae-4d37-fcf3-d5afffd6df86"
      },
      "source": [
        "# Calculate the zcores of tenure\n",
        "tenure_zcores = zscore(a=pco_main_cc_merged['num_years_antig'])\n",
        "# Convert to absolute values\n",
        "abs_tenure_zscores = np.abs(tenure_zcores)\n",
        "# Extract Columns of interest\n",
        "churn_tenure = pco_main_cc_merged[['churn','num_years_antig']]\n",
        "# Add z-score column\n",
        "churn_tenure['z_score'] = list(abs_tenure_zscores)\n",
        "# Remove outliers \n",
        "churned_tenure_filtered = churn_tenure[churn_tenure['z_score'] < 3]\n",
        "# Visualize tenure by retained customer and churner\n",
        "vio = sns.violinplot( y=churned_tenure_filtered[\"churn\"], x=churned_tenure_filtered[\"num_years_antig\"] )\n",
        "# Settings\n",
        "vio.set(xlabel='Years', ylabel='')\n",
        "vio.set_title(\"Customer Attrition by Tenure\")\n",
        "plt.show()"
      ],
      "execution_count": null,
      "outputs": [
        {
          "output_type": "stream",
          "text": [
            "/usr/local/lib/python3.6/dist-packages/ipykernel_launcher.py:8: SettingWithCopyWarning: \n",
            "A value is trying to be set on a copy of a slice from a DataFrame.\n",
            "Try using .loc[row_indexer,col_indexer] = value instead\n",
            "\n",
            "See the caveats in the documentation: https://pandas.pydata.org/pandas-docs/stable/user_guide/indexing.html#returning-a-view-versus-a-copy\n",
            "  \n"
          ],
          "name": "stderr"
        },
        {
          "output_type": "display_data",
          "data": {
            "image/png": "[encoded data removed]",
            "text/plain": [
              "<Figure size 432x288 with 1 Axes>"
            ]
          },
          "metadata": {
            "tags": [],
            "needs_background": "light"
          }
        }
      ]
    },
    {
      "cell_type": "markdown",
      "metadata": {
        "id": "gyMS0pWRLVS8"
      },
      "source": [
        "###**Facts**\n",
        "* The median age of churners is 4 years\n",
        "* Customers are more likely to churn during the 4th year than the 7th year\n",
        "* The median age of retained customers is 5 years\n"
      ]
    },
    {
      "cell_type": "markdown",
      "metadata": {
        "id": "U_pBMyJbuxFu"
      },
      "source": [
        "##**The Main Dataset**"
      ]
    },
    {
      "cell_type": "code",
      "metadata": {
        "colab": {
          "base_uri": "https://localhost:8080/"
        },
        "id": "SediMQ-6Ovw4",
        "outputId": "20abb6b4-42b3-492b-87be-aae0ad59eecc"
      },
      "source": [
        "# Most popular electricty campaign\n",
        "ele_nm = pco_main_cc_merged.loc[(pco_main_cc_merged['churn']>='Stayed') & (pco_main_cc_merged['net_margin']>0),['id', 'origin_up','net_margin']]\n",
        "\n",
        "ele_nm.value_counts(subset=['origin_up'])"
      ],
      "execution_count": null,
      "outputs": [
        {
          "output_type": "execute_result",
          "data": {
            "text/plain": [
              "origin_up                       \n",
              "lxidpiddsbxsbosboudacockeimpuepw    6584\n",
              "kamkkxfxxuwbdslkwifmmcsiusiuosws    4188\n",
              "ldkssxwpmemidmecebumciepifcamkci    3201\n",
              "usapbepcfoloekilkwsdiboslwaxobdp       2\n",
              "ewxeelcelemmiwuafmddpobolfuxioce       1\n",
              "dtype: int64"
            ]
          },
          "metadata": {
            "tags": []
          },
          "execution_count": 277
        }
      ]
    },
    {
      "cell_type": "code",
      "metadata": {
        "colab": {
          "base_uri": "https://localhost:8080/"
        },
        "id": "qNq4XAfXEpo4",
        "outputId": "08aac6ea-5099-41c6-bf72-3ee1a3099afe"
      },
      "source": [
        "# Highest netting electricity subscription campaign\n",
        "print(ele_nm.groupby('origin_up')['net_margin'].agg('sum').sort_values(ascending=False))"
      ],
      "execution_count": null,
      "outputs": [
        {
          "output_type": "stream",
          "text": [
            "origin_up\n",
            "lxidpiddsbxsbosboudacockeimpuepw    1541159.95\n",
            "ldkssxwpmemidmecebumciepifcamkci     814230.02\n",
            "kamkkxfxxuwbdslkwifmmcsiusiuosws     717939.95\n",
            "usapbepcfoloekilkwsdiboslwaxobdp        250.40\n",
            "ewxeelcelemmiwuafmddpobolfuxioce         46.22\n",
            "Name: net_margin, dtype: float64\n"
          ],
          "name": "stdout"
        }
      ]
    },
    {
      "cell_type": "markdown",
      "metadata": {
        "id": "BD0xFNkdOxDY"
      },
      "source": [
        "### **Facts**\n",
        "* The most popular electricity campaign is `lxidpiddsbxsbosboudacockeimpuepw` which has brought 6,584 current customers.\n",
        "* The electricity campaign attributable to the highest total net margin is `lxidpiddsbxsbosboudacockeimpuepw`. Netting $1,541,159.95 in 2015."
      ]
    },
    {
      "cell_type": "markdown",
      "metadata": {
        "id": "7s_gRqFhEiAt"
      },
      "source": [
        "## **Caveats**\n"
      ]
    },
    {
      "cell_type": "code",
      "metadata": {
        "colab": {
          "base_uri": "https://localhost:8080/",
          "height": 359
        },
        "id": "juFSPmYPEhzB",
        "outputId": "56b4a19f-eeec-4bf1-f2fa-fa89308aa991"
      },
      "source": [
        "# Select current customers with positive net margins\n",
        "top_customers = pco_main_cc_merged.loc[(pco_main_cc_merged['churn']>='Stayed') & (pco_main_cc_merged['net_margin']>0),['id','num_years_antig','net_margin']]\n",
        "\n",
        "# Top 10 customers by net margin\n",
        "top_customers.sort_values(by=['net_margin'],ascending=False).head(10)"
      ],
      "execution_count": null,
      "outputs": [
        {
          "output_type": "execute_result",
          "data": {
            "text/html": [
              "<div>\n",
              "<style scoped>\n",
              "    .dataframe tbody tr th:only-of-type {\n",
              "        vertical-align: middle;\n",
              "    }\n",
              "\n",
              "    .dataframe tbody tr th {\n",
              "        vertical-align: top;\n",
              "    }\n",
              "\n",
              "    .dataframe thead th {\n",
              "        text-align: right;\n",
              "    }\n",
              "</style>\n",
              "<table border=\"1\" class=\"dataframe\">\n",
              "  <thead>\n",
              "    <tr style=\"text-align: right;\">\n",
              "      <th></th>\n",
              "      <th>id</th>\n",
              "      <th>num_years_antig</th>\n",
              "      <th>net_margin</th>\n",
              "    </tr>\n",
              "  </thead>\n",
              "  <tbody>\n",
              "    <tr>\n",
              "      <th>11502</th>\n",
              "      <td>d00e8a9951b5551d8f02e45f9ed2b0dd</td>\n",
              "      <td>3</td>\n",
              "      <td>10203.50</td>\n",
              "    </tr>\n",
              "    <tr>\n",
              "      <th>6930</th>\n",
              "      <td>78bd1c5c0c67f2be6de89b19df5f8861</td>\n",
              "      <td>3</td>\n",
              "      <td>5625.14</td>\n",
              "    </tr>\n",
              "    <tr>\n",
              "      <th>13259</th>\n",
              "      <td>818b8bca0a9d7668252d46b978169325</td>\n",
              "      <td>4</td>\n",
              "      <td>4346.37</td>\n",
              "    </tr>\n",
              "    <tr>\n",
              "      <th>8378</th>\n",
              "      <td>a3a739686fbd5ba8b4a21ec835507b6d</td>\n",
              "      <td>4</td>\n",
              "      <td>4305.79</td>\n",
              "    </tr>\n",
              "    <tr>\n",
              "      <th>324</th>\n",
              "      <td>89b3406c3ba717f1b788ceeb5af9e8b9</td>\n",
              "      <td>3</td>\n",
              "      <td>4161.74</td>\n",
              "    </tr>\n",
              "    <tr>\n",
              "      <th>10100</th>\n",
              "      <td>93435ecb05910c7b87e0ae9dbedb2882</td>\n",
              "      <td>4</td>\n",
              "      <td>4148.99</td>\n",
              "    </tr>\n",
              "    <tr>\n",
              "      <th>12028</th>\n",
              "      <td>4519e6a8928a015819466fc9de0fa49e</td>\n",
              "      <td>3</td>\n",
              "      <td>4040.60</td>\n",
              "    </tr>\n",
              "    <tr>\n",
              "      <th>6405</th>\n",
              "      <td>933527d7a2f669af49075a2380c10ded</td>\n",
              "      <td>4</td>\n",
              "      <td>3744.72</td>\n",
              "    </tr>\n",
              "    <tr>\n",
              "      <th>6850</th>\n",
              "      <td>43580ef6cc40fcfd0a9b76eee17a267a</td>\n",
              "      <td>4</td>\n",
              "      <td>3716.78</td>\n",
              "    </tr>\n",
              "    <tr>\n",
              "      <th>13553</th>\n",
              "      <td>ee98a86efa759681cc59c7d4e0d0312f</td>\n",
              "      <td>4</td>\n",
              "      <td>3407.65</td>\n",
              "    </tr>\n",
              "  </tbody>\n",
              "</table>\n",
              "</div>"
            ],
            "text/plain": [
              "                                     id  num_years_antig  net_margin\n",
              "11502  d00e8a9951b5551d8f02e45f9ed2b0dd                3    10203.50\n",
              "6930   78bd1c5c0c67f2be6de89b19df5f8861                3     5625.14\n",
              "13259  818b8bca0a9d7668252d46b978169325                4     4346.37\n",
              "8378   a3a739686fbd5ba8b4a21ec835507b6d                4     4305.79\n",
              "324    89b3406c3ba717f1b788ceeb5af9e8b9                3     4161.74\n",
              "10100  93435ecb05910c7b87e0ae9dbedb2882                4     4148.99\n",
              "12028  4519e6a8928a015819466fc9de0fa49e                3     4040.60\n",
              "6405   933527d7a2f669af49075a2380c10ded                4     3744.72\n",
              "6850   43580ef6cc40fcfd0a9b76eee17a267a                4     3716.78\n",
              "13553  ee98a86efa759681cc59c7d4e0d0312f                4     3407.65"
            ]
          },
          "metadata": {
            "tags": []
          },
          "execution_count": 279
        }
      ]
    },
    {
      "cell_type": "markdown",
      "metadata": {
        "id": "M20TvL2JTZXm"
      },
      "source": [
        "These are the most profitable customers for PowerCo in terms of net margin. Beware most of them are within the likely tenure of attrition. Time for a marketing campaign!"
      ]
    }
  ]
}